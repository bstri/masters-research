{
  "nbformat": 4,
  "nbformat_minor": 0,
  "metadata": {
    "colab": {
      "name": "Copy of EvenGraphsExperimentation_2_22.ipynb",
      "provenance": [],
      "collapsed_sections": []
    },
    "kernelspec": {
      "name": "python3",
      "display_name": "Python 3"
    },
    "language_info": {
      "name": "python"
    }
  },
  "cells": [
    {
      "cell_type": "markdown",
      "source": [
        "# Graphviz drawing"
      ],
      "metadata": {
        "id": "a5kAXD5D-EnY"
      }
    },
    {
      "cell_type": "code",
      "source": [
        "import graphviz as gv\n",
        "import numpy as np\n",
        "\n",
        "def string_to_np_array(s, ntype=int):\n",
        "    c = len(s.split())\n",
        "    dim = int((1 + np.sqrt(1 + 8*c))/2)\n",
        "    array = np.zeros((dim,dim))\n",
        "    row = 1\n",
        "    col = 0\n",
        "    for elem in s.split():\n",
        "        array[row,col] = array[col,row] = ntype(elem)\n",
        "        col += 1\n",
        "        if row == col:\n",
        "            row += 1\n",
        "            col = 0\n",
        "    return array\n",
        "\n",
        "def getGraphFromNumpy(a, g=None):\n",
        "    if g is None:\n",
        "        G = gv.Graph()\n",
        "    else:\n",
        "        G = g\n",
        "    for i in range(a.shape[0] - 1, 0, -1):\n",
        "        for j in range(i-1, -1, -1):\n",
        "            element = a[i,j]\n",
        "            if element == 0:\n",
        "                continue\n",
        "            G.edges([(str(i+1),str(j+1))]*int(element))\n",
        "    return G\n",
        "\n",
        "def createGraph(input, g=None): # space separated entries of the lower triangular portion of the adjacency matrix\n",
        "    return getGraphFromNumpy(string_to_np_array(input), g or gv.Graph())\n",
        "\n",
        "evenGraphs8_book = ['2 2 0 0 0 2 0 2 0 0',\n",
        "    '1 1 2 2 1 1',\n",
        "    '2 1 0 0 1 0 1 0 1 0 0 1 0 1 0',\n",
        "    '1 0 1 1 1 0 1 1 0 0 1 0 1 0 0',\n",
        "    '0 1 1 1 1 0 1 1 0 0 1 1 0 0 0',\n",
        "    '1 1 0 0 1 0 1 0 0 0 1 0 0 1 0 0 0 1 0 1 0',\n",
        "    '1 1 0 1 0 0 0 0 1 0 1 0 0 1 0 0 1 0 0 1 0',\n",
        "    '0 0 1 0 1 0 0 0 1 0 0 0 0 1 0 1 0 0 0 1 0 1 0 0 0 0 1 0',\n",
        "    '2 2 0 0 1 1 0 1 1 0',\n",
        "    '2 2 1 0 0 1 0 1 0 1',\n",
        "\n",
        "    '4 1 0 1 0 0 0 0 1 1',\n",
        "    '0 0 2 2 0 0 1 1 0 0 1 1 0 0 0',\n",
        "    '1 2 0 0 2 0 0 1 0 0 1 0 0 0 1',\n",
        "    '2 2 0 0 1 0 0 0 0 1 0 1 0 0 1',\n",
        "    '2 2 0 1 0 0 0 0 0 1 1 0 0 0 1',\n",
        "    '2 1 1 1 1 2', # duplicate of #2\n",
        "    '4 1 1 1 1 0',\n",
        "    '2 1 1 0 0 2 1 1 0 0',\n",
        "    '1 2 1 0 2 0 1 0 1 0',\n",
        "    '2 2 0 1 1 0 1 1 0 0',\n",
        "\n",
        "    '0 3 1 1 3 0',\n",
        "    '3 3 0 0 1 1',\n",
        "    '3 2 1 1 0 1',\n",
        "    '5 0 1 1 0 1',\n",
        "    '3 0 1 0 0 2 1 0 1 0',\n",
        "    '3 2 0 1 0 0 0 1 0 1',\n",
        "    '4 4 0',\n",
        "    '8',\n",
        "    '6 2 0',\n",
        "    '4 2 0 2 0 0',\n",
        "\n",
        "    '2 2 0 2 0 0 0 2 0 0',\n",
        "    '2 2 0 2 0 0 2 0 0 0',\n",
        "    '2 2 0 0 2 2',\n",
        "    '4 2 0 0 0 2',\n",
        "    '4 0 2 2 0 0',\n",
        "    '2 2 0 0 2 0 0 0 2 0',\n",
        "    '0 2 2 2 0 0 0 2 0 0', # isomorphic to previous\n",
        "    '2 2 0 0 2 0 2 0 0 0',\n",
        "    '2 0 2 2 0 0 2 0 0 0', # isomorphic to previous\n",
        "    '4 2 2',\n",
        "\n",
        "    '2 2 2 2 0 0',\n",
        "    '3 0 1 0 0 0 0 0 1 1 1 0 0 1 0',\n",
        "    '2 0 1 0 0 1 1 1 0 0 1 0 0 1 0',\n",
        "    '2 1 0 1 0 0 0 1 1 0 0 1 0 1 0',\n",
        "    '2 0 0 0 0 0 1 0 1 0 1 0 0 1 0 0 0 1 1 0 0',\n",
        "    '3 1 1 0 0 1 0 0 1 1',\n",
        "    '2 1 1 1 0 1 0 1 1 0',\n",
        "    '3 1 0 1 1 0 1 0 1 0',\n",
        "    '1 2 0 1 1 0 0 1 0 0 0 1 0 0 1',\n",
        "    '2 1 0 1 0 0 1 0 1 0 1 0 0 1 0'\n",
        "]\n",
        "\n",
        "evenGraphs8 = ['2 2 0 0 0 2 0 2 0 0',\n",
        "    '1 1 2 2 1 1',\n",
        "    '2 1 0 0 1 0 1 0 1 0 0 1 0 1 0',\n",
        "    '1 0 1 1 1 0 1 1 0 0 1 0 1 0 0',\n",
        "    '0 1 1 1 1 0 1 1 0 0 1 1 0 0 0',\n",
        "    '1 1 0 0 1 0 1 0 0 0 1 0 0 1 0 0 0 1 0 1 0',\n",
        "    '1 1 0 1 0 0 0 0 1 0 1 0 0 1 0 0 1 0 0 1 0',\n",
        "    '0 0 1 0 1 0 0 0 1 0 0 0 0 1 0 1 0 0 0 1 0 1 0 0 0 0 1 0',\n",
        "    '2 2 0 0 1 1 0 1 1 0',\n",
        "    '2 2 1 0 0 1 0 1 0 1',\n",
        "    '4 1 0 1 0 0 0 0 1 1',\n",
        "    '0 0 2 2 0 0 1 1 0 0 1 1 0 0 0',\n",
        "    '1 2 0 0 2 0 0 1 0 0 1 0 0 0 1',\n",
        "    '2 2 0 0 1 0 0 0 0 1 0 1 0 0 1',\n",
        "    '2 2 0 1 0 0 0 0 0 1 1 0 0 0 1',\n",
        "    '4 1 1 1 1 0',\n",
        "    '2 1 1 0 0 2 1 1 0 0',\n",
        "    '2 2 0 1 1 0 1 1 0 0',\n",
        "    '0 3 1 1 3 0',\n",
        "    '3 3 0 0 1 1',\n",
        "    '3 2 1 1 0 1',\n",
        "    '5 0 1 1 0 1',\n",
        "    '3 0 1 0 0 2 1 0 1 0',\n",
        "    '3 2 0 1 0 0 0 1 0 1',\n",
        "    '4 4 0',\n",
        "    '8',\n",
        "    '6 2 0',\n",
        "    '4 2 0 2 0 0',\n",
        "    '2 2 0 2 0 0 0 2 0 0',\n",
        "    '2 2 0 2 0 0 2 0 0 0',\n",
        "    '2 2 0 0 2 2',\n",
        "    '4 2 0 0 0 2',\n",
        "    '4 0 2 2 0 0',\n",
        "    '4 2 2',\n",
        "    '2 2 2 2 0 0',\n",
        "    '3 0 1 0 0 0 0 0 1 1 1 0 0 1 0',\n",
        "    '2 0 1 0 0 1 1 1 0 0 1 0 0 1 0',\n",
        "    '2 1 0 1 0 0 0 1 1 0 0 1 0 1 0',\n",
        "    '2 0 0 0 0 0 1 0 1 0 1 0 0 1 0 0 0 1 1 0 0',\n",
        "    '3 1 1 0 0 1 0 0 1 1',\n",
        "    '2 1 1 1 0 1 0 1 1 0',\n",
        "    '3 1 0 1 1 0 1 0 1 0',\n",
        "    '1 2 0 1 1 0 0 1 0 0 0 1 0 0 1',\n",
        "    '2 1 0 1 0 0 1 0 1 0 1 0 0 1 0'\n",
        "]\n",
        "\n",
        "evenGraphs8Disconnected = [\n",
        "    '2 0 0 0 0 1 0 0 1 0 0 0 1 1 0 0 0 1 0 1 0',\n",
        "    '2 0 0 0 0 0 0 0 0 1 0 0 0 1 0 0 0 1 0 1 0 0 0 1 0 0 1 0',\n",
        "    '2 0 0 0 0 2 0 0 2 2',\n",
        "    '2 0 0 0 0 2 0 0 0 2 0 0 2 0 0',\n",
        "    '2 0 0 0 0 2 0 0 2 0 0 0 2 0 0',\n",
        "    '2 0 0 0 0 6',\n",
        "    '2 0 0 0 0 4 0 0 2 0',\n",
        "    '2 0 0 0 0 3 0 0 0 1 0 0 1 0 1',\n",
        "    '2 0 0 0 0 2 0 0 1 1 0 0 1 1 0',\n",
        "    '2 0 0 0 0 2 0 0 1 0 0 0 1 0 0 0 0 0 0 1 1',\n",
        "\n",
        "    '1 1 1 0 0 0 0 0 0 1 0 0 0 0 1 0 0 0 0 0 1 0 0 0 1 0 0 1',\n",
        "    '1 1 1 0 0 0 0 0 0 2 0 0 0 0 1 0 0 0 0 1 1',\n",
        "    '1 1 1 0 0 0 0 0 0 3 0 0 0 1 1',\n",
        "\n",
        "    '1 0 1 1 0 1 0 0 0 0 0 0 0 0 1 0 0 0 0 0 1 0 0 0 0 1 0 1',\n",
        "    '2 0 2 0 0 0 0 0 0 1 0 0 0 0 1 0 0 0 1 0 1',\n",
        "    '4 0 0 0 0 1 0 0 0 1 0 0 1 0 1',\n",
        "    '2 0 2 0 0 0 0 0 0 2 0 0 0 0 2',\n",
        "    '4 0 0 0 0 2 0 0 0 2',\n",
        "    '4 0 0 0 0 4',\n",
        "\n",
        "    '2 0 0 0 0 2 0 0 0 0 0 0 0 0 1 0 0 0 0 0 1 0 0 0 0 1 0 1',\n",
        "    '2 0 0 0 0 2 0 0 0 0 0 0 0 0 2 0 0 0 0 0 2',\n",
        "    '2 0 0 0 0 2 0 0 0 0 0 0 0 0 4',\n",
        "\n",
        "    '2 0 0 0 0 1 0 0 1 1 0 0 0 0 0 0 0 0 0 0 1 0 0 0 0 0 1 1',\n",
        "\n",
        "    '2 0 0 0 0 2 0 0 0 0 0 0 0 0 2 0 0 0 0 0 0 0 0 0 0 0 0 2'\n",
        "]\n",
        "\n",
        "evenGraphs7 = [\n",
        "    '0 0 1 0 1 0 0 0 1 0 1 0 0 1 0 1 0 0 0 1 0',\n",
        "    '1 1 1 1 1 0 1 1 0 0',\n",
        "    '0 1 0 1 1 0 1 0 1 0 1 1 0 0 0',\n",
        "    '2 2 1 0 1 1',\n",
        "    '4 1 0 1 0 1',\n",
        "    \n",
        "    '1 2 0 0 2 0 1 1 0 0',\n",
        "    '2 2 0 0 1 0 0 1 0 1',\n",
        "    '2 2 0 1 0 0 1 0 0 1',\n",
        "    '3 3 1',\n",
        "    '5 1 1',\n",
        "\n",
        "    '3 1 1 0 0 2',\n",
        "    '3 2 0 1 1 0',\n",
        "    '3 0 0 0 1 1 1 0 1 0',\n",
        "    '2 1 0 1 1 0 0 1 1 0',\n",
        "    '2 0 0 1 0 0 1 0 1 0 0 0 1 1 0'\n",
        "]\n",
        "\n",
        "evenGraphs6 = [\n",
        "    '1 1 0 1 1 0 1 0 1 0',\n",
        "    '0 0 1 0 1 0 1 0 1 0 1 0 0 1 0',\n",
        "    '2 2 2',\n",
        "    '2 0 2 2 0 0',\n",
        "    '2 2 0 2 0 0',\n",
        "\n",
        "    '6',\n",
        "    '4 2 0',\n",
        "    '3 0 1 1 0 1',\n",
        "    '2 1 1 1 1 0',\n",
        "    '2 1 0 1 0 0 0 0 1 1'\n",
        "]\n",
        "\n",
        "# same as above but in the order as presented in the paper\n",
        "evenGraphs6_paper = [\n",
        "    '2 2 0 2 0 0',\n",
        "    '3 0 1 1 0 1',\n",
        "    '4 2 0',\n",
        "    '6',\n",
        "    '2 0 2 2 0 0',\n",
        "    '2 2 2',\n",
        "    '2 1 1 1 1 0',\n",
        "    '1 1 0 1 1 0 1 0 1 0',\n",
        "    '2 1 0 1 0 0 0 0 1 1',\n",
        "    '0 0 1 0 1 0 1 0 1 0 1 0 0 1 0'\n",
        "]\n",
        "\n",
        "evenGraphs5 = [\n",
        "    '1 0 1 0 0 1 1 0 0 1',\n",
        "    '2 0 1 0 1 1',\n",
        "    '3 1 1'\n",
        "]\n",
        "\n",
        "evenGraphs4 = [\n",
        "    '1 0 1 1 0 1',\n",
        "    '2 0 2',\n",
        "    '4'\n",
        "]\n",
        "\n",
        "evenGraphs3 = [\n",
        "    '1 1 1'\n",
        "]\n",
        "\n",
        "evenGraphs2 = [\n",
        "    '2'\n",
        "]\n",
        "\n",
        "duplicates8 = [15,18,35,36,37,38] # indices of evenGraphs8 which are isomorphisms of previous entries\n",
        "\n",
        "for i in range(10):\n",
        "    print(i+1)\n",
        "    g = gv.Graph(format='png')\n",
        "    g.attr('node', shape='point')\n",
        "    # g.attr('node', shape='circle', margin='0', pad='0', width='0', height='0')\n",
        "    # g.attr('node', fontsize='12')\n",
        "    # g.attr('node', label='a')\n",
        "    g = createGraph(evenGraphs6[i], g)\n",
        "    g.engine = 'sfdp'\n",
        "    g.render(f'even_graph_6_{i+1}')\n",
        "    display(g)"
      ],
      "metadata": {
        "id": "TpzEPQggQk3b",
        "colab": {
          "base_uri": "https://localhost:8080/",
          "height": 1000
        },
        "outputId": "80709222-667c-4a2a-ad62-043b35018cd2"
      },
      "execution_count": 1,
      "outputs": [
        {
          "output_type": "stream",
          "name": "stdout",
          "text": [
            "1\n"
          ]
        },
        {
          "output_type": "display_data",
          "data": {
            "text/plain": [
              "<graphviz.dot.Graph at 0x7fda1bad4e90>"
            ],
            "image/svg+xml": "<?xml version=\"1.0\" encoding=\"UTF-8\" standalone=\"no\"?>\n<!DOCTYPE svg PUBLIC \"-//W3C//DTD SVG 1.1//EN\"\n \"http://www.w3.org/Graphics/SVG/1.1/DTD/svg11.dtd\">\n<!-- Generated by graphviz version 2.40.1 (20161225.0304)\n -->\n<!-- Title: %3 Pages: 1 -->\n<svg width=\"92pt\" height=\"44pt\"\n viewBox=\"0.00 0.00 91.81 43.63\" xmlns=\"http://www.w3.org/2000/svg\" xmlns:xlink=\"http://www.w3.org/1999/xlink\">\n<g id=\"graph0\" class=\"graph\" transform=\"scale(1 1) rotate(0) translate(4 39.6308)\">\n<title>%3</title>\n<polygon fill=\"#ffffff\" stroke=\"transparent\" points=\"-4,4 -4,-39.6308 87.8087,-39.6308 87.8087,4 -4,4\"/>\n<!-- 5 -->\n<g id=\"node1\" class=\"node\">\n<title>5</title>\n<ellipse fill=\"#000000\" stroke=\"#000000\" cx=\"2.2795\" cy=\"-33.8308\" rx=\"1.8\" ry=\"1.8\"/>\n</g>\n<!-- 3 -->\n<g id=\"node2\" class=\"node\">\n<title>3</title>\n<ellipse fill=\"#000000\" stroke=\"#000000\" cx=\"1.8\" cy=\"-1.8\" rx=\"1.8\" ry=\"1.8\"/>\n</g>\n<!-- 5&#45;&#45;3 -->\n<g id=\"edge1\" class=\"edge\">\n<title>5&#45;&#45;3</title>\n<path fill=\"none\" stroke=\"#000000\" d=\"M2.2481,-31.7292C2.1597,-25.828 1.9104,-9.1755 1.8273,-3.6255\"/>\n</g>\n<!-- 1 -->\n<g id=\"node3\" class=\"node\">\n<title>1</title>\n<ellipse fill=\"#000000\" stroke=\"#000000\" cx=\"41.6927\" cy=\"-17.5701\" rx=\"1.8\" ry=\"1.8\"/>\n</g>\n<!-- 5&#45;&#45;1 -->\n<g id=\"edge2\" class=\"edge\">\n<title>5&#45;&#45;1</title>\n<path fill=\"none\" stroke=\"#000000\" d=\"M3.9731,-33.1321C10.3383,-30.506 32.8154,-21.2326 39.6841,-18.3988\"/>\n</g>\n<!-- 3&#45;&#45;1 -->\n<g id=\"edge5\" class=\"edge\">\n<title>3&#45;&#45;1</title>\n<path fill=\"none\" stroke=\"#000000\" d=\"M3.5141,-2.4776C9.9568,-5.0245 32.7074,-14.018 39.6596,-16.7663\"/>\n</g>\n<!-- 4 -->\n<g id=\"node4\" class=\"node\">\n<title>4</title>\n<ellipse fill=\"#000000\" stroke=\"#000000\" cx=\"82.0087\" cy=\"-1.9296\" rx=\"1.8\" ry=\"1.8\"/>\n</g>\n<!-- 4&#45;&#45;1 -->\n<g id=\"edge4\" class=\"edge\">\n<title>4&#45;&#45;1</title>\n<path fill=\"none\" stroke=\"#000000\" d=\"M80.2764,-2.6017C73.6448,-5.1744 49.9163,-14.3798 43.3737,-16.9179\"/>\n</g>\n<!-- 2 -->\n<g id=\"node5\" class=\"node\">\n<title>2</title>\n<ellipse fill=\"#000000\" stroke=\"#000000\" cx=\"81.5472\" cy=\"-33.6913\" rx=\"1.8\" ry=\"1.8\"/>\n</g>\n<!-- 4&#45;&#45;2 -->\n<g id=\"edge3\" class=\"edge\">\n<title>4&#45;&#45;2</title>\n<path fill=\"none\" stroke=\"#000000\" d=\"M81.9784,-4.0136C81.8934,-9.8652 81.6535,-26.3778 81.5735,-31.8811\"/>\n</g>\n<!-- 2&#45;&#45;1 -->\n<g id=\"edge6\" class=\"edge\">\n<title>2&#45;&#45;1</title>\n<path fill=\"none\" stroke=\"#000000\" d=\"M79.8347,-32.9986C73.3982,-30.395 50.6695,-21.2012 43.7239,-18.3917\"/>\n</g>\n</g>\n</svg>\n"
          },
          "metadata": {}
        },
        {
          "output_type": "stream",
          "name": "stdout",
          "text": [
            "2\n"
          ]
        },
        {
          "output_type": "display_data",
          "data": {
            "text/plain": [
              "<graphviz.dot.Graph at 0x7fda1baf3790>"
            ],
            "image/svg+xml": "<?xml version=\"1.0\" encoding=\"UTF-8\" standalone=\"no\"?>\n<!DOCTYPE svg PUBLIC \"-//W3C//DTD SVG 1.1//EN\"\n \"http://www.w3.org/Graphics/SVG/1.1/DTD/svg11.dtd\">\n<!-- Generated by graphviz version 2.40.1 (20161225.0304)\n -->\n<!-- Title: %3 Pages: 1 -->\n<svg width=\"87pt\" height=\"95pt\"\n viewBox=\"0.00 0.00 87.05 94.89\" xmlns=\"http://www.w3.org/2000/svg\" xmlns:xlink=\"http://www.w3.org/1999/xlink\">\n<g id=\"graph0\" class=\"graph\" transform=\"scale(1 1) rotate(0) translate(4 90.8884)\">\n<title>%3</title>\n<polygon fill=\"#ffffff\" stroke=\"transparent\" points=\"-4,4 -4,-90.8884 83.0524,-90.8884 83.0524,4 -4,4\"/>\n<!-- 6 -->\n<g id=\"node1\" class=\"node\">\n<title>6</title>\n<ellipse fill=\"#000000\" stroke=\"#000000\" cx=\"4.8834\" cy=\"-66.9132\" rx=\"1.8\" ry=\"1.8\"/>\n</g>\n<!-- 4 -->\n<g id=\"node2\" class=\"node\">\n<title>4</title>\n<ellipse fill=\"#000000\" stroke=\"#000000\" cx=\"42.656\" cy=\"-85.0884\" rx=\"1.8\" ry=\"1.8\"/>\n</g>\n<!-- 6&#45;&#45;4 -->\n<g id=\"edge1\" class=\"edge\">\n<title>6&#45;&#45;4</title>\n<path fill=\"none\" stroke=\"#000000\" d=\"M6.5064,-67.6941C12.6067,-70.6294 34.1482,-80.9946 40.7309,-84.1621\"/>\n</g>\n<!-- 1 -->\n<g id=\"node3\" class=\"node\">\n<title>1</title>\n<ellipse fill=\"#000000\" stroke=\"#000000\" cx=\"1.8\" cy=\"-25.3039\" rx=\"1.8\" ry=\"1.8\"/>\n</g>\n<!-- 6&#45;&#45;1 -->\n<g id=\"edge2\" class=\"edge\">\n<title>6&#45;&#45;1</title>\n<path fill=\"none\" stroke=\"#000000\" d=\"M4.7176,-64.6761C4.1772,-57.3838 2.4717,-34.3676 1.9519,-27.3531\"/>\n</g>\n<!-- 2 -->\n<g id=\"node6\" class=\"node\">\n<title>2</title>\n<ellipse fill=\"#000000\" stroke=\"#000000\" cx=\"77.2524\" cy=\"-61.3815\" rx=\"1.8\" ry=\"1.8\"/>\n</g>\n<!-- 4&#45;&#45;2 -->\n<g id=\"edge5\" class=\"edge\">\n<title>4&#45;&#45;2</title>\n<path fill=\"none\" stroke=\"#000000\" d=\"M44.1426,-84.0697C49.7299,-80.2411 69.4599,-66.7212 75.4892,-62.5897\"/>\n</g>\n<!-- 5 -->\n<g id=\"node4\" class=\"node\">\n<title>5</title>\n<ellipse fill=\"#000000\" stroke=\"#000000\" cx=\"36.2758\" cy=\"-1.8\" rx=\"1.8\" ry=\"1.8\"/>\n</g>\n<!-- 5&#45;&#45;1 -->\n<g id=\"edge4\" class=\"edge\">\n<title>5&#45;&#45;1</title>\n<path fill=\"none\" stroke=\"#000000\" d=\"M34.4223,-3.0637C28.3802,-7.1829 9.3099,-20.184 3.4979,-24.1463\"/>\n</g>\n<!-- 3 -->\n<g id=\"node5\" class=\"node\">\n<title>3</title>\n<ellipse fill=\"#000000\" stroke=\"#000000\" cx=\"73.9608\" cy=\"-19.8133\" rx=\"1.8\" ry=\"1.8\"/>\n</g>\n<!-- 5&#45;&#45;3 -->\n<g id=\"edge3\" class=\"edge\">\n<title>5&#45;&#45;3</title>\n<path fill=\"none\" stroke=\"#000000\" d=\"M38.3019,-2.7685C44.9064,-5.9254 65.7519,-15.8895 72.1048,-18.9262\"/>\n</g>\n<!-- 3&#45;&#45;2 -->\n<g id=\"edge6\" class=\"edge\">\n<title>3&#45;&#45;2</title>\n<path fill=\"none\" stroke=\"#000000\" d=\"M74.1377,-22.0482C74.7146,-29.3333 76.5353,-52.3267 77.0902,-59.3343\"/>\n</g>\n</g>\n</svg>\n"
          },
          "metadata": {}
        },
        {
          "output_type": "stream",
          "name": "stdout",
          "text": [
            "3\n"
          ]
        },
        {
          "output_type": "display_data",
          "data": {
            "text/plain": [
              "<graphviz.dot.Graph at 0x7fda1baf3ed0>"
            ],
            "image/svg+xml": "<?xml version=\"1.0\" encoding=\"UTF-8\" standalone=\"no\"?>\n<!DOCTYPE svg PUBLIC \"-//W3C//DTD SVG 1.1//EN\"\n \"http://www.w3.org/Graphics/SVG/1.1/DTD/svg11.dtd\">\n<!-- Generated by graphviz version 2.40.1 (20161225.0304)\n -->\n<!-- Title: %3 Pages: 1 -->\n<svg width=\"66pt\" height=\"64pt\"\n viewBox=\"0.00 0.00 65.74 63.62\" xmlns=\"http://www.w3.org/2000/svg\" xmlns:xlink=\"http://www.w3.org/1999/xlink\">\n<g id=\"graph0\" class=\"graph\" transform=\"scale(1 1) rotate(0) translate(4 59.6197)\">\n<title>%3</title>\n<polygon fill=\"#ffffff\" stroke=\"transparent\" points=\"-4,4 -4,-59.6197 61.7416,-59.6197 61.7416,4 -4,4\"/>\n<!-- 3 -->\n<g id=\"node1\" class=\"node\">\n<title>3</title>\n<ellipse fill=\"#000000\" stroke=\"#000000\" cx=\"55.4928\" cy=\"-51.1755\" rx=\"1.8\" ry=\"1.8\"/>\n</g>\n<!-- 2 -->\n<g id=\"node2\" class=\"node\">\n<title>2</title>\n<ellipse fill=\"#000000\" stroke=\"#000000\" cx=\"1.8\" cy=\"-44.7427\" rx=\"1.8\" ry=\"1.8\"/>\n</g>\n<!-- 3&#45;&#45;2 -->\n<g id=\"edge1\" class=\"edge\">\n<title>3&#45;&#45;2</title>\n<path fill=\"none\" stroke=\"#000000\" d=\"M54.7922,-49.1331C48.9871,-41.9379 9.6883,-37.2766 2.8101,-43.0462\"/>\n</g>\n<!-- 3&#45;&#45;2 -->\n<g id=\"edge2\" class=\"edge\">\n<title>3&#45;&#45;2</title>\n<path fill=\"none\" stroke=\"#000000\" d=\"M54.3296,-52.9947C46.989,-58.6149 7.7014,-53.8609 2.3807,-46.6297\"/>\n</g>\n<!-- 1 -->\n<g id=\"node3\" class=\"node\">\n<title>1</title>\n<ellipse fill=\"#000000\" stroke=\"#000000\" cx=\"34.2585\" cy=\"-1.8\" rx=\"1.8\" ry=\"1.8\"/>\n</g>\n<!-- 3&#45;&#45;1 -->\n<g id=\"edge3\" class=\"edge\">\n<title>3&#45;&#45;1</title>\n<path fill=\"none\" stroke=\"#000000\" d=\"M56.814,-49.7803C60.5243,-41.6289 44.7573,-4.9211 36.249,-1.8251\"/>\n</g>\n<!-- 3&#45;&#45;1 -->\n<g id=\"edge4\" class=\"edge\">\n<title>3&#45;&#45;1</title>\n<path fill=\"none\" stroke=\"#000000\" d=\"M53.3379,-51.0868C44.8099,-47.5921 29.3132,-11.4399 32.9154,-3.2444\"/>\n</g>\n<!-- 2&#45;&#45;1 -->\n<g id=\"edge5\" class=\"edge\">\n<title>2&#45;&#45;1</title>\n<path fill=\"none\" stroke=\"#000000\" d=\"M3.6668,-45.1999C12.5919,-44.3852 36.7325,-12.4768 35.2205,-3.5433\"/>\n</g>\n<!-- 2&#45;&#45;1 -->\n<g id=\"edge6\" class=\"edge\">\n<title>2&#45;&#45;1</title>\n<path fill=\"none\" stroke=\"#000000\" d=\"M.8508,-43.0714C-.8003,-34.2626 23.3118,-2.3326 32.3189,-1.3501\"/>\n</g>\n</g>\n</svg>\n"
          },
          "metadata": {}
        },
        {
          "output_type": "stream",
          "name": "stdout",
          "text": [
            "4\n"
          ]
        },
        {
          "output_type": "display_data",
          "data": {
            "text/plain": [
              "<graphviz.dot.Graph at 0x7fda1baf3bd0>"
            ],
            "image/svg+xml": "<?xml version=\"1.0\" encoding=\"UTF-8\" standalone=\"no\"?>\n<!DOCTYPE svg PUBLIC \"-//W3C//DTD SVG 1.1//EN\"\n \"http://www.w3.org/Graphics/SVG/1.1/DTD/svg11.dtd\">\n<!-- Generated by graphviz version 2.40.1 (20161225.0304)\n -->\n<!-- Title: %3 Pages: 1 -->\n<svg width=\"115pt\" height=\"22pt\"\n viewBox=\"0.00 0.00 114.62 21.52\" xmlns=\"http://www.w3.org/2000/svg\" xmlns:xlink=\"http://www.w3.org/1999/xlink\">\n<g id=\"graph0\" class=\"graph\" transform=\"scale(1 1) rotate(0) translate(4 17.5228)\">\n<title>%3</title>\n<polygon fill=\"#ffffff\" stroke=\"transparent\" points=\"-4,4 -4,-17.5228 110.6195,-17.5228 110.6195,4 -4,4\"/>\n<!-- 4 -->\n<g id=\"node1\" class=\"node\">\n<title>4</title>\n<ellipse fill=\"#000000\" stroke=\"#000000\" cx=\"104.8195\" cy=\"-6.7614\" rx=\"1.8\" ry=\"1.8\"/>\n</g>\n<!-- 1 -->\n<g id=\"node2\" class=\"node\">\n<title>1</title>\n<ellipse fill=\"#000000\" stroke=\"#000000\" cx=\"71.3737\" cy=\"-6.7614\" rx=\"1.8\" ry=\"1.8\"/>\n</g>\n<!-- 4&#45;&#45;1 -->\n<g id=\"edge1\" class=\"edge\">\n<title>4&#45;&#45;1</title>\n<path fill=\"none\" stroke=\"#000000\" d=\"M104.239,-4.8168C100.1447,1.6367 75.6686,1.5901 71.8691,-4.9569\"/>\n</g>\n<!-- 4&#45;&#45;1 -->\n<g id=\"edge2\" class=\"edge\">\n<title>4&#45;&#45;1</title>\n<path fill=\"none\" stroke=\"#000000\" d=\"M104.239,-8.706C100.1447,-15.1596 75.6686,-15.1129 71.8691,-8.5659\"/>\n</g>\n<!-- 3 -->\n<g id=\"node3\" class=\"node\">\n<title>3</title>\n<ellipse fill=\"#000000\" stroke=\"#000000\" cx=\"1.8\" cy=\"-6.7614\" rx=\"1.8\" ry=\"1.8\"/>\n</g>\n<!-- 2 -->\n<g id=\"node4\" class=\"node\">\n<title>2</title>\n<ellipse fill=\"#000000\" stroke=\"#000000\" cx=\"36.2264\" cy=\"-6.7614\" rx=\"1.8\" ry=\"1.8\"/>\n</g>\n<!-- 3&#45;&#45;2 -->\n<g id=\"edge3\" class=\"edge\">\n<title>3&#45;&#45;2</title>\n<path fill=\"none\" stroke=\"#000000\" d=\"M2.3975,-8.706C6.6119,-15.1596 31.8056,-15.1129 35.7164,-8.5659\"/>\n</g>\n<!-- 3&#45;&#45;2 -->\n<g id=\"edge4\" class=\"edge\">\n<title>3&#45;&#45;2</title>\n<path fill=\"none\" stroke=\"#000000\" d=\"M2.3975,-4.8168C6.6119,1.6367 31.8056,1.5901 35.7164,-4.9569\"/>\n</g>\n<!-- 2&#45;&#45;1 -->\n<g id=\"edge5\" class=\"edge\">\n<title>2&#45;&#45;1</title>\n<path fill=\"none\" stroke=\"#000000\" d=\"M36.8364,-8.706C41.139,-15.1596 66.8603,-15.1129 70.853,-8.5659\"/>\n</g>\n<!-- 2&#45;&#45;1 -->\n<g id=\"edge6\" class=\"edge\">\n<title>2&#45;&#45;1</title>\n<path fill=\"none\" stroke=\"#000000\" d=\"M36.8364,-4.8168C41.139,1.6367 66.8603,1.5901 70.853,-4.9569\"/>\n</g>\n</g>\n</svg>\n"
          },
          "metadata": {}
        },
        {
          "output_type": "stream",
          "name": "stdout",
          "text": [
            "5\n"
          ]
        },
        {
          "output_type": "display_data",
          "data": {
            "text/plain": [
              "<graphviz.dot.Graph at 0x7fda1baf3b90>"
            ],
            "image/svg+xml": "<?xml version=\"1.0\" encoding=\"UTF-8\" standalone=\"no\"?>\n<!DOCTYPE svg PUBLIC \"-//W3C//DTD SVG 1.1//EN\"\n \"http://www.w3.org/Graphics/SVG/1.1/DTD/svg11.dtd\">\n<!-- Generated by graphviz version 2.40.1 (20161225.0304)\n -->\n<!-- Title: %3 Pages: 1 -->\n<svg width=\"85pt\" height=\"91pt\"\n viewBox=\"0.00 0.00 85.17 91.01\" xmlns=\"http://www.w3.org/2000/svg\" xmlns:xlink=\"http://www.w3.org/1999/xlink\">\n<g id=\"graph0\" class=\"graph\" transform=\"scale(1 1) rotate(0) translate(4 87.0056)\">\n<title>%3</title>\n<polygon fill=\"#ffffff\" stroke=\"transparent\" points=\"-4,4 -4,-87.0056 81.1747,-87.0056 81.1747,4 -4,4\"/>\n<!-- 4 -->\n<g id=\"node1\" class=\"node\">\n<title>4</title>\n<ellipse fill=\"#000000\" stroke=\"#000000\" cx=\"1.8\" cy=\"-81.2056\" rx=\"1.8\" ry=\"1.8\"/>\n</g>\n<!-- 1 -->\n<g id=\"node2\" class=\"node\">\n<title>1</title>\n<ellipse fill=\"#000000\" stroke=\"#000000\" cx=\"28.0628\" cy=\"-42.1417\" rx=\"1.8\" ry=\"1.8\"/>\n</g>\n<!-- 4&#45;&#45;1 -->\n<g id=\"edge1\" class=\"edge\">\n<title>4&#45;&#45;1</title>\n<path fill=\"none\" stroke=\"#000000\" d=\"M3.8696,-81.6125C12.4403,-80.4312 31.6211,-51.8176 29.1713,-43.7272\"/>\n</g>\n<!-- 4&#45;&#45;1 -->\n<g id=\"edge2\" class=\"edge\">\n<title>4&#45;&#45;1</title>\n<path fill=\"none\" stroke=\"#000000\" d=\"M.6421,-79.4427C-1.4987,-71.06 17.7596,-42.4985 26.1762,-41.7136\"/>\n</g>\n<!-- 3 -->\n<g id=\"node3\" class=\"node\">\n<title>3</title>\n<ellipse fill=\"#000000\" stroke=\"#000000\" cx=\"4.2972\" cy=\"-1.8\" rx=\"1.8\" ry=\"1.8\"/>\n</g>\n<!-- 3&#45;&#45;1 -->\n<g id=\"edge3\" class=\"edge\">\n<title>3&#45;&#45;1</title>\n<path fill=\"none\" stroke=\"#000000\" d=\"M3.0342,-3.4872C.3831,-11.7014 17.8153,-41.2003 26.1559,-42.46\"/>\n</g>\n<!-- 3&#45;&#45;1 -->\n<g id=\"edge4\" class=\"edge\">\n<title>3&#45;&#45;1</title>\n<path fill=\"none\" stroke=\"#000000\" d=\"M6.3851,-1.5132C14.8549,-3.1759 32.2067,-32.7223 29.2655,-40.6281\"/>\n</g>\n<!-- 2 -->\n<g id=\"node4\" class=\"node\">\n<title>2</title>\n<ellipse fill=\"#000000\" stroke=\"#000000\" cx=\"75.3747\" cy=\"-43.5597\" rx=\"1.8\" ry=\"1.8\"/>\n</g>\n<!-- 2&#45;&#45;1 -->\n<g id=\"edge5\" class=\"edge\">\n<title>2&#45;&#45;1</title>\n<path fill=\"none\" stroke=\"#000000\" d=\"M74.6117,-41.5914C69.0134,-34.9671 34.3884,-33.9761 28.8177,-40.359\"/>\n</g>\n<!-- 2&#45;&#45;1 -->\n<g id=\"edge6\" class=\"edge\">\n<title>2&#45;&#45;1</title>\n<path fill=\"none\" stroke=\"#000000\" d=\"M74.4952,-45.4788C68.5102,-51.7559 33.8881,-50.6715 28.7096,-43.9664\"/>\n</g>\n</g>\n</svg>\n"
          },
          "metadata": {}
        },
        {
          "output_type": "stream",
          "name": "stdout",
          "text": [
            "6\n"
          ]
        },
        {
          "output_type": "display_data",
          "data": {
            "text/plain": [
              "<graphviz.dot.Graph at 0x7fda1baf3b50>"
            ],
            "image/svg+xml": "<?xml version=\"1.0\" encoding=\"UTF-8\" standalone=\"no\"?>\n<!DOCTYPE svg PUBLIC \"-//W3C//DTD SVG 1.1//EN\"\n \"http://www.w3.org/Graphics/SVG/1.1/DTD/svg11.dtd\">\n<!-- Generated by graphviz version 2.40.1 (20161225.0304)\n -->\n<!-- Title: %3 Pages: 1 -->\n<svg width=\"53pt\" height=\"76pt\"\n viewBox=\"0.00 0.00 53.10 75.52\" xmlns=\"http://www.w3.org/2000/svg\" xmlns:xlink=\"http://www.w3.org/1999/xlink\">\n<g id=\"graph0\" class=\"graph\" transform=\"scale(1 1) rotate(0) translate(4 71.5188)\">\n<title>%3</title>\n<polygon fill=\"#ffffff\" stroke=\"transparent\" points=\"-4,4 -4,-71.5188 49.1014,-71.5188 49.1014,4 -4,4\"/>\n<!-- 2 -->\n<g id=\"node1\" class=\"node\">\n<title>2</title>\n<ellipse fill=\"#000000\" stroke=\"#000000\" cx=\"43.3014\" cy=\"-33.7594\" rx=\"1.8\" ry=\"1.8\"/>\n</g>\n<!-- 1 -->\n<g id=\"node2\" class=\"node\">\n<title>1</title>\n<ellipse fill=\"#000000\" stroke=\"#000000\" cx=\"1.8\" cy=\"-33.7594\" rx=\"1.8\" ry=\"1.8\"/>\n</g>\n<!-- 2&#45;&#45;1 -->\n<g id=\"edge1\" class=\"edge\">\n<title>2&#45;&#45;1</title>\n<path fill=\"none\" stroke=\"#000000\" d=\"M43.2784,-31.9389C42.1916,10.5576 3.0521,10.6336 1.8293,-31.7109\"/>\n</g>\n<!-- 2&#45;&#45;1 -->\n<g id=\"edge2\" class=\"edge\">\n<title>2&#45;&#45;1</title>\n<path fill=\"none\" stroke=\"#000000\" d=\"M43.2784,-35.5799C42.1916,-78.0764 3.0521,-78.1524 1.8293,-35.8079\"/>\n</g>\n<!-- 2&#45;&#45;1 -->\n<g id=\"edge3\" class=\"edge\">\n<title>2&#45;&#45;1</title>\n<path fill=\"none\" stroke=\"#000000\" d=\"M43.2341,-35.6133C41.4223,-60.1556 3.6345,-60.1414 1.8642,-35.5709\"/>\n</g>\n<!-- 2&#45;&#45;1 -->\n<g id=\"edge4\" class=\"edge\">\n<title>2&#45;&#45;1</title>\n<path fill=\"none\" stroke=\"#000000\" d=\"M42.5811,-35.704C37.5007,-42.1576 7.1293,-42.1109 2.4148,-35.5639\"/>\n</g>\n<!-- 2&#45;&#45;1 -->\n<g id=\"edge5\" class=\"edge\">\n<title>2&#45;&#45;1</title>\n<path fill=\"none\" stroke=\"#000000\" d=\"M42.5811,-31.8148C37.5007,-25.3612 7.1293,-25.4079 2.4148,-31.9549\"/>\n</g>\n<!-- 2&#45;&#45;1 -->\n<g id=\"edge6\" class=\"edge\">\n<title>2&#45;&#45;1</title>\n<path fill=\"none\" stroke=\"#000000\" d=\"M43.2341,-31.9055C41.4223,-7.3632 3.6345,-7.3774 1.8642,-31.9479\"/>\n</g>\n</g>\n</svg>\n"
          },
          "metadata": {}
        },
        {
          "output_type": "stream",
          "name": "stdout",
          "text": [
            "7\n"
          ]
        },
        {
          "output_type": "display_data",
          "data": {
            "text/plain": [
              "<graphviz.dot.Graph at 0x7fda1baf3f50>"
            ],
            "image/svg+xml": "<?xml version=\"1.0\" encoding=\"UTF-8\" standalone=\"no\"?>\n<!DOCTYPE svg PUBLIC \"-//W3C//DTD SVG 1.1//EN\"\n \"http://www.w3.org/Graphics/SVG/1.1/DTD/svg11.dtd\">\n<!-- Generated by graphviz version 2.40.1 (20161225.0304)\n -->\n<!-- Title: %3 Pages: 1 -->\n<svg width=\"88pt\" height=\"49pt\"\n viewBox=\"0.00 0.00 88.46 48.51\" xmlns=\"http://www.w3.org/2000/svg\" xmlns:xlink=\"http://www.w3.org/1999/xlink\">\n<g id=\"graph0\" class=\"graph\" transform=\"scale(1 1) rotate(0) translate(4 44.5071)\">\n<title>%3</title>\n<polygon fill=\"#ffffff\" stroke=\"transparent\" points=\"-4,4 -4,-44.5071 84.4582,-44.5071 84.4582,4 -4,4\"/>\n<!-- 3 -->\n<g id=\"node1\" class=\"node\">\n<title>3</title>\n<ellipse fill=\"#000000\" stroke=\"#000000\" cx=\"78.6582\" cy=\"-20.2535\" rx=\"1.8\" ry=\"1.8\"/>\n</g>\n<!-- 1 -->\n<g id=\"node2\" class=\"node\">\n<title>1</title>\n<ellipse fill=\"#000000\" stroke=\"#000000\" cx=\"41.9757\" cy=\"-20.2535\" rx=\"1.8\" ry=\"1.8\"/>\n</g>\n<!-- 3&#45;&#45;1 -->\n<g id=\"edge1\" class=\"edge\">\n<title>3&#45;&#45;1</title>\n<path fill=\"none\" stroke=\"#000000\" d=\"M78.0215,-18.3089C73.531,-11.8554 46.6862,-11.9021 42.5191,-18.449\"/>\n</g>\n<!-- 3&#45;&#45;1 -->\n<g id=\"edge2\" class=\"edge\">\n<title>3&#45;&#45;1</title>\n<path fill=\"none\" stroke=\"#000000\" d=\"M78.0215,-22.1981C73.531,-28.6517 46.6862,-28.605 42.5191,-22.0581\"/>\n</g>\n<!-- 2 -->\n<g id=\"node3\" class=\"node\">\n<title>2</title>\n<ellipse fill=\"#000000\" stroke=\"#000000\" cx=\"1.8\" cy=\"-20.2535\" rx=\"1.8\" ry=\"1.8\"/>\n</g>\n<!-- 2&#45;&#45;1 -->\n<g id=\"edge3\" class=\"edge\">\n<title>2&#45;&#45;1</title>\n<path fill=\"none\" stroke=\"#000000\" d=\"M1.8652,-22.1075C3.6191,-46.6497 40.1998,-46.6355 41.9135,-22.065\"/>\n</g>\n<!-- 2&#45;&#45;1 -->\n<g id=\"edge4\" class=\"edge\">\n<title>2&#45;&#45;1</title>\n<path fill=\"none\" stroke=\"#000000\" d=\"M1.8652,-18.3996C3.6191,6.1426 40.1998,6.1285 41.9135,-18.442\"/>\n</g>\n<!-- 2&#45;&#45;1 -->\n<g id=\"edge5\" class=\"edge\">\n<title>2&#45;&#45;1</title>\n<path fill=\"none\" stroke=\"#000000\" d=\"M2.4973,-18.3089C7.4155,-11.8554 36.8166,-11.9021 41.3806,-18.449\"/>\n</g>\n<!-- 2&#45;&#45;1 -->\n<g id=\"edge6\" class=\"edge\">\n<title>2&#45;&#45;1</title>\n<path fill=\"none\" stroke=\"#000000\" d=\"M2.4973,-22.1981C7.4155,-28.6517 36.8166,-28.605 41.3806,-22.0581\"/>\n</g>\n</g>\n</svg>\n"
          },
          "metadata": {}
        },
        {
          "output_type": "stream",
          "name": "stdout",
          "text": [
            "8\n"
          ]
        },
        {
          "output_type": "display_data",
          "data": {
            "text/plain": [
              "<graphviz.dot.Graph at 0x7fda1baf3e90>"
            ],
            "image/svg+xml": "<?xml version=\"1.0\" encoding=\"UTF-8\" standalone=\"no\"?>\n<!DOCTYPE svg PUBLIC \"-//W3C//DTD SVG 1.1//EN\"\n \"http://www.w3.org/Graphics/SVG/1.1/DTD/svg11.dtd\">\n<!-- Generated by graphviz version 2.40.1 (20161225.0304)\n -->\n<!-- Title: %3 Pages: 1 -->\n<svg width=\"83pt\" height=\"83pt\"\n viewBox=\"0.00 0.00 83.15 83.29\" xmlns=\"http://www.w3.org/2000/svg\" xmlns:xlink=\"http://www.w3.org/1999/xlink\">\n<g id=\"graph0\" class=\"graph\" transform=\"scale(1 1) rotate(0) translate(4 79.288)\">\n<title>%3</title>\n<polygon fill=\"#ffffff\" stroke=\"transparent\" points=\"-4,4 -4,-79.288 79.147,-79.288 79.147,4 -4,4\"/>\n<!-- 4 -->\n<g id=\"node1\" class=\"node\">\n<title>4</title>\n<ellipse fill=\"#000000\" stroke=\"#000000\" cx=\"37.1311\" cy=\"-73.488\" rx=\"1.8\" ry=\"1.8\"/>\n</g>\n<!-- 3 -->\n<g id=\"node2\" class=\"node\">\n<title>3</title>\n<ellipse fill=\"#000000\" stroke=\"#000000\" cx=\"73.347\" cy=\"-39.0371\" rx=\"1.8\" ry=\"1.8\"/>\n</g>\n<!-- 4&#45;&#45;3 -->\n<g id=\"edge1\" class=\"edge\">\n<title>4&#45;&#45;3</title>\n<path fill=\"none\" stroke=\"#000000\" d=\"M38.6872,-72.0077C44.6444,-66.3408 65.9598,-46.0642 71.837,-40.4735\"/>\n</g>\n<!-- 1 -->\n<g id=\"node3\" class=\"node\">\n<title>1</title>\n<ellipse fill=\"#000000\" stroke=\"#000000\" cx=\"2.6282\" cy=\"-37.3341\" rx=\"1.8\" ry=\"1.8\"/>\n</g>\n<!-- 4&#45;&#45;1 -->\n<g id=\"edge2\" class=\"edge\">\n<title>4&#45;&#45;1</title>\n<path fill=\"none\" stroke=\"#000000\" d=\"M35.6485,-71.9345C29.9731,-65.9875 9.6659,-44.7086 4.0668,-38.8415\"/>\n</g>\n<!-- 2 -->\n<g id=\"node4\" class=\"node\">\n<title>2</title>\n<ellipse fill=\"#000000\" stroke=\"#000000\" cx=\"38.8372\" cy=\"-2.9022\" rx=\"1.8\" ry=\"1.8\"/>\n</g>\n<!-- 3&#45;&#45;2 -->\n<g id=\"edge3\" class=\"edge\">\n<title>3&#45;&#45;2</title>\n<path fill=\"none\" stroke=\"#000000\" d=\"M71.8642,-37.4844C66.1877,-31.5406 45.8764,-10.2729 40.2761,-4.4089\"/>\n</g>\n<!-- 2&#45;&#45;1 -->\n<g id=\"edge4\" class=\"edge\">\n<title>2&#45;&#45;1</title>\n<path fill=\"none\" stroke=\"#000000\" d=\"M37.279,-1.5869C24.2101,7.1301 -6.7449,-22.3405 1.433,-35.7784\"/>\n</g>\n<!-- 2&#45;&#45;1 -->\n<g id=\"edge5\" class=\"edge\">\n<title>2&#45;&#45;1</title>\n<path fill=\"none\" stroke=\"#000000\" d=\"M40.0726,-4.5246C48.1213,-18.0154 17.1314,-47.4492 4.1217,-38.6059\"/>\n</g>\n<!-- 2&#45;&#45;1 -->\n<g id=\"edge6\" class=\"edge\">\n<title>2&#45;&#45;1</title>\n<path fill=\"none\" stroke=\"#000000\" d=\"M37.2814,-4.3817C31.3254,-10.0454 10.014,-30.3108 4.1379,-35.8984\"/>\n</g>\n</g>\n</svg>\n"
          },
          "metadata": {}
        },
        {
          "output_type": "stream",
          "name": "stdout",
          "text": [
            "9\n"
          ]
        },
        {
          "output_type": "display_data",
          "data": {
            "text/plain": [
              "<graphviz.dot.Graph at 0x7fda1baf3f90>"
            ],
            "image/svg+xml": "<?xml version=\"1.0\" encoding=\"UTF-8\" standalone=\"no\"?>\n<!DOCTYPE svg PUBLIC \"-//W3C//DTD SVG 1.1//EN\"\n \"http://www.w3.org/Graphics/SVG/1.1/DTD/svg11.dtd\">\n<!-- Generated by graphviz version 2.40.1 (20161225.0304)\n -->\n<!-- Title: %3 Pages: 1 -->\n<svg width=\"98pt\" height=\"52pt\"\n viewBox=\"0.00 0.00 97.91 51.85\" xmlns=\"http://www.w3.org/2000/svg\" xmlns:xlink=\"http://www.w3.org/1999/xlink\">\n<g id=\"graph0\" class=\"graph\" transform=\"scale(1 1) rotate(0) translate(4 47.8462)\">\n<title>%3</title>\n<polygon fill=\"#ffffff\" stroke=\"transparent\" points=\"-4,4 -4,-47.8462 93.9124,-47.8462 93.9124,4 -4,4\"/>\n<!-- 4 -->\n<g id=\"node1\" class=\"node\">\n<title>4</title>\n<ellipse fill=\"#000000\" stroke=\"#000000\" cx=\"88.1124\" cy=\"-22.3657\" rx=\"1.8\" ry=\"1.8\"/>\n</g>\n<!-- 2 -->\n<g id=\"node2\" class=\"node\">\n<title>2</title>\n<ellipse fill=\"#000000\" stroke=\"#000000\" cx=\"45.2865\" cy=\"-1.8\" rx=\"1.8\" ry=\"1.8\"/>\n</g>\n<!-- 4&#45;&#45;2 -->\n<g id=\"edge1\" class=\"edge\">\n<title>4&#45;&#45;2</title>\n<path fill=\"none\" stroke=\"#000000\" d=\"M86.2722,-21.482C79.2278,-18.0991 54.022,-5.9949 47.0722,-2.6575\"/>\n</g>\n<!-- 1 -->\n<g id=\"node3\" class=\"node\">\n<title>1</title>\n<ellipse fill=\"#000000\" stroke=\"#000000\" cx=\"45.4326\" cy=\"-42.0462\" rx=\"1.8\" ry=\"1.8\"/>\n</g>\n<!-- 4&#45;&#45;1 -->\n<g id=\"edge2\" class=\"edge\">\n<title>4&#45;&#45;1</title>\n<path fill=\"none\" stroke=\"#000000\" d=\"M86.2785,-23.2113C79.2581,-26.4486 54.1383,-38.0319 47.2122,-41.2256\"/>\n</g>\n<!-- 2&#45;&#45;1 -->\n<g id=\"edge5\" class=\"edge\">\n<title>2&#45;&#45;1</title>\n<path fill=\"none\" stroke=\"#000000\" d=\"M43.3445,-2.5056C36.9089,-7.4558 37.0624,-36.9084 43.6259,-41.4566\"/>\n</g>\n<!-- 2&#45;&#45;1 -->\n<g id=\"edge6\" class=\"edge\">\n<title>2&#45;&#45;1</title>\n<path fill=\"none\" stroke=\"#000000\" d=\"M47.2336,-2.4915C53.7051,-7.3948 53.7653,-36.8478 47.235,-41.4435\"/>\n</g>\n<!-- 3 -->\n<g id=\"node4\" class=\"node\">\n<title>3</title>\n<ellipse fill=\"#000000\" stroke=\"#000000\" cx=\"1.8\" cy=\"-22.4293\" rx=\"1.8\" ry=\"1.8\"/>\n</g>\n<!-- 3&#45;&#45;2 -->\n<g id=\"edge3\" class=\"edge\">\n<title>3&#45;&#45;2</title>\n<path fill=\"none\" stroke=\"#000000\" d=\"M3.6686,-21.5429C10.8217,-18.1496 36.4163,-6.0079 43.4733,-2.6602\"/>\n</g>\n<!-- 3&#45;&#45;1 -->\n<g id=\"edge4\" class=\"edge\">\n<title>3&#45;&#45;1</title>\n<path fill=\"none\" stroke=\"#000000\" d=\"M3.6748,-23.2723C10.852,-26.499 36.5326,-38.0449 43.6133,-41.2283\"/>\n</g>\n</g>\n</svg>\n"
          },
          "metadata": {}
        },
        {
          "output_type": "stream",
          "name": "stdout",
          "text": [
            "10\n"
          ]
        },
        {
          "output_type": "display_data",
          "data": {
            "text/plain": [
              "<graphviz.dot.Graph at 0x7fda1baf3910>"
            ],
            "image/svg+xml": "<?xml version=\"1.0\" encoding=\"UTF-8\" standalone=\"no\"?>\n<!DOCTYPE svg PUBLIC \"-//W3C//DTD SVG 1.1//EN\"\n \"http://www.w3.org/Graphics/SVG/1.1/DTD/svg11.dtd\">\n<!-- Generated by graphviz version 2.40.1 (20161225.0304)\n -->\n<!-- Title: %3 Pages: 1 -->\n<svg width=\"118pt\" height=\"57pt\"\n viewBox=\"0.00 0.00 118.00 57.28\" xmlns=\"http://www.w3.org/2000/svg\" xmlns:xlink=\"http://www.w3.org/1999/xlink\">\n<g id=\"graph0\" class=\"graph\" transform=\"scale(1 1) rotate(0) translate(4 53.2798)\">\n<title>%3</title>\n<polygon fill=\"#ffffff\" stroke=\"transparent\" points=\"-4,4 -4,-53.2798 114.001,-53.2798 114.001,4 -4,4\"/>\n<!-- 5 -->\n<g id=\"node1\" class=\"node\">\n<title>5</title>\n<ellipse fill=\"#000000\" stroke=\"#000000\" cx=\"1.8\" cy=\"-24.637\" rx=\"1.8\" ry=\"1.8\"/>\n</g>\n<!-- 4 -->\n<g id=\"node2\" class=\"node\">\n<title>4</title>\n<ellipse fill=\"#000000\" stroke=\"#000000\" cx=\"31.1191\" cy=\"-47.4798\" rx=\"1.8\" ry=\"1.8\"/>\n</g>\n<!-- 5&#45;&#45;4 -->\n<g id=\"edge1\" class=\"edge\">\n<title>5&#45;&#45;4</title>\n<path fill=\"none\" stroke=\"#000000\" d=\"M3.3763,-25.8651C8.5147,-29.8685 24.7325,-42.5039 29.6752,-46.3548\"/>\n</g>\n<!-- 3 -->\n<g id=\"node3\" class=\"node\">\n<title>3</title>\n<ellipse fill=\"#000000\" stroke=\"#000000\" cx=\"31.1275\" cy=\"-1.8\" rx=\"1.8\" ry=\"1.8\"/>\n</g>\n<!-- 5&#45;&#45;3 -->\n<g id=\"edge2\" class=\"edge\">\n<title>5&#45;&#45;3</title>\n<path fill=\"none\" stroke=\"#000000\" d=\"M3.3768,-23.4092C8.5166,-19.4069 24.7391,-6.7746 29.6832,-2.9247\"/>\n</g>\n<!-- 1 -->\n<g id=\"node4\" class=\"node\">\n<title>1</title>\n<ellipse fill=\"#000000\" stroke=\"#000000\" cx=\"65.5643\" cy=\"-24.6419\" rx=\"1.8\" ry=\"1.8\"/>\n</g>\n<!-- 4&#45;&#45;1 -->\n<g id=\"edge3\" class=\"edge\">\n<title>4&#45;&#45;1</title>\n<path fill=\"none\" stroke=\"#000000\" d=\"M32.971,-46.2519C39.0078,-42.2494 58.0611,-29.6166 63.868,-25.7666\"/>\n</g>\n<!-- 3&#45;&#45;1 -->\n<g id=\"edge4\" class=\"edge\">\n<title>3&#45;&#45;1</title>\n<path fill=\"none\" stroke=\"#000000\" d=\"M32.979,-3.0281C39.0142,-7.0312 58.063,-19.6662 63.8684,-23.5169\"/>\n</g>\n<!-- 2 -->\n<g id=\"node5\" class=\"node\">\n<title>2</title>\n<ellipse fill=\"#000000\" stroke=\"#000000\" cx=\"108.201\" cy=\"-24.6403\" rx=\"1.8\" ry=\"1.8\"/>\n</g>\n<!-- 2&#45;&#45;1 -->\n<g id=\"edge5\" class=\"edge\">\n<title>2&#45;&#45;1</title>\n<path fill=\"none\" stroke=\"#000000\" d=\"M107.4609,-22.6957C102.2413,-16.2424 71.0391,-16.2902 66.1959,-22.8373\"/>\n</g>\n<!-- 2&#45;&#45;1 -->\n<g id=\"edge6\" class=\"edge\">\n<title>2&#45;&#45;1</title>\n<path fill=\"none\" stroke=\"#000000\" d=\"M107.461,-26.5849C102.2419,-33.0387 71.0398,-32.9931 66.196,-26.4464\"/>\n</g>\n</g>\n</svg>\n"
          },
          "metadata": {}
        }
      ]
    },
    {
      "cell_type": "markdown",
      "source": [
        "# Isomorphism checking"
      ],
      "metadata": {
        "id": "aIj-Xps4-BYH"
      }
    },
    {
      "cell_type": "code",
      "source": [
        "import networkx as nx\n",
        "\n",
        "def createNXGraph(data):\n",
        "    G = nx.MultiGraph()\n",
        "    row = 1\n",
        "    col = 0\n",
        "    for entry in data.split():\n",
        "        for i in range(int(entry)):\n",
        "            G.add_edge(row, col)\n",
        "        col += 1\n",
        "        if col == row:\n",
        "            row += 1\n",
        "            col = 0\n",
        "    return G\n",
        "\n",
        "nxGraphs = list(map(createNXGraph, evenGraphs8))\n",
        "\n",
        "for i,g in enumerate(nxGraphs):\n",
        "    print(f'checking isomorphism for graph {i+1}...')\n",
        "    for j in range(i+1, len(nxGraphs)):\n",
        "        g2 = nxGraphs[j]\n",
        "        if len(g2.nodes) != len(g.nodes):\n",
        "            continue\n",
        "        if nx.is_isomorphic(g, g2):\n",
        "            print(f'\\tgraph {i+1} is isomorphic to graph {j+1}')"
      ],
      "metadata": {
        "id": "1pm2BBP71IHs",
        "colab": {
          "base_uri": "https://localhost:8080/"
        },
        "outputId": "86ff6d36-a93c-4f19-b762-000adb36e9b6"
      },
      "execution_count": 2,
      "outputs": [
        {
          "output_type": "stream",
          "name": "stdout",
          "text": [
            "checking isomorphism for graph 1...\n",
            "checking isomorphism for graph 2...\n",
            "checking isomorphism for graph 3...\n",
            "checking isomorphism for graph 4...\n",
            "checking isomorphism for graph 5...\n",
            "checking isomorphism for graph 6...\n",
            "checking isomorphism for graph 7...\n",
            "checking isomorphism for graph 8...\n",
            "checking isomorphism for graph 9...\n",
            "checking isomorphism for graph 10...\n",
            "checking isomorphism for graph 11...\n",
            "checking isomorphism for graph 12...\n",
            "checking isomorphism for graph 13...\n",
            "checking isomorphism for graph 14...\n",
            "checking isomorphism for graph 15...\n",
            "checking isomorphism for graph 16...\n",
            "checking isomorphism for graph 17...\n",
            "checking isomorphism for graph 18...\n",
            "checking isomorphism for graph 19...\n",
            "checking isomorphism for graph 20...\n",
            "checking isomorphism for graph 21...\n",
            "checking isomorphism for graph 22...\n",
            "checking isomorphism for graph 23...\n",
            "checking isomorphism for graph 24...\n",
            "checking isomorphism for graph 25...\n",
            "checking isomorphism for graph 26...\n",
            "checking isomorphism for graph 27...\n",
            "checking isomorphism for graph 28...\n",
            "checking isomorphism for graph 29...\n",
            "checking isomorphism for graph 30...\n",
            "checking isomorphism for graph 31...\n",
            "checking isomorphism for graph 32...\n",
            "checking isomorphism for graph 33...\n",
            "checking isomorphism for graph 34...\n",
            "checking isomorphism for graph 35...\n",
            "checking isomorphism for graph 36...\n",
            "checking isomorphism for graph 37...\n",
            "checking isomorphism for graph 38...\n",
            "checking isomorphism for graph 39...\n",
            "checking isomorphism for graph 40...\n",
            "checking isomorphism for graph 41...\n",
            "checking isomorphism for graph 42...\n",
            "checking isomorphism for graph 43...\n",
            "checking isomorphism for graph 44...\n"
          ]
        }
      ]
    },
    {
      "cell_type": "markdown",
      "source": [
        "# Matrix expressions and system solving"
      ],
      "metadata": {
        "id": "ISlZy3VM9oVY"
      }
    },
    {
      "cell_type": "code",
      "source": [
        "matrixExpressions8 = '''(A@d(A2)@A)*(A@d(A2)@A)\n",
        "\n",
        "A3@d(A@d(A3)@A)\n",
        "(A2*A)@(A2*A3)\n",
        "(A2*A2*A2)@A2\n",
        "A4@d(A4)\n",
        "A5@d(A3)\n",
        "A8\n",
        "A_2@(A2*A2)@A_2\n",
        "A_2@(A3*A)@A_2\n",
        "A_2@A_2@d(A4)\n",
        "A2@d(A2@d(A2)@A2)\n",
        "A@d(A2)@A@d(A2)@A2\n",
        "(A@d(A2)@A)*A4\n",
        "d(A2)@d(A2)@A4\n",
        "\n",
        "A_4@(A2*A2)\n",
        "A_2@(A2*(A@d(A2)@A))\n",
        "\n",
        "A_2@d(A2)@(A2*A2)\n",
        "A_3@A@A_3@A\n",
        "A_3@A2@A_3\n",
        "((A_3@A)*A_2)@A2\n",
        "A_5@A3\n",
        "A_3@A@d(A2)@A2\n",
        "d(A2)@A_3@A3\n",
        "(A_2@A_2)*(A_2@A_2)\n",
        "A_7@A\n",
        "d(A2)@A_5@A\n",
        "d(A2)@d(A2)@A_3@A\n",
        "d(A2)@d(A2)@A@d(A2)@A\n",
        "d(A2)@d(A2)@d(A2)@A2\n",
        "A_2@A_2@A_2@A_2\n",
        "d(A_2@A_2)@A@d(A2)@A\n",
        "d(A2)@A_3@d(A2)@A\n",
        "\n",
        "\n",
        "\n",
        "\n",
        "A_4@A_2@A_2\n",
        "d(A_2@A_2@A_2)@A2\n",
        "A_3@A5\n",
        "(A2*A_2)@A4\n",
        "A_2@(A3*A3)\n",
        "d(A2)@A6\n",
        "A_3@A@d(A3)@A\n",
        "((A_2@(A2*A))*A)@A2\n",
        "(A_3@A2)*A3\n",
        "d(A3)@A@d(A2)@A2\n",
        "d(A2)@d(A3)@A3\n",
        "'''\n",
        "\n",
        "with open('evenGraphs8.txt', 'w') as f:\n",
        "    f.write(matrixExpressions8)\n",
        "\n",
        "import re\n",
        "functions8_str = {}\n",
        "pattern1 = re.compile('A(\\d)')\n",
        "pattern2 = re.compile('A_(\\d)')\n",
        "\n",
        "with open('evenGraphs8.txt', 'r') as f:\n",
        "    for i, line in enumerate(f):\n",
        "        if line == '\\n':\n",
        "            continue\n",
        "        f = line.strip()\n",
        "        while True:\n",
        "            match = pattern1.search(f)\n",
        "            if match is None:\n",
        "                break\n",
        "            f = f[:match.start()] + f'(A{\"@A\"*(int(match.group(1))-1)})' + f[match.end():]\n",
        "        while True:\n",
        "            match = pattern2.search(f)\n",
        "            if match is None:\n",
        "                break\n",
        "            f = f[:match.start()] + f'(A{\"*A\"*(int(match.group(1))-1)})' + f[match.end():]\n",
        "        functions8_str[i+1] = f\n",
        "\n",
        "print(len(functions8_str))\n",
        "functions8_str"
      ],
      "metadata": {
        "id": "c8rF9xGGd0BQ",
        "colab": {
          "base_uri": "https://localhost:8080/"
        },
        "outputId": "0c7c53f1-ba24-455b-802e-41e4e4024333"
      },
      "execution_count": 3,
      "outputs": [
        {
          "output_type": "stream",
          "name": "stdout",
          "text": [
            "43\n"
          ]
        },
        {
          "output_type": "execute_result",
          "data": {
            "text/plain": [
              "{1: '(A@d((A@A))@A)*(A@d((A@A))@A)',\n",
              " 3: '(A@A@A)@d(A@d((A@A@A))@A)',\n",
              " 4: '((A@A)*A)@((A@A)*(A@A@A))',\n",
              " 5: '((A@A)*(A@A)*(A@A))@(A@A)',\n",
              " 6: '(A@A@A@A)@d((A@A@A@A))',\n",
              " 7: '(A@A@A@A@A)@d((A@A@A))',\n",
              " 8: '(A@A@A@A@A@A@A@A)',\n",
              " 9: '(A*A)@((A@A)*(A@A))@(A*A)',\n",
              " 10: '(A*A)@((A@A@A)*A)@(A*A)',\n",
              " 11: '(A*A)@(A*A)@d((A@A@A@A))',\n",
              " 12: '(A@A)@d((A@A)@d((A@A))@(A@A))',\n",
              " 13: 'A@d((A@A))@A@d((A@A))@(A@A)',\n",
              " 14: '(A@d((A@A))@A)*(A@A@A@A)',\n",
              " 15: 'd((A@A))@d((A@A))@(A@A@A@A)',\n",
              " 17: '(A*A*A*A)@((A@A)*(A@A))',\n",
              " 18: '(A*A)@((A@A)*(A@d((A@A))@A))',\n",
              " 20: '(A*A)@d((A@A))@((A@A)*(A@A))',\n",
              " 21: '(A*A*A)@A@(A*A*A)@A',\n",
              " 22: '(A*A*A)@(A@A)@(A*A*A)',\n",
              " 23: '(((A*A*A)@A)*(A*A))@(A@A)',\n",
              " 24: '(A*A*A*A*A)@(A@A@A)',\n",
              " 25: '(A*A*A)@A@d((A@A))@(A@A)',\n",
              " 26: 'd((A@A))@(A*A*A)@(A@A@A)',\n",
              " 27: '((A*A)@(A*A))*((A*A)@(A*A))',\n",
              " 28: '(A*A*A*A*A*A*A)@A',\n",
              " 29: 'd((A@A))@(A*A*A*A*A)@A',\n",
              " 30: 'd((A@A))@d((A@A))@(A*A*A)@A',\n",
              " 31: 'd((A@A))@d((A@A))@A@d((A@A))@A',\n",
              " 32: 'd((A@A))@d((A@A))@d((A@A))@(A@A)',\n",
              " 33: '(A*A)@(A*A)@(A*A)@(A*A)',\n",
              " 34: 'd((A*A)@(A*A))@A@d((A@A))@A',\n",
              " 35: 'd((A@A))@(A*A*A)@d((A@A))@A',\n",
              " 40: '(A*A*A*A)@(A*A)@(A*A)',\n",
              " 41: 'd((A*A)@(A*A)@(A*A))@(A@A)',\n",
              " 42: '(A*A*A)@(A@A@A@A@A)',\n",
              " 43: '((A@A)*(A*A))@(A@A@A@A)',\n",
              " 44: '(A*A)@((A@A@A)*(A@A@A))',\n",
              " 45: 'd((A@A))@(A@A@A@A@A@A)',\n",
              " 46: '(A*A*A)@A@d((A@A@A))@A',\n",
              " 47: '(((A*A)@((A@A)*A))*A)@(A@A)',\n",
              " 48: '((A*A*A)@(A@A))*(A@A@A)',\n",
              " 49: 'd((A@A@A))@A@d((A@A))@(A@A)',\n",
              " 50: 'd((A@A))@d((A@A@A))@(A@A@A)'}"
            ]
          },
          "metadata": {},
          "execution_count": 3
        }
      ]
    },
    {
      "cell_type": "code",
      "source": [
        "import numpy as np\n",
        "import networkx as nx\n",
        "\n",
        "def d(A):\n",
        "    return A*np.identity(A.shape[0])\n",
        "\n",
        "def K(n):\n",
        "    return np.ones((n,n)) - np.identity(n)\n",
        "\n",
        "def K_rational(n):\n",
        "    return np.array([[sp.Rational(int(i != j)) for i in range(n)] for j in range(n)])\n",
        "\n",
        "def cycle(n):\n",
        "    return nx.to_numpy_array(nx.cycle_graph(n))\n",
        "\n",
        "import sympy as sp\n",
        "\n",
        "def rref(A, augment):\n",
        "    # A and augment are numpy ndarrays with equivalent first dimension\n",
        "    augmented = np.concatenate((A, augment.reshape(-1,1)), 1)\n",
        "    converted = sp.Matrix(*augmented.shape, lambda i,j: sp.Rational(augmented[i,j]))\n",
        "    # print(converted)\n",
        "    reduced = converted.rref(pivots=True)\n",
        "    # print(reduced)\n",
        "    return reduced\n",
        "\n",
        "def augmentGraph(m, n, method='star'):\n",
        "    a = m\n",
        "    for i in range(n):\n",
        "        a = np.pad(a, [(0,1),(0,1)], constant_values=0)\n",
        "        if method == 'star':\n",
        "            a[0,-1] = 1\n",
        "            a[-1,0] = 1\n",
        "        elif method == 'limb':\n",
        "            a[-2,-1] = -10\n",
        "            a[-1,-2] = -10\n",
        "    return a\n",
        "\n",
        "# experimental method that didn't end up working in all cases\n",
        "# def getCoefficientsForSubgraph(g, functions):\n",
        "#     prev = g\n",
        "#     hosts = []\n",
        "#     dim = len(functions)\n",
        "#     for i in range(dim):\n",
        "#         prev = np.pad(prev, [(0,1),(0,1)], constant_values=0)\n",
        "#         prev[0,-1] = 1\n",
        "#         prev[-1,0] = 1\n",
        "#         hosts.append(prev)\n",
        "#     system = np.array([[f(h) for f in functions] for h in hosts])\n",
        "#     reduced = rref(system, np.ones((dim,)))\n",
        "#     return reduced[:,-1]\n",
        "\n",
        "def getCoefficientsForCycle(n, functions):\n",
        "    k = n + 5\n",
        "    # k = n + len(functions)\n",
        "    system = np.array([[f(K(i)) for f in functions] for i in range(n, k)])\n",
        "    augment = np.array([cyclesInKn(n, i) for i in range(n, k)])\n",
        "    while True:\n",
        "        reduced, pivots = rref(system, augment)\n",
        "        missing = len(functions) - len(pivots)\n",
        "        print(\"missing: \", missing)\n",
        "        if missing == 0:\n",
        "            break\n",
        "        additional = np.array([[f(K(i)) for f in functions] for i in range(k, k + missing)])\n",
        "        system = np.concatenate((system, additional), axis=0)\n",
        "        augment = np.concatenate((augment, np.array([cyclesInKn(n, i) for i in range(k, k + missing)])))\n",
        "        k += missing\n",
        "        print(\"total equations: \", k - n)\n",
        "    return reduced\n",
        "    # return reduced[:,-1]\n",
        "\n",
        "import math\n",
        "\n",
        "def permute(n, r):\n",
        "    return math.factorial(n)/math.factorial(n-r)\n",
        "\n",
        "def choose(n, r):\n",
        "    return permute(n,r)/math.factorial(r)\n",
        "\n",
        "def cyclesInKn(cycLen, n):\n",
        "    return permute(n, cycLen)/(2*cycLen)"
      ],
      "metadata": {
        "id": "v6p9-ymp2YA-"
      },
      "execution_count": 4,
      "outputs": []
    },
    {
      "cell_type": "code",
      "source": [
        "choose(8,4)"
      ],
      "metadata": {
        "colab": {
          "base_uri": "https://localhost:8080/"
        },
        "id": "YV_cmWAQoZCc",
        "outputId": "4c235b89-b8a3-43b7-badb-5c03340b75ed"
      },
      "execution_count": 5,
      "outputs": [
        {
          "output_type": "execute_result",
          "data": {
            "text/plain": [
              "70.0"
            ]
          },
          "metadata": {},
          "execution_count": 5
        }
      ]
    },
    {
      "cell_type": "code",
      "source": [
        "cyclesInKn(8,8)"
      ],
      "metadata": {
        "colab": {
          "base_uri": "https://localhost:8080/"
        },
        "id": "LIjCIht-n50I",
        "outputId": "0899bc9d-9c04-439b-e216-1e1f10a1a994"
      },
      "execution_count": 6,
      "outputs": [
        {
          "output_type": "execute_result",
          "data": {
            "text/plain": [
              "2520.0"
            ]
          },
          "metadata": {},
          "execution_count": 6
        }
      ]
    },
    {
      "cell_type": "code",
      "source": [
        "# as presented in the paper\n",
        "# functions7_str = [\n",
        "#               '(A@(A*A*A)@(A*A*A))',\n",
        "#               'A@((A@A)*(A@A)*(A@A))',\n",
        "#               '(A@A)@(A*A*A*A*A)',\n",
        "#               'd(A@A@A)*d(A@A@A@A)',\n",
        "#               'd(A@A@A)*d((A*A)@d(A*A))',\n",
        "#               '(A@A)@d(A@A)@(A*A*A)',\n",
        "#               'A@d(A@A)@A@(A*A*A)',\n",
        "#               'd(A@A@A)*d(A@A)*d(A@A)',\n",
        "#               '((A@A)*(A*A)@(A*A))@A',\n",
        "#               '(A@A)@d(A@A)@A@d(A@A)',\n",
        "#               '((A@A@A)*(A@A))@(A*A)',\n",
        "#               'A@d(A@A@A)@A@d(A@A)',\n",
        "#               '(A@A@A@A)@(A*A*A)',\n",
        "#               'd(A@A@A@A@A)@(A@A)',\n",
        "#               'A@A@A@A@A@A@A'\n",
        "# ]\n",
        "\n",
        "# in the order given in the book, expressions generated by hand\n",
        "functions7_str = [\n",
        "                'A@A@A@A@A@A@A',\n",
        "                'A@(A*(A@A)*(A@A))@A',\n",
        "                'd(A@A@A)@A@A@A@A',\n",
        "                '(A*A)@(A*(A@A))@(A*A)',\n",
        "                'd((A*A)@(A*A))@A@A@A',\n",
        "                'd(A@A)@A@A@d(A@A)@A',\n",
        "                'A@d(A@d(A@A)@A)@A@A',\n",
        "                'A@d(A@A)@d(A@A)@A@A',\n",
        "                '(A*A*A)@A@(A*A*A)',\n",
        "                'A@(A*A*A*A*A)@A',\n",
        "                'd(A@A)@A@(A*A*A)@A',\n",
        "                '(A*A*A)@d(A@A)@A@A',\n",
        "                '(A*A*A)@A@A@A@A',\n",
        "                'A@(A*A*(A@A@A))@A',\n",
        "                'd(A@A)@A@A@A@A@A'\n",
        "]\n",
        "\n",
        "functions6_str = [\n",
        "                  'd(A@A@A)*d(A@A@A)',\n",
        "                  'A@A@A@A@A@A',\n",
        "                  '(A*A)@(A*A)@(A*A)',\n",
        "                  'd(A@A)*d(A@d(A@A)@A)',\n",
        "                  'd(A@A)*d(A@A)*d(A@A)',\n",
        "                  '(A*A*A)@(A*A*A)',\n",
        "                  'd(A@A)*d((A*A)@(A*A))',\n",
        "                  '(A*A*A)@(A@A@A)',\n",
        "                  '((A@A)*(A@A))@(A*A)',\n",
        "                  'd(A@A)*d(A@A@A@A)'\n",
        "]\n",
        "\n",
        "functions6_str_paper = [\n",
        "                  'd(A@A)*d(A@A)*d(A@A)',\n",
        "                  '(A*A*A)@(A@A@A)',\n",
        "                  'd(A@A)*d((A*A)@(A*A))',\n",
        "                  '(A*A*A)@(A*A*A)',\n",
        "                  'd(A@A)*d(A@d(A@A)@A)',\n",
        "                  '(A*A)@(A*A)@(A*A)',\n",
        "                  '((A@A)*(A@A))@(A*A)',\n",
        "                  'd(A@A@A)*d(A@A@A)',\n",
        "                  'd(A@A)*d(A@A@A@A)',\n",
        "                  'A@A@A@A@A@A'\n",
        "]\n",
        "\n",
        "functions5_str = [\n",
        "                  'A@A@A@A@A',\n",
        "                  '(A@A)*(A@A@A)',\n",
        "                  '(A@A)@(A*A*A)'\n",
        "]\n",
        "\n",
        "functions4_str = [\n",
        "                  'A@A@A@A',\n",
        "                  'd(A@A)*d(A@A)',\n",
        "                  '(A*A)@(A*A)'\n",
        "]\n",
        "\n",
        "functions3_str = [\n",
        "                  'A@A@A'\n",
        "]\n",
        "\n",
        "functions2_str = [\n",
        "                  'A@A'\n",
        "]\n",
        "\n",
        "functions8_disconnected_str = [\n",
        "    '(d(A@A@A)*d(A@A@A)).trace() * (A@A).trace()',\n",
        "    '(A@A@A@A@A@A).trace() * (A@A).trace()',\n",
        "    '((A*A)@(A*A)@(A*A)).trace() * (A@A).trace()',\n",
        "    '(d(A@A)*d(A@d(A@A)@A)).trace() * (A@A).trace()',\n",
        "    '(d(A@A)*d(A@A)*d(A@A)).trace() * (A@A).trace()',\n",
        "    '((A*A*A)@(A*A*A)).trace() * (A@A).trace()',\n",
        "    '(d(A@A)*d((A*A)@(A*A))).trace() * (A@A).trace()',\n",
        "    '((A*A*A)@(A@A@A)).trace() * (A@A).trace()',\n",
        "    '(((A@A)*(A@A))@(A*A)).trace() * (A@A).trace()',\n",
        "    '(d(A@A)*d(A@A@A@A)).trace() * (A@A).trace()',\n",
        "\n",
        "    '(A@A@A@A@A).trace() * (A@A@A).trace()',\n",
        "    '((A@A)*(A@A@A)).trace() * (A@A@A).trace()',\n",
        "    '((A@A)@(A*A*A)).trace() * (A@A@A).trace()',\n",
        "\n",
        "    '(A@A@A@A).trace() * (A@A@A@A).trace()',\n",
        "    '(A@A@A@A).trace() * (d(A@A)*d(A@A)).trace()',\n",
        "    '(A@A@A@A).trace() * ((A*A)@(A*A)).trace()',\n",
        "    '(d(A@A)*d(A@A)).trace() * (d(A@A)*d(A@A)).trace()',\n",
        "    '(d(A@A)*d(A@A)).trace() * ((A*A)@(A*A)).trace()',\n",
        "    '((A*A)@(A*A)).trace() * ((A*A)@(A*A)).trace()',\n",
        "\n",
        "    '(A@A@A@A).trace() * ((A@A).trace())**2',\n",
        "    '(d(A@A)*d(A@A)).trace() * ((A@A).trace())**2',\n",
        "    '((A*A)@(A*A)).trace() * ((A@A).trace())**2',\n",
        "\n",
        "    '(A@A@A).trace()**2 * (A@A).trace()',\n",
        "\n",
        "    '(A@A).trace()**4'\n",
        "]\n",
        "\n",
        "functions8 = {i: lambda A, f=f: eval(f, {'A': A, 'd': d}).trace() for i,f in functions8_str.items()}\n",
        "functions8_disconnected = [lambda A, f=f: eval(f, {'A': A, 'd': d}) for f in functions8_disconnected_str]\n",
        "functions7 = [lambda A, f=f: eval(f, {'A': A, 'd': d}).trace() for f in functions7_str]\n",
        "functions6 = [lambda A, f=f: eval(f, {'A': A, 'd': d}).trace() for f in functions6_str]\n",
        "functions5 = [lambda A, f=f: eval(f, {'A': A, 'd': d}).trace() for f in functions5_str]\n",
        "functions4 = [lambda A, f=f: eval(f, {'A': A, 'd': d}).trace() for f in functions4_str]\n",
        "functions3 = [lambda A, f=f: eval(f, {'A': A, 'd': d}).trace() for f in functions3_str]\n",
        "functions2 = [lambda A, f=f: eval(f, {'A': A, 'd': d}).trace() for f in functions2_str]"
      ],
      "metadata": {
        "id": "720hOZUx3hVZ"
      },
      "execution_count": 7,
      "outputs": []
    },
    {
      "cell_type": "code",
      "source": [
        "coefs4 = getCoefficientsForCycle(4, functions4)\n",
        "coefs4"
      ],
      "metadata": {
        "colab": {
          "base_uri": "https://localhost:8080/",
          "height": 136
        },
        "id": "Zq4Ns9pJgzvq",
        "outputId": "def1d411-33f1-4bc2-ca91-5e2e8596c8c1"
      },
      "execution_count": 8,
      "outputs": [
        {
          "output_type": "stream",
          "name": "stdout",
          "text": [
            "missing:  0\n"
          ]
        },
        {
          "output_type": "execute_result",
          "data": {
            "text/plain": [
              "Matrix([\n",
              "[1, 0, 0,  1/8],\n",
              "[0, 1, 0, -1/4],\n",
              "[0, 0, 1,  1/8],\n",
              "[0, 0, 0,    0],\n",
              "[0, 0, 0,    0]])"
            ],
            "text/latex": "$\\displaystyle \\left[\\begin{matrix}1 & 0 & 0 & \\frac{1}{8}\\\\0 & 1 & 0 & - \\frac{1}{4}\\\\0 & 0 & 1 & \\frac{1}{8}\\\\0 & 0 & 0 & 0\\\\0 & 0 & 0 & 0\\end{matrix}\\right]$"
          },
          "metadata": {},
          "execution_count": 8
        }
      ]
    },
    {
      "cell_type": "code",
      "source": [
        "# coefs7 = getCoefficientsForCycle(7, functions7)\n",
        "# coefs7"
      ],
      "metadata": {
        "id": "L0WPVOAS17t7"
      },
      "execution_count": 9,
      "outputs": []
    },
    {
      "cell_type": "code",
      "source": [
        "getCoefficientsForCycle(5, functions5)"
      ],
      "metadata": {
        "id": "swntk4GE7CVY",
        "colab": {
          "base_uri": "https://localhost:8080/",
          "height": 136
        },
        "outputId": "bccdc85f-4f88-403f-b02a-420e78b56b4f"
      },
      "execution_count": 10,
      "outputs": [
        {
          "output_type": "stream",
          "name": "stdout",
          "text": [
            "missing:  0\n"
          ]
        },
        {
          "output_type": "execute_result",
          "data": {
            "text/plain": [
              "Matrix([\n",
              "[1, 0, 0, 1/10],\n",
              "[0, 1, 0, -1/2],\n",
              "[0, 0, 1,  1/2],\n",
              "[0, 0, 0,    0],\n",
              "[0, 0, 0,    0]])"
            ],
            "text/latex": "$\\displaystyle \\left[\\begin{matrix}1 & 0 & 0 & \\frac{1}{10}\\\\0 & 1 & 0 & - \\frac{1}{2}\\\\0 & 0 & 1 & \\frac{1}{2}\\\\0 & 0 & 0 & 0\\\\0 & 0 & 0 & 0\\end{matrix}\\right]$"
          },
          "metadata": {},
          "execution_count": 10
        }
      ]
    },
    {
      "cell_type": "code",
      "source": [
        "# reduced = getCoefficientsForCycle(6, functions6)"
      ],
      "metadata": {
        "id": "hZ7irs4Hmt3G"
      },
      "execution_count": 11,
      "outputs": []
    },
    {
      "cell_type": "code",
      "source": [
        "# reduced"
      ],
      "metadata": {
        "id": "ROcZneX8nfs8"
      },
      "execution_count": 12,
      "outputs": []
    },
    {
      "cell_type": "code",
      "source": [
        "# reduced[:5,:].col_join(reduced)"
      ],
      "metadata": {
        "id": "ePPmvBOkqIk3"
      },
      "execution_count": 13,
      "outputs": []
    },
    {
      "cell_type": "code",
      "source": [
        "# double_c6 = np.pad(c6, [(5,0),(5,0)], constant_values=0) + np.pad(c6, [(0,5),(0,5)], constant_values=0)\n",
        "# # double_c6[0,6] = double_c6[6,0] = 1\n",
        "# # double_c6\n",
        "# drawGraphFromNumpy(double_c6)"
      ],
      "metadata": {
        "id": "Sq_-lijx-osm"
      },
      "execution_count": 14,
      "outputs": []
    },
    {
      "cell_type": "code",
      "source": [
        "entangled_cycles6 = np.array([[0,1,1,1,0,1],[1,0,1,0,1,1],[1,1,0,1,1,0],[1,0,1,0,1,1],[0,1,1,1,0,1],[1,1,0,1,1,0]])\n",
        "G = getGraphFromNumpy(entangled_cycles6)\n",
        "G.engine = 'sfdp'\n",
        "G"
      ],
      "metadata": {
        "colab": {
          "base_uri": "https://localhost:8080/",
          "height": 500
        },
        "id": "hcPCMXbyLT1v",
        "outputId": "9b80b875-88a1-46f4-c39c-ecb4cd4324bb"
      },
      "execution_count": 15,
      "outputs": [
        {
          "output_type": "execute_result",
          "data": {
            "text/plain": [
              "<graphviz.dot.Graph at 0x7fda1a0e9710>"
            ],
            "image/svg+xml": "<?xml version=\"1.0\" encoding=\"UTF-8\" standalone=\"no\"?>\n<!DOCTYPE svg PUBLIC \"-//W3C//DTD SVG 1.1//EN\"\n \"http://www.w3.org/Graphics/SVG/1.1/DTD/svg11.dtd\">\n<!-- Generated by graphviz version 2.40.1 (20161225.0304)\n -->\n<!-- Title: %3 Pages: 1 -->\n<svg width=\"378pt\" height=\"359pt\"\n viewBox=\"0.00 0.00 377.79 359.26\" xmlns=\"http://www.w3.org/2000/svg\" xmlns:xlink=\"http://www.w3.org/1999/xlink\">\n<g id=\"graph0\" class=\"graph\" transform=\"scale(1 1) rotate(0) translate(4 355.2565)\">\n<title>%3</title>\n<polygon fill=\"#ffffff\" stroke=\"transparent\" points=\"-4,4 -4,-355.2565 373.787,-355.2565 373.787,4 -4,4\"/>\n<!-- 6 -->\n<g id=\"node1\" class=\"node\">\n<title>6</title>\n<ellipse fill=\"none\" stroke=\"#000000\" cx=\"142.1015\" cy=\"-333.2565\" rx=\"27\" ry=\"18\"/>\n<text text-anchor=\"middle\" x=\"142.1015\" y=\"-329.5565\" font-family=\"Times,serif\" font-size=\"14.00\" fill=\"#000000\">6</text>\n</g>\n<!-- 5 -->\n<g id=\"node2\" class=\"node\">\n<title>5</title>\n<ellipse fill=\"none\" stroke=\"#000000\" cx=\"27\" cy=\"-217.1396\" rx=\"27\" ry=\"18\"/>\n<text text-anchor=\"middle\" x=\"27\" y=\"-213.4396\" font-family=\"Times,serif\" font-size=\"14.00\" fill=\"#000000\">5</text>\n</g>\n<!-- 6&#45;&#45;5 -->\n<g id=\"edge1\" class=\"edge\">\n<title>6&#45;&#45;5</title>\n<path fill=\"none\" stroke=\"#000000\" d=\"M127.054,-318.0762C104.9949,-295.8225 64.1124,-254.5794 42.0512,-232.3235\"/>\n</g>\n<!-- 4 -->\n<g id=\"node3\" class=\"node\">\n<title>4</title>\n<ellipse fill=\"none\" stroke=\"#000000\" cx=\"69.7348\" cy=\"-59.5634\" rx=\"27\" ry=\"18\"/>\n<text text-anchor=\"middle\" x=\"69.7348\" y=\"-55.8634\" font-family=\"Times,serif\" font-size=\"14.00\" fill=\"#000000\">4</text>\n</g>\n<!-- 6&#45;&#45;4 -->\n<g id=\"edge2\" class=\"edge\">\n<title>6&#45;&#45;4</title>\n<path fill=\"none\" stroke=\"#000000\" d=\"M137.3533,-315.2987C124.2409,-265.7072 87.6337,-127.2577 74.5004,-77.5873\"/>\n</g>\n<!-- 2 -->\n<g id=\"node4\" class=\"node\">\n<title>2</title>\n<ellipse fill=\"none\" stroke=\"#000000\" cx=\"299.8238\" cy=\"-291.2865\" rx=\"27\" ry=\"18\"/>\n<text text-anchor=\"middle\" x=\"299.8238\" y=\"-287.5865\" font-family=\"Times,serif\" font-size=\"14.00\" fill=\"#000000\">2</text>\n</g>\n<!-- 6&#45;&#45;2 -->\n<g id=\"edge3\" class=\"edge\">\n<title>6&#45;&#45;2</title>\n<path fill=\"none\" stroke=\"#000000\" d=\"M167.4423,-326.5133C196.875,-318.6812 245.14,-305.8379 274.5458,-298.0129\"/>\n</g>\n<!-- 1 -->\n<g id=\"node5\" class=\"node\">\n<title>1</title>\n<ellipse fill=\"none\" stroke=\"#000000\" cx=\"342.787\" cy=\"-134.0976\" rx=\"27\" ry=\"18\"/>\n<text text-anchor=\"middle\" x=\"342.787\" y=\"-130.3976\" font-family=\"Times,serif\" font-size=\"14.00\" fill=\"#000000\">1</text>\n</g>\n<!-- 6&#45;&#45;1 -->\n<g id=\"edge4\" class=\"edge\">\n<title>6&#45;&#45;1</title>\n<path fill=\"none\" stroke=\"#000000\" d=\"M157.1855,-318.2872C194.3771,-281.3786 290.1534,-186.3309 327.528,-149.2406\"/>\n</g>\n<!-- 5&#45;&#45;4 -->\n<g id=\"edge5\" class=\"edge\">\n<title>5&#45;&#45;4</title>\n<path fill=\"none\" stroke=\"#000000\" d=\"M31.8192,-199.3699C40.0267,-169.1061 56.6276,-107.8937 64.8677,-77.5099\"/>\n</g>\n<!-- 5&#45;&#45;2 -->\n<g id=\"edge7\" class=\"edge\">\n<title>5&#45;&#45;2</title>\n<path fill=\"none\" stroke=\"#000000\" d=\"M52.1776,-223.9822C104.1516,-238.1075 222.7851,-270.3492 274.707,-284.4604\"/>\n</g>\n<!-- 3 -->\n<g id=\"node6\" class=\"node\">\n<title>3</title>\n<ellipse fill=\"none\" stroke=\"#000000\" cx=\"228.0426\" cy=\"-18\" rx=\"27\" ry=\"18\"/>\n<text text-anchor=\"middle\" x=\"228.0426\" y=\"-14.3\" font-family=\"Times,serif\" font-size=\"14.00\" fill=\"#000000\">3</text>\n</g>\n<!-- 5&#45;&#45;3 -->\n<g id=\"edge6\" class=\"edge\">\n<title>5&#45;&#45;3</title>\n<path fill=\"none\" stroke=\"#000000\" d=\"M42.1109,-202.1717C79.3686,-165.2667 175.3153,-70.2282 212.7564,-33.1415\"/>\n</g>\n<!-- 4&#45;&#45;1 -->\n<g id=\"edge9\" class=\"edge\">\n<title>4&#45;&#45;1</title>\n<path fill=\"none\" stroke=\"#000000\" d=\"M94.9334,-66.4418C146.951,-80.6409 265.6838,-113.051 317.6493,-127.2359\"/>\n</g>\n<!-- 4&#45;&#45;3 -->\n<g id=\"edge8\" class=\"edge\">\n<title>4&#45;&#45;3</title>\n<path fill=\"none\" stroke=\"#000000\" d=\"M95.1697,-52.8855C124.7116,-45.1293 173.1558,-32.4104 202.6708,-24.6613\"/>\n</g>\n<!-- 2&#45;&#45;1 -->\n<g id=\"edge12\" class=\"edge\">\n<title>2&#45;&#45;1</title>\n<path fill=\"none\" stroke=\"#000000\" d=\"M304.6687,-273.5605C312.9201,-243.3711 329.6097,-182.3092 337.8939,-152\"/>\n</g>\n<!-- 3&#45;&#45;2 -->\n<g id=\"edge10\" class=\"edge\">\n<title>3&#45;&#45;2</title>\n<path fill=\"none\" stroke=\"#000000\" d=\"M232.7524,-35.9311C245.7587,-85.4489 282.0697,-223.6927 295.0967,-273.2894\"/>\n</g>\n<!-- 3&#45;&#45;1 -->\n<g id=\"edge11\" class=\"edge\">\n<title>3&#45;&#45;1</title>\n<path fill=\"none\" stroke=\"#000000\" d=\"M243.0434,-33.1777C265.0341,-55.4278 305.7897,-96.664 327.7825,-118.9162\"/>\n</g>\n</g>\n</svg>\n"
          },
          "metadata": {},
          "execution_count": 15
        }
      ]
    },
    {
      "cell_type": "code",
      "source": [
        "c6 = cycle(6)\n",
        "\n",
        "basis6_7 = np.array([[0,1,1,1],[1,0,1,0],[1,1,0,1],[1,0,1,0]])\n",
        "# G = getGraphFromNumpy(basis6_7)\n",
        "# G.engine = 'sfdp'\n",
        "# G\n",
        "\n",
        "basis6_9 = np.array([[0,1,1,0,1],[1,0,0,0,0],[1,0,0,1,0],[0,0,1,0,1],[1,0,0,1,0]])\n",
        "\n",
        "def combine(a, b, disconnected=False):\n",
        "    offset = 0 if disconnected else 1\n",
        "    return np.pad(a, [(0,b.shape[0]-offset),(0,b.shape[1]-offset)], constant_values=0) + np.pad(b, [(a.shape[0]-offset,0),(a.shape[0]-offset,0)], constant_values=0)\n",
        "\n",
        "G = getGraphFromNumpy(combine(c6, basis6_9))\n",
        "G.engine = 'sfdp'\n",
        "G"
      ],
      "metadata": {
        "colab": {
          "base_uri": "https://localhost:8080/",
          "height": 395
        },
        "id": "eVYGhZfDPOxP",
        "outputId": "d042d4fd-8537-4f61-a238-2ed06fa3679f"
      },
      "execution_count": 16,
      "outputs": [
        {
          "output_type": "execute_result",
          "data": {
            "text/plain": [
              "<graphviz.dot.Graph at 0x7fda1a10cad0>"
            ],
            "image/svg+xml": "<?xml version=\"1.0\" encoding=\"UTF-8\" standalone=\"no\"?>\n<!DOCTYPE svg PUBLIC \"-//W3C//DTD SVG 1.1//EN\"\n \"http://www.w3.org/Graphics/SVG/1.1/DTD/svg11.dtd\">\n<!-- Generated by graphviz version 2.40.1 (20161225.0304)\n -->\n<!-- Title: %3 Pages: 1 -->\n<svg width=\"642pt\" height=\"280pt\"\n viewBox=\"0.00 0.00 641.58 279.88\" xmlns=\"http://www.w3.org/2000/svg\" xmlns:xlink=\"http://www.w3.org/1999/xlink\">\n<g id=\"graph0\" class=\"graph\" transform=\"scale(1 1) rotate(0) translate(4 275.8767)\">\n<title>%3</title>\n<polygon fill=\"#ffffff\" stroke=\"transparent\" points=\"-4,4 -4,-275.8767 637.5803,-275.8767 637.5803,4 -4,4\"/>\n<!-- 10 -->\n<g id=\"node1\" class=\"node\">\n<title>10</title>\n<ellipse fill=\"none\" stroke=\"#000000\" cx=\"499.176\" cy=\"-47.8439\" rx=\"27\" ry=\"18\"/>\n<text text-anchor=\"middle\" x=\"499.176\" y=\"-44.1439\" font-family=\"Times,serif\" font-size=\"14.00\" fill=\"#000000\">10</text>\n</g>\n<!-- 9 -->\n<g id=\"node2\" class=\"node\">\n<title>9</title>\n<ellipse fill=\"none\" stroke=\"#000000\" cx=\"606.5803\" cy=\"-62.7351\" rx=\"27\" ry=\"18\"/>\n<text text-anchor=\"middle\" x=\"606.5803\" y=\"-59.0351\" font-family=\"Times,serif\" font-size=\"14.00\" fill=\"#000000\">9</text>\n</g>\n<!-- 10&#45;&#45;9 -->\n<g id=\"edge1\" class=\"edge\">\n<title>10&#45;&#45;9</title>\n<path fill=\"none\" stroke=\"#000000\" d=\"M525.7254,-51.5249C542.2493,-53.8159 563.4276,-56.7522 579.9641,-59.0449\"/>\n</g>\n<!-- 6 -->\n<g id=\"node3\" class=\"node\">\n<title>6</title>\n<ellipse fill=\"none\" stroke=\"#000000\" cx=\"382.0981\" cy=\"-130.3976\" rx=\"27\" ry=\"18\"/>\n<text text-anchor=\"middle\" x=\"382.0981\" y=\"-126.6976\" font-family=\"Times,serif\" font-size=\"14.00\" fill=\"#000000\">6</text>\n</g>\n<!-- 10&#45;&#45;6 -->\n<g id=\"edge2\" class=\"edge\">\n<title>10&#45;&#45;6</title>\n<path fill=\"none\" stroke=\"#000000\" d=\"M480.6246,-60.9248C458.831,-76.2919 422.8733,-101.6463 400.9503,-117.1046\"/>\n</g>\n<!-- 8 -->\n<g id=\"node4\" class=\"node\">\n<title>8</title>\n<ellipse fill=\"none\" stroke=\"#000000\" cx=\"526.529\" cy=\"-133.1041\" rx=\"27\" ry=\"18\"/>\n<text text-anchor=\"middle\" x=\"526.529\" y=\"-129.4041\" font-family=\"Times,serif\" font-size=\"14.00\" fill=\"#000000\">8</text>\n</g>\n<!-- 9&#45;&#45;8 -->\n<g id=\"edge3\" class=\"edge\">\n<title>9&#45;&#45;8</title>\n<path fill=\"none\" stroke=\"#000000\" d=\"M589.9937,-77.3156C576.2549,-89.3927 556.8274,-106.4704 543.0945,-118.5423\"/>\n</g>\n<!-- 5 -->\n<g id=\"node6\" class=\"node\">\n<title>5</title>\n<ellipse fill=\"none\" stroke=\"#000000\" cx=\"235.6786\" cy=\"-189.856\" rx=\"27\" ry=\"18\"/>\n<text text-anchor=\"middle\" x=\"235.6786\" y=\"-186.156\" font-family=\"Times,serif\" font-size=\"14.00\" fill=\"#000000\">5</text>\n</g>\n<!-- 6&#45;&#45;5 -->\n<g id=\"edge6\" class=\"edge\">\n<title>6&#45;&#45;5</title>\n<path fill=\"none\" stroke=\"#000000\" d=\"M358.8975,-139.819C331.4808,-150.9524 286.1399,-169.3646 258.7706,-180.4787\"/>\n</g>\n<!-- 1 -->\n<g id=\"node7\" class=\"node\">\n<title>1</title>\n<ellipse fill=\"none\" stroke=\"#000000\" cx=\"251.9529\" cy=\"-42.4342\" rx=\"27\" ry=\"18\"/>\n<text text-anchor=\"middle\" x=\"251.9529\" y=\"-38.7342\" font-family=\"Times,serif\" font-size=\"14.00\" fill=\"#000000\">1</text>\n</g>\n<!-- 6&#45;&#45;1 -->\n<g id=\"edge7\" class=\"edge\">\n<title>6&#45;&#45;1</title>\n<path fill=\"none\" stroke=\"#000000\" d=\"M362.8947,-117.4183C338.2886,-100.7874 295.8791,-72.1234 271.235,-55.4668\"/>\n</g>\n<!-- 8&#45;&#45;6 -->\n<g id=\"edge4\" class=\"edge\">\n<title>8&#45;&#45;6</title>\n<path fill=\"none\" stroke=\"#000000\" d=\"M499.3627,-132.5951C473.5407,-132.1112 434.9243,-131.3875 409.1426,-130.9044\"/>\n</g>\n<!-- 7 -->\n<g id=\"node5\" class=\"node\">\n<title>7</title>\n<ellipse fill=\"none\" stroke=\"#000000\" cx=\"420.5649\" cy=\"-253.8767\" rx=\"27\" ry=\"18\"/>\n<text text-anchor=\"middle\" x=\"420.5649\" y=\"-250.1767\" font-family=\"Times,serif\" font-size=\"14.00\" fill=\"#000000\">7</text>\n</g>\n<!-- 7&#45;&#45;6 -->\n<g id=\"edge5\" class=\"edge\">\n<title>7&#45;&#45;6</title>\n<path fill=\"none\" stroke=\"#000000\" d=\"M415.0535,-236.1852C407.741,-212.7118 394.9066,-171.5132 387.5992,-148.0564\"/>\n</g>\n<!-- 4 -->\n<g id=\"node8\" class=\"node\">\n<title>4</title>\n<ellipse fill=\"none\" stroke=\"#000000\" cx=\"96.553\" cy=\"-187.4881\" rx=\"27\" ry=\"18\"/>\n<text text-anchor=\"middle\" x=\"96.553\" y=\"-183.7881\" font-family=\"Times,serif\" font-size=\"14.00\" fill=\"#000000\">4</text>\n</g>\n<!-- 5&#45;&#45;4 -->\n<g id=\"edge8\" class=\"edge\">\n<title>5&#45;&#45;4</title>\n<path fill=\"none\" stroke=\"#000000\" d=\"M208.5235,-189.3938C184.0092,-188.9766 148.1326,-188.366 123.6396,-187.9491\"/>\n</g>\n<!-- 3 -->\n<g id=\"node9\" class=\"node\">\n<title>3</title>\n<ellipse fill=\"none\" stroke=\"#000000\" cx=\"27\" cy=\"-94.5731\" rx=\"27\" ry=\"18\"/>\n<text text-anchor=\"middle\" x=\"27\" y=\"-90.8731\" font-family=\"Times,serif\" font-size=\"14.00\" fill=\"#000000\">3</text>\n</g>\n<!-- 4&#45;&#45;3 -->\n<g id=\"edge9\" class=\"edge\">\n<title>4&#45;&#45;3</title>\n<path fill=\"none\" stroke=\"#000000\" d=\"M84.4378,-171.3036C71.7496,-154.3536 51.9331,-127.881 39.2097,-110.8839\"/>\n</g>\n<!-- 2 -->\n<g id=\"node10\" class=\"node\">\n<title>2</title>\n<ellipse fill=\"none\" stroke=\"#000000\" cx=\"114.891\" cy=\"-18\" rx=\"27\" ry=\"18\"/>\n<text text-anchor=\"middle\" x=\"114.891\" y=\"-14.3\" font-family=\"Times,serif\" font-size=\"14.00\" fill=\"#000000\">2</text>\n</g>\n<!-- 3&#45;&#45;2 -->\n<g id=\"edge10\" class=\"edge\">\n<title>3&#45;&#45;2</title>\n<path fill=\"none\" stroke=\"#000000\" d=\"M43.5316,-80.1703C59.2451,-66.4802 82.7445,-46.0069 98.4335,-32.3382\"/>\n</g>\n<!-- 2&#45;&#45;1 -->\n<g id=\"edge11\" class=\"edge\">\n<title>2&#45;&#45;1</title>\n<path fill=\"none\" stroke=\"#000000\" d=\"M140.9939,-22.6534C165.227,-26.9735 201.1293,-33.3738 225.4803,-37.7149\"/>\n</g>\n</g>\n</svg>\n"
          },
          "metadata": {},
          "execution_count": 16
        }
      ]
    },
    {
      "cell_type": "code",
      "source": [
        "# system = np.array(\n",
        "#     [[f(K(n + i)) for f in functions6] for i in range(100)] #+ \n",
        "#     # [[f(augmentGraph(c6, i)) for f in functions6] for i in range(3)] + \n",
        "#     # [[f(combine(c6, basis6_7)) for f in functions6]] + \n",
        "#     # [[f(combine(c6, basis6_9)) for f in functions6]]\n",
        "#     # [[f(double_c6) for f in functions6]]\n",
        "#     # [[f(augmentGraph(c6, 2 + i, method='limb')) for f in functions6] for i in range(2)]\n",
        "# )\n",
        "# augment = np.array([cyclesInKn(n, n + i) for i in range(100)])\n",
        "# pivots = rref(system, augment)[1]\n",
        "# pivots"
      ],
      "metadata": {
        "id": "mVAPKsyWJVAF"
      },
      "execution_count": 17,
      "outputs": []
    },
    {
      "cell_type": "code",
      "source": [
        "system = np.array(\n",
        "    # [[f(K(n + i)) for f in functions6] for i in range(5)] #+ \n",
        "    [[f(augmentGraph(c6, i)) for f in functions6] for i in range(10)] #+ \n",
        "    # [[f(combine(c6, basis6_7)) for f in functions6]] + \n",
        "    # [[f(combine(c6, basis6_9)) for f in functions6]]\n",
        "    # [[f(double_c6) for f in functions6]]\n",
        "    # [[f(augmentGraph(c6, 2 + i, method='limb')) for f in functions6] for i in range(2)]\n",
        ")\n",
        "augment = np.array([1]*10)\n",
        "pivots = rref(system, augment)[1]\n",
        "pivots"
      ],
      "metadata": {
        "id": "DmbazURFJ_Xb",
        "colab": {
          "base_uri": "https://localhost:8080/"
        },
        "outputId": "cac9e5fc-107e-4313-ef2b-9f4f36606058"
      },
      "execution_count": 18,
      "outputs": [
        {
          "output_type": "execute_result",
          "data": {
            "text/plain": [
              "(1, 3, 4, 5)"
            ]
          },
          "metadata": {},
          "execution_count": 18
        }
      ]
    },
    {
      "cell_type": "code",
      "source": [
        "n = 6\n",
        "system = np.array(\n",
        "    [[f(K(n + i)) for f in functions6] for i in range(100)] + \n",
        "    [[f(augmentGraph(c6, i)) for f in functions6] for i in range(10)] #+ \n",
        "    # [[f(combine(c6, basis6_7)) for f in functions6]] + \n",
        "    # [[f(combine(c6, basis6_9)) for f in functions6]]\n",
        "    # [[f(double_c6) for f in functions6]]\n",
        "    # [[f(augmentGraph(c6, 2 + i, method='limb')) for f in functions6] for i in range(2)]\n",
        ")\n",
        "augment = np.array([cyclesInKn(n, n + i) for i in range(100)] + [1]*10)\n",
        "pivots = rref(system, augment)[1]\n",
        "pivots"
      ],
      "metadata": {
        "id": "2fqBALXFK6hi",
        "colab": {
          "base_uri": "https://localhost:8080/"
        },
        "outputId": "6439c5c3-56f4-4f15-c7ed-6ba150c42c15"
      },
      "execution_count": 19,
      "outputs": [
        {
          "output_type": "execute_result",
          "data": {
            "text/plain": [
              "(0, 1, 2, 3, 4, 5, 6, 7)"
            ]
          },
          "metadata": {},
          "execution_count": 19
        }
      ]
    },
    {
      "cell_type": "code",
      "source": [
        "n = 6\n",
        "c6 = cycle(6)\n",
        "# augmented = np.pad(c6, [(0,6),(0,6)], constant_values=0)\n",
        "# augmented[0,-1] = augmented[-1,0] = 1\n",
        "# augmented[1,-2] = augmented[-2,1] = 1\n",
        "# augmented[2,-3] = augmented[-3,2] = 1\n",
        "# augmented[3,-4] = augmented[-4,3] = 1\n",
        "# augmented[4,-5] = augmented[-5,4] = 1\n",
        "# augmented[5,-6] = augmented[-6,5] = 1\n",
        "c6_test1 = np.copy(c6)\n",
        "c6_test1[0,2] = c6_test1[2,0] = 1\n",
        "system = np.array(\n",
        "    [[f(K(n + i)) for f in functions6] for i in range(5)] + \n",
        "    [[f(augmentGraph(c6, i)) for f in functions6] for i in range(3)] + \n",
        "    [[f(combine(c6, basis6_7)) for f in functions6]] + \n",
        "    [[f(combine(c6, basis6_9)) for f in functions6]]\n",
        "    # [[f(double_c6) for f in functions6]]\n",
        "    # [[f(augmentGraph(c6, 2 + i, method='limb')) for f in functions6] for i in range(2)]\n",
        ")\n",
        "augment = np.array([cyclesInKn(n, n + i) for i in range(5)] + [1]*3 + [1]*2)\n",
        "reduced = rref(system, augment)[0]\n",
        "coefs6 = reduced[:,-1]\n",
        "reduced\n",
        "# coefs6"
      ],
      "metadata": {
        "id": "dK9-5lIZsErn",
        "colab": {
          "base_uri": "https://localhost:8080/",
          "height": 221
        },
        "outputId": "75ce12bd-de3e-48de-a114-e5d3a42698c5"
      },
      "execution_count": 20,
      "outputs": [
        {
          "output_type": "execute_result",
          "data": {
            "text/plain": [
              "Matrix([\n",
              "[1, 0, 0, 0, 0, 0, 0, 0, 0, 0, -1/4],\n",
              "[0, 1, 0, 0, 0, 0, 0, 0, 0, 0, 1/12],\n",
              "[0, 0, 1, 0, 0, 0, 0, 0, 0, 0, -1/3],\n",
              "[0, 0, 0, 1, 0, 0, 0, 0, 0, 0,  1/4],\n",
              "[0, 0, 0, 0, 1, 0, 0, 0, 0, 0,  1/3],\n",
              "[0, 0, 0, 0, 0, 1, 0, 0, 0, 0,  1/3],\n",
              "[0, 0, 0, 0, 0, 0, 1, 0, 0, 0,   -1],\n",
              "[0, 0, 0, 0, 0, 0, 0, 1, 0, 0,  1/2],\n",
              "[0, 0, 0, 0, 0, 0, 0, 0, 1, 0,  3/4],\n",
              "[0, 0, 0, 0, 0, 0, 0, 0, 0, 1, -1/2]])"
            ],
            "text/latex": "$\\displaystyle \\left[\\begin{array}{ccccccccccc}1 & 0 & 0 & 0 & 0 & 0 & 0 & 0 & 0 & 0 & - \\frac{1}{4}\\\\0 & 1 & 0 & 0 & 0 & 0 & 0 & 0 & 0 & 0 & \\frac{1}{12}\\\\0 & 0 & 1 & 0 & 0 & 0 & 0 & 0 & 0 & 0 & - \\frac{1}{3}\\\\0 & 0 & 0 & 1 & 0 & 0 & 0 & 0 & 0 & 0 & \\frac{1}{4}\\\\0 & 0 & 0 & 0 & 1 & 0 & 0 & 0 & 0 & 0 & \\frac{1}{3}\\\\0 & 0 & 0 & 0 & 0 & 1 & 0 & 0 & 0 & 0 & \\frac{1}{3}\\\\0 & 0 & 0 & 0 & 0 & 0 & 1 & 0 & 0 & 0 & -1\\\\0 & 0 & 0 & 0 & 0 & 0 & 0 & 1 & 0 & 0 & \\frac{1}{2}\\\\0 & 0 & 0 & 0 & 0 & 0 & 0 & 0 & 1 & 0 & \\frac{3}{4}\\\\0 & 0 & 0 & 0 & 0 & 0 & 0 & 0 & 0 & 1 & - \\frac{1}{2}\\end{array}\\right]$"
          },
          "metadata": {},
          "execution_count": 20
        }
      ]
    },
    {
      "cell_type": "code",
      "source": [
        "paperCoefs6 = [sp.Rational(*c) for c in [(1,3), (1,2), (-1,), (1,3), (1,4), (-1,3), (3,4), (-1,4), (-1,2), (1,12)]]\n",
        "paperCoefs6"
      ],
      "metadata": {
        "id": "l7hJuroaDaCD",
        "colab": {
          "base_uri": "https://localhost:8080/"
        },
        "outputId": "21298f6b-cddf-4870-ce7f-b966ae6d3d00"
      },
      "execution_count": 21,
      "outputs": [
        {
          "output_type": "execute_result",
          "data": {
            "text/plain": [
              "[1/3, 1/2, -1, 1/3, 1/4, -1/3, 3/4, -1/4, -1/2, 1/12]"
            ]
          },
          "metadata": {},
          "execution_count": 21
        }
      ]
    },
    {
      "cell_type": "code",
      "source": [
        "np.array([f(c6) for f in functions6])"
      ],
      "metadata": {
        "id": "YLMlTSm_Eh86",
        "colab": {
          "base_uri": "https://localhost:8080/"
        },
        "outputId": "117b2d71-83cf-4fc5-9192-410fc5f827f7"
      },
      "execution_count": 22,
      "outputs": [
        {
          "output_type": "execute_result",
          "data": {
            "text/plain": [
              "array([  0., 132.,   0.,  48.,  48.,  12.,  24.,  36.,   0.,  72.])"
            ]
          },
          "metadata": {},
          "execution_count": 22
        }
      ]
    },
    {
      "cell_type": "code",
      "source": [
        "np.dot(np.array([sp.Rational(f(c6)) for f in functions6]), np.array(paperCoefs6))"
      ],
      "metadata": {
        "id": "LWD3ElJDGTcg",
        "colab": {
          "base_uri": "https://localhost:8080/",
          "height": 37
        },
        "outputId": "2225431b-4f62-4b88-f666-047b11a2444c"
      },
      "execution_count": 23,
      "outputs": [
        {
          "output_type": "execute_result",
          "data": {
            "text/plain": [
              "105"
            ],
            "text/latex": "$\\displaystyle 105$"
          },
          "metadata": {},
          "execution_count": 23
        }
      ]
    },
    {
      "cell_type": "code",
      "source": [
        "np.dot(np.array([sp.Rational(f(c6)) for f in functions6]), np.array(coefs6).flatten())"
      ],
      "metadata": {
        "id": "xfoc7hk7EyZJ",
        "colab": {
          "base_uri": "https://localhost:8080/",
          "height": 37
        },
        "outputId": "c13ed185-974b-4be1-998a-c5347987177a"
      },
      "execution_count": 24,
      "outputs": [
        {
          "output_type": "execute_result",
          "data": {
            "text/plain": [
              "1"
            ],
            "text/latex": "$\\displaystyle 1$"
          },
          "metadata": {},
          "execution_count": 24
        }
      ]
    },
    {
      "cell_type": "code",
      "source": [
        "np.dot(np.array([f(K(7)) for f in functions6]), np.array(paperCoefs6))"
      ],
      "metadata": {
        "id": "C-h3i9FvE4Hl",
        "colab": {
          "base_uri": "https://localhost:8080/",
          "height": 37
        },
        "outputId": "495a4dc4-4f71-4d4e-847e-59d76d364b45"
      },
      "execution_count": 25,
      "outputs": [
        {
          "output_type": "execute_result",
          "data": {
            "text/plain": [
              "26078.5000000000"
            ],
            "text/latex": "$\\displaystyle 26078.5$"
          },
          "metadata": {},
          "execution_count": 25
        }
      ]
    },
    {
      "cell_type": "code",
      "source": [
        "np.dot(np.array([f(K(7)) for f in functions6]), np.array(coefs6).flatten())"
      ],
      "metadata": {
        "id": "SxWOdsq0F51V",
        "colab": {
          "base_uri": "https://localhost:8080/",
          "height": 37
        },
        "outputId": "b8ca22d1-355a-490e-94a8-4bd788f8d631"
      },
      "execution_count": 26,
      "outputs": [
        {
          "output_type": "execute_result",
          "data": {
            "text/plain": [
              "420.000000000000"
            ],
            "text/latex": "$\\displaystyle 420.0$"
          },
          "metadata": {},
          "execution_count": 26
        }
      ]
    },
    {
      "cell_type": "code",
      "source": [
        "cyclesInKn(6,7)"
      ],
      "metadata": {
        "id": "X_CXAfUyGCf6",
        "colab": {
          "base_uri": "https://localhost:8080/"
        },
        "outputId": "30fc0006-42c4-4ee7-c17c-2656b28121e0"
      },
      "execution_count": 27,
      "outputs": [
        {
          "output_type": "execute_result",
          "data": {
            "text/plain": [
              "420.0"
            ]
          },
          "metadata": {},
          "execution_count": 27
        }
      ]
    },
    {
      "cell_type": "code",
      "source": [
        "experiment_coefs_6 = [sp.Rational(*c) for c in [(1,3), (1,2), (-1,), (1,3), (1,4), (-8,39), (-5,52), (1,52), (-1,2), (1,12)]]\n",
        "experiment_func_6 = functions6[:5] + [lambda A: (A@A@A).trace()] + functions6[6:]\n",
        "traces = [sp.Rational(f(K(6))) for f in experiment_func_6]\n",
        "np.dot(np.array(traces), np.array(experiment_coefs_6))"
      ],
      "metadata": {
        "colab": {
          "base_uri": "https://localhost:8080/",
          "height": 51
        },
        "id": "tL3cEnpQ3HAS",
        "outputId": "5e47c246-4dfc-44bb-91c1-d31ae6909a01"
      },
      "execution_count": 28,
      "outputs": [
        {
          "output_type": "execute_result",
          "data": {
            "text/plain": [
              "116065/13"
            ],
            "text/latex": "$\\displaystyle \\frac{116065}{13}$"
          },
          "metadata": {},
          "execution_count": 28
        }
      ]
    },
    {
      "cell_type": "code",
      "source": [
        "cyclesInKn(6,6)"
      ],
      "metadata": {
        "colab": {
          "base_uri": "https://localhost:8080/"
        },
        "id": "sK3Fjt0a6hPt",
        "outputId": "4019735c-0515-436e-ad09-62e63abf6810"
      },
      "execution_count": 29,
      "outputs": [
        {
          "output_type": "execute_result",
          "data": {
            "text/plain": [
              "60.0"
            ]
          },
          "metadata": {},
          "execution_count": 29
        }
      ]
    },
    {
      "cell_type": "code",
      "source": [
        "A = K(6)\n",
        "[f(A) for f in experiment_func_6]"
      ],
      "metadata": {
        "colab": {
          "base_uri": "https://localhost:8080/"
        },
        "id": "qzY-D7x7446Q",
        "outputId": "f374b464-6b7e-413b-d6c0-d7cd96b76a86"
      },
      "execution_count": 30,
      "outputs": [
        {
          "output_type": "execute_result",
          "data": {
            "text/plain": [
              "[2400.0, 15630.0, 120.0, 750.0, 750.0, 120.0, 150.0, 630.0, 480.0, 3150.0]"
            ]
          },
          "metadata": {},
          "execution_count": 30
        }
      ]
    },
    {
      "cell_type": "code",
      "source": [
        "[f(A) for f in functions6]"
      ],
      "metadata": {
        "colab": {
          "base_uri": "https://localhost:8080/"
        },
        "id": "d0XW1dxn5hg4",
        "outputId": "db2af564-11a2-41a5-b115-cf0a24cab835"
      },
      "execution_count": 31,
      "outputs": [
        {
          "output_type": "execute_result",
          "data": {
            "text/plain": [
              "[2400.0, 15630.0, 120.0, 750.0, 750.0, 30.0, 150.0, 630.0, 480.0, 3150.0]"
            ]
          },
          "metadata": {},
          "execution_count": 31
        }
      ]
    },
    {
      "cell_type": "code",
      "source": [
        "# n = 7\n",
        "# c7 = cycle(n)\n",
        "# system = np.array(\n",
        "#     [[f(K(n + i)) for f in functions7] for i in range(5)] + \n",
        "#     [[f(augmentGraph(c7, i)) for f in functions7] for i in range(10)] # + \n",
        "#     # [[f(augmentGraph(c7, 2, method='limb')) for f in functions7]]\n",
        "# )\n",
        "# augment = np.array([cyclesInKn(n, n + i) for i in range(5)] + [1]*10)\n",
        "# print(system, augment)\n",
        "# reduced = rref(system, augment)[0]\n",
        "# reduced\n",
        "# coefs7 = reduced[:,-1]\n",
        "# coefs7"
      ],
      "metadata": {
        "id": "8aZkkF0CGNGO"
      },
      "execution_count": 32,
      "outputs": []
    },
    {
      "cell_type": "code",
      "source": [
        "import random\n",
        "\n",
        "def get_random_graph_strings(num_vertices, num_edges, count=1):\n",
        "    lower_tri = num_vertices*(num_vertices-1)//2\n",
        "    base_graph = [1]*num_edges + [0]*(lower_tri - num_edges)\n",
        "    return [' '.join(map(str, random.sample(base_graph, len(base_graph)))) for i in range(count)]\n",
        "\n",
        "def weight_np_array(a, min=0):\n",
        "    r = np.tril(np.random.rand(*a.shape) + min, -1)\n",
        "    return a*(r + r.T)"
      ],
      "metadata": {
        "id": "MqElqtTpNc4b"
      },
      "execution_count": 33,
      "outputs": []
    },
    {
      "cell_type": "code",
      "source": [
        "# system = np.array([[f(K_rational(8+i)) for f in functions8.values()] for i in range(44)])\n",
        "# system = []\n",
        "# for i in range(60):\n",
        "#     rand_matrix = string_to_np_array(get_random_graph_strings(10,14)[0])\n",
        "#     rational = np.array([[sp.Rational(rand_matrix[row,col]) for col in range(rand_matrix.shape[1])] for row in range(rand_matrix.shape[0])])\n",
        "#     print(f'rational array created...')\n",
        "#     system.append([f(rational) for f in functions8.values()])\n",
        "#     print(f'equation {i+1} complete')\n",
        "\n",
        "# converted = sp.Matrix(*system.shape, lambda i,j: sp.Rational(system[i,j]))\n",
        "# # converted = sp.Matrix(*system.shape, lambda i,j: sp.Rational(system[i,j]))\n",
        "# converted.rref(pivots=True)"
      ],
      "metadata": {
        "id": "9Ad1mKI-MRLt"
      },
      "execution_count": 34,
      "outputs": []
    },
    {
      "cell_type": "code",
      "source": [
        "# converted = sp.Matrix(len(system), len(system[0]), lambda i,j: sp.Rational(system[i][j]))\n",
        "# reduced,pivots = converted.rref(pivots=True)"
      ],
      "metadata": {
        "id": "qpYOKFeusxdf"
      },
      "execution_count": 35,
      "outputs": []
    },
    {
      "cell_type": "code",
      "source": [
        "# np.savetxt(\"system8.csv\", system, delimiter=\",\")"
      ],
      "metadata": {
        "id": "2UPadTfkUD2O"
      },
      "execution_count": 36,
      "outputs": []
    },
    {
      "cell_type": "code",
      "source": [
        "K_rational(5)"
      ],
      "metadata": {
        "id": "3103T8XmWNQ2",
        "colab": {
          "base_uri": "https://localhost:8080/"
        },
        "outputId": "aedd9b1e-275b-42b2-d73d-a753d87bfb57"
      },
      "execution_count": 37,
      "outputs": [
        {
          "output_type": "execute_result",
          "data": {
            "text/plain": [
              "array([[0, 1, 1, 1, 1],\n",
              "       [1, 0, 1, 1, 1],\n",
              "       [1, 1, 0, 1, 1],\n",
              "       [1, 1, 1, 0, 1],\n",
              "       [1, 1, 1, 1, 0]], dtype=object)"
            ]
          },
          "metadata": {},
          "execution_count": 37
        }
      ]
    },
    {
      "cell_type": "code",
      "source": [
        "system_str = '''10880  0  0  14480  24352  0  42560  8272  0  9312  17088  16576  16064  17600  0  0  0  5168  5168  0  5168  9312  9312  3616  2064  3616  6720  11392  12928  5168  6208  6208  0  0  14496  0  13456  26432  0  0  0  0  0  \n",
        "1952  80  68  2940  4920  280  9028  1548  68  1832  3344  3216  3088  3664  12  40  40  852  996  12  1140  1688  1880  696  540  840  1392  2272  2784  852  1136  1328  12  40  2724  108  2620  5304  24  12  24  80  80  \n",
        "528  96  112  864  2128  480  5952  320  80  392  1152  1056  1024  1200  16  48  56  144  144  16  144  392  392  80  32  80  224  560  704  144  200  200  12  40  848  168  736  2464  40  20  40  128  144  \n",
        "512  0  0  1424  3360  0  8768  464  0  480  1472  1216  1216  1472  0  0  0  176  176  0  176  480  480  80  32  80  224  512  704  176  192  192  0  0  1184  0  1168  3392  0  0  0  0  0  \n",
        "368  0  0  632  1392  0  3200  264  0  304  768  704  688  800  0  0  0  128  128  0  128  304  304  72  32  72  176  384  480  128  160  160  0  0  608  0  560  1504  0  0  0  0  0  \n",
        "368  24  26  520  1016  96  2240  216  26  264  672  608  592  688  6  16  16  112  112  6  112  264  264  72  32  72  176  384  480  112  160  160  6  16  470  42  416  1152  12  6  12  32  32  \n",
        "256  0  0  288  576  0  1152  160  0  192  384  384  384  384  0  0  0  96  96  0  96  192  192  64  32  64  128  256  256  96  128  128  0  0  320  0  288  640  0  0  0  0  0  \n",
        "5312  0  0  10512  21024  0  42048  5264  0  5856  10560  10560  10560  11712  0  0  0  2640  2928  0  3216  5280  5856  1712  1048  1856  3424  5888  6848  2640  2944  3232  0  0  10528  0  10512  21056  0  0  0  0  0  \n",
        "5760  1152  1024  7568  14176  3584  30784  4112  1024  4864  9280  9152  9024  9728  288  640  640  2384  2528  288  2672  4672  4864  1712  1048  1856  3424  6144  6848  2384  3072  3264  288  640  8032  1696  7120  16192  576  288  576  1280  1280  \n",
        "151488  0  0  171792  192032  0  222272  150288  0  158560  173120  169024  169408  180416  0  0  0  133200  140400  0  147600  150880  157600  132144  131096  139344  149216  158272  170688  133200  140960  147680  0  0  169760  0  167696  193856  0  0  0  0  0  \n",
        "2368  0  0  3472  5152  0  9280  2064  0  2368  3904  3264  3328  3968  0  0  0  1360  1504  0  1648  2176  2272  1200  1048  1344  1888  2432  3264  1360  1600  1696  0  0  3232  0  2960  5568  0  0  0  0  0  \n",
        "2560  0  0  3472  5600  0  10816  2064  0  2496  4032  3776  3648  4224  0  0  0  1360  1504  0  1648  2304  2304  1200  1048  1344  1888  2688  3264  1360  1728  1728  0  0  3520  0  3024  6336  0  0  0  0  0  \n",
        "4192  0  0  6480  9984  0  16704  3664  0  3984  7040  6528  6336  7456  0  0  0  2256  2328  0  2400  3888  4032  1648  1048  1720  3040  4576  5824  2256  2544  2688  0  0  5920  0  5712  10496  0  0  0  0  0  \n",
        "4928  0  0  11408  14880  0  24640  4688  0  4992  11712  7616  7552  12032  0  0  0  2384  2528  0  2672  4800  4896  1712  1048  1856  4000  5120  10688  2384  2624  2720  0  0  7456  0  7184  15296  0  0  0  0  0  \n",
        "173248  9216  5120  212240  262688  22528  361536  169360  3840  186016  217408  213312  213312  233792  2176  2560  3584  135248  149648  1216  164048  170656  186016  133168  131096  147568  167264  189632  210112  135248  150880  166240  1152  2432  212768  9728  208144  272448  2560  1280  4480  7424  9472  \n",
        "3680  768  576  4560  8832  2560  21824  2512  448  3248  5888  5760  5632  6112  160  320  352  1488  1704  112  1920  2960  3008  1264  1048  1480  2272  3872  4288  1488  2128  2176  96  256  5152  1024  4176  10752  256  128  352  832  896  \n",
        "6112  768  704  12496  19328  3072  39232  5136  512  5776  13696  10496  10176  14496  160  320  416  2512  2728  112  2944  5488  5824  1776  1048  1992  4384  6880  11712  2512  3056  3392  96  288  9376  1152  8784  21120  256  128  352  896  1088  \n",
        "40128  0  0  45328  74272  0  132160  35472  0  44704  54592  54592  54592  54592  0  0  0  30544  30544  0  35152  40096  40096  26928  26264  29232  32864  40128  40128  28240  32864  32864  0  0  59168  0  49936  83520  0  0  0  0  0  \n",
        "86720  0  0  147728  211488  0  320576  86672  0  91296  147776  131392  131392  156992  0  0  0  53840  56144  0  58448  86688  91296  39728  26264  40880  68960  91328  125120  53840  56160  58464  0  0  131360  0  131344  211520  0  0  0  0  0  \n",
        "36032  6144  4672  53584  82272  17920  156288  31472  3904  36160  59008  52992  53120  62336  1248  2624  2816  19840  22000  1200  24544  33184  35680  16688  13656  18848  28128  38592  49856  19792  23520  25632  1056  2336  51840  7680  47920  90112  2688  1344  2784  6208  6592  \n",
        "851904  0  0  919312  1017376  0  1130560  850192  0  891680  921664  926272  930880  963136  0  0  0  786832  815632  0  850192  851360  885920  783792  781272  812592  846432  881856  914112  786512  816480  845280  0  0  936096  0  929168  1019712  0  0  0  0  0  \n",
        "19424  0  0  22800  32000  0  49280  18096  0  20816  24704  24704  24800  26144  0  0  0  14592  15816  0  17424  18848  19952  14064  13656  15288  17376  20384  21696  14544  16400  17216  0  0  25152  0  23344  34112  0  0  0  0  0  \n",
        "31712  0  0  52496  72448  0  107648  31024  0  34320  53376  46720  46304  58016  0  0  0  19712  21800  0  24272  31392  34416  16624  13656  18712  27744  35104  48832  19664  22096  24640  0  0  45888  0  45616  73280  0  0  0  0  0  \n",
        "786560  0  0  1310864  1573152  0  2097728  786512  0  786528  1310912  1048768  1048768  1310912  0  0  0  524336  524336  0  524336  786528  786528  393248  262160  393248  655424  786560  1179776  524336  524352  524352  0  0  1048736  0  1048720  1573184  0  0  0  0  0  \n",
        "33554560  0  0  33554576  33554720  0  33555008  33554512  0  33554528  33554624  33554624  33554624  33554624  0  0  0  33554480  33554480  0  33554480  33554528  33554528  33554464  33554448  33554464  33554496  33554560  33554560  33554480  33554496  33554496  0  0  33554592  0  33554576  33554752  0  0  0  0  0  \n",
        "3820672  0  0  4281488  4659488  0  5120576  3820624  0  3968096  4281536  4198592  4198592  4428992  0  0  0  3442736  3590192  0  3737648  3820640  3968096  3401248  3359760  3548704  3779136  3968128  4240000  3442736  3590208  3737664  0  0  4198560  0  4198544  4659520  0  0  0  0  0  \n",
        "248960  0  0  414864  497952  0  664128  248912  0  267360  414912  331968  331968  433344  0  0  0  165936  184368  0  202800  248928  267360  149024  132112  167456  232000  267392  397952  165936  184384  202816  0  0  331936  0  331920  497984  0  0  0  0  0  \n",
        "13952  0  0  27792  40736  0  70208  11856  0  12896  29888  23744  22208  31424  0  0  0  6192  6192  0  6192  12896  12896  4128  2064  4128  9792  15488  25728  6192  7232  7232  0  0  20640  0  19600  43328  0  0  0  0  0  \n",
        "20608  0  0  69776  82208  0  131648  20560  0  20576  69824  32960  32960  69824  0  0  0  8240  8240  0  8240  20576  20576  5152  2064  5152  17472  20608  66688  8240  8256  8256  0  0  32928  0  32912  82240  0  0  0  0  0  \n",
        "16512  0  0  32912  65824  0  131648  16464  0  16480  32960  32960  32960  32960  0  0  0  8240  8240  0  8240  16480  16480  4128  2064  4128  8256  16512  16512  8240  8256  8256  0  0  32928  0  32912  65856  0  0  0  0  0  \n",
        "195712  0  0  238736  293152  0  385600  185424  0  199776  249024  237760  235712  257216  0  0  0  149552  158768  0  167984  190560  196704  140832  132112  150048  176704  203904  230016  149552  163904  170048  0  0  233632  0  225424  303424  0  0  0  0  0  \n",
        "238720  0  0  337040  443680  0  591424  234576  0  255072  341184  332992  324800  373952  0  0  0  164912  183344  0  201776  236640  261216  148512  132112  166944  218176  271488  320640  164912  185408  209984  0  0  316576  0  320656  447808  0  0  0  0  0  \n",
        "273536  49152  36864  341136  497952  122880  860736  236624  36864  267360  378048  368832  368832  396480  12288  24576  24576  165936  184368  12288  202800  248928  267360  149024  132112  167456  219712  291968  324224  165936  196672  215104  12288  24576  356512  61440  331920  547136  24576  12288  24576  49152  49152  \n",
        "21632  6144  5632  31888  58656  19456  132672  13904  5632  16480  39616  35520  34496  40640  1536  3584  3584  7216  7216  1536  7216  16480  16480  4640  2064  4640  11328  22656  29312  7216  9792  9792  1536  3584  29856  9216  25744  68416  3072  1536  3072  7168  7168  \n",
        "17376  0  0  20540  24952  0  31812  16844  0  18216  21072  20944  20816  22352  0  0  0  13844  14996  0  16148  17064  18216  13496  13148  14648  16496  18656  20192  13844  15216  16368  0  0  20588  0  20284  25560  0  0  0  0  0  \n",
        "1984  192  176  2940  4952  640  9604  1548  176  1832  3376  3216  3120  3664  48  112  112  852  996  48  1140  1688  1880  696  540  840  1392  2272  2784  852  1136  1328  48  112  2772  296  2620  5448  96  48  96  224  224  \n",
        "1952  0  0  3452  6904  0  13700  1772  0  2152  3728  3728  3664  4304  0  0  0  932  1076  0  1292  1864  2152  696  540  840  1392  2272  2784  916  1136  1328  0  0  3564  0  3484  7128  0  0  0  0  0  \n",
        "1280  0  0  1852  2616  0  4356  1100  0  1240  2032  1776  1760  2096  0  0  0  724  796  0  868  1168  1216  632  540  704  1008  1344  1760  724  864  912  0  0  1668  0  1564  2800  0  0  0  0  0  \n",
        "18448  912  692  20772  26800  2720  40932  16900  692  18640  22320  22256  22208  23232  204  448  448  13860  15012  204  16164  17488  18352  13504  13148  14656  16544  19360  20416  13860  15600  16464  204  448  21788  1188  20540  28928  528  204  432  1040  992  \n",
        "2384  592  532  3684  8368  2336  21796  1828  356  2320  4528  4496  4448  4928  76  240  256  948  1092  88  1308  2056  2272  704  540  848  1440  2624  3008  932  1248  1392  60  176  4188  804  3740  9536  240  124  216  672  704  \n",
        "22320  1104  724  31588  42096  3232  64356  21060  724  23808  32848  30608  30224  35680  204  464  464  14500  16804  204  19108  21504  23952  13824  13148  16128  20384  25152  30912  14500  17248  19696  204  464  29468  1332  28796  44096  432  204  480  1024  1216  \n",
        "1504  80  68  2084  3312  352  6756  1156  68  1352  2432  2208  2152  2512  12  40  40  740  812  12  884  1280  1304  640  540  712  1056  1584  1984  740  936  960  12  40  1932  124  1724  3760  32  12  32  104  112  \n",
        "2128  80  84  4708  6512  464  12324  1796  84  2064  5040  3440  3328  5248  12  48  48  868  1012  12  1156  1920  2016  704  540  848  1632  2336  4544  868  1136  1232  12  48  3084  148  2876  7024  32  12  32  112  160'''\n",
        "import sympy as sp\n",
        "system = [list(map(int,row.split())) for row in system_str.split('\\n')]\n",
        "coefs_str = '-1/4  1/4  3/2  1/8  -1/4  -1/2  1/16  -1  -2  -1  1/4  1/2  1/2  1  5  -3/2  -6  1/4  2  12  2  -1  -4  -9/4  9/4  -6  9/2  -1  -3/4  5/16  1  2  -7  4  1/2  3/2  3/4  -1/2  -1/2  -4  -4  1  1'\n",
        "coefs = [list(map(int,coef.split('/'))) for coef in coefs_str.split()]\n",
        "\n",
        "A = sp.Matrix(43, 43, lambda i,j: sp.Rational(system[i][j]))\n",
        "b = sp.Matrix(43, 1, lambda i,j: sp.Rational(coefs[i][0], coefs[i][1] if len(coefs[i]) == 2 else 1))\n",
        "\n",
        "print(A)\n",
        "print(b)\n",
        "print(A*b)"
      ],
      "metadata": {
        "id": "Y2Vd5I2kYFkD",
        "colab": {
          "base_uri": "https://localhost:8080/"
        },
        "outputId": "fb9826eb-29f5-48b6-b049-6ea124a77094"
      },
      "execution_count": 38,
      "outputs": [
        {
          "output_type": "stream",
          "name": "stdout",
          "text": [
            "Matrix([[10880, 0, 0, 14480, 24352, 0, 42560, 8272, 0, 9312, 17088, 16576, 16064, 17600, 0, 0, 0, 5168, 5168, 0, 5168, 9312, 9312, 3616, 2064, 3616, 6720, 11392, 12928, 5168, 6208, 6208, 0, 0, 14496, 0, 13456, 26432, 0, 0, 0, 0, 0], [1952, 80, 68, 2940, 4920, 280, 9028, 1548, 68, 1832, 3344, 3216, 3088, 3664, 12, 40, 40, 852, 996, 12, 1140, 1688, 1880, 696, 540, 840, 1392, 2272, 2784, 852, 1136, 1328, 12, 40, 2724, 108, 2620, 5304, 24, 12, 24, 80, 80], [528, 96, 112, 864, 2128, 480, 5952, 320, 80, 392, 1152, 1056, 1024, 1200, 16, 48, 56, 144, 144, 16, 144, 392, 392, 80, 32, 80, 224, 560, 704, 144, 200, 200, 12, 40, 848, 168, 736, 2464, 40, 20, 40, 128, 144], [512, 0, 0, 1424, 3360, 0, 8768, 464, 0, 480, 1472, 1216, 1216, 1472, 0, 0, 0, 176, 176, 0, 176, 480, 480, 80, 32, 80, 224, 512, 704, 176, 192, 192, 0, 0, 1184, 0, 1168, 3392, 0, 0, 0, 0, 0], [368, 0, 0, 632, 1392, 0, 3200, 264, 0, 304, 768, 704, 688, 800, 0, 0, 0, 128, 128, 0, 128, 304, 304, 72, 32, 72, 176, 384, 480, 128, 160, 160, 0, 0, 608, 0, 560, 1504, 0, 0, 0, 0, 0], [368, 24, 26, 520, 1016, 96, 2240, 216, 26, 264, 672, 608, 592, 688, 6, 16, 16, 112, 112, 6, 112, 264, 264, 72, 32, 72, 176, 384, 480, 112, 160, 160, 6, 16, 470, 42, 416, 1152, 12, 6, 12, 32, 32], [256, 0, 0, 288, 576, 0, 1152, 160, 0, 192, 384, 384, 384, 384, 0, 0, 0, 96, 96, 0, 96, 192, 192, 64, 32, 64, 128, 256, 256, 96, 128, 128, 0, 0, 320, 0, 288, 640, 0, 0, 0, 0, 0], [5312, 0, 0, 10512, 21024, 0, 42048, 5264, 0, 5856, 10560, 10560, 10560, 11712, 0, 0, 0, 2640, 2928, 0, 3216, 5280, 5856, 1712, 1048, 1856, 3424, 5888, 6848, 2640, 2944, 3232, 0, 0, 10528, 0, 10512, 21056, 0, 0, 0, 0, 0], [5760, 1152, 1024, 7568, 14176, 3584, 30784, 4112, 1024, 4864, 9280, 9152, 9024, 9728, 288, 640, 640, 2384, 2528, 288, 2672, 4672, 4864, 1712, 1048, 1856, 3424, 6144, 6848, 2384, 3072, 3264, 288, 640, 8032, 1696, 7120, 16192, 576, 288, 576, 1280, 1280], [151488, 0, 0, 171792, 192032, 0, 222272, 150288, 0, 158560, 173120, 169024, 169408, 180416, 0, 0, 0, 133200, 140400, 0, 147600, 150880, 157600, 132144, 131096, 139344, 149216, 158272, 170688, 133200, 140960, 147680, 0, 0, 169760, 0, 167696, 193856, 0, 0, 0, 0, 0], [2368, 0, 0, 3472, 5152, 0, 9280, 2064, 0, 2368, 3904, 3264, 3328, 3968, 0, 0, 0, 1360, 1504, 0, 1648, 2176, 2272, 1200, 1048, 1344, 1888, 2432, 3264, 1360, 1600, 1696, 0, 0, 3232, 0, 2960, 5568, 0, 0, 0, 0, 0], [2560, 0, 0, 3472, 5600, 0, 10816, 2064, 0, 2496, 4032, 3776, 3648, 4224, 0, 0, 0, 1360, 1504, 0, 1648, 2304, 2304, 1200, 1048, 1344, 1888, 2688, 3264, 1360, 1728, 1728, 0, 0, 3520, 0, 3024, 6336, 0, 0, 0, 0, 0], [4192, 0, 0, 6480, 9984, 0, 16704, 3664, 0, 3984, 7040, 6528, 6336, 7456, 0, 0, 0, 2256, 2328, 0, 2400, 3888, 4032, 1648, 1048, 1720, 3040, 4576, 5824, 2256, 2544, 2688, 0, 0, 5920, 0, 5712, 10496, 0, 0, 0, 0, 0], [4928, 0, 0, 11408, 14880, 0, 24640, 4688, 0, 4992, 11712, 7616, 7552, 12032, 0, 0, 0, 2384, 2528, 0, 2672, 4800, 4896, 1712, 1048, 1856, 4000, 5120, 10688, 2384, 2624, 2720, 0, 0, 7456, 0, 7184, 15296, 0, 0, 0, 0, 0], [173248, 9216, 5120, 212240, 262688, 22528, 361536, 169360, 3840, 186016, 217408, 213312, 213312, 233792, 2176, 2560, 3584, 135248, 149648, 1216, 164048, 170656, 186016, 133168, 131096, 147568, 167264, 189632, 210112, 135248, 150880, 166240, 1152, 2432, 212768, 9728, 208144, 272448, 2560, 1280, 4480, 7424, 9472], [3680, 768, 576, 4560, 8832, 2560, 21824, 2512, 448, 3248, 5888, 5760, 5632, 6112, 160, 320, 352, 1488, 1704, 112, 1920, 2960, 3008, 1264, 1048, 1480, 2272, 3872, 4288, 1488, 2128, 2176, 96, 256, 5152, 1024, 4176, 10752, 256, 128, 352, 832, 896], [6112, 768, 704, 12496, 19328, 3072, 39232, 5136, 512, 5776, 13696, 10496, 10176, 14496, 160, 320, 416, 2512, 2728, 112, 2944, 5488, 5824, 1776, 1048, 1992, 4384, 6880, 11712, 2512, 3056, 3392, 96, 288, 9376, 1152, 8784, 21120, 256, 128, 352, 896, 1088], [40128, 0, 0, 45328, 74272, 0, 132160, 35472, 0, 44704, 54592, 54592, 54592, 54592, 0, 0, 0, 30544, 30544, 0, 35152, 40096, 40096, 26928, 26264, 29232, 32864, 40128, 40128, 28240, 32864, 32864, 0, 0, 59168, 0, 49936, 83520, 0, 0, 0, 0, 0], [86720, 0, 0, 147728, 211488, 0, 320576, 86672, 0, 91296, 147776, 131392, 131392, 156992, 0, 0, 0, 53840, 56144, 0, 58448, 86688, 91296, 39728, 26264, 40880, 68960, 91328, 125120, 53840, 56160, 58464, 0, 0, 131360, 0, 131344, 211520, 0, 0, 0, 0, 0], [36032, 6144, 4672, 53584, 82272, 17920, 156288, 31472, 3904, 36160, 59008, 52992, 53120, 62336, 1248, 2624, 2816, 19840, 22000, 1200, 24544, 33184, 35680, 16688, 13656, 18848, 28128, 38592, 49856, 19792, 23520, 25632, 1056, 2336, 51840, 7680, 47920, 90112, 2688, 1344, 2784, 6208, 6592], [851904, 0, 0, 919312, 1017376, 0, 1130560, 850192, 0, 891680, 921664, 926272, 930880, 963136, 0, 0, 0, 786832, 815632, 0, 850192, 851360, 885920, 783792, 781272, 812592, 846432, 881856, 914112, 786512, 816480, 845280, 0, 0, 936096, 0, 929168, 1019712, 0, 0, 0, 0, 0], [19424, 0, 0, 22800, 32000, 0, 49280, 18096, 0, 20816, 24704, 24704, 24800, 26144, 0, 0, 0, 14592, 15816, 0, 17424, 18848, 19952, 14064, 13656, 15288, 17376, 20384, 21696, 14544, 16400, 17216, 0, 0, 25152, 0, 23344, 34112, 0, 0, 0, 0, 0], [31712, 0, 0, 52496, 72448, 0, 107648, 31024, 0, 34320, 53376, 46720, 46304, 58016, 0, 0, 0, 19712, 21800, 0, 24272, 31392, 34416, 16624, 13656, 18712, 27744, 35104, 48832, 19664, 22096, 24640, 0, 0, 45888, 0, 45616, 73280, 0, 0, 0, 0, 0], [786560, 0, 0, 1310864, 1573152, 0, 2097728, 786512, 0, 786528, 1310912, 1048768, 1048768, 1310912, 0, 0, 0, 524336, 524336, 0, 524336, 786528, 786528, 393248, 262160, 393248, 655424, 786560, 1179776, 524336, 524352, 524352, 0, 0, 1048736, 0, 1048720, 1573184, 0, 0, 0, 0, 0], [33554560, 0, 0, 33554576, 33554720, 0, 33555008, 33554512, 0, 33554528, 33554624, 33554624, 33554624, 33554624, 0, 0, 0, 33554480, 33554480, 0, 33554480, 33554528, 33554528, 33554464, 33554448, 33554464, 33554496, 33554560, 33554560, 33554480, 33554496, 33554496, 0, 0, 33554592, 0, 33554576, 33554752, 0, 0, 0, 0, 0], [3820672, 0, 0, 4281488, 4659488, 0, 5120576, 3820624, 0, 3968096, 4281536, 4198592, 4198592, 4428992, 0, 0, 0, 3442736, 3590192, 0, 3737648, 3820640, 3968096, 3401248, 3359760, 3548704, 3779136, 3968128, 4240000, 3442736, 3590208, 3737664, 0, 0, 4198560, 0, 4198544, 4659520, 0, 0, 0, 0, 0], [248960, 0, 0, 414864, 497952, 0, 664128, 248912, 0, 267360, 414912, 331968, 331968, 433344, 0, 0, 0, 165936, 184368, 0, 202800, 248928, 267360, 149024, 132112, 167456, 232000, 267392, 397952, 165936, 184384, 202816, 0, 0, 331936, 0, 331920, 497984, 0, 0, 0, 0, 0], [13952, 0, 0, 27792, 40736, 0, 70208, 11856, 0, 12896, 29888, 23744, 22208, 31424, 0, 0, 0, 6192, 6192, 0, 6192, 12896, 12896, 4128, 2064, 4128, 9792, 15488, 25728, 6192, 7232, 7232, 0, 0, 20640, 0, 19600, 43328, 0, 0, 0, 0, 0], [20608, 0, 0, 69776, 82208, 0, 131648, 20560, 0, 20576, 69824, 32960, 32960, 69824, 0, 0, 0, 8240, 8240, 0, 8240, 20576, 20576, 5152, 2064, 5152, 17472, 20608, 66688, 8240, 8256, 8256, 0, 0, 32928, 0, 32912, 82240, 0, 0, 0, 0, 0], [16512, 0, 0, 32912, 65824, 0, 131648, 16464, 0, 16480, 32960, 32960, 32960, 32960, 0, 0, 0, 8240, 8240, 0, 8240, 16480, 16480, 4128, 2064, 4128, 8256, 16512, 16512, 8240, 8256, 8256, 0, 0, 32928, 0, 32912, 65856, 0, 0, 0, 0, 0], [195712, 0, 0, 238736, 293152, 0, 385600, 185424, 0, 199776, 249024, 237760, 235712, 257216, 0, 0, 0, 149552, 158768, 0, 167984, 190560, 196704, 140832, 132112, 150048, 176704, 203904, 230016, 149552, 163904, 170048, 0, 0, 233632, 0, 225424, 303424, 0, 0, 0, 0, 0], [238720, 0, 0, 337040, 443680, 0, 591424, 234576, 0, 255072, 341184, 332992, 324800, 373952, 0, 0, 0, 164912, 183344, 0, 201776, 236640, 261216, 148512, 132112, 166944, 218176, 271488, 320640, 164912, 185408, 209984, 0, 0, 316576, 0, 320656, 447808, 0, 0, 0, 0, 0], [273536, 49152, 36864, 341136, 497952, 122880, 860736, 236624, 36864, 267360, 378048, 368832, 368832, 396480, 12288, 24576, 24576, 165936, 184368, 12288, 202800, 248928, 267360, 149024, 132112, 167456, 219712, 291968, 324224, 165936, 196672, 215104, 12288, 24576, 356512, 61440, 331920, 547136, 24576, 12288, 24576, 49152, 49152], [21632, 6144, 5632, 31888, 58656, 19456, 132672, 13904, 5632, 16480, 39616, 35520, 34496, 40640, 1536, 3584, 3584, 7216, 7216, 1536, 7216, 16480, 16480, 4640, 2064, 4640, 11328, 22656, 29312, 7216, 9792, 9792, 1536, 3584, 29856, 9216, 25744, 68416, 3072, 1536, 3072, 7168, 7168], [17376, 0, 0, 20540, 24952, 0, 31812, 16844, 0, 18216, 21072, 20944, 20816, 22352, 0, 0, 0, 13844, 14996, 0, 16148, 17064, 18216, 13496, 13148, 14648, 16496, 18656, 20192, 13844, 15216, 16368, 0, 0, 20588, 0, 20284, 25560, 0, 0, 0, 0, 0], [1984, 192, 176, 2940, 4952, 640, 9604, 1548, 176, 1832, 3376, 3216, 3120, 3664, 48, 112, 112, 852, 996, 48, 1140, 1688, 1880, 696, 540, 840, 1392, 2272, 2784, 852, 1136, 1328, 48, 112, 2772, 296, 2620, 5448, 96, 48, 96, 224, 224], [1952, 0, 0, 3452, 6904, 0, 13700, 1772, 0, 2152, 3728, 3728, 3664, 4304, 0, 0, 0, 932, 1076, 0, 1292, 1864, 2152, 696, 540, 840, 1392, 2272, 2784, 916, 1136, 1328, 0, 0, 3564, 0, 3484, 7128, 0, 0, 0, 0, 0], [1280, 0, 0, 1852, 2616, 0, 4356, 1100, 0, 1240, 2032, 1776, 1760, 2096, 0, 0, 0, 724, 796, 0, 868, 1168, 1216, 632, 540, 704, 1008, 1344, 1760, 724, 864, 912, 0, 0, 1668, 0, 1564, 2800, 0, 0, 0, 0, 0], [18448, 912, 692, 20772, 26800, 2720, 40932, 16900, 692, 18640, 22320, 22256, 22208, 23232, 204, 448, 448, 13860, 15012, 204, 16164, 17488, 18352, 13504, 13148, 14656, 16544, 19360, 20416, 13860, 15600, 16464, 204, 448, 21788, 1188, 20540, 28928, 528, 204, 432, 1040, 992], [2384, 592, 532, 3684, 8368, 2336, 21796, 1828, 356, 2320, 4528, 4496, 4448, 4928, 76, 240, 256, 948, 1092, 88, 1308, 2056, 2272, 704, 540, 848, 1440, 2624, 3008, 932, 1248, 1392, 60, 176, 4188, 804, 3740, 9536, 240, 124, 216, 672, 704], [22320, 1104, 724, 31588, 42096, 3232, 64356, 21060, 724, 23808, 32848, 30608, 30224, 35680, 204, 464, 464, 14500, 16804, 204, 19108, 21504, 23952, 13824, 13148, 16128, 20384, 25152, 30912, 14500, 17248, 19696, 204, 464, 29468, 1332, 28796, 44096, 432, 204, 480, 1024, 1216], [1504, 80, 68, 2084, 3312, 352, 6756, 1156, 68, 1352, 2432, 2208, 2152, 2512, 12, 40, 40, 740, 812, 12, 884, 1280, 1304, 640, 540, 712, 1056, 1584, 1984, 740, 936, 960, 12, 40, 1932, 124, 1724, 3760, 32, 12, 32, 104, 112], [2128, 80, 84, 4708, 6512, 464, 12324, 1796, 84, 2064, 5040, 3440, 3328, 5248, 12, 48, 48, 868, 1012, 12, 1156, 1920, 2016, 704, 540, 848, 1632, 2336, 4544, 868, 1136, 1232, 12, 48, 3084, 148, 2876, 7024, 32, 12, 32, 112, 160]])\n",
            "Matrix([[-1/4], [1/4], [3/2], [1/8], [-1/4], [-1/2], [1/16], [-1], [-2], [-1], [1/4], [1/2], [1/2], [1], [5], [-3/2], [-6], [1/4], [2], [12], [2], [-1], [-4], [-9/4], [9/4], [-6], [9/2], [-1], [-3/4], [5/16], [1], [2], [-7], [4], [1/2], [3/2], [3/4], [-1/2], [-1/2], [-4], [-4], [1], [1]])\n",
            "Matrix([[1], [1], [1], [1], [1], [1], [2], [1], [1], [1], [1], [1], [1], [1], [1], [1], [1], [1], [1], [1], [1], [1], [1], [1], [1], [1], [1], [1], [1], [1], [1], [1], [1], [1], [1], [1], [1], [1], [1], [1], [1], [1], [1]])\n"
          ]
        }
      ]
    },
    {
      "cell_type": "code",
      "source": [
        "olympic_rings = cycle(8)\n",
        "for i in range(4):\n",
        "    olympic_rings = combine(olympic_rings, cycle(8))\n",
        "\n",
        "g = getGraphFromNumpy(olympic_rings)\n",
        "g.engine = 'sfdp'\n",
        "g"
      ],
      "metadata": {
        "colab": {
          "base_uri": "https://localhost:8080/",
          "height": 493
        },
        "id": "kGvKZTioTY-R",
        "outputId": "5eb885d8-34e1-44e6-8c93-4304d05d0e28"
      },
      "execution_count": 39,
      "outputs": [
        {
          "output_type": "execute_result",
          "data": {
            "text/plain": [
              "<graphviz.dot.Graph at 0x7fda18066790>"
            ],
            "image/svg+xml": "<?xml version=\"1.0\" encoding=\"UTF-8\" standalone=\"no\"?>\n<!DOCTYPE svg PUBLIC \"-//W3C//DTD SVG 1.1//EN\"\n \"http://www.w3.org/Graphics/SVG/1.1/DTD/svg11.dtd\">\n<!-- Generated by graphviz version 2.40.1 (20161225.0304)\n -->\n<!-- Title: %3 Pages: 1 -->\n<svg width=\"838pt\" height=\"354pt\"\n viewBox=\"0.00 0.00 837.90 353.69\" xmlns=\"http://www.w3.org/2000/svg\" xmlns:xlink=\"http://www.w3.org/1999/xlink\">\n<g id=\"graph0\" class=\"graph\" transform=\"scale(1 1) rotate(0) translate(4 349.6851)\">\n<title>%3</title>\n<polygon fill=\"#ffffff\" stroke=\"transparent\" points=\"-4,4 -4,-349.6851 833.8965,-349.6851 833.8965,4 -4,4\"/>\n<!-- 36 -->\n<g id=\"node1\" class=\"node\">\n<title>36</title>\n<ellipse fill=\"none\" stroke=\"#000000\" cx=\"179.2797\" cy=\"-215.1525\" rx=\"27\" ry=\"18\"/>\n<text text-anchor=\"middle\" x=\"179.2797\" y=\"-211.4525\" font-family=\"Times,serif\" font-size=\"14.00\" fill=\"#000000\">36</text>\n</g>\n<!-- 35 -->\n<g id=\"node2\" class=\"node\">\n<title>35</title>\n<ellipse fill=\"none\" stroke=\"#000000\" cx=\"119.9761\" cy=\"-246.8612\" rx=\"27\" ry=\"18\"/>\n<text text-anchor=\"middle\" x=\"119.9761\" y=\"-243.1612\" font-family=\"Times,serif\" font-size=\"14.00\" fill=\"#000000\">35</text>\n</g>\n<!-- 36&#45;&#45;35 -->\n<g id=\"edge1\" class=\"edge\">\n<title>36&#45;&#45;35</title>\n<path fill=\"none\" stroke=\"#000000\" d=\"M158.2045,-226.4211C152.7446,-229.3404 146.8602,-232.4867 141.3835,-235.415\"/>\n</g>\n<!-- 29 -->\n<g id=\"node3\" class=\"node\">\n<title>29</title>\n<ellipse fill=\"none\" stroke=\"#000000\" cx=\"240.4937\" cy=\"-171.729\" rx=\"27\" ry=\"18\"/>\n<text text-anchor=\"middle\" x=\"240.4937\" y=\"-168.029\" font-family=\"Times,serif\" font-size=\"14.00\" fill=\"#000000\">29</text>\n</g>\n<!-- 36&#45;&#45;29 -->\n<g id=\"edge2\" class=\"edge\">\n<title>36&#45;&#45;29</title>\n<path fill=\"none\" stroke=\"#000000\" d=\"M197.9786,-201.888C205.5731,-196.5007 214.3265,-190.2912 221.9094,-184.9122\"/>\n</g>\n<!-- 34 -->\n<g id=\"node4\" class=\"node\">\n<title>34</title>\n<ellipse fill=\"none\" stroke=\"#000000\" cx=\"65.9569\" cy=\"-262.0114\" rx=\"27\" ry=\"18\"/>\n<text text-anchor=\"middle\" x=\"65.9569\" y=\"-258.3114\" font-family=\"Times,serif\" font-size=\"14.00\" fill=\"#000000\">34</text>\n</g>\n<!-- 35&#45;&#45;34 -->\n<g id=\"edge3\" class=\"edge\">\n<title>35&#45;&#45;34</title>\n<path fill=\"none\" stroke=\"#000000\" d=\"M94.8642,-253.9041C93.5417,-254.275 92.2131,-254.6476 90.8912,-255.0184\"/>\n</g>\n<!-- 28 -->\n<g id=\"node9\" class=\"node\">\n<title>28</title>\n<ellipse fill=\"none\" stroke=\"#000000\" cx=\"209.337\" cy=\"-115.6885\" rx=\"27\" ry=\"18\"/>\n<text text-anchor=\"middle\" x=\"209.337\" y=\"-111.9885\" font-family=\"Times,serif\" font-size=\"14.00\" fill=\"#000000\">28</text>\n</g>\n<!-- 29&#45;&#45;28 -->\n<g id=\"edge9\" class=\"edge\">\n<title>29&#45;&#45;28</title>\n<path fill=\"none\" stroke=\"#000000\" d=\"M230.9763,-154.6105C227.1109,-147.6578 222.6555,-139.6442 218.796,-132.7022\"/>\n</g>\n<!-- 22 -->\n<g id=\"node10\" class=\"node\">\n<title>22</title>\n<ellipse fill=\"none\" stroke=\"#000000\" cx=\"353.0534\" cy=\"-167.7597\" rx=\"27\" ry=\"18\"/>\n<text text-anchor=\"middle\" x=\"353.0534\" y=\"-164.0597\" font-family=\"Times,serif\" font-size=\"14.00\" fill=\"#000000\">22</text>\n</g>\n<!-- 29&#45;&#45;22 -->\n<g id=\"edge10\" class=\"edge\">\n<title>29&#45;&#45;22</title>\n<path fill=\"none\" stroke=\"#000000\" d=\"M267.7412,-170.7682C285.4384,-170.1441 308.4097,-169.334 326.0568,-168.7117\"/>\n</g>\n<!-- 33 -->\n<g id=\"node5\" class=\"node\">\n<title>33</title>\n<ellipse fill=\"none\" stroke=\"#000000\" cx=\"27\" cy=\"-246.6528\" rx=\"27\" ry=\"18\"/>\n<text text-anchor=\"middle\" x=\"27\" y=\"-242.9528\" font-family=\"Times,serif\" font-size=\"14.00\" fill=\"#000000\">33</text>\n</g>\n<!-- 34&#45;&#45;33 -->\n<g id=\"edge4\" class=\"edge\">\n<title>34&#45;&#45;33</title>\n<path fill=\"none\" stroke=\"#000000\" d=\"M42.3968,-252.723C42.2686,-252.6724 42.1407,-252.622 42.013,-252.5716\"/>\n</g>\n<!-- 32 -->\n<g id=\"node6\" class=\"node\">\n<title>32</title>\n<ellipse fill=\"none\" stroke=\"#000000\" cx=\"46.1334\" cy=\"-209.6601\" rx=\"27\" ry=\"18\"/>\n<text text-anchor=\"middle\" x=\"46.1334\" y=\"-205.9601\" font-family=\"Times,serif\" font-size=\"14.00\" fill=\"#000000\">32</text>\n</g>\n<!-- 33&#45;&#45;32 -->\n<g id=\"edge5\" class=\"edge\">\n<title>33&#45;&#45;32</title>\n<path fill=\"none\" stroke=\"#000000\" d=\"M35.8945,-229.456C36.363,-228.5504 36.8335,-227.6405 37.3018,-226.7353\"/>\n</g>\n<!-- 31 -->\n<g id=\"node7\" class=\"node\">\n<title>31</title>\n<ellipse fill=\"none\" stroke=\"#000000\" cx=\"98.2507\" cy=\"-188.6861\" rx=\"27\" ry=\"18\"/>\n<text text-anchor=\"middle\" x=\"98.2507\" y=\"-184.9861\" font-family=\"Times,serif\" font-size=\"14.00\" fill=\"#000000\">31</text>\n</g>\n<!-- 32&#45;&#45;31 -->\n<g id=\"edge6\" class=\"edge\">\n<title>32&#45;&#45;31</title>\n<path fill=\"none\" stroke=\"#000000\" d=\"M69.4482,-200.2773C71.2912,-199.5356 73.1527,-198.7865 74.9952,-198.045\"/>\n</g>\n<!-- 30 -->\n<g id=\"node8\" class=\"node\">\n<title>30</title>\n<ellipse fill=\"none\" stroke=\"#000000\" cx=\"165.0238\" cy=\"-177.822\" rx=\"27\" ry=\"18\"/>\n<text text-anchor=\"middle\" x=\"165.0238\" y=\"-174.122\" font-family=\"Times,serif\" font-size=\"14.00\" fill=\"#000000\">30</text>\n</g>\n<!-- 31&#45;&#45;30 -->\n<g id=\"edge7\" class=\"edge\">\n<title>31&#45;&#45;30</title>\n<path fill=\"none\" stroke=\"#000000\" d=\"M124.6412,-184.3923C129.1615,-183.6569 133.8608,-182.8923 138.3875,-182.1558\"/>\n</g>\n<!-- 30&#45;&#45;29 -->\n<g id=\"edge8\" class=\"edge\">\n<title>30&#45;&#45;29</title>\n<path fill=\"none\" stroke=\"#000000\" d=\"M191.8442,-175.6567C198.8772,-175.0889 206.4637,-174.4764 213.5054,-173.9079\"/>\n</g>\n<!-- 27 -->\n<g id=\"node11\" class=\"node\">\n<title>27</title>\n<ellipse fill=\"none\" stroke=\"#000000\" cx=\"191.0146\" cy=\"-61.9684\" rx=\"27\" ry=\"18\"/>\n<text text-anchor=\"middle\" x=\"191.0146\" y=\"-58.2684\" font-family=\"Times,serif\" font-size=\"14.00\" fill=\"#000000\">27</text>\n</g>\n<!-- 28&#45;&#45;27 -->\n<g id=\"edge11\" class=\"edge\">\n<title>28&#45;&#45;27</title>\n<path fill=\"none\" stroke=\"#000000\" d=\"M203.3375,-98.0986C201.3337,-92.2234 199.0998,-85.6738 197.0902,-79.7818\"/>\n</g>\n<!-- 21 -->\n<g id=\"node16\" class=\"node\">\n<title>21</title>\n<ellipse fill=\"none\" stroke=\"#000000\" cx=\"355.2561\" cy=\"-229.5443\" rx=\"27\" ry=\"18\"/>\n<text text-anchor=\"middle\" x=\"355.2561\" y=\"-225.8443\" font-family=\"Times,serif\" font-size=\"14.00\" fill=\"#000000\">21</text>\n</g>\n<!-- 22&#45;&#45;21 -->\n<g id=\"edge17\" class=\"edge\">\n<title>22&#45;&#45;21</title>\n<path fill=\"none\" stroke=\"#000000\" d=\"M353.7024,-185.963C353.9867,-193.9364 354.3196,-203.2748 354.6042,-211.2577\"/>\n</g>\n<!-- 15 -->\n<g id=\"node17\" class=\"node\">\n<title>15</title>\n<ellipse fill=\"none\" stroke=\"#000000\" cx=\"474.7903\" cy=\"-168.192\" rx=\"27\" ry=\"18\"/>\n<text text-anchor=\"middle\" x=\"474.7903\" y=\"-164.492\" font-family=\"Times,serif\" font-size=\"14.00\" fill=\"#000000\">15</text>\n</g>\n<!-- 22&#45;&#45;15 -->\n<g id=\"edge18\" class=\"edge\">\n<title>22&#45;&#45;15</title>\n<path fill=\"none\" stroke=\"#000000\" d=\"M380.0708,-167.8557C400.1046,-167.9268 427.3119,-168.0234 447.4275,-168.0948\"/>\n</g>\n<!-- 26 -->\n<g id=\"node12\" class=\"node\">\n<title>26</title>\n<ellipse fill=\"none\" stroke=\"#000000\" cx=\"202.3953\" cy=\"-18\" rx=\"27\" ry=\"18\"/>\n<text text-anchor=\"middle\" x=\"202.3953\" y=\"-14.3\" font-family=\"Times,serif\" font-size=\"14.00\" fill=\"#000000\">26</text>\n</g>\n<!-- 27&#45;&#45;26 -->\n<g id=\"edge12\" class=\"edge\">\n<title>27&#45;&#45;26</title>\n<path fill=\"none\" stroke=\"#000000\" d=\"M195.6436,-44.0848C196.3328,-41.422 197.0436,-38.6759 197.7335,-36.0105\"/>\n</g>\n<!-- 25 -->\n<g id=\"node13\" class=\"node\">\n<title>25</title>\n<ellipse fill=\"none\" stroke=\"#000000\" cx=\"246.08\" cy=\"-18.2551\" rx=\"27\" ry=\"18\"/>\n<text text-anchor=\"middle\" x=\"246.08\" y=\"-14.5551\" font-family=\"Times,serif\" font-size=\"14.00\" fill=\"#000000\">25</text>\n</g>\n<!-- 26&#45;&#45;25 -->\n<g id=\"edge13\" class=\"edge\">\n<title>26&#45;&#45;25</title>\n<path fill=\"none\" stroke=\"#000000\" d=\"M229.8135,-18.1601C229.9506,-18.1609 230.0874,-18.1617 230.2239,-18.1625\"/>\n</g>\n<!-- 24 -->\n<g id=\"node14\" class=\"node\">\n<title>24</title>\n<ellipse fill=\"none\" stroke=\"#000000\" cx=\"286.6331\" cy=\"-54.744\" rx=\"27\" ry=\"18\"/>\n<text text-anchor=\"middle\" x=\"286.6331\" y=\"-51.044\" font-family=\"Times,serif\" font-size=\"14.00\" fill=\"#000000\">24</text>\n</g>\n<!-- 25&#45;&#45;24 -->\n<g id=\"edge14\" class=\"edge\">\n<title>25&#45;&#45;24</title>\n<path fill=\"none\" stroke=\"#000000\" d=\"M262.5745,-33.0965C265.2059,-35.4642 267.9255,-37.9112 270.5472,-40.2702\"/>\n</g>\n<!-- 23 -->\n<g id=\"node15\" class=\"node\">\n<title>23</title>\n<ellipse fill=\"none\" stroke=\"#000000\" cx=\"321.2402\" cy=\"-107.6344\" rx=\"27\" ry=\"18\"/>\n<text text-anchor=\"middle\" x=\"321.2402\" y=\"-103.9344\" font-family=\"Times,serif\" font-size=\"14.00\" fill=\"#000000\">23</text>\n</g>\n<!-- 24&#45;&#45;23 -->\n<g id=\"edge15\" class=\"edge\">\n<title>24&#45;&#45;23</title>\n<path fill=\"none\" stroke=\"#000000\" d=\"M297.583,-71.4788C301.6227,-77.6527 306.1989,-84.6466 310.2428,-90.8269\"/>\n</g>\n<!-- 23&#45;&#45;22 -->\n<g id=\"edge16\" class=\"edge\">\n<title>23&#45;&#45;22</title>\n<path fill=\"none\" stroke=\"#000000\" d=\"M330.2715,-124.7031C334.5333,-132.7577 339.6105,-142.3533 343.8891,-150.4396\"/>\n</g>\n<!-- 20 -->\n<g id=\"node18\" class=\"node\">\n<title>20</title>\n<ellipse fill=\"none\" stroke=\"#000000\" cx=\"365.7599\" cy=\"-286.2533\" rx=\"27\" ry=\"18\"/>\n<text text-anchor=\"middle\" x=\"365.7599\" y=\"-282.5533\" font-family=\"Times,serif\" font-size=\"14.00\" fill=\"#000000\">20</text>\n</g>\n<!-- 21&#45;&#45;20 -->\n<g id=\"edge19\" class=\"edge\">\n<title>21&#45;&#45;20</title>\n<path fill=\"none\" stroke=\"#000000\" d=\"M358.5796,-247.4874C359.8057,-254.107 361.1946,-261.6058 362.422,-268.2323\"/>\n</g>\n<!-- 14 -->\n<g id=\"node23\" class=\"node\">\n<title>14</title>\n<ellipse fill=\"none\" stroke=\"#000000\" cx=\"506.5163\" cy=\"-108.182\" rx=\"27\" ry=\"18\"/>\n<text text-anchor=\"middle\" x=\"506.5163\" y=\"-104.482\" font-family=\"Times,serif\" font-size=\"14.00\" fill=\"#000000\">14</text>\n</g>\n<!-- 15&#45;&#45;14 -->\n<g id=\"edge25\" class=\"edge\">\n<title>15&#45;&#45;14</title>\n<path fill=\"none\" stroke=\"#000000\" d=\"M483.7968,-151.1561C488.047,-143.1169 493.1102,-133.5397 497.3771,-125.4689\"/>\n</g>\n<!-- 8 -->\n<g id=\"node24\" class=\"node\">\n<title>8</title>\n<ellipse fill=\"none\" stroke=\"#000000\" cx=\"587.5424\" cy=\"-172.3429\" rx=\"27\" ry=\"18\"/>\n<text text-anchor=\"middle\" x=\"587.5424\" y=\"-168.6429\" font-family=\"Times,serif\" font-size=\"14.00\" fill=\"#000000\">8</text>\n</g>\n<!-- 15&#45;&#45;8 -->\n<g id=\"edge26\" class=\"edge\">\n<title>15&#45;&#45;8</title>\n<path fill=\"none\" stroke=\"#000000\" d=\"M501.7973,-169.1862C519.518,-169.8386 542.61,-170.6887 560.3651,-171.3424\"/>\n</g>\n<!-- 19 -->\n<g id=\"node19\" class=\"node\">\n<title>19</title>\n<ellipse fill=\"none\" stroke=\"#000000\" cx=\"392.3805\" cy=\"-327.5848\" rx=\"27\" ry=\"18\"/>\n<text text-anchor=\"middle\" x=\"392.3805\" y=\"-323.8848\" font-family=\"Times,serif\" font-size=\"14.00\" fill=\"#000000\">19</text>\n</g>\n<!-- 20&#45;&#45;19 -->\n<g id=\"edge20\" class=\"edge\">\n<title>20&#45;&#45;19</title>\n<path fill=\"none\" stroke=\"#000000\" d=\"M376.5875,-303.0644C378.2573,-305.6569 379.9812,-308.3334 381.6488,-310.9226\"/>\n</g>\n<!-- 18 -->\n<g id=\"node20\" class=\"node\">\n<title>18</title>\n<ellipse fill=\"none\" stroke=\"#000000\" cx=\"434.8561\" cy=\"-327.6851\" rx=\"27\" ry=\"18\"/>\n<text text-anchor=\"middle\" x=\"434.8561\" y=\"-323.9851\" font-family=\"Times,serif\" font-size=\"14.00\" fill=\"#000000\">18</text>\n</g>\n<!-- 19&#45;&#45;18 -->\n<g id=\"edge21\" class=\"edge\">\n<title>19&#45;&#45;18</title>\n<path fill=\"none\" stroke=\"#000000\" d=\"M419.5214,-327.6489C419.6515,-327.6492 419.7813,-327.6495 419.9107,-327.6498\"/>\n</g>\n<!-- 17 -->\n<g id=\"node21\" class=\"node\">\n<title>17</title>\n<ellipse fill=\"none\" stroke=\"#000000\" cx=\"461.5744\" cy=\"-286.5449\" rx=\"27\" ry=\"18\"/>\n<text text-anchor=\"middle\" x=\"461.5744\" y=\"-282.8449\" font-family=\"Times,serif\" font-size=\"14.00\" fill=\"#000000\">17</text>\n</g>\n<!-- 18&#45;&#45;17 -->\n<g id=\"edge22\" class=\"edge\">\n<title>18&#45;&#45;17</title>\n<path fill=\"none\" stroke=\"#000000\" d=\"M445.7235,-310.9518C447.3994,-308.3713 449.1295,-305.7072 450.8033,-303.13\"/>\n</g>\n<!-- 16 -->\n<g id=\"node22\" class=\"node\">\n<title>16</title>\n<ellipse fill=\"none\" stroke=\"#000000\" cx=\"472.3569\" cy=\"-230.1506\" rx=\"27\" ry=\"18\"/>\n<text text-anchor=\"middle\" x=\"472.3569\" y=\"-226.4506\" font-family=\"Times,serif\" font-size=\"14.00\" fill=\"#000000\">16</text>\n</g>\n<!-- 17&#45;&#45;16 -->\n<g id=\"edge23\" class=\"edge\">\n<title>17&#45;&#45;16</title>\n<path fill=\"none\" stroke=\"#000000\" d=\"M465.0454,-268.3909C466.2767,-261.9512 467.6617,-254.7074 468.8924,-248.2705\"/>\n</g>\n<!-- 16&#45;&#45;15 -->\n<g id=\"edge24\" class=\"edge\">\n<title>16&#45;&#45;15</title>\n<path fill=\"none\" stroke=\"#000000\" d=\"M473.0739,-211.8961C473.3879,-203.9002 473.7557,-194.5355 474.0701,-186.5301\"/>\n</g>\n<!-- 13 -->\n<g id=\"node25\" class=\"node\">\n<title>13</title>\n<ellipse fill=\"none\" stroke=\"#000000\" cx=\"540.884\" cy=\"-55.4973\" rx=\"27\" ry=\"18\"/>\n<text text-anchor=\"middle\" x=\"540.884\" y=\"-51.7973\" font-family=\"Times,serif\" font-size=\"14.00\" fill=\"#000000\">13</text>\n</g>\n<!-- 14&#45;&#45;13 -->\n<g id=\"edge27\" class=\"edge\">\n<title>14&#45;&#45;13</title>\n<path fill=\"none\" stroke=\"#000000\" d=\"M517.3905,-91.5122C521.4022,-85.3623 525.9467,-78.3957 529.9626,-72.2394\"/>\n</g>\n<!-- 7 -->\n<g id=\"node30\" class=\"node\">\n<title>7</title>\n<ellipse fill=\"none\" stroke=\"#000000\" cx=\"649.0919\" cy=\"-215.4082\" rx=\"27\" ry=\"18\"/>\n<text text-anchor=\"middle\" x=\"649.0919\" y=\"-211.7082\" font-family=\"Times,serif\" font-size=\"14.00\" fill=\"#000000\">7</text>\n</g>\n<!-- 8&#45;&#45;7 -->\n<g id=\"edge33\" class=\"edge\">\n<title>8&#45;&#45;7</title>\n<path fill=\"none\" stroke=\"#000000\" d=\"M606.3438,-185.4979C613.9799,-190.8408 622.7814,-196.9991 630.4058,-202.3337\"/>\n</g>\n<!-- 1 -->\n<g id=\"node31\" class=\"node\">\n<title>1</title>\n<ellipse fill=\"none\" stroke=\"#000000\" cx=\"663.1999\" cy=\"-177.9938\" rx=\"27\" ry=\"18\"/>\n<text text-anchor=\"middle\" x=\"663.1999\" y=\"-174.2938\" font-family=\"Times,serif\" font-size=\"14.00\" fill=\"#000000\">1</text>\n</g>\n<!-- 8&#45;&#45;1 -->\n<g id=\"edge34\" class=\"edge\">\n<title>8&#45;&#45;1</title>\n<path fill=\"none\" stroke=\"#000000\" d=\"M614.4294,-174.3511C621.4799,-174.8777 629.0853,-175.4457 636.1445,-175.973\"/>\n</g>\n<!-- 12 -->\n<g id=\"node26\" class=\"node\">\n<title>12</title>\n<ellipse fill=\"none\" stroke=\"#000000\" cx=\"581.1943\" cy=\"-19.1214\" rx=\"27\" ry=\"18\"/>\n<text text-anchor=\"middle\" x=\"581.1943\" y=\"-15.4214\" font-family=\"Times,serif\" font-size=\"14.00\" fill=\"#000000\">12</text>\n</g>\n<!-- 13&#45;&#45;12 -->\n<g id=\"edge28\" class=\"edge\">\n<title>13&#45;&#45;12</title>\n<path fill=\"none\" stroke=\"#000000\" d=\"M557.2798,-40.7018C559.8082,-38.4201 562.4185,-36.0646 564.9438,-33.7858\"/>\n</g>\n<!-- 11 -->\n<g id=\"node27\" class=\"node\">\n<title>11</title>\n<ellipse fill=\"none\" stroke=\"#000000\" cx=\"624.7951\" cy=\"-18.8597\" rx=\"27\" ry=\"18\"/>\n<text text-anchor=\"middle\" x=\"624.7951\" y=\"-15.1597\" font-family=\"Times,serif\" font-size=\"14.00\" fill=\"#000000\">11</text>\n</g>\n<!-- 12&#45;&#45;11 -->\n<g id=\"edge29\" class=\"edge\">\n<title>12&#45;&#45;11</title>\n<path fill=\"none\" stroke=\"#000000\" d=\"M608.5598,-18.9572C608.6966,-18.9563 608.8332,-18.9555 608.9694,-18.9547\"/>\n</g>\n<!-- 10 -->\n<g id=\"node28\" class=\"node\">\n<title>10</title>\n<ellipse fill=\"none\" stroke=\"#000000\" cx=\"636.364\" cy=\"-62.82\" rx=\"27\" ry=\"18\"/>\n<text text-anchor=\"middle\" x=\"636.364\" y=\"-59.12\" font-family=\"Times,serif\" font-size=\"14.00\" fill=\"#000000\">10</text>\n</g>\n<!-- 11&#45;&#45;10 -->\n<g id=\"edge30\" class=\"edge\">\n<title>11&#45;&#45;10</title>\n<path fill=\"none\" stroke=\"#000000\" d=\"M629.5006,-36.74C630.2013,-39.4024 630.9238,-42.1479 631.6251,-44.8128\"/>\n</g>\n<!-- 9 -->\n<g id=\"node29\" class=\"node\">\n<title>9</title>\n<ellipse fill=\"none\" stroke=\"#000000\" cx=\"618.4739\" cy=\"-116.5621\" rx=\"27\" ry=\"18\"/>\n<text text-anchor=\"middle\" x=\"618.4739\" y=\"-112.8621\" font-family=\"Times,serif\" font-size=\"14.00\" fill=\"#000000\">9</text>\n</g>\n<!-- 10&#45;&#45;9 -->\n<g id=\"edge31\" class=\"edge\">\n<title>10&#45;&#45;9</title>\n<path fill=\"none\" stroke=\"#000000\" d=\"M630.5061,-80.4172C628.5496,-86.2947 626.3684,-92.847 624.4062,-98.7414\"/>\n</g>\n<!-- 9&#45;&#45;8 -->\n<g id=\"edge32\" class=\"edge\">\n<title>9&#45;&#45;8</title>\n<path fill=\"none\" stroke=\"#000000\" d=\"M609.0254,-133.6013C605.1879,-140.5218 600.7647,-148.4983 596.9331,-155.4081\"/>\n</g>\n<!-- 6 -->\n<g id=\"node32\" class=\"node\">\n<title>6</title>\n<ellipse fill=\"none\" stroke=\"#000000\" cx=\"708.9935\" cy=\"-246.5062\" rx=\"27\" ry=\"18\"/>\n<text text-anchor=\"middle\" x=\"708.9935\" y=\"-242.8062\" font-family=\"Times,serif\" font-size=\"14.00\" fill=\"#000000\">6</text>\n</g>\n<!-- 7&#45;&#45;6 -->\n<g id=\"edge35\" class=\"edge\">\n<title>7&#45;&#45;6</title>\n<path fill=\"none\" stroke=\"#000000\" d=\"M670.7178,-226.6353C676.2137,-229.4885 682.1159,-232.5527 687.6003,-235.3999\"/>\n</g>\n<!-- 5 -->\n<g id=\"node33\" class=\"node\">\n<title>5</title>\n<ellipse fill=\"none\" stroke=\"#000000\" cx=\"763.6343\" cy=\"-260.9144\" rx=\"27\" ry=\"18\"/>\n<text text-anchor=\"middle\" x=\"763.6343\" y=\"-257.2144\" font-family=\"Times,serif\" font-size=\"14.00\" fill=\"#000000\">5</text>\n</g>\n<!-- 6&#45;&#45;5 -->\n<g id=\"edge36\" class=\"edge\">\n<title>6&#45;&#45;5</title>\n<path fill=\"none\" stroke=\"#000000\" d=\"M734.3943,-253.2041C735.7321,-253.5569 737.076,-253.9113 738.4131,-254.2638\"/>\n</g>\n<!-- 4 -->\n<g id=\"node34\" class=\"node\">\n<title>4</title>\n<ellipse fill=\"none\" stroke=\"#000000\" cx=\"802.8965\" cy=\"-244.8834\" rx=\"27\" ry=\"18\"/>\n<text text-anchor=\"middle\" x=\"802.8965\" y=\"-241.1834\" font-family=\"Times,serif\" font-size=\"14.00\" fill=\"#000000\">4</text>\n</g>\n<!-- 5&#45;&#45;4 -->\n<g id=\"edge37\" class=\"edge\">\n<title>5&#45;&#45;4</title>\n<path fill=\"none\" stroke=\"#000000\" d=\"M786.9271,-251.4038C787.0592,-251.3499 787.191,-251.296 787.3227,-251.2423\"/>\n</g>\n<!-- 3 -->\n<g id=\"node35\" class=\"node\">\n<title>3</title>\n<ellipse fill=\"none\" stroke=\"#000000\" cx=\"782.2864\" cy=\"-208.5371\" rx=\"27\" ry=\"18\"/>\n<text text-anchor=\"middle\" x=\"782.2864\" y=\"-204.8371\" font-family=\"Times,serif\" font-size=\"14.00\" fill=\"#000000\">3</text>\n</g>\n<!-- 4&#45;&#45;3 -->\n<g id=\"edge38\" class=\"edge\">\n<title>4&#45;&#45;3</title>\n<path fill=\"none\" stroke=\"#000000\" d=\"M793.3155,-227.9871C792.895,-227.2456 792.4729,-226.5012 792.052,-225.7589\"/>\n</g>\n<!-- 2 -->\n<g id=\"node36\" class=\"node\">\n<title>2</title>\n<ellipse fill=\"none\" stroke=\"#000000\" cx=\"729.9901\" cy=\"-188.3614\" rx=\"27\" ry=\"18\"/>\n<text text-anchor=\"middle\" x=\"729.9901\" y=\"-184.6614\" font-family=\"Times,serif\" font-size=\"14.00\" fill=\"#000000\">2</text>\n</g>\n<!-- 3&#45;&#45;2 -->\n<g id=\"edge39\" class=\"edge\">\n<title>3&#45;&#45;2</title>\n<path fill=\"none\" stroke=\"#000000\" d=\"M758.8915,-199.5115C757.151,-198.84 755.394,-198.1621 753.6519,-197.49\"/>\n</g>\n<!-- 2&#45;&#45;1 -->\n<g id=\"edge40\" class=\"edge\">\n<title>2&#45;&#45;1</title>\n<path fill=\"none\" stroke=\"#000000\" d=\"M703.5928,-184.2639C699.0714,-183.562 694.3708,-182.8324 689.8431,-182.1295\"/>\n</g>\n</g>\n</svg>\n"
          },
          "metadata": {},
          "execution_count": 39
        }
      ]
    },
    {
      "cell_type": "code",
      "source": [
        "g = olympic_rings*2\n",
        "g[0,1] = g[1,0] = 3\n",
        "vector = [f(g) for f in functions8.values()]\n",
        "m = sp.Matrix(43, 1, lambda i,j: sp.Rational(vector[i]))"
      ],
      "metadata": {
        "id": "6UFiMhc5WTHf"
      },
      "execution_count": 40,
      "outputs": []
    },
    {
      "cell_type": "code",
      "source": [
        "m.T*b"
      ],
      "metadata": {
        "colab": {
          "base_uri": "https://localhost:8080/",
          "height": 38
        },
        "id": "VtReJ1jxXX3P",
        "outputId": "5e5317d2-ada8-4e8e-f15c-531c9ca8738f"
      },
      "execution_count": 41,
      "outputs": [
        {
          "output_type": "execute_result",
          "data": {
            "text/plain": [
              "Matrix([[1408]])"
            ],
            "text/latex": "$\\displaystyle \\left[\\begin{matrix}1408\\end{matrix}\\right]$"
          },
          "metadata": {},
          "execution_count": 41
        }
      ]
    },
    {
      "cell_type": "code",
      "source": [
        "3*(2**7) + 4*(2**8)"
      ],
      "metadata": {
        "colab": {
          "base_uri": "https://localhost:8080/"
        },
        "id": "eqAotwZcRJ1d",
        "outputId": "6a62e22b-60db-457c-8d79-9f1bd4a7583c"
      },
      "execution_count": 42,
      "outputs": [
        {
          "output_type": "execute_result",
          "data": {
            "text/plain": [
              "1408"
            ]
          },
          "metadata": {},
          "execution_count": 42
        }
      ]
    },
    {
      "cell_type": "code",
      "source": [
        "b.T*m"
      ],
      "metadata": {
        "colab": {
          "base_uri": "https://localhost:8080/",
          "height": 38
        },
        "id": "e13Ldhf4XYdG",
        "outputId": "28ab891e-2afd-4523-bb10-b10a1de1005a"
      },
      "execution_count": 43,
      "outputs": [
        {
          "output_type": "execute_result",
          "data": {
            "text/plain": [
              "Matrix([[1408]])"
            ],
            "text/latex": "$\\displaystyle \\left[\\begin{matrix}1408\\end{matrix}\\right]$"
          },
          "metadata": {},
          "execution_count": 43
        }
      ]
    },
    {
      "cell_type": "code",
      "source": [
        "vector = [f(K(8)) for f in functions8.values()]\n",
        "m = sp.Matrix(43, 1, lambda i,j: sp.Rational(vector[i]))\n",
        "m.T*b"
      ],
      "metadata": {
        "colab": {
          "base_uri": "https://localhost:8080/",
          "height": 38
        },
        "id": "jSrOR26vhccg",
        "outputId": "1953bcab-a6c2-4032-985f-df0ab98f3605"
      },
      "execution_count": 44,
      "outputs": [
        {
          "output_type": "execute_result",
          "data": {
            "text/plain": [
              "Matrix([[210]])"
            ],
            "text/latex": "$\\displaystyle \\left[\\begin{matrix}210\\end{matrix}\\right]$"
          },
          "metadata": {},
          "execution_count": 44
        }
      ]
    },
    {
      "cell_type": "code",
      "source": [
        "cyclesInKn(8, 8)"
      ],
      "metadata": {
        "colab": {
          "base_uri": "https://localhost:8080/"
        },
        "id": "exjwhy1Bje5F",
        "outputId": "c3f9720b-07b4-4599-b23a-ad3d22ef86af"
      },
      "execution_count": 45,
      "outputs": [
        {
          "output_type": "execute_result",
          "data": {
            "text/plain": [
              "2520.0"
            ]
          },
          "metadata": {},
          "execution_count": 45
        }
      ]
    },
    {
      "cell_type": "code",
      "source": [
        "vector = [f(cycle(8)*2) for f in functions8.values()]\n",
        "m = sp.Matrix(43, 1, lambda i,j: sp.Rational(vector[i]))\n",
        "m.T*b"
      ],
      "metadata": {
        "colab": {
          "base_uri": "https://localhost:8080/",
          "height": 38
        },
        "id": "7M1gHnYDjiaN",
        "outputId": "95cd7f0c-17be-4ec1-8d4e-2529d6a6512e"
      },
      "execution_count": 46,
      "outputs": [
        {
          "output_type": "execute_result",
          "data": {
            "text/plain": [
              "Matrix([[256]])"
            ],
            "text/latex": "$\\displaystyle \\left[\\begin{matrix}256\\end{matrix}\\right]$"
          },
          "metadata": {},
          "execution_count": 46
        }
      ]
    },
    {
      "cell_type": "code",
      "source": [
        "graphs = [combine(string_to_np_array(evenGraph), cycle(8)) for evenGraph in evenGraphs8]\n",
        "[[f(g) for f in functions8.values()] + [np.linalg.det(g)] for g in graphs]"
      ],
      "metadata": {
        "id": "0prloFvlnDXa",
        "colab": {
          "base_uri": "https://localhost:8080/"
        },
        "outputId": "1b3c83d5-d1a4-43b6-d44b-0c83c252d966"
      },
      "execution_count": 47,
      "outputs": [
        {
          "output_type": "execute_result",
          "data": {
            "text/plain": [
              "[[12064.0,\n",
              "  0.0,\n",
              "  0.0,\n",
              "  15568.0,\n",
              "  27680.0,\n",
              "  0.0,\n",
              "  50112.0,\n",
              "  8720.0,\n",
              "  0.0,\n",
              "  10032.0,\n",
              "  18912.0,\n",
              "  18656.0,\n",
              "  18160.0,\n",
              "  19552.0,\n",
              "  0.0,\n",
              "  0.0,\n",
              "  0.0,\n",
              "  5296.0,\n",
              "  5368.0,\n",
              "  0.0,\n",
              "  5440.0,\n",
              "  9960.0,\n",
              "  10104.0,\n",
              "  3680.0,\n",
              "  2064.0,\n",
              "  3752.0,\n",
              "  7104.0,\n",
              "  12704.0,\n",
              "  13952.0,\n",
              "  5296.0,\n",
              "  6608.0,\n",
              "  6752.0,\n",
              "  0.0,\n",
              "  0.0,\n",
              "  15936.0,\n",
              "  0.0,\n",
              "  14768.0,\n",
              "  30208.0,\n",
              "  0.0,\n",
              "  0.0,\n",
              "  0.0,\n",
              "  0.0,\n",
              "  0.0,\n",
              "  0.0],\n",
              " [6704.0,\n",
              "  3456.0,\n",
              "  2880.0,\n",
              "  10296.0,\n",
              "  28224.0,\n",
              "  12672.0,\n",
              "  88512.0,\n",
              "  4424.0,\n",
              "  1440.0,\n",
              "  6252.0,\n",
              "  14544.0,\n",
              "  13968.0,\n",
              "  13584.0,\n",
              "  14952.0,\n",
              "  384.0,\n",
              "  1248.0,\n",
              "  1248.0,\n",
              "  2304.0,\n",
              "  2376.0,\n",
              "  384.0,\n",
              "  3024.0,\n",
              "  5652.0,\n",
              "  5748.0,\n",
              "  1400.0,\n",
              "  1048.0,\n",
              "  1760.0,\n",
              "  3280.0,\n",
              "  7040.0,\n",
              "  8096.0,\n",
              "  2016.0,\n",
              "  3040.0,\n",
              "  3136.0,\n",
              "  192.0,\n",
              "  624.0,\n",
              "  13096.0,\n",
              "  4128.0,\n",
              "  10560.0,\n",
              "  34376.0,\n",
              "  1152.0,\n",
              "  768.0,\n",
              "  1152.0,\n",
              "  3744.0,\n",
              "  3744.0,\n",
              "  0.0],\n",
              " [2208.0,\n",
              "  80.0,\n",
              "  76.0,\n",
              "  3172.0,\n",
              "  5648.0,\n",
              "  312.0,\n",
              "  11076.0,\n",
              "  1604.0,\n",
              "  76.0,\n",
              "  1944.0,\n",
              "  3776.0,\n",
              "  3648.0,\n",
              "  3512.0,\n",
              "  4080.0,\n",
              "  12.0,\n",
              "  44.0,\n",
              "  44.0,\n",
              "  868.0,\n",
              "  1012.0,\n",
              "  12.0,\n",
              "  1156.0,\n",
              "  1800.0,\n",
              "  1968.0,\n",
              "  704.0,\n",
              "  540.0,\n",
              "  848.0,\n",
              "  1440.0,\n",
              "  2512.0,\n",
              "  3008.0,\n",
              "  868.0,\n",
              "  1208.0,\n",
              "  1376.0,\n",
              "  12.0,\n",
              "  44.0,\n",
              "  2964.0,\n",
              "  120.0,\n",
              "  2780.0,\n",
              "  6212.0,\n",
              "  24.0,\n",
              "  12.0,\n",
              "  24.0,\n",
              "  88.0,\n",
              "  88.0,\n",
              "  0.0],\n",
              " [688.0,\n",
              "  96.0,\n",
              "  112.0,\n",
              "  1096.0,\n",
              "  2776.0,\n",
              "  480.0,\n",
              "  7840.0,\n",
              "  376.0,\n",
              "  80.0,\n",
              "  476.0,\n",
              "  1520.0,\n",
              "  1392.0,\n",
              "  1340.0,\n",
              "  1576.0,\n",
              "  16.0,\n",
              "  48.0,\n",
              "  56.0,\n",
              "  160.0,\n",
              "  160.0,\n",
              "  16.0,\n",
              "  160.0,\n",
              "  476.0,\n",
              "  476.0,\n",
              "  88.0,\n",
              "  32.0,\n",
              "  88.0,\n",
              "  272.0,\n",
              "  736.0,\n",
              "  928.0,\n",
              "  160.0,\n",
              "  240.0,\n",
              "  240.0,\n",
              "  12.0,\n",
              "  40.0,\n",
              "  1040.0,\n",
              "  168.0,\n",
              "  896.0,\n",
              "  3252.0,\n",
              "  40.0,\n",
              "  20.0,\n",
              "  40.0,\n",
              "  128.0,\n",
              "  144.0,\n",
              "  0.0],\n",
              " [688.0,\n",
              "  0.0,\n",
              "  0.0,\n",
              "  1656.0,\n",
              "  4288.0,\n",
              "  0.0,\n",
              "  11968.0,\n",
              "  520.0,\n",
              "  0.0,\n",
              "  580.0,\n",
              "  1872.0,\n",
              "  1712.0,\n",
              "  1640.0,\n",
              "  1944.0,\n",
              "  0.0,\n",
              "  0.0,\n",
              "  0.0,\n",
              "  192.0,\n",
              "  192.0,\n",
              "  0.0,\n",
              "  192.0,\n",
              "  580.0,\n",
              "  580.0,\n",
              "  88.0,\n",
              "  32.0,\n",
              "  88.0,\n",
              "  272.0,\n",
              "  736.0,\n",
              "  928.0,\n",
              "  192.0,\n",
              "  240.0,\n",
              "  240.0,\n",
              "  0.0,\n",
              "  0.0,\n",
              "  1448.0,\n",
              "  0.0,\n",
              "  1376.0,\n",
              "  4576.0,\n",
              "  0.0,\n",
              "  0.0,\n",
              "  0.0,\n",
              "  0.0,\n",
              "  0.0,\n",
              "  0.0],\n",
              " [496.0,\n",
              "  0.0,\n",
              "  0.0,\n",
              "  864.0,\n",
              "  1920.0,\n",
              "  0.0,\n",
              "  4608.0,\n",
              "  320.0,\n",
              "  0.0,\n",
              "  380.0,\n",
              "  1104.0,\n",
              "  944.0,\n",
              "  928.0,\n",
              "  1128.0,\n",
              "  0.0,\n",
              "  0.0,\n",
              "  0.0,\n",
              "  144.0,\n",
              "  144.0,\n",
              "  0.0,\n",
              "  144.0,\n",
              "  380.0,\n",
              "  380.0,\n",
              "  80.0,\n",
              "  32.0,\n",
              "  80.0,\n",
              "  224.0,\n",
              "  512.0,\n",
              "  704.0,\n",
              "  144.0,\n",
              "  192.0,\n",
              "  192.0,\n",
              "  0.0,\n",
              "  0.0,\n",
              "  776.0,\n",
              "  0.0,\n",
              "  704.0,\n",
              "  2120.0,\n",
              "  0.0,\n",
              "  0.0,\n",
              "  0.0,\n",
              "  0.0,\n",
              "  0.0,\n",
              "  0.0],\n",
              " [488.0,\n",
              "  24.0,\n",
              "  26.0,\n",
              "  752.0,\n",
              "  1464.0,\n",
              "  96.0,\n",
              "  3264.0,\n",
              "  272.0,\n",
              "  26.0,\n",
              "  336.0,\n",
              "  968.0,\n",
              "  832.0,\n",
              "  808.0,\n",
              "  992.0,\n",
              "  6.0,\n",
              "  16.0,\n",
              "  16.0,\n",
              "  128.0,\n",
              "  128.0,\n",
              "  6.0,\n",
              "  128.0,\n",
              "  336.0,\n",
              "  336.0,\n",
              "  80.0,\n",
              "  32.0,\n",
              "  80.0,\n",
              "  224.0,\n",
              "  512.0,\n",
              "  704.0,\n",
              "  128.0,\n",
              "  192.0,\n",
              "  192.0,\n",
              "  6.0,\n",
              "  16.0,\n",
              "  614.0,\n",
              "  42.0,\n",
              "  544.0,\n",
              "  1656.0,\n",
              "  12.0,\n",
              "  6.0,\n",
              "  12.0,\n",
              "  32.0,\n",
              "  32.0,\n",
              "  0.0],\n",
              " [368.0,\n",
              "  0.0,\n",
              "  0.0,\n",
              "  520.0,\n",
              "  1016.0,\n",
              "  0.0,\n",
              "  2144.0,\n",
              "  216.0,\n",
              "  0.0,\n",
              "  264.0,\n",
              "  672.0,\n",
              "  608.0,\n",
              "  592.0,\n",
              "  688.0,\n",
              "  0.0,\n",
              "  0.0,\n",
              "  0.0,\n",
              "  112.0,\n",
              "  112.0,\n",
              "  0.0,\n",
              "  112.0,\n",
              "  264.0,\n",
              "  264.0,\n",
              "  72.0,\n",
              "  32.0,\n",
              "  72.0,\n",
              "  176.0,\n",
              "  384.0,\n",
              "  480.0,\n",
              "  112.0,\n",
              "  160.0,\n",
              "  160.0,\n",
              "  0.0,\n",
              "  0.0,\n",
              "  464.0,\n",
              "  0.0,\n",
              "  416.0,\n",
              "  1136.0,\n",
              "  0.0,\n",
              "  0.0,\n",
              "  0.0,\n",
              "  0.0,\n",
              "  0.0,\n",
              "  0.0],\n",
              " [5744.0,\n",
              "  0.0,\n",
              "  0.0,\n",
              "  10744.0,\n",
              "  22496.0,\n",
              "  0.0,\n",
              "  48192.0,\n",
              "  5320.0,\n",
              "  0.0,\n",
              "  6028.0,\n",
              "  11440.0,\n",
              "  11440.0,\n",
              "  11344.0,\n",
              "  12360.0,\n",
              "  0.0,\n",
              "  0.0,\n",
              "  0.0,\n",
              "  2656.0,\n",
              "  2944.0,\n",
              "  0.0,\n",
              "  3232.0,\n",
              "  5500.0,\n",
              "  5980.0,\n",
              "  1720.0,\n",
              "  1048.0,\n",
              "  1864.0,\n",
              "  3472.0,\n",
              "  6240.0,\n",
              "  7072.0,\n",
              "  2656.0,\n",
              "  3056.0,\n",
              "  3296.0,\n",
              "  0.0,\n",
              "  0.0,\n",
              "  11080.0,\n",
              "  0.0,\n",
              "  10784.0,\n",
              "  23288.0,\n",
              "  0.0,\n",
              "  0.0,\n",
              "  0.0,\n",
              "  0.0,\n",
              "  0.0,\n",
              "  0.0],\n",
              " [6064.0,\n",
              "  1152.0,\n",
              "  1024.0,\n",
              "  7800.0,\n",
              "  15024.0,\n",
              "  3584.0,\n",
              "  33536.0,\n",
              "  4168.0,\n",
              "  1024.0,\n",
              "  4980.0,\n",
              "  9808.0,\n",
              "  9616.0,\n",
              "  9512.0,\n",
              "  10168.0,\n",
              "  288.0,\n",
              "  640.0,\n",
              "  640.0,\n",
              "  2400.0,\n",
              "  2544.0,\n",
              "  288.0,\n",
              "  2688.0,\n",
              "  4788.0,\n",
              "  4956.0,\n",
              "  1720.0,\n",
              "  1048.0,\n",
              "  1864.0,\n",
              "  3472.0,\n",
              "  6384.0,\n",
              "  7072.0,\n",
              "  2400.0,\n",
              "  3144.0,\n",
              "  3312.0,\n",
              "  288.0,\n",
              "  640.0,\n",
              "  8296.0,\n",
              "  1696.0,\n",
              "  7296.0,\n",
              "  17296.0,\n",
              "  576.0,\n",
              "  288.0,\n",
              "  576.0,\n",
              "  1280.0,\n",
              "  1280.0,\n",
              "  0.0],\n",
              " [151728.0,\n",
              "  0.0,\n",
              "  0.0,\n",
              "  172024.0,\n",
              "  192672.0,\n",
              "  0.0,\n",
              "  224576.0,\n",
              "  150344.0,\n",
              "  0.0,\n",
              "  158636.0,\n",
              "  173680.0,\n",
              "  169264.0,\n",
              "  169760.0,\n",
              "  180744.0,\n",
              "  0.0,\n",
              "  0.0,\n",
              "  0.0,\n",
              "  133216.0,\n",
              "  140416.0,\n",
              "  0.0,\n",
              "  147616.0,\n",
              "  150956.0,\n",
              "  157676.0,\n",
              "  132152.0,\n",
              "  131096.0,\n",
              "  139352.0,\n",
              "  149264.0,\n",
              "  158400.0,\n",
              "  170912.0,\n",
              "  133216.0,\n",
              "  140992.0,\n",
              "  147712.0,\n",
              "  0.0,\n",
              "  0.0,\n",
              "  169928.0,\n",
              "  0.0,\n",
              "  167840.0,\n",
              "  194696.0,\n",
              "  0.0,\n",
              "  0.0,\n",
              "  0.0,\n",
              "  0.0,\n",
              "  0.0,\n",
              "  0.0],\n",
              " [2672.0,\n",
              "  0.0,\n",
              "  0.0,\n",
              "  3704.0,\n",
              "  6144.0,\n",
              "  0.0,\n",
              "  12480.0,\n",
              "  2120.0,\n",
              "  0.0,\n",
              "  2524.0,\n",
              "  4400.0,\n",
              "  3952.0,\n",
              "  3888.0,\n",
              "  4520.0,\n",
              "  0.0,\n",
              "  0.0,\n",
              "  0.0,\n",
              "  1376.0,\n",
              "  1520.0,\n",
              "  0.0,\n",
              "  1664.0,\n",
              "  2332.0,\n",
              "  2380.0,\n",
              "  1208.0,\n",
              "  1048.0,\n",
              "  1352.0,\n",
              "  1936.0,\n",
              "  2784.0,\n",
              "  3488.0,\n",
              "  1376.0,\n",
              "  1712.0,\n",
              "  1760.0,\n",
              "  0.0,\n",
              "  0.0,\n",
              "  3592.0,\n",
              "  0.0,\n",
              "  3168.0,\n",
              "  6936.0,\n",
              "  0.0,\n",
              "  0.0,\n",
              "  0.0,\n",
              "  0.0,\n",
              "  0.0,\n",
              "  0.0],\n",
              " [2800.0,\n",
              "  0.0,\n",
              "  0.0,\n",
              "  3704.0,\n",
              "  6384.0,\n",
              "  0.0,\n",
              "  13312.0,\n",
              "  2120.0,\n",
              "  0.0,\n",
              "  2612.0,\n",
              "  4496.0,\n",
              "  4240.0,\n",
              "  4072.0,\n",
              "  4664.0,\n",
              "  0.0,\n",
              "  0.0,\n",
              "  0.0,\n",
              "  1376.0,\n",
              "  1520.0,\n",
              "  0.0,\n",
              "  1664.0,\n",
              "  2420.0,\n",
              "  2396.0,\n",
              "  1208.0,\n",
              "  1048.0,\n",
              "  1352.0,\n",
              "  1936.0,\n",
              "  2928.0,\n",
              "  3488.0,\n",
              "  1376.0,\n",
              "  1800.0,\n",
              "  1776.0,\n",
              "  0.0,\n",
              "  0.0,\n",
              "  3784.0,\n",
              "  0.0,\n",
              "  3200.0,\n",
              "  7376.0,\n",
              "  0.0,\n",
              "  0.0,\n",
              "  0.0,\n",
              "  0.0,\n",
              "  0.0,\n",
              "  0.0],\n",
              " [4464.0,\n",
              "  0.0,\n",
              "  0.0,\n",
              "  6712.0,\n",
              "  10800.0,\n",
              "  0.0,\n",
              "  19200.0,\n",
              "  3720.0,\n",
              "  0.0,\n",
              "  4100.0,\n",
              "  7504.0,\n",
              "  6992.0,\n",
              "  6792.0,\n",
              "  7896.0,\n",
              "  0.0,\n",
              "  0.0,\n",
              "  0.0,\n",
              "  2272.0,\n",
              "  2344.0,\n",
              "  0.0,\n",
              "  2416.0,\n",
              "  4004.0,\n",
              "  4124.0,\n",
              "  1656.0,\n",
              "  1048.0,\n",
              "  1728.0,\n",
              "  3088.0,\n",
              "  4816.0,\n",
              "  6048.0,\n",
              "  2272.0,\n",
              "  2616.0,\n",
              "  2736.0,\n",
              "  0.0,\n",
              "  0.0,\n",
              "  6184.0,\n",
              "  0.0,\n",
              "  5888.0,\n",
              "  11536.0,\n",
              "  0.0,\n",
              "  0.0,\n",
              "  0.0,\n",
              "  0.0,\n",
              "  0.0,\n",
              "  0.0],\n",
              " [5232.0,\n",
              "  0.0,\n",
              "  0.0,\n",
              "  11640.0,\n",
              "  16000.0,\n",
              "  0.0,\n",
              "  28352.0,\n",
              "  4744.0,\n",
              "  0.0,\n",
              "  5148.0,\n",
              "  12208.0,\n",
              "  8432.0,\n",
              "  8176.0,\n",
              "  12648.0,\n",
              "  0.0,\n",
              "  0.0,\n",
              "  0.0,\n",
              "  2400.0,\n",
              "  2544.0,\n",
              "  0.0,\n",
              "  2688.0,\n",
              "  4956.0,\n",
              "  5004.0,\n",
              "  1720.0,\n",
              "  1048.0,\n",
              "  1864.0,\n",
              "  4048.0,\n",
              "  5536.0,\n",
              "  10912.0,\n",
              "  2400.0,\n",
              "  2736.0,\n",
              "  2784.0,\n",
              "  0.0,\n",
              "  0.0,\n",
              "  7816.0,\n",
              "  0.0,\n",
              "  7392.0,\n",
              "  16856.0,\n",
              "  0.0,\n",
              "  0.0,\n",
              "  0.0,\n",
              "  0.0,\n",
              "  0.0,\n",
              "  0.0],\n",
              " [175920.0,\n",
              "  9216.0,\n",
              "  5248.0,\n",
              "  212472.0,\n",
              "  266912.0,\n",
              "  23296.0,\n",
              "  378688.0,\n",
              "  169416.0,\n",
              "  3968.0,\n",
              "  187180.0,\n",
              "  220272.0,\n",
              "  216880.0,\n",
              "  216672.0,\n",
              "  235784.0,\n",
              "  2176.0,\n",
              "  2688.0,\n",
              "  3648.0,\n",
              "  135264.0,\n",
              "  149664.0,\n",
              "  1216.0,\n",
              "  164064.0,\n",
              "  171820.0,\n",
              "  186220.0,\n",
              "  133176.0,\n",
              "  131096.0,\n",
              "  147576.0,\n",
              "  167312.0,\n",
              "  191424.0,\n",
              "  210336.0,\n",
              "  135264.0,\n",
              "  152000.0,\n",
              "  166400.0,\n",
              "  1152.0,\n",
              "  2496.0,\n",
              "  215240.0,\n",
              "  9984.0,\n",
              "  208544.0,\n",
              "  279624.0,\n",
              "  2560.0,\n",
              "  1280.0,\n",
              "  4480.0,\n",
              "  7680.0,\n",
              "  9600.0,\n",
              "  0.0],\n",
              " [4080.0,\n",
              "  768.0,\n",
              "  608.0,\n",
              "  4792.0,\n",
              "  9920.0,\n",
              "  2752.0,\n",
              "  25792.0,\n",
              "  2568.0,\n",
              "  480.0,\n",
              "  3404.0,\n",
              "  6512.0,\n",
              "  6448.0,\n",
              "  6288.0,\n",
              "  6664.0,\n",
              "  160.0,\n",
              "  352.0,\n",
              "  368.0,\n",
              "  1504.0,\n",
              "  1720.0,\n",
              "  112.0,\n",
              "  1936.0,\n",
              "  3116.0,\n",
              "  3116.0,\n",
              "  1272.0,\n",
              "  1048.0,\n",
              "  1488.0,\n",
              "  2320.0,\n",
              "  4224.0,\n",
              "  4512.0,\n",
              "  1504.0,\n",
              "  2240.0,\n",
              "  2240.0,\n",
              "  96.0,\n",
              "  272.0,\n",
              "  5512.0,\n",
              "  1088.0,\n",
              "  4384.0,\n",
              "  12280.0,\n",
              "  256.0,\n",
              "  128.0,\n",
              "  352.0,\n",
              "  896.0,\n",
              "  928.0,\n",
              "  0.0],\n",
              " [6640.0,\n",
              "  768.0,\n",
              "  736.0,\n",
              "  12728.0,\n",
              "  20816.0,\n",
              "  3264.0,\n",
              "  44672.0,\n",
              "  5192.0,\n",
              "  544.0,\n",
              "  5972.0,\n",
              "  14416.0,\n",
              "  11536.0,\n",
              "  11096.0,\n",
              "  15224.0,\n",
              "  160.0,\n",
              "  352.0,\n",
              "  432.0,\n",
              "  2528.0,\n",
              "  2744.0,\n",
              "  112.0,\n",
              "  2960.0,\n",
              "  5684.0,\n",
              "  5948.0,\n",
              "  1784.0,\n",
              "  1048.0,\n",
              "  2000.0,\n",
              "  4432.0,\n",
              "  7408.0,\n",
              "  11936.0,\n",
              "  2528.0,\n",
              "  3208.0,\n",
              "  3472.0,\n",
              "  96.0,\n",
              "  304.0,\n",
              "  9832.0,\n",
              "  1216.0,\n",
              "  9024.0,\n",
              "  23232.0,\n",
              "  256.0,\n",
              "  128.0,\n",
              "  352.0,\n",
              "  960.0,\n",
              "  1120.0,\n",
              "  0.0],\n",
              " [45616.0,\n",
              "  0.0,\n",
              "  0.0,\n",
              "  56376.0,\n",
              "  95072.0,\n",
              "  0.0,\n",
              "  175168.0,\n",
              "  39688.0,\n",
              "  0.0,\n",
              "  50508.0,\n",
              "  67632.0,\n",
              "  66032.0,\n",
              "  65344.0,\n",
              "  69256.0,\n",
              "  0.0,\n",
              "  0.0,\n",
              "  0.0,\n",
              "  31200.0,\n",
              "  32352.0,\n",
              "  0.0,\n",
              "  38112.0,\n",
              "  44892.0,\n",
              "  46044.0,\n",
              "  27256.0,\n",
              "  26264.0,\n",
              "  30712.0,\n",
              "  36752.0,\n",
              "  47168.0,\n",
              "  50848.0,\n",
              "  28896.0,\n",
              "  35072.0,\n",
              "  36224.0,\n",
              "  0.0,\n",
              "  0.0,\n",
              "  68936.0,\n",
              "  0.0,\n",
              "  59232.0,\n",
              "  106312.0,\n",
              "  0.0,\n",
              "  0.0,\n",
              "  0.0,\n",
              "  0.0,\n",
              "  0.0,\n",
              "  0.0],\n",
              " [88240.0,\n",
              "  0.0,\n",
              "  0.0,\n",
              "  147960.0,\n",
              "  214432.0,\n",
              "  0.0,\n",
              "  335680.0,\n",
              "  86728.0,\n",
              "  0.0,\n",
              "  91756.0,\n",
              "  150768.0,\n",
              "  133424.0,\n",
              "  133376.0,\n",
              "  158088.0,\n",
              "  0.0,\n",
              "  0.0,\n",
              "  0.0,\n",
              "  53856.0,\n",
              "  56160.0,\n",
              "  0.0,\n",
              "  58464.0,\n",
              "  87436.0,\n",
              "  91468.0,\n",
              "  39736.0,\n",
              "  26264.0,\n",
              "  40888.0,\n",
              "  69008.0,\n",
              "  92032.0,\n",
              "  125344.0,\n",
              "  53856.0,\n",
              "  56544.0,\n",
              "  58560.0,\n",
              "  0.0,\n",
              "  0.0,\n",
              "  133064.0,\n",
              "  0.0,\n",
              "  131744.0,\n",
              "  217192.0,\n",
              "  0.0,\n",
              "  0.0,\n",
              "  0.0,\n",
              "  0.0,\n",
              "  0.0,\n",
              "  0.0],\n",
              " [36976.0,\n",
              "  6144.0,\n",
              "  4704.0,\n",
              "  53816.0,\n",
              "  84528.0,\n",
              "  18240.0,\n",
              "  166080.0,\n",
              "  31528.0,\n",
              "  3936.0,\n",
              "  36500.0,\n",
              "  60368.0,\n",
              "  54672.0,\n",
              "  54592.0,\n",
              "  63352.0,\n",
              "  1248.0,\n",
              "  2688.0,\n",
              "  2832.0,\n",
              "  19856.0,\n",
              "  22016.0,\n",
              "  1200.0,\n",
              "  24560.0,\n",
              "  33572.0,\n",
              "  35828.0,\n",
              "  16696.0,\n",
              "  13656.0,\n",
              "  18856.0,\n",
              "  28176.0,\n",
              "  39360.0,\n",
              "  50080.0,\n",
              "  19808.0,\n",
              "  23808.0,\n",
              "  25728.0,\n",
              "  1056.0,\n",
              "  2352.0,\n",
              "  52728.0,\n",
              "  7776.0,\n",
              "  48224.0,\n",
              "  93784.0,\n",
              "  2688.0,\n",
              "  1344.0,\n",
              "  2784.0,\n",
              "  6336.0,\n",
              "  6624.0,\n",
              "  0.0],\n",
              " [854896.0,\n",
              "  0.0,\n",
              "  0.0,\n",
              "  919544.0,\n",
              "  1021728.0,\n",
              "  0.0,\n",
              "  1150272.0,\n",
              "  850248.0,\n",
              "  0.0,\n",
              "  893068.0,\n",
              "  925872.0,\n",
              "  930224.0,\n",
              "  934384.0,\n",
              "  965192.0,\n",
              "  0.0,\n",
              "  0.0,\n",
              "  0.0,\n",
              "  786848.0,\n",
              "  815648.0,\n",
              "  0.0,\n",
              "  850208.0,\n",
              "  852988.0,\n",
              "  886108.0,\n",
              "  783800.0,\n",
              "  781272.0,\n",
              "  812600.0,\n",
              "  846480.0,\n",
              "  883616.0,\n",
              "  914336.0,\n",
              "  786528.0,\n",
              "  817808.0,\n",
              "  845408.0,\n",
              "  0.0,\n",
              "  0.0,\n",
              "  939528.0,\n",
              "  0.0,\n",
              "  929568.0,\n",
              "  1028376.0,\n",
              "  0.0,\n",
              "  0.0,\n",
              "  0.0,\n",
              "  0.0,\n",
              "  0.0,\n",
              "  0.0],\n",
              " [20080.0,\n",
              "  0.0,\n",
              "  0.0,\n",
              "  23032.0,\n",
              "  33568.0,\n",
              "  0.0,\n",
              "  55552.0,\n",
              "  18152.0,\n",
              "  0.0,\n",
              "  21116.0,\n",
              "  25776.0,\n",
              "  25872.0,\n",
              "  25784.0,\n",
              "  26920.0,\n",
              "  0.0,\n",
              "  0.0,\n",
              "  0.0,\n",
              "  14608.0,\n",
              "  15832.0,\n",
              "  0.0,\n",
              "  17440.0,\n",
              "  19196.0,\n",
              "  20084.0,\n",
              "  14072.0,\n",
              "  13656.0,\n",
              "  15296.0,\n",
              "  17424.0,\n",
              "  20912.0,\n",
              "  21920.0,\n",
              "  14560.0,\n",
              "  16648.0,\n",
              "  17296.0,\n",
              "  0.0,\n",
              "  0.0,\n",
              "  25944.0,\n",
              "  0.0,\n",
              "  23616.0,\n",
              "  36688.0,\n",
              "  0.0,\n",
              "  0.0,\n",
              "  0.0,\n",
              "  0.0,\n",
              "  0.0,\n",
              "  0.0],\n",
              " [32432.0,\n",
              "  0.0,\n",
              "  0.0,\n",
              "  52728.0,\n",
              "  73936.0,\n",
              "  0.0,\n",
              "  113728.0,\n",
              "  31080.0,\n",
              "  0.0,\n",
              "  34580.0,\n",
              "  54608.0,\n",
              "  47632.0,\n",
              "  47280.0,\n",
              "  58680.0,\n",
              "  0.0,\n",
              "  0.0,\n",
              "  0.0,\n",
              "  19728.0,\n",
              "  21816.0,\n",
              "  0.0,\n",
              "  24288.0,\n",
              "  31700.0,\n",
              "  34532.0,\n",
              "  16632.0,\n",
              "  13656.0,\n",
              "  18720.0,\n",
              "  27792.0,\n",
              "  35520.0,\n",
              "  49056.0,\n",
              "  19680.0,\n",
              "  22304.0,\n",
              "  24704.0,\n",
              "  0.0,\n",
              "  0.0,\n",
              "  46584.0,\n",
              "  0.0,\n",
              "  45856.0,\n",
              "  75656.0,\n",
              "  0.0,\n",
              "  0.0,\n",
              "  0.0,\n",
              "  0.0,\n",
              "  0.0,\n",
              "  0.0],\n",
              " [825216.0,\n",
              "  0.0,\n",
              "  0.0,\n",
              "  1351312.0,\n",
              "  1717152.0,\n",
              "  0.0,\n",
              "  2391104.0,\n",
              "  805584.0,\n",
              "  0.0,\n",
              "  822048.0,\n",
              "  1370944.0,\n",
              "  1153856.0,\n",
              "  1137920.0,\n",
              "  1401280.0,\n",
              "  0.0,\n",
              "  0.0,\n",
              "  0.0,\n",
              "  526384.0,\n",
              "  533584.0,\n",
              "  0.0,\n",
              "  540784.0,\n",
              "  814848.0,\n",
              "  829248.0,\n",
              "  394272.0,\n",
              "  262160.0,\n",
              "  401472.0,\n",
              "  673472.0,\n",
              "  855552.0,\n",
              "  1219200.0,\n",
              "  526384.0,\n",
              "  542848.0,\n",
              "  557248.0,\n",
              "  0.0,\n",
              "  0.0,\n",
              "  1119776.0,\n",
              "  0.0,\n",
              "  1117712.0,\n",
              "  1736256.0,\n",
              "  0.0,\n",
              "  0.0,\n",
              "  0.0,\n",
              "  0.0,\n",
              "  0.0,\n",
              "  0.0],\n",
              " [34661504.0,\n",
              "  0.0,\n",
              "  0.0,\n",
              "  35768464.0,\n",
              "  36844320.0,\n",
              "  0.0,\n",
              "  38021696.0,\n",
              "  34644560.0,\n",
              "  0.0,\n",
              "  35160928.0,\n",
              "  35785408.0,\n",
              "  35719872.0,\n",
              "  35719616.0,\n",
              "  36285632.0,\n",
              "  0.0,\n",
              "  0.0,\n",
              "  0.0,\n",
              "  33587248.0,\n",
              "  34095280.0,\n",
              "  0.0,\n",
              "  34603312.0,\n",
              "  34652896.0,\n",
              "  35152864.0,\n",
              "  33570848.0,\n",
              "  33554448.0,\n",
              "  34078880.0,\n",
              "  34628160.0,\n",
              "  35161728.0,\n",
              "  35752064.0,\n",
              "  33587248.0,\n",
              "  34103616.0,\n",
              "  34603584.0,\n",
              "  0.0,\n",
              "  0.0,\n",
              "  35718816.0,\n",
              "  0.0,\n",
              "  35702416.0,\n",
              "  36861248.0,\n",
              "  0.0,\n",
              "  0.0,\n",
              "  0.0,\n",
              "  0.0,\n",
              "  0.0,\n",
              "  0.0],\n",
              " [3843104.0,\n",
              "  0.0,\n",
              "  0.0,\n",
              "  4282576.0,\n",
              "  4692768.0,\n",
              "  0.0,\n",
              "  5231552.0,\n",
              "  3821072.0,\n",
              "  0.0,\n",
              "  3979312.0,\n",
              "  4304608.0,\n",
              "  4228320.0,\n",
              "  4226288.0,\n",
              "  4445792.0,\n",
              "  0.0,\n",
              "  0.0,\n",
              "  0.0,\n",
              "  3442864.0,\n",
              "  3590392.0,\n",
              "  0.0,\n",
              "  3737920.0,\n",
              "  3831784.0,\n",
              "  3970936.0,\n",
              "  3401312.0,\n",
              "  3359760.0,\n",
              "  3548840.0,\n",
              "  3779520.0,\n",
              "  3984288.0,\n",
              "  4241024.0,\n",
              "  3442864.0,\n",
              "  3601104.0,\n",
              "  3740256.0,\n",
              "  0.0,\n",
              "  0.0,\n",
              "  4223040.0,\n",
              "  0.0,\n",
              "  4203952.0,\n",
              "  4714496.0,\n",
              "  0.0,\n",
              "  0.0,\n",
              "  0.0,\n",
              "  0.0,\n",
              "  0.0,\n",
              "  0.0],\n",
              " [254496.0,\n",
              "  0.0,\n",
              "  0.0,\n",
              "  415952.0,\n",
              "  512032.0,\n",
              "  0.0,\n",
              "  706496.0,\n",
              "  249360.0,\n",
              "  0.0,\n",
              "  270256.0,\n",
              "  421088.0,\n",
              "  343776.0,\n",
              "  341616.0,\n",
              "  440672.0,\n",
              "  0.0,\n",
              "  0.0,\n",
              "  0.0,\n",
              "  166064.0,\n",
              "  184568.0,\n",
              "  0.0,\n",
              "  203072.0,\n",
              "  251752.0,\n",
              "  269176.0,\n",
              "  149088.0,\n",
              "  132112.0,\n",
              "  167592.0,\n",
              "  232384.0,\n",
              "  274080.0,\n",
              "  398976.0,\n",
              "  166064.0,\n",
              "  186960.0,\n",
              "  204384.0,\n",
              "  0.0,\n",
              "  0.0,\n",
              "  338752.0,\n",
              "  0.0,\n",
              "  335280.0,\n",
              "  518016.0,\n",
              "  0.0,\n",
              "  0.0,\n",
              "  0.0,\n",
              "  0.0,\n",
              "  0.0,\n",
              "  0.0],\n",
              " [15392.0,\n",
              "  0.0,\n",
              "  0.0,\n",
              "  28880.0,\n",
              "  44320.0,\n",
              "  0.0,\n",
              "  78784.0,\n",
              "  12304.0,\n",
              "  0.0,\n",
              "  13616.0,\n",
              "  31968.0,\n",
              "  25824.0,\n",
              "  24560.0,\n",
              "  33376.0,\n",
              "  0.0,\n",
              "  0.0,\n",
              "  0.0,\n",
              "  6320.0,\n",
              "  6392.0,\n",
              "  0.0,\n",
              "  6464.0,\n",
              "  13544.0,\n",
              "  13688.0,\n",
              "  4192.0,\n",
              "  2064.0,\n",
              "  4264.0,\n",
              "  10176.0,\n",
              "  16800.0,\n",
              "  26752.0,\n",
              "  6320.0,\n",
              "  7632.0,\n",
              "  7776.0,\n",
              "  0.0,\n",
              "  0.0,\n",
              "  22080.0,\n",
              "  0.0,\n",
              "  20912.0,\n",
              "  47360.0,\n",
              "  0.0,\n",
              "  0.0,\n",
              "  0.0,\n",
              "  0.0,\n",
              "  0.0,\n",
              "  0.0],\n",
              " [22304.0,\n",
              "  0.0,\n",
              "  0.0,\n",
              "  70864.0,\n",
              "  89760.0,\n",
              "  0.0,\n",
              "  152000.0,\n",
              "  21008.0,\n",
              "  0.0,\n",
              "  21616.0,\n",
              "  72160.0,\n",
              "  38880.0,\n",
              "  37424.0,\n",
              "  73952.0,\n",
              "  0.0,\n",
              "  0.0,\n",
              "  0.0,\n",
              "  8368.0,\n",
              "  8440.0,\n",
              "  0.0,\n",
              "  8512.0,\n",
              "  21544.0,\n",
              "  21880.0,\n",
              "  5216.0,\n",
              "  2064.0,\n",
              "  5288.0,\n",
              "  17856.0,\n",
              "  24096.0,\n",
              "  67712.0,\n",
              "  8368.0,\n",
              "  8976.0,\n",
              "  9312.0,\n",
              "  0.0,\n",
              "  0.0,\n",
              "  35520.0,\n",
              "  0.0,\n",
              "  35248.0,\n",
              "  91712.0,\n",
              "  0.0,\n",
              "  0.0,\n",
              "  0.0,\n",
              "  0.0,\n",
              "  0.0,\n",
              "  0.0],\n",
              " [19456.0,\n",
              "  0.0,\n",
              "  0.0,\n",
              "  38928.0,\n",
              "  81504.0,\n",
              "  0.0,\n",
              "  172864.0,\n",
              "  17936.0,\n",
              "  0.0,\n",
              "  18560.0,\n",
              "  41472.0,\n",
              "  40448.0,\n",
              "  39520.0,\n",
              "  42432.0,\n",
              "  0.0,\n",
              "  0.0,\n",
              "  0.0,\n",
              "  8496.0,\n",
              "  8640.0,\n",
              "  0.0,\n",
              "  8784.0,\n",
              "  18608.0,\n",
              "  18896.0,\n",
              "  4256.0,\n",
              "  2064.0,\n",
              "  4400.0,\n",
              "  9600.0,\n",
              "  20288.0,\n",
              "  22400.0,\n",
              "  8496.0,\n",
              "  9056.0,\n",
              "  9344.0,\n",
              "  0.0,\n",
              "  0.0,\n",
              "  38112.0,\n",
              "  0.0,\n",
              "  37712.0,\n",
              "  84032.0,\n",
              "  0.0,\n",
              "  0.0,\n",
              "  0.0,\n",
              "  0.0,\n",
              "  0.0,\n",
              "  0.0],\n",
              " [197664.0,\n",
              "  0.0,\n",
              "  0.0,\n",
              "  239824.0,\n",
              "  297248.0,\n",
              "  0.0,\n",
              "  396224.0,\n",
              "  185872.0,\n",
              "  0.0,\n",
              "  200496.0,\n",
              "  251616.0,\n",
              "  239840.0,\n",
              "  238576.0,\n",
              "  259168.0,\n",
              "  0.0,\n",
              "  0.0,\n",
              "  0.0,\n",
              "  149680.0,\n",
              "  158968.0,\n",
              "  0.0,\n",
              "  168256.0,\n",
              "  191208.0,\n",
              "  197496.0,\n",
              "  140896.0,\n",
              "  132112.0,\n",
              "  150184.0,\n",
              "  177088.0,\n",
              "  205216.0,\n",
              "  231040.0,\n",
              "  149680.0,\n",
              "  164304.0,\n",
              "  170592.0,\n",
              "  0.0,\n",
              "  0.0,\n",
              "  235072.0,\n",
              "  0.0,\n",
              "  226736.0,\n",
              "  307968.0,\n",
              "  0.0,\n",
              "  0.0,\n",
              "  0.0,\n",
              "  0.0,\n",
              "  0.0,\n",
              "  0.0],\n",
              " [244896.0,\n",
              "  0.0,\n",
              "  0.0,\n",
              "  338128.0,\n",
              "  455264.0,\n",
              "  0.0,\n",
              "  625856.0,\n",
              "  235024.0,\n",
              "  0.0,\n",
              "  257808.0,\n",
              "  348000.0,\n",
              "  341600.0,\n",
              "  333520.0,\n",
              "  379552.0,\n",
              "  0.0,\n",
              "  0.0,\n",
              "  0.0,\n",
              "  165040.0,\n",
              "  183544.0,\n",
              "  0.0,\n",
              "  202048.0,\n",
              "  239304.0,\n",
              "  262776.0,\n",
              "  148576.0,\n",
              "  132112.0,\n",
              "  167080.0,\n",
              "  218560.0,\n",
              "  276448.0,\n",
              "  321664.0,\n",
              "  165040.0,\n",
              "  187824.0,\n",
              "  211296.0,\n",
              "  0.0,\n",
              "  0.0,\n",
              "  322816.0,\n",
              "  0.0,\n",
              "  323504.0,\n",
              "  463968.0,\n",
              "  0.0,\n",
              "  0.0,\n",
              "  0.0,\n",
              "  0.0,\n",
              "  0.0,\n",
              "  0.0],\n",
              " [286464.0,\n",
              "  49152.0,\n",
              "  38912.0,\n",
              "  347152.0,\n",
              "  529760.0,\n",
              "  131072.0,\n",
              "  962368.0,\n",
              "  238096.0,\n",
              "  38912.0,\n",
              "  273408.0,\n",
              "  395520.0,\n",
              "  391424.0,\n",
              "  389536.0,\n",
              "  413632.0,\n",
              "  12288.0,\n",
              "  25600.0,\n",
              "  25600.0,\n",
              "  166192.0,\n",
              "  184768.0,\n",
              "  12288.0,\n",
              "  203344.0,\n",
              "  254832.0,\n",
              "  271056.0,\n",
              "  149152.0,\n",
              "  132112.0,\n",
              "  167728.0,\n",
              "  221056.0,\n",
              "  304576.0,\n",
              "  330112.0,\n",
              "  166192.0,\n",
              "  201504.0,\n",
              "  217728.0,\n",
              "  12288.0,\n",
              "  25600.0,\n",
              "  370144.0,\n",
              "  64512.0,\n",
              "  338768.0,\n",
              "  591232.0,\n",
              "  24576.0,\n",
              "  12288.0,\n",
              "  24576.0,\n",
              "  51200.0,\n",
              "  51200.0,\n",
              "  0.0],\n",
              " [23456.0,\n",
              "  6144.0,\n",
              "  5632.0,\n",
              "  32976.0,\n",
              "  64224.0,\n",
              "  19456.0,\n",
              "  147136.0,\n",
              "  14352.0,\n",
              "  5632.0,\n",
              "  17360.0,\n",
              "  42080.0,\n",
              "  39264.0,\n",
              "  38032.0,\n",
              "  43552.0,\n",
              "  1536.0,\n",
              "  3584.0,\n",
              "  3584.0,\n",
              "  7344.0,\n",
              "  7416.0,\n",
              "  1536.0,\n",
              "  7488.0,\n",
              "  17288.0,\n",
              "  17528.0,\n",
              "  4704.0,\n",
              "  2064.0,\n",
              "  4776.0,\n",
              "  11712.0,\n",
              "  24928.0,\n",
              "  30336.0,\n",
              "  7344.0,\n",
              "  10352.0,\n",
              "  10592.0,\n",
              "  1536.0,\n",
              "  3584.0,\n",
              "  31872.0,\n",
              "  9216.0,\n",
              "  27568.0,\n",
              "  75040.0,\n",
              "  3072.0,\n",
              "  1536.0,\n",
              "  3072.0,\n",
              "  7168.0,\n",
              "  7168.0,\n",
              "  0.0],\n",
              " [17904.0,\n",
              "  0.0,\n",
              "  0.0,\n",
              "  20772.0,\n",
              "  26032.0,\n",
              "  0.0,\n",
              "  35204.0,\n",
              "  16900.0,\n",
              "  0.0,\n",
              "  18464.0,\n",
              "  21776.0,\n",
              "  21712.0,\n",
              "  21552.0,\n",
              "  22944.0,\n",
              "  0.0,\n",
              "  0.0,\n",
              "  0.0,\n",
              "  13860.0,\n",
              "  15012.0,\n",
              "  0.0,\n",
              "  16164.0,\n",
              "  17312.0,\n",
              "  18320.0,\n",
              "  13504.0,\n",
              "  13148.0,\n",
              "  14656.0,\n",
              "  16544.0,\n",
              "  19072.0,\n",
              "  20416.0,\n",
              "  13860.0,\n",
              "  15424.0,\n",
              "  16432.0,\n",
              "  0.0,\n",
              "  0.0,\n",
              "  21116.0,\n",
              "  0.0,\n",
              "  20476.0,\n",
              "  27108.0,\n",
              "  0.0,\n",
              "  0.0,\n",
              "  0.0,\n",
              "  0.0,\n",
              "  0.0,\n",
              "  0.0],\n",
              " [2224.0,\n",
              "  192.0,\n",
              "  176.0,\n",
              "  3172.0,\n",
              "  5664.0,\n",
              "  640.0,\n",
              "  11588.0,\n",
              "  1604.0,\n",
              "  176.0,\n",
              "  1944.0,\n",
              "  3792.0,\n",
              "  3648.0,\n",
              "  3528.0,\n",
              "  4080.0,\n",
              "  48.0,\n",
              "  112.0,\n",
              "  112.0,\n",
              "  868.0,\n",
              "  1012.0,\n",
              "  48.0,\n",
              "  1156.0,\n",
              "  1800.0,\n",
              "  1968.0,\n",
              "  704.0,\n",
              "  540.0,\n",
              "  848.0,\n",
              "  1440.0,\n",
              "  2512.0,\n",
              "  3008.0,\n",
              "  868.0,\n",
              "  1208.0,\n",
              "  1376.0,\n",
              "  48.0,\n",
              "  112.0,\n",
              "  3012.0,\n",
              "  296.0,\n",
              "  2780.0,\n",
              "  6340.0,\n",
              "  96.0,\n",
              "  48.0,\n",
              "  96.0,\n",
              "  224.0,\n",
              "  224.0,\n",
              "  0.0],\n",
              " [2208.0,\n",
              "  0.0,\n",
              "  0.0,\n",
              "  3684.0,\n",
              "  7792.0,\n",
              "  0.0,\n",
              "  16708.0,\n",
              "  1828.0,\n",
              "  0.0,\n",
              "  2272.0,\n",
              "  4256.0,\n",
              "  4224.0,\n",
              "  4128.0,\n",
              "  4768.0,\n",
              "  0.0,\n",
              "  0.0,\n",
              "  0.0,\n",
              "  948.0,\n",
              "  1092.0,\n",
              "  0.0,\n",
              "  1308.0,\n",
              "  1996.0,\n",
              "  2248.0,\n",
              "  704.0,\n",
              "  540.0,\n",
              "  848.0,\n",
              "  1440.0,\n",
              "  2512.0,\n",
              "  3008.0,\n",
              "  932.0,\n",
              "  1208.0,\n",
              "  1376.0,\n",
              "  0.0,\n",
              "  0.0,\n",
              "  3876.0,\n",
              "  0.0,\n",
              "  3676.0,\n",
              "  8324.0,\n",
              "  0.0,\n",
              "  0.0,\n",
              "  0.0,\n",
              "  0.0,\n",
              "  0.0,\n",
              "  0.0],\n",
              " [1392.0,\n",
              "  0.0,\n",
              "  0.0,\n",
              "  2084.0,\n",
              "  3056.0,\n",
              "  0.0,\n",
              "  5380.0,\n",
              "  1156.0,\n",
              "  0.0,\n",
              "  1312.0,\n",
              "  2320.0,\n",
              "  2000.0,\n",
              "  1968.0,\n",
              "  2400.0,\n",
              "  0.0,\n",
              "  0.0,\n",
              "  0.0,\n",
              "  740.0,\n",
              "  812.0,\n",
              "  0.0,\n",
              "  884.0,\n",
              "  1240.0,\n",
              "  1288.0,\n",
              "  640.0,\n",
              "  540.0,\n",
              "  712.0,\n",
              "  1056.0,\n",
              "  1472.0,\n",
              "  1984.0,\n",
              "  740.0,\n",
              "  896.0,\n",
              "  944.0,\n",
              "  0.0,\n",
              "  0.0,\n",
              "  1812.0,\n",
              "  0.0,\n",
              "  1692.0,\n",
              "  3300.0,\n",
              "  0.0,\n",
              "  0.0,\n",
              "  0.0,\n",
              "  0.0,\n",
              "  0.0,\n",
              "  0.0],\n",
              " [18664.0,\n",
              "  912.0,\n",
              "  700.0,\n",
              "  21004.0,\n",
              "  27424.0,\n",
              "  2776.0,\n",
              "  42820.0,\n",
              "  16956.0,\n",
              "  700.0,\n",
              "  18720.0,\n",
              "  22712.0,\n",
              "  22568.0,\n",
              "  22560.0,\n",
              "  23584.0,\n",
              "  204.0,\n",
              "  452.0,\n",
              "  452.0,\n",
              "  13876.0,\n",
              "  15028.0,\n",
              "  204.0,\n",
              "  16180.0,\n",
              "  17568.0,\n",
              "  18432.0,\n",
              "  13512.0,\n",
              "  13148.0,\n",
              "  14664.0,\n",
              "  16592.0,\n",
              "  19536.0,\n",
              "  20640.0,\n",
              "  13876.0,\n",
              "  15640.0,\n",
              "  16504.0,\n",
              "  204.0,\n",
              "  452.0,\n",
              "  21956.0,\n",
              "  1200.0,\n",
              "  20684.0,\n",
              "  29676.0,\n",
              "  528.0,\n",
              "  204.0,\n",
              "  432.0,\n",
              "  1060.0,\n",
              "  1000.0,\n",
              "  0.0],\n",
              " [2696.0,\n",
              "  592.0,\n",
              "  540.0,\n",
              "  3916.0,\n",
              "  9408.0,\n",
              "  2408.0,\n",
              "  25604.0,\n",
              "  1884.0,\n",
              "  364.0,\n",
              "  2448.0,\n",
              "  5112.0,\n",
              "  5096.0,\n",
              "  5016.0,\n",
              "  5440.0,\n",
              "  76.0,\n",
              "  252.0,\n",
              "  260.0,\n",
              "  964.0,\n",
              "  1108.0,\n",
              "  88.0,\n",
              "  1324.0,\n",
              "  2196.0,\n",
              "  2376.0,\n",
              "  712.0,\n",
              "  540.0,\n",
              "  856.0,\n",
              "  1488.0,\n",
              "  2912.0,\n",
              "  3232.0,\n",
              "  948.0,\n",
              "  1328.0,\n",
              "  1448.0,\n",
              "  60.0,\n",
              "  180.0,\n",
              "  4524.0,\n",
              "  824.0,\n",
              "  3948.0,\n",
              "  10964.0,\n",
              "  240.0,\n",
              "  124.0,\n",
              "  216.0,\n",
              "  700.0,\n",
              "  712.0,\n",
              "  0.0],\n",
              " [22920.0,\n",
              "  1104.0,\n",
              "  732.0,\n",
              "  31820.0,\n",
              "  43456.0,\n",
              "  3288.0,\n",
              "  68932.0,\n",
              "  21116.0,\n",
              "  732.0,\n",
              "  24064.0,\n",
              "  33624.0,\n",
              "  31592.0,\n",
              "  31136.0,\n",
              "  36384.0,\n",
              "  204.0,\n",
              "  468.0,\n",
              "  468.0,\n",
              "  14516.0,\n",
              "  16820.0,\n",
              "  204.0,\n",
              "  19124.0,\n",
              "  21760.0,\n",
              "  24064.0,\n",
              "  13832.0,\n",
              "  13148.0,\n",
              "  16136.0,\n",
              "  20432.0,\n",
              "  25680.0,\n",
              "  31136.0,\n",
              "  14516.0,\n",
              "  17464.0,\n",
              "  19768.0,\n",
              "  204.0,\n",
              "  468.0,\n",
              "  30020.0,\n",
              "  1344.0,\n",
              "  29004.0,\n",
              "  46044.0,\n",
              "  432.0,\n",
              "  204.0,\n",
              "  480.0,\n",
              "  1044.0,\n",
              "  1224.0,\n",
              "  0.0],\n",
              " [1672.0,\n",
              "  80.0,\n",
              "  76.0,\n",
              "  2316.0,\n",
              "  3888.0,\n",
              "  392.0,\n",
              "  8324.0,\n",
              "  1212.0,\n",
              "  76.0,\n",
              "  1432.0,\n",
              "  2776.0,\n",
              "  2520.0,\n",
              "  2456.0,\n",
              "  2864.0,\n",
              "  12.0,\n",
              "  44.0,\n",
              "  44.0,\n",
              "  756.0,\n",
              "  828.0,\n",
              "  12.0,\n",
              "  900.0,\n",
              "  1360.0,\n",
              "  1384.0,\n",
              "  648.0,\n",
              "  540.0,\n",
              "  720.0,\n",
              "  1104.0,\n",
              "  1760.0,\n",
              "  2208.0,\n",
              "  756.0,\n",
              "  976.0,\n",
              "  1000.0,\n",
              "  12.0,\n",
              "  44.0,\n",
              "  2100.0,\n",
              "  136.0,\n",
              "  1868.0,\n",
              "  4444.0,\n",
              "  32.0,\n",
              "  12.0,\n",
              "  32.0,\n",
              "  116.0,\n",
              "  120.0,\n",
              "  0.0],\n",
              " [2392.0,\n",
              "  80.0,\n",
              "  92.0,\n",
              "  4940.0,\n",
              "  7392.0,\n",
              "  504.0,\n",
              "  14980.0,\n",
              "  1852.0,\n",
              "  92.0,\n",
              "  2184.0,\n",
              "  5480.0,\n",
              "  4024.0,\n",
              "  3832.0,\n",
              "  5744.0,\n",
              "  12.0,\n",
              "  52.0,\n",
              "  52.0,\n",
              "  884.0,\n",
              "  1028.0,\n",
              "  12.0,\n",
              "  1172.0,\n",
              "  2040.0,\n",
              "  2112.0,\n",
              "  712.0,\n",
              "  540.0,\n",
              "  856.0,\n",
              "  1680.0,\n",
              "  2656.0,\n",
              "  4768.0,\n",
              "  884.0,\n",
              "  1216.0,\n",
              "  1288.0,\n",
              "  12.0,\n",
              "  52.0,\n",
              "  3348.0,\n",
              "  160.0,\n",
              "  3052.0,\n",
              "  8164.0,\n",
              "  32.0,\n",
              "  12.0,\n",
              "  32.0,\n",
              "  124.0,\n",
              "  168.0,\n",
              "  0.0]]"
            ]
          },
          "metadata": {},
          "execution_count": 47
        }
      ]
    },
    {
      "cell_type": "code",
      "source": [
        "np.linalg.det(K(8))"
      ],
      "metadata": {
        "colab": {
          "base_uri": "https://localhost:8080/"
        },
        "id": "0QPITDbY2Xx2",
        "outputId": "97678b18-f7d2-4c8f-a8fd-f40287a43199"
      },
      "execution_count": 48,
      "outputs": [
        {
          "output_type": "execute_result",
          "data": {
            "text/plain": [
              "-6.999999999999995"
            ]
          },
          "metadata": {},
          "execution_count": 48
        }
      ]
    },
    {
      "cell_type": "code",
      "source": [
        "import itertools\n",
        "def count_graphs(host, sub):\n",
        "    count = 0\n",
        "    for node_comb in itertools.combinations(host.nodes, len(sub)):\n",
        "        node_sub = host.subgraph(node_comb)\n",
        "        for edge_comb in itertools.combinations(node_sub.edges, len(sub.edges)):\n",
        "            edge_sub = node_sub.edge_subgraph(edge_comb)\n",
        "            if nx.is_isomorphic(edge_sub, sub):\n",
        "                # count += 1 # for this to work on weighted graphs, need to add the product of edge weights here\n",
        "                weights = np.array(([e[2] for e in edge_sub.edges.data('weight', 1)]))\n",
        "                count += np.product(weights)\n",
        "    return count"
      ],
      "metadata": {
        "id": "7AhveUNHEGeJ"
      },
      "execution_count": 49,
      "outputs": []
    },
    {
      "cell_type": "code",
      "source": [
        "count_graphs(nx.complete_graph(5), nx.cycle_graph(4)) == cyclesInKn(4,5)"
      ],
      "metadata": {
        "colab": {
          "base_uri": "https://localhost:8080/"
        },
        "id": "swlQso3-lfEn",
        "outputId": "41a24b7f-3062-479d-886d-bc4ed34d01b6"
      },
      "execution_count": 50,
      "outputs": [
        {
          "output_type": "execute_result",
          "data": {
            "text/plain": [
              "True"
            ]
          },
          "metadata": {},
          "execution_count": 50
        }
      ]
    },
    {
      "cell_type": "code",
      "source": [
        "g = combine(cycle(6), cycle(6))*2\n",
        "g[0,1] = g[1,0] = 3\n",
        "count_graphs(nx.from_numpy_array(g), nx.cycle_graph(6)) == 160"
      ],
      "metadata": {
        "colab": {
          "base_uri": "https://localhost:8080/"
        },
        "id": "SZfFpWYNPkK4",
        "outputId": "b052c614-141f-4fe9-c9a6-f75a50ba4ffc"
      },
      "execution_count": 51,
      "outputs": [
        {
          "output_type": "execute_result",
          "data": {
            "text/plain": [
              "True"
            ]
          },
          "metadata": {},
          "execution_count": 51
        }
      ]
    },
    {
      "cell_type": "code",
      "source": [
        "count_graphs(nx.from_numpy_array(string_to_np_array(evenGraphs8[1])), nx.from_numpy_array()"
      ],
      "metadata": {
        "id": "4aC41rUsHqzn"
      },
      "execution_count": null,
      "outputs": []
    },
    {
      "cell_type": "code",
      "source": [
        "import math\n",
        "def validate_coefficients(coefs, functions, subgraph):\n",
        "    numEdges = len(subgraph.edges)\n",
        "    numVertices = len(subgraph)\n",
        "    for e in range(numEdges, (numVertices*(numVertices-1))//2+1):\n",
        "        print(f\"testing random graphs with {numVertices} vertices and {e} edges\")\n",
        "        for i in range(100):\n",
        "            host_np = weight_np_array(string_to_np_array(get_random_graph_strings(numVertices, e)[0]), min=1)\n",
        "            expected = count_graphs(nx.from_numpy_array(host_np), subgraph)\n",
        "            computed = np.dot(np.array([f(host_np) for f in functions]), coefs)\n",
        "            # if expected != computed:\n",
        "            if not math.isclose(expected, computed, abs_tol=1e-10):\n",
        "                print(host_np)\n",
        "                print(expected)\n",
        "                print(computed)\n",
        "                display(getGraphFromNumpy(host_np))\n",
        "                return\n"
      ],
      "metadata": {
        "id": "vu3Yy2wTsOuN"
      },
      "execution_count": 52,
      "outputs": []
    },
    {
      "cell_type": "code",
      "source": [
        "# validate_coefficients(np.array(coefs6).flatten(), experiment_func_6, nx.cycle_graph(6))\n",
        "# validate_coefficients(np.array(coefs6).flatten(), functions6, nx.cycle_graph(6))"
      ],
      "metadata": {
        "id": "Irv-30DZIJJg"
      },
      "execution_count": 53,
      "outputs": []
    },
    {
      "cell_type": "code",
      "source": [
        "# !apt install libgraphviz-dev\n",
        "# !pip install pygraphviz\n",
        "# a_g = nx.nx_agraph.to_agraph(nx.from_numpy_array(g))"
      ],
      "metadata": {
        "id": "a6bdhYpScAVl"
      },
      "execution_count": 54,
      "outputs": []
    },
    {
      "cell_type": "code",
      "source": [
        "def faddeev(A):\n",
        "    n = A.shape[0]\n",
        "    p = np.ones(n+1)\n",
        "    B = A\n",
        "    for i in range(1,n):\n",
        "        p[i] = -1*B.trace()/i\n",
        "        M = B + p[i]*np.identity(n)\n",
        "        B = A@M\n",
        "    p[-1] = -1*B.trace()/n\n",
        "    # Ainv = -1*M/p[-1]\n",
        "    # det = p[-1]*(-1)**n\n",
        "    # return p, Ainv, det\n",
        "    return p"
      ],
      "metadata": {
        "id": "4xcir1f-dR8c"
      },
      "execution_count": 55,
      "outputs": []
    },
    {
      "cell_type": "code",
      "source": [
        "faddeev(np.array([[1,2,3],[-2,1,0],[4,0,1]]))"
      ],
      "metadata": {
        "id": "F9CjyI0auaCx",
        "colab": {
          "base_uri": "https://localhost:8080/"
        },
        "outputId": "4783f716-6d19-403c-8a0b-59567fd3f2fe"
      },
      "execution_count": 56,
      "outputs": [
        {
          "output_type": "execute_result",
          "data": {
            "text/plain": [
              "array([ 1., -3., -5.,  7.])"
            ]
          },
          "metadata": {},
          "execution_count": 56
        }
      ]
    },
    {
      "cell_type": "code",
      "source": [
        "hosts = [combine(string_to_np_array(g), cycle(8)) for i,g in enumerate(evenGraphs8) if i not in duplicates8] + [K(8)]\n",
        "[faddeev(g)[-9] for g in hosts]"
      ],
      "metadata": {
        "id": "FfF_nHnkufbr",
        "colab": {
          "base_uri": "https://localhost:8080/"
        },
        "outputId": "23918873-9b4f-4153-fa2a-176cbbdeb897"
      },
      "execution_count": 57,
      "outputs": [
        {
          "output_type": "execute_result",
          "data": {
            "text/plain": [
              "[188.0,\n",
              " -16.0,\n",
              " 40.0,\n",
              " 32.0,\n",
              " -0.0,\n",
              " -236.0,\n",
              " -271.0,\n",
              " -0.0,\n",
              " 112.0,\n",
              " 128.0,\n",
              " 208.0,\n",
              " -0.0,\n",
              " -0.0,\n",
              " -0.0,\n",
              " -0.0,\n",
              " 136.0,\n",
              " 120.0,\n",
              " -0.0,\n",
              " -16.0,\n",
              " -0.0,\n",
              " 188.0,\n",
              " 156.0,\n",
              " -40.0,\n",
              " -0.0,\n",
              " -48.0,\n",
              " -0.0,\n",
              " 172.0,\n",
              " 140.0,\n",
              " -0.0,\n",
              " -0.0,\n",
              " -0.0,\n",
              " -32.0,\n",
              " -16.0,\n",
              " 157.0,\n",
              " 101.0,\n",
              " 141.0,\n",
              " 40.0,\n",
              " 32.0,\n",
              " 1.0]"
            ]
          },
          "metadata": {},
          "execution_count": 57
        }
      ]
    },
    {
      "cell_type": "code",
      "source": [
        "faddeev(K(8))"
      ],
      "metadata": {
        "id": "ShMofbKmEtbn",
        "colab": {
          "base_uri": "https://localhost:8080/"
        },
        "outputId": "fc06168c-2906-4f34-c997-2dc420e225f4"
      },
      "execution_count": 58,
      "outputs": [
        {
          "output_type": "execute_result",
          "data": {
            "text/plain": [
              "array([   1.,   -0.,  -28., -112., -210., -224., -140.,  -48.,   -7.])"
            ]
          },
          "metadata": {},
          "execution_count": 58
        }
      ]
    },
    {
      "cell_type": "code",
      "source": [
        "cyclesInKn(8,9)"
      ],
      "metadata": {
        "id": "pCVZQoMpFMRz",
        "colab": {
          "base_uri": "https://localhost:8080/"
        },
        "outputId": "c0d2ba00-ce5a-4243-f832-608a22ada96a"
      },
      "execution_count": 59,
      "outputs": [
        {
          "output_type": "execute_result",
          "data": {
            "text/plain": [
              "22680.0"
            ]
          },
          "metadata": {},
          "execution_count": 59
        }
      ]
    },
    {
      "cell_type": "code",
      "source": [
        "[f(combine(string_to_np_array(evenGraphs8[0]), cycle(8))) for f in functions8.values()]"
      ],
      "metadata": {
        "id": "6mlOmflQIC6X",
        "colab": {
          "base_uri": "https://localhost:8080/"
        },
        "outputId": "deae7a92-a84e-4fef-e9e3-ac3ae3ae86e4"
      },
      "execution_count": 60,
      "outputs": [
        {
          "output_type": "execute_result",
          "data": {
            "text/plain": [
              "[12064.0,\n",
              " 0.0,\n",
              " 0.0,\n",
              " 15568.0,\n",
              " 27680.0,\n",
              " 0.0,\n",
              " 50112.0,\n",
              " 8720.0,\n",
              " 0.0,\n",
              " 10032.0,\n",
              " 18912.0,\n",
              " 18656.0,\n",
              " 18160.0,\n",
              " 19552.0,\n",
              " 0.0,\n",
              " 0.0,\n",
              " 0.0,\n",
              " 5296.0,\n",
              " 5368.0,\n",
              " 0.0,\n",
              " 5440.0,\n",
              " 9960.0,\n",
              " 10104.0,\n",
              " 3680.0,\n",
              " 2064.0,\n",
              " 3752.0,\n",
              " 7104.0,\n",
              " 12704.0,\n",
              " 13952.0,\n",
              " 5296.0,\n",
              " 6608.0,\n",
              " 6752.0,\n",
              " 0.0,\n",
              " 0.0,\n",
              " 15936.0,\n",
              " 0.0,\n",
              " 14768.0,\n",
              " 30208.0,\n",
              " 0.0,\n",
              " 0.0,\n",
              " 0.0,\n",
              " 0.0,\n",
              " 0.0]"
            ]
          },
          "metadata": {},
          "execution_count": 60
        }
      ]
    },
    {
      "cell_type": "code",
      "source": [
        "terms44 = np.array(list(map(int,'19208  98784  86688  91784  724808  705600  5764808  14840  14448  16856  117992  117992  117992  117992  2016  14112  14112  2408  2408  2016  2408  16856  16856  392  56  392  2744  19208  19208  2408  2744  2744  336  2352  117656  100800  103544  823592  14112  12096  14112  98784  98784  70  1'.split())))\n",
        "terms45 = np.array(list(map(int,'36864  225792  201096  209736  1871424  1834560  16777224  29304  28728  32832  262656  262656  262656  262656  3528  28224  28224  4104  4104  3528  4104  32832  32832  576  72  576  4608  36864  36864  4104  4608  4608  504  4032  262152  229320  233928  2097216  28224  24696  28224  225792  225792  126  0'.split())))\n",
        "coefs = np.array(list(map(eval, '-1/4  1/4  3/2  1/8  -1/4  -1/2  1/16  -1  -2  -1  1/4  1/2  1/2  1  5  -3/2  -6  1/4  2  12  2  -1  -4  -9/4  9/4  -6  9/2  -1  -3/4  5/16  1  2  -7  4  1/2  3/2  3/4  -1/2  -1/2  -4  -4  1  1  33  0'.split())))"
      ],
      "metadata": {
        "id": "AqdGE9XYJz9Y"
      },
      "execution_count": 61,
      "outputs": []
    },
    {
      "cell_type": "code",
      "source": [
        "np.dot(np.array(terms44), coefs)"
      ],
      "metadata": {
        "id": "P3f0fOqWVaFs",
        "colab": {
          "base_uri": "https://localhost:8080/"
        },
        "outputId": "615b15c9-b196-403e-cc19-00cce0d39526"
      },
      "execution_count": 62,
      "outputs": [
        {
          "output_type": "execute_result",
          "data": {
            "text/plain": [
              "2520.0"
            ]
          },
          "metadata": {},
          "execution_count": 62
        }
      ]
    },
    {
      "cell_type": "code",
      "source": [
        "eval('-1/4')"
      ],
      "metadata": {
        "id": "tOYBGT2gVzSU",
        "colab": {
          "base_uri": "https://localhost:8080/"
        },
        "outputId": "0004b7aa-0490-430b-9ce7-bde93c02b437"
      },
      "execution_count": 63,
      "outputs": [
        {
          "output_type": "execute_result",
          "data": {
            "text/plain": [
              "-0.25"
            ]
          },
          "metadata": {},
          "execution_count": 63
        }
      ]
    },
    {
      "cell_type": "code",
      "source": [
        "choose(9,4)"
      ],
      "metadata": {
        "id": "m_Kb-9LCV0eD",
        "colab": {
          "base_uri": "https://localhost:8080/"
        },
        "outputId": "62160185-7911-4d87-e069-a2b8553b37bb"
      },
      "execution_count": 64,
      "outputs": [
        {
          "output_type": "execute_result",
          "data": {
            "text/plain": [
              "126.0"
            ]
          },
          "metadata": {},
          "execution_count": 64
        }
      ]
    },
    {
      "cell_type": "code",
      "source": [
        "for i,s in enumerate(evenGraphs4):\n",
        "    g_np = combine(string_to_np_array(s), combine(string_to_np_array(evenGraphs2[0]), string_to_np_array(evenGraphs2[0]), True), True)\n",
        "    g = getGraphFromNumpy(g_np)\n",
        "    g.engine = 'sfdp'\n",
        "    display(g)\n",
        "    display(g_np)"
      ],
      "metadata": {
        "id": "NRUJ2marh7cD",
        "colab": {
          "base_uri": "https://localhost:8080/",
          "height": 1000
        },
        "outputId": "cbe51694-db17-4c3a-b09a-5a977752880d"
      },
      "execution_count": 65,
      "outputs": [
        {
          "output_type": "display_data",
          "data": {
            "text/plain": [
              "<graphviz.dot.Graph at 0x7fda17e85c90>"
            ],
            "image/svg+xml": "<?xml version=\"1.0\" encoding=\"UTF-8\" standalone=\"no\"?>\n<!DOCTYPE svg PUBLIC \"-//W3C//DTD SVG 1.1//EN\"\n \"http://www.w3.org/Graphics/SVG/1.1/DTD/svg11.dtd\">\n<!-- Generated by graphviz version 2.40.1 (20161225.0304)\n -->\n<!-- Title: %3 Pages: 1 -->\n<svg width=\"590pt\" height=\"367pt\"\n viewBox=\"0.00 0.00 589.62 366.50\" xmlns=\"http://www.w3.org/2000/svg\" xmlns:xlink=\"http://www.w3.org/1999/xlink\">\n<g id=\"graph0\" class=\"graph\" transform=\"scale(1 1) rotate(0) translate(4 362.5038)\">\n<title>%3</title>\n<polygon fill=\"#ffffff\" stroke=\"transparent\" points=\"-4,4 -4,-362.5038 585.6186,-362.5038 585.6186,4 -4,4\"/>\n<!-- 8 -->\n<g id=\"node1\" class=\"node\">\n<title>8</title>\n<ellipse fill=\"none\" stroke=\"#000000\" cx=\"528.6186\" cy=\"-70\" rx=\"27\" ry=\"18\"/>\n<text text-anchor=\"middle\" x=\"528.6186\" y=\"-66.3\" font-family=\"Times,serif\" font-size=\"14.00\" fill=\"#000000\">8</text>\n</g>\n<!-- 7 -->\n<g id=\"node2\" class=\"node\">\n<title>7</title>\n<ellipse fill=\"none\" stroke=\"#000000\" cx=\"339\" cy=\"-70\" rx=\"27\" ry=\"18\"/>\n<text text-anchor=\"middle\" x=\"339\" y=\"-66.3\" font-family=\"Times,serif\" font-size=\"14.00\" fill=\"#000000\">7</text>\n</g>\n<!-- 8&#45;&#45;7 -->\n<g id=\"edge1\" class=\"edge\">\n<title>8&#45;&#45;7</title>\n<path fill=\"none\" stroke=\"#000000\" d=\"M502.2529,-65.155C466.0257,-62.6097 401.2508,-62.615 365.1417,-65.1708\"/>\n</g>\n<!-- 8&#45;&#45;7 -->\n<g id=\"edge2\" class=\"edge\">\n<title>8&#45;&#45;7</title>\n<path fill=\"none\" stroke=\"#000000\" d=\"M502.2529,-74.845C466.0257,-77.3903 401.2508,-77.385 365.1417,-74.8292\"/>\n</g>\n<!-- 6 -->\n<g id=\"node3\" class=\"node\">\n<title>6</title>\n<ellipse fill=\"none\" stroke=\"#000000\" cx=\"554.6186\" cy=\"-304\" rx=\"27\" ry=\"18\"/>\n<text text-anchor=\"middle\" x=\"554.6186\" y=\"-300.3\" font-family=\"Times,serif\" font-size=\"14.00\" fill=\"#000000\">6</text>\n</g>\n<!-- 5 -->\n<g id=\"node4\" class=\"node\">\n<title>5</title>\n<ellipse fill=\"none\" stroke=\"#000000\" cx=\"365\" cy=\"-304\" rx=\"27\" ry=\"18\"/>\n<text text-anchor=\"middle\" x=\"365\" y=\"-300.3\" font-family=\"Times,serif\" font-size=\"14.00\" fill=\"#000000\">5</text>\n</g>\n<!-- 6&#45;&#45;5 -->\n<g id=\"edge3\" class=\"edge\">\n<title>6&#45;&#45;5</title>\n<path fill=\"none\" stroke=\"#000000\" d=\"M528.2529,-299.155C492.0257,-296.6097 427.2508,-296.615 391.1417,-299.1708\"/>\n</g>\n<!-- 6&#45;&#45;5 -->\n<g id=\"edge4\" class=\"edge\">\n<title>6&#45;&#45;5</title>\n<path fill=\"none\" stroke=\"#000000\" d=\"M528.2529,-308.845C492.0257,-311.3903 427.2508,-311.385 391.1417,-308.8292\"/>\n</g>\n<!-- 4 -->\n<g id=\"node5\" class=\"node\">\n<title>4</title>\n<ellipse fill=\"none\" stroke=\"#000000\" cx=\"184.6426\" cy=\"-340.5038\" rx=\"27\" ry=\"18\"/>\n<text text-anchor=\"middle\" x=\"184.6426\" y=\"-336.8038\" font-family=\"Times,serif\" font-size=\"14.00\" fill=\"#000000\">4</text>\n</g>\n<!-- 3 -->\n<g id=\"node6\" class=\"node\">\n<title>3</title>\n<ellipse fill=\"none\" stroke=\"#000000\" cx=\"350.112\" cy=\"-183.0988\" rx=\"27\" ry=\"18\"/>\n<text text-anchor=\"middle\" x=\"350.112\" y=\"-179.3988\" font-family=\"Times,serif\" font-size=\"14.00\" fill=\"#000000\">3</text>\n</g>\n<!-- 4&#45;&#45;3 -->\n<g id=\"edge5\" class=\"edge\">\n<title>4&#45;&#45;3</title>\n<path fill=\"none\" stroke=\"#000000\" d=\"M200.2095,-325.6955C231.7466,-295.6954 302.8627,-228.0454 334.4659,-197.9824\"/>\n</g>\n<!-- 1 -->\n<g id=\"node7\" class=\"node\">\n<title>1</title>\n<ellipse fill=\"none\" stroke=\"#000000\" cx=\"27\" cy=\"-175.3179\" rx=\"27\" ry=\"18\"/>\n<text text-anchor=\"middle\" x=\"27\" y=\"-171.6179\" font-family=\"Times,serif\" font-size=\"14.00\" fill=\"#000000\">1</text>\n</g>\n<!-- 4&#45;&#45;1 -->\n<g id=\"edge6\" class=\"edge\">\n<title>4&#45;&#45;1</title>\n<path fill=\"none\" stroke=\"#000000\" d=\"M170.0945,-325.2596C140.0629,-293.791 71.5144,-221.9623 41.5129,-190.5253\"/>\n</g>\n<!-- 2 -->\n<g id=\"node8\" class=\"node\">\n<title>2</title>\n<ellipse fill=\"none\" stroke=\"#000000\" cx=\"192.4381\" cy=\"-18\" rx=\"27\" ry=\"18\"/>\n<text text-anchor=\"middle\" x=\"192.4381\" y=\"-14.3\" font-family=\"Times,serif\" font-size=\"14.00\" fill=\"#000000\">2</text>\n</g>\n<!-- 3&#45;&#45;2 -->\n<g id=\"edge7\" class=\"edge\">\n<title>3&#45;&#45;2</title>\n<path fill=\"none\" stroke=\"#000000\" d=\"M335.5611,-167.8626C305.5235,-136.4106 236.9613,-64.6198 206.9539,-33.1993\"/>\n</g>\n<!-- 2&#45;&#45;1 -->\n<g id=\"edge8\" class=\"edge\">\n<title>2&#45;&#45;1</title>\n<path fill=\"none\" stroke=\"#000000\" d=\"M176.874,-32.8001C145.3429,-62.7836 74.2404,-130.3962 42.6432,-160.4426\"/>\n</g>\n</g>\n</svg>\n"
          },
          "metadata": {}
        },
        {
          "output_type": "display_data",
          "data": {
            "text/plain": [
              "array([[0., 1., 0., 1., 0., 0., 0., 0.],\n",
              "       [1., 0., 1., 0., 0., 0., 0., 0.],\n",
              "       [0., 1., 0., 1., 0., 0., 0., 0.],\n",
              "       [1., 0., 1., 0., 0., 0., 0., 0.],\n",
              "       [0., 0., 0., 0., 0., 2., 0., 0.],\n",
              "       [0., 0., 0., 0., 2., 0., 0., 0.],\n",
              "       [0., 0., 0., 0., 0., 0., 0., 2.],\n",
              "       [0., 0., 0., 0., 0., 0., 2., 0.]])"
            ]
          },
          "metadata": {}
        },
        {
          "output_type": "display_data",
          "data": {
            "text/plain": [
              "<graphviz.dot.Graph at 0x7fda1a100cd0>"
            ],
            "image/svg+xml": "<?xml version=\"1.0\" encoding=\"UTF-8\" standalone=\"no\"?>\n<!DOCTYPE svg PUBLIC \"-//W3C//DTD SVG 1.1//EN\"\n \"http://www.w3.org/Graphics/SVG/1.1/DTD/svg11.dtd\">\n<!-- Generated by graphviz version 2.40.1 (20161225.0304)\n -->\n<!-- Title: %3 Pages: 1 -->\n<svg width=\"518pt\" height=\"170pt\"\n viewBox=\"0.00 0.00 517.62 170.00\" xmlns=\"http://www.w3.org/2000/svg\" xmlns:xlink=\"http://www.w3.org/1999/xlink\">\n<g id=\"graph0\" class=\"graph\" transform=\"scale(1 1) rotate(0) translate(4 166)\">\n<title>%3</title>\n<polygon fill=\"#ffffff\" stroke=\"transparent\" points=\"-4,4 -4,-166 513.6186,-166 513.6186,4 -4,4\"/>\n<!-- 7 -->\n<g id=\"node1\" class=\"node\">\n<title>7</title>\n<ellipse fill=\"none\" stroke=\"#000000\" cx=\"468.6186\" cy=\"-144\" rx=\"27\" ry=\"18\"/>\n<text text-anchor=\"middle\" x=\"468.6186\" y=\"-140.3\" font-family=\"Times,serif\" font-size=\"14.00\" fill=\"#000000\">7</text>\n</g>\n<!-- 6 -->\n<g id=\"node2\" class=\"node\">\n<title>6</title>\n<ellipse fill=\"none\" stroke=\"#000000\" cx=\"279\" cy=\"-144\" rx=\"27\" ry=\"18\"/>\n<text text-anchor=\"middle\" x=\"279\" y=\"-140.3\" font-family=\"Times,serif\" font-size=\"14.00\" fill=\"#000000\">6</text>\n</g>\n<!-- 7&#45;&#45;6 -->\n<g id=\"edge1\" class=\"edge\">\n<title>7&#45;&#45;6</title>\n<path fill=\"none\" stroke=\"#000000\" d=\"M442.2529,-139.155C406.0257,-136.6097 341.2508,-136.615 305.1417,-139.1708\"/>\n</g>\n<!-- 7&#45;&#45;6 -->\n<g id=\"edge2\" class=\"edge\">\n<title>7&#45;&#45;6</title>\n<path fill=\"none\" stroke=\"#000000\" d=\"M442.2529,-148.845C406.0257,-151.3903 341.2508,-151.385 305.1417,-148.8292\"/>\n</g>\n<!-- 5 -->\n<g id=\"node3\" class=\"node\">\n<title>5</title>\n<ellipse fill=\"none\" stroke=\"#000000\" cx=\"482.6186\" cy=\"-18\" rx=\"27\" ry=\"18\"/>\n<text text-anchor=\"middle\" x=\"482.6186\" y=\"-14.3\" font-family=\"Times,serif\" font-size=\"14.00\" fill=\"#000000\">5</text>\n</g>\n<!-- 4 -->\n<g id=\"node4\" class=\"node\">\n<title>4</title>\n<ellipse fill=\"none\" stroke=\"#000000\" cx=\"293\" cy=\"-18\" rx=\"27\" ry=\"18\"/>\n<text text-anchor=\"middle\" x=\"293\" y=\"-14.3\" font-family=\"Times,serif\" font-size=\"14.00\" fill=\"#000000\">4</text>\n</g>\n<!-- 5&#45;&#45;4 -->\n<g id=\"edge3\" class=\"edge\">\n<title>5&#45;&#45;4</title>\n<path fill=\"none\" stroke=\"#000000\" d=\"M456.2529,-13.155C420.0257,-10.6097 355.2508,-10.615 319.1417,-13.1708\"/>\n</g>\n<!-- 5&#45;&#45;4 -->\n<g id=\"edge4\" class=\"edge\">\n<title>5&#45;&#45;4</title>\n<path fill=\"none\" stroke=\"#000000\" d=\"M456.2529,-22.845C420.0257,-25.3903 355.2508,-25.385 319.1417,-22.8292\"/>\n</g>\n<!-- 3 -->\n<g id=\"node5\" class=\"node\">\n<title>3</title>\n<ellipse fill=\"none\" stroke=\"#000000\" cx=\"378.1626\" cy=\"-74\" rx=\"27\" ry=\"18\"/>\n<text text-anchor=\"middle\" x=\"378.1626\" y=\"-70.3\" font-family=\"Times,serif\" font-size=\"14.00\" fill=\"#000000\">3</text>\n</g>\n<!-- 2 -->\n<g id=\"node6\" class=\"node\">\n<title>2</title>\n<ellipse fill=\"none\" stroke=\"#000000\" cx=\"210.5615\" cy=\"-74\" rx=\"27\" ry=\"18\"/>\n<text text-anchor=\"middle\" x=\"210.5615\" y=\"-70.3\" font-family=\"Times,serif\" font-size=\"14.00\" fill=\"#000000\">2</text>\n</g>\n<!-- 3&#45;&#45;2 -->\n<g id=\"edge5\" class=\"edge\">\n<title>3&#45;&#45;2</title>\n<path fill=\"none\" stroke=\"#000000\" d=\"M351.9749,-68.9375C320.4883,-66.6831 267.9697,-66.6875 236.5653,-68.9507\"/>\n</g>\n<!-- 3&#45;&#45;2 -->\n<g id=\"edge6\" class=\"edge\">\n<title>3&#45;&#45;2</title>\n<path fill=\"none\" stroke=\"#000000\" d=\"M351.9749,-79.0625C320.4883,-81.3169 267.9697,-81.3125 236.5653,-79.0493\"/>\n</g>\n<!-- 1 -->\n<g id=\"node7\" class=\"node\">\n<title>1</title>\n<ellipse fill=\"none\" stroke=\"#000000\" cx=\"27\" cy=\"-74\" rx=\"27\" ry=\"18\"/>\n<text text-anchor=\"middle\" x=\"27\" y=\"-70.3\" font-family=\"Times,serif\" font-size=\"14.00\" fill=\"#000000\">1</text>\n</g>\n<!-- 2&#45;&#45;1 -->\n<g id=\"edge7\" class=\"edge\">\n<title>2&#45;&#45;1</title>\n<path fill=\"none\" stroke=\"#000000\" d=\"M184.2616,-69.0994C149.3666,-66.6324 88.1215,-66.6335 53.2511,-69.1029\"/>\n</g>\n<!-- 2&#45;&#45;1 -->\n<g id=\"edge8\" class=\"edge\">\n<title>2&#45;&#45;1</title>\n<path fill=\"none\" stroke=\"#000000\" d=\"M184.2616,-78.9006C149.3666,-81.3676 88.1215,-81.3665 53.2511,-78.8971\"/>\n</g>\n</g>\n</svg>\n"
          },
          "metadata": {}
        },
        {
          "output_type": "display_data",
          "data": {
            "text/plain": [
              "array([[0., 2., 0., 0., 0., 0., 0.],\n",
              "       [2., 0., 2., 0., 0., 0., 0.],\n",
              "       [0., 2., 0., 0., 0., 0., 0.],\n",
              "       [0., 0., 0., 0., 2., 0., 0.],\n",
              "       [0., 0., 0., 2., 0., 0., 0.],\n",
              "       [0., 0., 0., 0., 0., 0., 2.],\n",
              "       [0., 0., 0., 0., 0., 2., 0.]])"
            ]
          },
          "metadata": {}
        },
        {
          "output_type": "display_data",
          "data": {
            "text/plain": [
              "<graphviz.dot.Graph at 0x7fda17e7d910>"
            ],
            "image/svg+xml": "<?xml version=\"1.0\" encoding=\"UTF-8\" standalone=\"no\"?>\n<!DOCTYPE svg PUBLIC \"-//W3C//DTD SVG 1.1//EN\"\n \"http://www.w3.org/Graphics/SVG/1.1/DTD/svg11.dtd\">\n<!-- Generated by graphviz version 2.40.1 (20161225.0304)\n -->\n<!-- Title: %3 Pages: 1 -->\n<svg width=\"460pt\" height=\"158pt\"\n viewBox=\"0.00 0.00 459.62 157.72\" xmlns=\"http://www.w3.org/2000/svg\" xmlns:xlink=\"http://www.w3.org/1999/xlink\">\n<g id=\"graph0\" class=\"graph\" transform=\"scale(1 1) rotate(0) translate(4 153.7245)\">\n<title>%3</title>\n<polygon fill=\"#ffffff\" stroke=\"transparent\" points=\"-4,4 -4,-153.7245 455.6186,-153.7245 455.6186,4 -4,4\"/>\n<!-- 6 -->\n<g id=\"node1\" class=\"node\">\n<title>6</title>\n<ellipse fill=\"none\" stroke=\"#000000\" cx=\"216.6186\" cy=\"-18\" rx=\"27\" ry=\"18\"/>\n<text text-anchor=\"middle\" x=\"216.6186\" y=\"-14.3\" font-family=\"Times,serif\" font-size=\"14.00\" fill=\"#000000\">6</text>\n</g>\n<!-- 5 -->\n<g id=\"node2\" class=\"node\">\n<title>5</title>\n<ellipse fill=\"none\" stroke=\"#000000\" cx=\"27\" cy=\"-18\" rx=\"27\" ry=\"18\"/>\n<text text-anchor=\"middle\" x=\"27\" y=\"-14.3\" font-family=\"Times,serif\" font-size=\"14.00\" fill=\"#000000\">5</text>\n</g>\n<!-- 6&#45;&#45;5 -->\n<g id=\"edge1\" class=\"edge\">\n<title>6&#45;&#45;5</title>\n<path fill=\"none\" stroke=\"#000000\" d=\"M190.2529,-13.155C154.0257,-10.6097 89.2508,-10.615 53.1417,-13.1708\"/>\n</g>\n<!-- 6&#45;&#45;5 -->\n<g id=\"edge2\" class=\"edge\">\n<title>6&#45;&#45;5</title>\n<path fill=\"none\" stroke=\"#000000\" d=\"M190.2529,-22.845C154.0257,-25.3903 89.2508,-25.385 53.1417,-22.8292\"/>\n</g>\n<!-- 4 -->\n<g id=\"node3\" class=\"node\">\n<title>4</title>\n<ellipse fill=\"none\" stroke=\"#000000\" cx=\"333.6186\" cy=\"-70\" rx=\"27\" ry=\"18\"/>\n<text text-anchor=\"middle\" x=\"333.6186\" y=\"-66.3\" font-family=\"Times,serif\" font-size=\"14.00\" fill=\"#000000\">4</text>\n</g>\n<!-- 3 -->\n<g id=\"node4\" class=\"node\">\n<title>3</title>\n<ellipse fill=\"none\" stroke=\"#000000\" cx=\"144\" cy=\"-70\" rx=\"27\" ry=\"18\"/>\n<text text-anchor=\"middle\" x=\"144\" y=\"-66.3\" font-family=\"Times,serif\" font-size=\"14.00\" fill=\"#000000\">3</text>\n</g>\n<!-- 4&#45;&#45;3 -->\n<g id=\"edge3\" class=\"edge\">\n<title>4&#45;&#45;3</title>\n<path fill=\"none\" stroke=\"#000000\" d=\"M307.2529,-65.155C271.0257,-62.6097 206.2508,-62.615 170.1417,-65.1708\"/>\n</g>\n<!-- 4&#45;&#45;3 -->\n<g id=\"edge4\" class=\"edge\">\n<title>4&#45;&#45;3</title>\n<path fill=\"none\" stroke=\"#000000\" d=\"M307.2529,-74.845C271.0257,-77.3903 206.2508,-77.385 170.1417,-74.8292\"/>\n</g>\n<!-- 2 -->\n<g id=\"node5\" class=\"node\">\n<title>2</title>\n<ellipse fill=\"none\" stroke=\"#000000\" cx=\"424.6186\" cy=\"-127\" rx=\"27\" ry=\"18\"/>\n<text text-anchor=\"middle\" x=\"424.6186\" y=\"-123.3\" font-family=\"Times,serif\" font-size=\"14.00\" fill=\"#000000\">2</text>\n</g>\n<!-- 1 -->\n<g id=\"node6\" class=\"node\">\n<title>1</title>\n<ellipse fill=\"none\" stroke=\"#000000\" cx=\"235\" cy=\"-127\" rx=\"27\" ry=\"18\"/>\n<text text-anchor=\"middle\" x=\"235\" y=\"-123.3\" font-family=\"Times,serif\" font-size=\"14.00\" fill=\"#000000\">1</text>\n</g>\n<!-- 2&#45;&#45;1 -->\n<g id=\"edge5\" class=\"edge\">\n<title>2&#45;&#45;1</title>\n<path fill=\"none\" stroke=\"#000000\" d=\"M405.3934,-114.1735C369.0502,-104.2801 290.6584,-104.2755 254.276,-114.1597\"/>\n</g>\n<!-- 2&#45;&#45;1 -->\n<g id=\"edge6\" class=\"edge\">\n<title>2&#45;&#45;1</title>\n<path fill=\"none\" stroke=\"#000000\" d=\"M405.3934,-139.8265C369.0502,-149.7199 290.6584,-149.7245 254.276,-139.8403\"/>\n</g>\n<!-- 2&#45;&#45;1 -->\n<g id=\"edge7\" class=\"edge\">\n<title>2&#45;&#45;1</title>\n<path fill=\"none\" stroke=\"#000000\" d=\"M398.2529,-131.845C362.0257,-134.3903 297.2508,-134.385 261.1417,-131.8292\"/>\n</g>\n<!-- 2&#45;&#45;1 -->\n<g id=\"edge8\" class=\"edge\">\n<title>2&#45;&#45;1</title>\n<path fill=\"none\" stroke=\"#000000\" d=\"M398.2529,-122.155C362.0257,-119.6097 297.2508,-119.615 261.1417,-122.1708\"/>\n</g>\n</g>\n</svg>\n"
          },
          "metadata": {}
        },
        {
          "output_type": "display_data",
          "data": {
            "text/plain": [
              "array([[0., 4., 0., 0., 0., 0.],\n",
              "       [4., 0., 0., 0., 0., 0.],\n",
              "       [0., 0., 0., 2., 0., 0.],\n",
              "       [0., 0., 2., 0., 0., 0.],\n",
              "       [0., 0., 0., 0., 0., 2.],\n",
              "       [0., 0., 0., 0., 2., 0.]])"
            ]
          },
          "metadata": {}
        }
      ]
    },
    {
      "cell_type": "code",
      "source": [
        "combine(string_to_np_array(evenGraphs2[0]), combine(string_to_np_array(evenGraphs2[0]), combine(string_to_np_array(evenGraphs2[0]), string_to_np_array(evenGraphs2[0]), True), True), True)"
      ],
      "metadata": {
        "colab": {
          "base_uri": "https://localhost:8080/"
        },
        "id": "pRQ44RYXCt4X",
        "outputId": "2cf514bb-e857-4bbb-a512-c3f9ac31be22"
      },
      "execution_count": 66,
      "outputs": [
        {
          "output_type": "execute_result",
          "data": {
            "text/plain": [
              "array([[0., 2., 0., 0., 0., 0., 0., 0.],\n",
              "       [2., 0., 0., 0., 0., 0., 0., 0.],\n",
              "       [0., 0., 0., 2., 0., 0., 0., 0.],\n",
              "       [0., 0., 2., 0., 0., 0., 0., 0.],\n",
              "       [0., 0., 0., 0., 0., 2., 0., 0.],\n",
              "       [0., 0., 0., 0., 2., 0., 0., 0.],\n",
              "       [0., 0., 0., 0., 0., 0., 0., 2.],\n",
              "       [0., 0., 0., 0., 0., 0., 2., 0.]])"
            ]
          },
          "metadata": {},
          "execution_count": 66
        }
      ]
    },
    {
      "cell_type": "code",
      "source": [
        "g = combine(K(8), string_to_np_array(evenGraphs8Disconnected[0]))"
      ],
      "metadata": {
        "id": "MShxutBQH3Bn"
      },
      "execution_count": 67,
      "outputs": []
    },
    {
      "cell_type": "code",
      "source": [
        "# [f(g) for f in functions8.values()]\n",
        "# functions2[0](g) * np.array([f(g) for f in functions6])\n",
        "# functions3[0](g) * np.array([f(g) for f in functions5])\n",
        "# (np.array([f(g) for f in functions4])[:,None]) @ (np.array([f(g) for f in functions4])[None,:])\n",
        "# np.array([f(g) for f in functions4]) * functions2[0](g)**2\n",
        "# functions2[0](g) * functions3[0](g)**2\n",
        "functions2[0](g)**4"
      ],
      "metadata": {
        "colab": {
          "base_uri": "https://localhost:8080/"
        },
        "id": "97Ai3Vd_0m38",
        "outputId": "fdc4b16f-0a6f-46f8-f8f9-b07c76bf8892"
      },
      "execution_count": 68,
      "outputs": [
        {
          "output_type": "execute_result",
          "data": {
            "text/plain": [
              "33362176.0"
            ]
          },
          "metadata": {},
          "execution_count": 68
        }
      ]
    },
    {
      "cell_type": "code",
      "source": [
        "[f(K(5)) for f in functions4]"
      ],
      "metadata": {
        "colab": {
          "base_uri": "https://localhost:8080/"
        },
        "id": "ktbTvQIIzwRu",
        "outputId": "b70af72e-3dec-49e2-b6cb-d34da156d203"
      },
      "execution_count": 69,
      "outputs": [
        {
          "output_type": "execute_result",
          "data": {
            "text/plain": [
              "[260.0, 80.0, 20.0]"
            ]
          },
          "metadata": {},
          "execution_count": 69
        }
      ]
    },
    {
      "cell_type": "code",
      "source": [
        "260/8 - 80/4 + 20/8"
      ],
      "metadata": {
        "colab": {
          "base_uri": "https://localhost:8080/"
        },
        "id": "EcGMJwSF_DIP",
        "outputId": "c052490a-4172-4971-d88d-9f1e402c34e8"
      },
      "execution_count": 70,
      "outputs": [
        {
          "output_type": "execute_result",
          "data": {
            "text/plain": [
              "15.0"
            ]
          },
          "metadata": {},
          "execution_count": 70
        }
      ]
    },
    {
      "cell_type": "code",
      "source": [
        "choose(5,4)"
      ],
      "metadata": {
        "colab": {
          "base_uri": "https://localhost:8080/"
        },
        "id": "3A5_tQh8_Gs3",
        "outputId": "ced2db21-c515-4529-e6d7-dc1ce55b8543"
      },
      "execution_count": 71,
      "outputs": [
        {
          "output_type": "execute_result",
          "data": {
            "text/plain": [
              "5.0"
            ]
          },
          "metadata": {},
          "execution_count": 71
        }
      ]
    },
    {
      "cell_type": "code",
      "source": [
        "cyclesInKn(4,5)"
      ],
      "metadata": {
        "colab": {
          "base_uri": "https://localhost:8080/"
        },
        "id": "l9WSsiig_IVQ",
        "outputId": "d5a135da-410f-4799-bd34-d2581c791934"
      },
      "execution_count": 72,
      "outputs": [
        {
          "output_type": "execute_result",
          "data": {
            "text/plain": [
              "15.0"
            ]
          },
          "metadata": {},
          "execution_count": 72
        }
      ]
    },
    {
      "cell_type": "code",
      "source": [
        "cyclesInKn(4,7)"
      ],
      "metadata": {
        "colab": {
          "base_uri": "https://localhost:8080/"
        },
        "id": "LVXNpOVU_P3o",
        "outputId": "bd9e6b74-13e0-4ee3-87c5-0d56629a7594"
      },
      "execution_count": 73,
      "outputs": [
        {
          "output_type": "execute_result",
          "data": {
            "text/plain": [
              "105.0"
            ]
          },
          "metadata": {},
          "execution_count": 73
        }
      ]
    },
    {
      "cell_type": "code",
      "source": [
        "7*6*5*4/4/2"
      ],
      "metadata": {
        "id": "IoL1AT50Bzh8",
        "outputId": "a5bbaf62-4ddd-4b44-b7c2-6573e86bd2c8",
        "colab": {
          "base_uri": "https://localhost:8080/"
        }
      },
      "execution_count": 74,
      "outputs": [
        {
          "output_type": "execute_result",
          "data": {
            "text/plain": [
              "105.0"
            ]
          },
          "metadata": {},
          "execution_count": 74
        }
      ]
    },
    {
      "cell_type": "code",
      "source": [
        "grid_6_6 = nx.to_numpy_array(nx.grid_2d_graph(6,6))\n",
        "g = getGraphFromNumpy(grid_6_6)\n",
        "g.engine = 'sfdp'\n",
        "g"
      ],
      "metadata": {
        "id": "C5dYK6JEB2S0",
        "colab": {
          "base_uri": "https://localhost:8080/",
          "height": 900
        },
        "outputId": "b23ecd3b-2fd5-446d-d6b0-fa7bc8e2a288"
      },
      "execution_count": 75,
      "outputs": [
        {
          "output_type": "execute_result",
          "data": {
            "text/plain": [
              "<graphviz.dot.Graph at 0x7fda17ff2110>"
            ],
            "image/svg+xml": "<?xml version=\"1.0\" encoding=\"UTF-8\" standalone=\"no\"?>\n<!DOCTYPE svg PUBLIC \"-//W3C//DTD SVG 1.1//EN\"\n \"http://www.w3.org/Graphics/SVG/1.1/DTD/svg11.dtd\">\n<!-- Generated by graphviz version 2.40.1 (20161225.0304)\n -->\n<!-- Title: %3 Pages: 1 -->\n<svg width=\"679pt\" height=\"659pt\"\n viewBox=\"0.00 0.00 678.78 659.31\" xmlns=\"http://www.w3.org/2000/svg\" xmlns:xlink=\"http://www.w3.org/1999/xlink\">\n<g id=\"graph0\" class=\"graph\" transform=\"scale(1 1) rotate(0) translate(4 655.3069)\">\n<title>%3</title>\n<polygon fill=\"#ffffff\" stroke=\"transparent\" points=\"-4,4 -4,-655.3069 674.7757,-655.3069 674.7757,4 -4,4\"/>\n<!-- 36 -->\n<g id=\"node1\" class=\"node\">\n<title>36</title>\n<ellipse fill=\"none\" stroke=\"#000000\" cx=\"27\" cy=\"-193.6891\" rx=\"27\" ry=\"18\"/>\n<text text-anchor=\"middle\" x=\"27\" y=\"-189.9891\" font-family=\"Times,serif\" font-size=\"14.00\" fill=\"#000000\">36</text>\n</g>\n<!-- 35 -->\n<g id=\"node2\" class=\"node\">\n<title>35</title>\n<ellipse fill=\"none\" stroke=\"#000000\" cx=\"52.1777\" cy=\"-271.854\" rx=\"27\" ry=\"18\"/>\n<text text-anchor=\"middle\" x=\"52.1777\" y=\"-268.154\" font-family=\"Times,serif\" font-size=\"14.00\" fill=\"#000000\">35</text>\n</g>\n<!-- 36&#45;&#45;35 -->\n<g id=\"edge1\" class=\"edge\">\n<title>36&#45;&#45;35</title>\n<path fill=\"none\" stroke=\"#000000\" d=\"M32.7132,-211.4259C36.8337,-224.2181 42.3718,-241.4113 46.4871,-254.1873\"/>\n</g>\n<!-- 30 -->\n<g id=\"node3\" class=\"node\">\n<title>30</title>\n<ellipse fill=\"none\" stroke=\"#000000\" cx=\"101.4512\" cy=\"-157.3138\" rx=\"27\" ry=\"18\"/>\n<text text-anchor=\"middle\" x=\"101.4512\" y=\"-153.6138\" font-family=\"Times,serif\" font-size=\"14.00\" fill=\"#000000\">30</text>\n</g>\n<!-- 36&#45;&#45;30 -->\n<g id=\"edge2\" class=\"edge\">\n<title>36&#45;&#45;30</title>\n<path fill=\"none\" stroke=\"#000000\" d=\"M48.9351,-182.972C58.629,-178.2358 69.9972,-172.6816 79.6729,-167.9542\"/>\n</g>\n<!-- 34 -->\n<g id=\"node4\" class=\"node\">\n<title>34</title>\n<ellipse fill=\"none\" stroke=\"#000000\" cx=\"86.5365\" cy=\"-366.9919\" rx=\"27\" ry=\"18\"/>\n<text text-anchor=\"middle\" x=\"86.5365\" y=\"-363.2919\" font-family=\"Times,serif\" font-size=\"14.00\" fill=\"#000000\">34</text>\n</g>\n<!-- 35&#45;&#45;34 -->\n<g id=\"edge3\" class=\"edge\">\n<title>35&#45;&#45;34</title>\n<path fill=\"none\" stroke=\"#000000\" d=\"M58.6403,-289.7487C64.7831,-306.7578 73.9696,-332.1948 80.1028,-349.1774\"/>\n</g>\n<!-- 29 -->\n<g id=\"node5\" class=\"node\">\n<title>29</title>\n<ellipse fill=\"none\" stroke=\"#000000\" cx=\"129.6037\" cy=\"-237.0014\" rx=\"27\" ry=\"18\"/>\n<text text-anchor=\"middle\" x=\"129.6037\" y=\"-233.3014\" font-family=\"Times,serif\" font-size=\"14.00\" fill=\"#000000\">29</text>\n</g>\n<!-- 35&#45;&#45;29 -->\n<g id=\"edge4\" class=\"edge\">\n<title>35&#45;&#45;29</title>\n<path fill=\"none\" stroke=\"#000000\" d=\"M74.5725,-261.7732C84.7554,-257.1894 96.782,-251.7758 106.991,-247.1803\"/>\n</g>\n<!-- 30&#45;&#45;29 -->\n<g id=\"edge12\" class=\"edge\">\n<title>30&#45;&#45;29</title>\n<path fill=\"none\" stroke=\"#000000\" d=\"M107.6992,-174.999C112.3645,-188.2046 118.7121,-206.1719 123.3732,-219.3655\"/>\n</g>\n<!-- 24 -->\n<g id=\"node13\" class=\"node\">\n<title>24</title>\n<ellipse fill=\"none\" stroke=\"#000000\" cx=\"194.8399\" cy=\"-116.6521\" rx=\"27\" ry=\"18\"/>\n<text text-anchor=\"middle\" x=\"194.8399\" y=\"-112.9521\" font-family=\"Times,serif\" font-size=\"14.00\" fill=\"#000000\">24</text>\n</g>\n<!-- 30&#45;&#45;24 -->\n<g id=\"edge13\" class=\"edge\">\n<title>30&#45;&#45;24</title>\n<path fill=\"none\" stroke=\"#000000\" d=\"M124.058,-147.4707C138.6331,-141.1247 157.5198,-132.9013 172.1176,-126.5454\"/>\n</g>\n<!-- 33 -->\n<g id=\"node6\" class=\"node\">\n<title>33</title>\n<ellipse fill=\"none\" stroke=\"#000000\" cx=\"125.8676\" cy=\"-466.1633\" rx=\"27\" ry=\"18\"/>\n<text text-anchor=\"middle\" x=\"125.8676\" y=\"-462.4633\" font-family=\"Times,serif\" font-size=\"14.00\" fill=\"#000000\">33</text>\n</g>\n<!-- 34&#45;&#45;33 -->\n<g id=\"edge5\" class=\"edge\">\n<title>34&#45;&#45;33</title>\n<path fill=\"none\" stroke=\"#000000\" d=\"M93.5681,-384.7218C100.7271,-402.7729 111.7599,-430.5915 118.8969,-448.587\"/>\n</g>\n<!-- 28 -->\n<g id=\"node7\" class=\"node\">\n<title>28</title>\n<ellipse fill=\"none\" stroke=\"#000000\" cx=\"165.7188\" cy=\"-334.4407\" rx=\"27\" ry=\"18\"/>\n<text text-anchor=\"middle\" x=\"165.7188\" y=\"-330.7407\" font-family=\"Times,serif\" font-size=\"14.00\" fill=\"#000000\">28</text>\n</g>\n<!-- 34&#45;&#45;28 -->\n<g id=\"edge6\" class=\"edge\">\n<title>34&#45;&#45;28</title>\n<path fill=\"none\" stroke=\"#000000\" d=\"M109.8655,-357.4015C120.1754,-353.1633 132.266,-348.1929 142.5565,-343.9626\"/>\n</g>\n<!-- 29&#45;&#45;28 -->\n<g id=\"edge14\" class=\"edge\">\n<title>29&#45;&#45;28</title>\n<path fill=\"none\" stroke=\"#000000\" d=\"M136.2277,-254.8733C142.7441,-272.4545 152.6349,-299.1402 159.1367,-316.6822\"/>\n</g>\n<!-- 23 -->\n<g id=\"node14\" class=\"node\">\n<title>23</title>\n<ellipse fill=\"none\" stroke=\"#000000\" cx=\"225.3489\" cy=\"-196.6351\" rx=\"27\" ry=\"18\"/>\n<text text-anchor=\"middle\" x=\"225.3489\" y=\"-192.9351\" font-family=\"Times,serif\" font-size=\"14.00\" fill=\"#000000\">23</text>\n</g>\n<!-- 29&#45;&#45;23 -->\n<g id=\"edge15\" class=\"edge\">\n<title>29&#45;&#45;23</title>\n<path fill=\"none\" stroke=\"#000000\" d=\"M152.7809,-227.2298C167.8345,-220.8833 187.3742,-212.6453 202.3851,-206.3167\"/>\n</g>\n<!-- 32 -->\n<g id=\"node8\" class=\"node\">\n<title>32</title>\n<ellipse fill=\"none\" stroke=\"#000000\" cx=\"166.2853\" cy=\"-559.0328\" rx=\"27\" ry=\"18\"/>\n<text text-anchor=\"middle\" x=\"166.2853\" y=\"-555.3328\" font-family=\"Times,serif\" font-size=\"14.00\" fill=\"#000000\">32</text>\n</g>\n<!-- 33&#45;&#45;32 -->\n<g id=\"edge7\" class=\"edge\">\n<title>33&#45;&#45;32</title>\n<path fill=\"none\" stroke=\"#000000\" d=\"M133.4699,-483.6314C140.6959,-500.2349 151.5024,-525.0654 158.7171,-541.6431\"/>\n</g>\n<!-- 27 -->\n<g id=\"node9\" class=\"node\">\n<title>27</title>\n<ellipse fill=\"none\" stroke=\"#000000\" cx=\"205.8467\" cy=\"-435.9095\" rx=\"27\" ry=\"18\"/>\n<text text-anchor=\"middle\" x=\"205.8467\" y=\"-432.2095\" font-family=\"Times,serif\" font-size=\"14.00\" fill=\"#000000\">27</text>\n</g>\n<!-- 33&#45;&#45;27 -->\n<g id=\"edge8\" class=\"edge\">\n<title>33&#45;&#45;27</title>\n<path fill=\"none\" stroke=\"#000000\" d=\"M149.4314,-457.2498C159.7528,-453.3455 171.8412,-448.7728 182.1749,-444.8638\"/>\n</g>\n<!-- 28&#45;&#45;27 -->\n<g id=\"edge16\" class=\"edge\">\n<title>28&#45;&#45;27</title>\n<path fill=\"none\" stroke=\"#000000\" d=\"M172.7085,-352.1152C180.0737,-370.7392 191.6022,-399.8904 198.937,-418.4375\"/>\n</g>\n<!-- 22 -->\n<g id=\"node15\" class=\"node\">\n<title>22</title>\n<ellipse fill=\"none\" stroke=\"#000000\" cx=\"263.5632\" cy=\"-295.0442\" rx=\"27\" ry=\"18\"/>\n<text text-anchor=\"middle\" x=\"263.5632\" y=\"-291.3442\" font-family=\"Times,serif\" font-size=\"14.00\" fill=\"#000000\">22</text>\n</g>\n<!-- 28&#45;&#45;22 -->\n<g id=\"edge17\" class=\"edge\">\n<title>28&#45;&#45;22</title>\n<path fill=\"none\" stroke=\"#000000\" d=\"M188.9065,-325.1043C204.3907,-318.8697 224.683,-310.6991 240.2028,-304.4501\"/>\n</g>\n<!-- 31 -->\n<g id=\"node10\" class=\"node\">\n<title>31</title>\n<ellipse fill=\"none\" stroke=\"#000000\" cx=\"201.8724\" cy=\"-633.3069\" rx=\"27\" ry=\"18\"/>\n<text text-anchor=\"middle\" x=\"201.8724\" y=\"-629.6069\" font-family=\"Times,serif\" font-size=\"14.00\" fill=\"#000000\">31</text>\n</g>\n<!-- 32&#45;&#45;31 -->\n<g id=\"edge9\" class=\"edge\">\n<title>32&#45;&#45;31</title>\n<path fill=\"none\" stroke=\"#000000\" d=\"M174.5391,-576.2594C180.2472,-588.1729 187.815,-603.9675 193.54,-615.9163\"/>\n</g>\n<!-- 26 -->\n<g id=\"node11\" class=\"node\">\n<title>26</title>\n<ellipse fill=\"none\" stroke=\"#000000\" cx=\"246.3284\" cy=\"-531.5664\" rx=\"27\" ry=\"18\"/>\n<text text-anchor=\"middle\" x=\"246.3284\" y=\"-527.8664\" font-family=\"Times,serif\" font-size=\"14.00\" fill=\"#000000\">26</text>\n</g>\n<!-- 32&#45;&#45;26 -->\n<g id=\"edge10\" class=\"edge\">\n<title>32&#45;&#45;26</title>\n<path fill=\"none\" stroke=\"#000000\" d=\"M190.3009,-550.792C200.3396,-547.3472 211.9869,-543.3505 222.0531,-539.8963\"/>\n</g>\n<!-- 27&#45;&#45;26 -->\n<g id=\"edge18\" class=\"edge\">\n<title>27&#45;&#45;26</title>\n<path fill=\"none\" stroke=\"#000000\" d=\"M213.2716,-453.4544C220.5759,-470.714 231.6626,-496.9116 238.9505,-514.1327\"/>\n</g>\n<!-- 21 -->\n<g id=\"node16\" class=\"node\">\n<title>21</title>\n<ellipse fill=\"none\" stroke=\"#000000\" cx=\"304.2177\" cy=\"-398.0689\" rx=\"27\" ry=\"18\"/>\n<text text-anchor=\"middle\" x=\"304.2177\" y=\"-394.3689\" font-family=\"Times,serif\" font-size=\"14.00\" fill=\"#000000\">21</text>\n</g>\n<!-- 27&#45;&#45;21 -->\n<g id=\"edge19\" class=\"edge\">\n<title>27&#45;&#45;21</title>\n<path fill=\"none\" stroke=\"#000000\" d=\"M229.409,-426.8457C244.8695,-420.8985 265.0162,-413.1486 280.5067,-407.1899\"/>\n</g>\n<!-- 25 -->\n<g id=\"node12\" class=\"node\">\n<title>25</title>\n<ellipse fill=\"none\" stroke=\"#000000\" cx=\"280.6776\" cy=\"-608.7621\" rx=\"27\" ry=\"18\"/>\n<text text-anchor=\"middle\" x=\"280.6776\" y=\"-605.0621\" font-family=\"Times,serif\" font-size=\"14.00\" fill=\"#000000\">25</text>\n</g>\n<!-- 31&#45;&#45;25 -->\n<g id=\"edge11\" class=\"edge\">\n<title>31&#45;&#45;25</title>\n<path fill=\"none\" stroke=\"#000000\" d=\"M226.3749,-625.6753C235.8632,-622.72 246.7034,-619.3438 256.1903,-616.389\"/>\n</g>\n<!-- 26&#45;&#45;25 -->\n<g id=\"edge20\" class=\"edge\">\n<title>26&#45;&#45;25</title>\n<path fill=\"none\" stroke=\"#000000\" d=\"M254.1228,-549.0833C259.7442,-561.7169 267.2997,-578.6969 272.9141,-591.3145\"/>\n</g>\n<!-- 20 -->\n<g id=\"node17\" class=\"node\">\n<title>20</title>\n<ellipse fill=\"none\" stroke=\"#000000\" cx=\"344.0397\" cy=\"-495.6183\" rx=\"27\" ry=\"18\"/>\n<text text-anchor=\"middle\" x=\"344.0397\" y=\"-491.9183\" font-family=\"Times,serif\" font-size=\"14.00\" fill=\"#000000\">20</text>\n</g>\n<!-- 26&#45;&#45;20 -->\n<g id=\"edge21\" class=\"edge\">\n<title>26&#45;&#45;20</title>\n<path fill=\"none\" stroke=\"#000000\" d=\"M269.9816,-522.8644C285.2313,-517.254 304.9922,-509.9839 320.2656,-504.3648\"/>\n</g>\n<!-- 19 -->\n<g id=\"node18\" class=\"node\">\n<title>19</title>\n<ellipse fill=\"none\" stroke=\"#000000\" cx=\"376.5713\" cy=\"-574.6073\" rx=\"27\" ry=\"18\"/>\n<text text-anchor=\"middle\" x=\"376.5713\" y=\"-570.9073\" font-family=\"Times,serif\" font-size=\"14.00\" fill=\"#000000\">19</text>\n</g>\n<!-- 25&#45;&#45;19 -->\n<g id=\"edge22\" class=\"edge\">\n<title>25&#45;&#45;19</title>\n<path fill=\"none\" stroke=\"#000000\" d=\"M304.8756,-600.1434C319.5233,-594.9263 338.1273,-588.3001 352.7132,-583.105\"/>\n</g>\n<!-- 24&#45;&#45;23 -->\n<g id=\"edge23\" class=\"edge\">\n<title>24&#45;&#45;23</title>\n<path fill=\"none\" stroke=\"#000000\" d=\"M201.6108,-134.4029C206.6667,-147.6575 213.5456,-165.6913 218.5969,-178.9339\"/>\n</g>\n<!-- 18 -->\n<g id=\"node19\" class=\"node\">\n<title>18</title>\n<ellipse fill=\"none\" stroke=\"#000000\" cx=\"294.488\" cy=\"-77.1818\" rx=\"27\" ry=\"18\"/>\n<text text-anchor=\"middle\" x=\"294.488\" y=\"-73.4818\" font-family=\"Times,serif\" font-size=\"14.00\" fill=\"#000000\">18</text>\n</g>\n<!-- 24&#45;&#45;18 -->\n<g id=\"edge24\" class=\"edge\">\n<title>24&#45;&#45;18</title>\n<path fill=\"none\" stroke=\"#000000\" d=\"M218.2029,-107.398C234.195,-101.0636 255.3107,-92.6998 271.2713,-86.3778\"/>\n</g>\n<!-- 23&#45;&#45;22 -->\n<g id=\"edge25\" class=\"edge\">\n<title>23&#45;&#45;22</title>\n<path fill=\"none\" stroke=\"#000000\" d=\"M232.1809,-214.2287C239.1366,-232.141 249.8561,-259.7458 256.7904,-277.6029\"/>\n</g>\n<!-- 17 -->\n<g id=\"node20\" class=\"node\">\n<title>17</title>\n<ellipse fill=\"none\" stroke=\"#000000\" cx=\"327.0005\" cy=\"-156.3487\" rx=\"27\" ry=\"18\"/>\n<text text-anchor=\"middle\" x=\"327.0005\" y=\"-152.6487\" font-family=\"Times,serif\" font-size=\"14.00\" fill=\"#000000\">17</text>\n</g>\n<!-- 23&#45;&#45;17 -->\n<g id=\"edge26\" class=\"edge\">\n<title>23&#45;&#45;17</title>\n<path fill=\"none\" stroke=\"#000000\" d=\"M248.6699,-187.3926C265.1994,-180.8417 287.283,-172.0895 303.7881,-165.5482\"/>\n</g>\n<!-- 22&#45;&#45;21 -->\n<g id=\"edge27\" class=\"edge\">\n<title>22&#45;&#45;21</title>\n<path fill=\"none\" stroke=\"#000000\" d=\"M270.4596,-312.5209C277.9355,-331.4659 289.7983,-361.528 297.2874,-380.5064\"/>\n</g>\n<!-- 16 -->\n<g id=\"node21\" class=\"node\">\n<title>16</title>\n<ellipse fill=\"none\" stroke=\"#000000\" cx=\"366.5814\" cy=\"-254.2777\" rx=\"27\" ry=\"18\"/>\n<text text-anchor=\"middle\" x=\"366.5814\" y=\"-250.5777\" font-family=\"Times,serif\" font-size=\"14.00\" fill=\"#000000\">16</text>\n</g>\n<!-- 22&#45;&#45;16 -->\n<g id=\"edge28\" class=\"edge\">\n<title>22&#45;&#45;16</title>\n<path fill=\"none\" stroke=\"#000000\" d=\"M286.9396,-285.7936C303.7992,-279.122 326.4592,-270.1549 343.2975,-263.4917\"/>\n</g>\n<!-- 21&#45;&#45;20 -->\n<g id=\"edge29\" class=\"edge\">\n<title>21&#45;&#45;20</title>\n<path fill=\"none\" stroke=\"#000000\" d=\"M311.3371,-415.5088C318.5407,-433.1551 329.6181,-460.2908 336.8477,-478.0005\"/>\n</g>\n<!-- 15 -->\n<g id=\"node22\" class=\"node\">\n<title>15</title>\n<ellipse fill=\"none\" stroke=\"#000000\" cx=\"407.4565\" cy=\"-357.2099\" rx=\"27\" ry=\"18\"/>\n<text text-anchor=\"middle\" x=\"407.4565\" y=\"-353.5099\" font-family=\"Times,serif\" font-size=\"14.00\" fill=\"#000000\">15</text>\n</g>\n<!-- 21&#45;&#45;15 -->\n<g id=\"edge30\" class=\"edge\">\n<title>21&#45;&#45;15</title>\n<path fill=\"none\" stroke=\"#000000\" d=\"M327.6442,-388.7974C344.5398,-382.1105 367.2484,-373.1231 384.1227,-366.4447\"/>\n</g>\n<!-- 20&#45;&#45;19 -->\n<g id=\"edge31\" class=\"edge\">\n<title>20&#45;&#45;19</title>\n<path fill=\"none\" stroke=\"#000000\" d=\"M351.2595,-513.1486C356.6505,-526.2384 363.9855,-544.0481 369.3717,-557.1261\"/>\n</g>\n<!-- 14 -->\n<g id=\"node23\" class=\"node\">\n<title>14</title>\n<ellipse fill=\"none\" stroke=\"#000000\" cx=\"445.5199\" cy=\"-455.5349\" rx=\"27\" ry=\"18\"/>\n<text text-anchor=\"middle\" x=\"445.5199\" y=\"-451.8349\" font-family=\"Times,serif\" font-size=\"14.00\" fill=\"#000000\">14</text>\n</g>\n<!-- 20&#45;&#45;14 -->\n<g id=\"edge32\" class=\"edge\">\n<title>20&#45;&#45;14</title>\n<path fill=\"none\" stroke=\"#000000\" d=\"M367.3213,-486.4224C383.7059,-479.9507 405.5569,-471.3198 421.9952,-464.8269\"/>\n</g>\n<!-- 13 -->\n<g id=\"node24\" class=\"node\">\n<title>13</title>\n<ellipse fill=\"none\" stroke=\"#000000\" cx=\"476.1259\" cy=\"-535.291\" rx=\"27\" ry=\"18\"/>\n<text text-anchor=\"middle\" x=\"476.1259\" y=\"-531.591\" font-family=\"Times,serif\" font-size=\"14.00\" fill=\"#000000\">13</text>\n</g>\n<!-- 19&#45;&#45;13 -->\n<g id=\"edge33\" class=\"edge\">\n<title>19&#45;&#45;13</title>\n<path fill=\"none\" stroke=\"#000000\" d=\"M399.9124,-565.3894C415.7745,-559.1251 436.682,-550.8683 452.586,-544.5874\"/>\n</g>\n<!-- 18&#45;&#45;17 -->\n<g id=\"edge34\" class=\"edge\">\n<title>18&#45;&#45;17</title>\n<path fill=\"none\" stroke=\"#000000\" d=\"M301.7036,-94.7515C307.0915,-107.8708 314.4221,-125.7206 319.8051,-138.8281\"/>\n</g>\n<!-- 12 -->\n<g id=\"node25\" class=\"node\">\n<title>12</title>\n<ellipse fill=\"none\" stroke=\"#000000\" cx=\"390.1717\" cy=\"-42.9372\" rx=\"27\" ry=\"18\"/>\n<text text-anchor=\"middle\" x=\"390.1717\" y=\"-39.2372\" font-family=\"Times,serif\" font-size=\"14.00\" fill=\"#000000\">12</text>\n</g>\n<!-- 18&#45;&#45;12 -->\n<g id=\"edge35\" class=\"edge\">\n<title>18&#45;&#45;12</title>\n<path fill=\"none\" stroke=\"#000000\" d=\"M318.6331,-68.5404C333.2487,-63.3096 351.8119,-56.6659 366.3659,-51.4571\"/>\n</g>\n<!-- 17&#45;&#45;16 -->\n<g id=\"edge36\" class=\"edge\">\n<title>17&#45;&#45;16</title>\n<path fill=\"none\" stroke=\"#000000\" d=\"M334.0768,-173.8565C341.2368,-191.5714 352.2472,-218.8127 359.4329,-236.5914\"/>\n</g>\n<!-- 11 -->\n<g id=\"node26\" class=\"node\">\n<title>11</title>\n<ellipse fill=\"none\" stroke=\"#000000\" cx=\"424.5444\" cy=\"-120.4097\" rx=\"27\" ry=\"18\"/>\n<text text-anchor=\"middle\" x=\"424.5444\" y=\"-116.7097\" font-family=\"Times,serif\" font-size=\"14.00\" fill=\"#000000\">11</text>\n</g>\n<!-- 17&#45;&#45;11 -->\n<g id=\"edge37\" class=\"edge\">\n<title>17&#45;&#45;11</title>\n<path fill=\"none\" stroke=\"#000000\" d=\"M351.1125,-147.4649C366.2323,-141.8942 385.6429,-134.7425 400.7098,-129.1913\"/>\n</g>\n<!-- 16&#45;&#45;15 -->\n<g id=\"edge38\" class=\"edge\">\n<title>16&#45;&#45;15</title>\n<path fill=\"none\" stroke=\"#000000\" d=\"M373.5153,-271.7388C381.0317,-290.6667 392.9589,-320.7018 400.4886,-339.6632\"/>\n</g>\n<!-- 10 -->\n<g id=\"node27\" class=\"node\">\n<title>10</title>\n<ellipse fill=\"none\" stroke=\"#000000\" cx=\"465.0397\" cy=\"-216.111\" rx=\"27\" ry=\"18\"/>\n<text text-anchor=\"middle\" x=\"465.0397\" y=\"-212.411\" font-family=\"Times,serif\" font-size=\"14.00\" fill=\"#000000\">10</text>\n</g>\n<!-- 16&#45;&#45;10 -->\n<g id=\"edge39\" class=\"edge\">\n<title>16&#45;&#45;10</title>\n<path fill=\"none\" stroke=\"#000000\" d=\"M390.1646,-245.1358C405.7527,-239.0932 426.1003,-231.2056 441.6489,-225.1783\"/>\n</g>\n<!-- 15&#45;&#45;14 -->\n<g id=\"edge40\" class=\"edge\">\n<title>15&#45;&#45;14</title>\n<path fill=\"none\" stroke=\"#000000\" d=\"M414.2614,-374.7884C421.147,-392.575 431.7352,-419.9265 438.6455,-437.777\"/>\n</g>\n<!-- 9 -->\n<g id=\"node28\" class=\"node\">\n<title>9</title>\n<ellipse fill=\"none\" stroke=\"#000000\" cx=\"505.1025\" cy=\"-317.7411\" rx=\"27\" ry=\"18\"/>\n<text text-anchor=\"middle\" x=\"505.1025\" y=\"-314.0411\" font-family=\"Times,serif\" font-size=\"14.00\" fill=\"#000000\">9</text>\n</g>\n<!-- 15&#45;&#45;9 -->\n<g id=\"edge41\" class=\"edge\">\n<title>15&#45;&#45;9</title>\n<path fill=\"none\" stroke=\"#000000\" d=\"M430.5972,-347.8563C446.05,-341.6103 466.3012,-333.4247 481.7895,-327.1642\"/>\n</g>\n<!-- 14&#45;&#45;13 -->\n<g id=\"edge42\" class=\"edge\">\n<title>14&#45;&#45;13</title>\n<path fill=\"none\" stroke=\"#000000\" d=\"M452.3124,-473.2354C457.3843,-486.4523 464.285,-504.435 469.3524,-517.64\"/>\n</g>\n<!-- 8 -->\n<g id=\"node29\" class=\"node\">\n<title>8</title>\n<ellipse fill=\"none\" stroke=\"#000000\" cx=\"541.2379\" cy=\"-415.2163\" rx=\"27\" ry=\"18\"/>\n<text text-anchor=\"middle\" x=\"541.2379\" y=\"-411.5163\" font-family=\"Times,serif\" font-size=\"14.00\" fill=\"#000000\">8</text>\n</g>\n<!-- 14&#45;&#45;8 -->\n<g id=\"edge43\" class=\"edge\">\n<title>14&#45;&#45;8</title>\n<path fill=\"none\" stroke=\"#000000\" d=\"M468.6906,-445.7749C483.7398,-439.4358 503.2741,-431.2076 518.2807,-424.8864\"/>\n</g>\n<!-- 7 -->\n<g id=\"node30\" class=\"node\">\n<title>7</title>\n<ellipse fill=\"none\" stroke=\"#000000\" cx=\"569.3434\" cy=\"-495.1193\" rx=\"27\" ry=\"18\"/>\n<text text-anchor=\"middle\" x=\"569.3434\" y=\"-491.4193\" font-family=\"Times,serif\" font-size=\"14.00\" fill=\"#000000\">7</text>\n</g>\n<!-- 13&#45;&#45;7 -->\n<g id=\"edge44\" class=\"edge\">\n<title>13&#45;&#45;7</title>\n<path fill=\"none\" stroke=\"#000000\" d=\"M499.1684,-525.361C513.6176,-519.1342 532.1673,-511.1402 546.5659,-504.9352\"/>\n</g>\n<!-- 12&#45;&#45;11 -->\n<g id=\"edge45\" class=\"edge\">\n<title>12&#45;&#45;11</title>\n<path fill=\"none\" stroke=\"#000000\" d=\"M397.9714,-60.5169C403.5967,-73.1957 411.1574,-90.2367 416.7756,-102.8995\"/>\n</g>\n<!-- 6 -->\n<g id=\"node31\" class=\"node\">\n<title>6</title>\n<ellipse fill=\"none\" stroke=\"#000000\" cx=\"468.9907\" cy=\"-18\" rx=\"27\" ry=\"18\"/>\n<text text-anchor=\"middle\" x=\"468.9907\" y=\"-14.3\" font-family=\"Times,serif\" font-size=\"14.00\" fill=\"#000000\">6</text>\n</g>\n<!-- 12&#45;&#45;6 -->\n<g id=\"edge46\" class=\"edge\">\n<title>12&#45;&#45;6</title>\n<path fill=\"none\" stroke=\"#000000\" d=\"M414.6785,-35.1836C424.1685,-32.1811 435.0105,-28.7508 444.4991,-25.7488\"/>\n</g>\n<!-- 11&#45;&#45;10 -->\n<g id=\"edge47\" class=\"edge\">\n<title>11&#45;&#45;10</title>\n<path fill=\"none\" stroke=\"#000000\" d=\"M431.9719,-137.9628C439.2785,-155.2304 450.369,-181.4401 457.6593,-198.6691\"/>\n</g>\n<!-- 5 -->\n<g id=\"node32\" class=\"node\">\n<title>5</title>\n<ellipse fill=\"none\" stroke=\"#000000\" cx=\"504.55\" cy=\"-92.5249\" rx=\"27\" ry=\"18\"/>\n<text text-anchor=\"middle\" x=\"504.55\" y=\"-88.8249\" font-family=\"Times,serif\" font-size=\"14.00\" fill=\"#000000\">5</text>\n</g>\n<!-- 11&#45;&#45;5 -->\n<g id=\"edge48\" class=\"edge\">\n<title>11&#45;&#45;5</title>\n<path fill=\"none\" stroke=\"#000000\" d=\"M448.5487,-112.0433C458.6748,-108.514 470.4384,-104.414 480.5626,-100.8853\"/>\n</g>\n<!-- 10&#45;&#45;9 -->\n<g id=\"edge49\" class=\"edge\">\n<title>10&#45;&#45;9</title>\n<path fill=\"none\" stroke=\"#000000\" d=\"M472.0181,-233.8136C479.3714,-252.4671 490.8811,-281.6647 498.2041,-300.2413\"/>\n</g>\n<!-- 4 -->\n<g id=\"node33\" class=\"node\">\n<title>4</title>\n<ellipse fill=\"none\" stroke=\"#000000\" cx=\"544.8236\" cy=\"-185.7078\" rx=\"27\" ry=\"18\"/>\n<text text-anchor=\"middle\" x=\"544.8236\" y=\"-182.0078\" font-family=\"Times,serif\" font-size=\"14.00\" fill=\"#000000\">4</text>\n</g>\n<!-- 10&#45;&#45;4 -->\n<g id=\"edge50\" class=\"edge\">\n<title>10&#45;&#45;4</title>\n<path fill=\"none\" stroke=\"#000000\" d=\"M488.546,-207.1534C498.8422,-203.2299 510.9012,-198.6346 521.2097,-194.7063\"/>\n</g>\n<!-- 9&#45;&#45;8 -->\n<g id=\"edge51\" class=\"edge\">\n<title>9&#45;&#45;8</title>\n<path fill=\"none\" stroke=\"#000000\" d=\"M511.7303,-335.6195C518.2503,-353.2072 528.1467,-379.9028 534.6522,-397.4512\"/>\n</g>\n<!-- 3 -->\n<g id=\"node34\" class=\"node\">\n<title>3</title>\n<ellipse fill=\"none\" stroke=\"#000000\" cx=\"584.1822\" cy=\"-285.073\" rx=\"27\" ry=\"18\"/>\n<text text-anchor=\"middle\" x=\"584.1822\" y=\"-281.373\" font-family=\"Times,serif\" font-size=\"14.00\" fill=\"#000000\">3</text>\n</g>\n<!-- 9&#45;&#45;3 -->\n<g id=\"edge52\" class=\"edge\">\n<title>9&#45;&#45;3</title>\n<path fill=\"none\" stroke=\"#000000\" d=\"M528.4013,-308.1162C538.6978,-303.8627 550.7728,-298.8745 561.0499,-294.629\"/>\n</g>\n<!-- 8&#45;&#45;7 -->\n<g id=\"edge53\" class=\"edge\">\n<title>8&#45;&#45;7</title>\n<path fill=\"none\" stroke=\"#000000\" d=\"M547.4754,-432.9494C552.133,-446.1907 558.4699,-464.2065 563.1233,-477.4358\"/>\n</g>\n<!-- 2 -->\n<g id=\"node35\" class=\"node\">\n<title>2</title>\n<ellipse fill=\"none\" stroke=\"#000000\" cx=\"618.6206\" cy=\"-380.7014\" rx=\"27\" ry=\"18\"/>\n<text text-anchor=\"middle\" x=\"618.6206\" y=\"-377.0014\" font-family=\"Times,serif\" font-size=\"14.00\" fill=\"#000000\">2</text>\n</g>\n<!-- 8&#45;&#45;2 -->\n<g id=\"edge54\" class=\"edge\">\n<title>8&#45;&#45;2</title>\n<path fill=\"none\" stroke=\"#000000\" d=\"M564.0367,-405.0474C574.1123,-400.5534 585.9281,-395.2832 595.9847,-390.7976\"/>\n</g>\n<!-- 1 -->\n<g id=\"node36\" class=\"node\">\n<title>1</title>\n<ellipse fill=\"none\" stroke=\"#000000\" cx=\"643.7757\" cy=\"-459.3852\" rx=\"27\" ry=\"18\"/>\n<text text-anchor=\"middle\" x=\"643.7757\" y=\"-455.6852\" font-family=\"Times,serif\" font-size=\"14.00\" fill=\"#000000\">1</text>\n</g>\n<!-- 7&#45;&#45;1 -->\n<g id=\"edge55\" class=\"edge\">\n<title>7&#45;&#45;1</title>\n<path fill=\"none\" stroke=\"#000000\" d=\"M591.273,-484.5912C600.8786,-479.9797 612.1286,-474.5786 621.7457,-469.9616\"/>\n</g>\n<!-- 6&#45;&#45;5 -->\n<g id=\"edge56\" class=\"edge\">\n<title>6&#45;&#45;5</title>\n<path fill=\"none\" stroke=\"#000000\" d=\"M477.2381,-35.2848C482.9828,-47.3245 490.6124,-63.3147 496.3473,-75.3338\"/>\n</g>\n<!-- 5&#45;&#45;4 -->\n<g id=\"edge57\" class=\"edge\">\n<title>5&#45;&#45;4</title>\n<path fill=\"none\" stroke=\"#000000\" d=\"M512.1251,-110.0519C519.3254,-126.7115 530.0934,-151.6258 537.2824,-168.2594\"/>\n</g>\n<!-- 4&#45;&#45;3 -->\n<g id=\"edge58\" class=\"edge\">\n<title>4&#45;&#45;3</title>\n<path fill=\"none\" stroke=\"#000000\" d=\"M551.8602,-203.4723C559.0242,-221.5587 570.0647,-249.4316 577.2066,-267.4623\"/>\n</g>\n<!-- 3&#45;&#45;2 -->\n<g id=\"edge59\" class=\"edge\">\n<title>3&#45;&#45;2</title>\n<path fill=\"none\" stroke=\"#000000\" d=\"M590.4987,-302.6127C596.6737,-319.7593 606.0264,-345.7299 612.2275,-362.949\"/>\n</g>\n<!-- 2&#45;&#45;1 -->\n<g id=\"edge60\" class=\"edge\">\n<title>2&#45;&#45;1</title>\n<path fill=\"none\" stroke=\"#000000\" d=\"M624.3287,-398.5559C628.4455,-411.433 633.9786,-428.7404 638.0902,-441.6013\"/>\n</g>\n</g>\n</svg>\n"
          },
          "metadata": {},
          "execution_count": 75
        }
      ]
    },
    {
      "cell_type": "code",
      "source": [
        "[f(grid_6_6) for f in functions6]"
      ],
      "metadata": {
        "colab": {
          "base_uri": "https://localhost:8080/"
        },
        "id": "zv9pkJS92lWX",
        "outputId": "bec4f6cb-58be-42e3-d579-b6bd190670d3"
      },
      "execution_count": 76,
      "outputs": [
        {
          "output_type": "execute_result",
          "data": {
            "text/plain": [
              "[0.0, 8712.0, 0.0, 1464.0, 1488.0, 120.0, 416.0, 912.0, 0.0, 3256.0]"
            ]
          },
          "metadata": {},
          "execution_count": 76
        }
      ]
    },
    {
      "cell_type": "code",
      "source": [
        "functions6[9](cycle(6))"
      ],
      "metadata": {
        "colab": {
          "base_uri": "https://localhost:8080/"
        },
        "id": "GGPQMfud3oqe",
        "outputId": "1bd5ccc5-dfa1-44b1-e177-7bc2b2fda347"
      },
      "execution_count": 77,
      "outputs": [
        {
          "output_type": "execute_result",
          "data": {
            "text/plain": [
              "72.0"
            ]
          },
          "metadata": {},
          "execution_count": 77
        }
      ]
    },
    {
      "cell_type": "code",
      "source": [
        "[f(cycle(4)) for f in functions4]"
      ],
      "metadata": {
        "colab": {
          "base_uri": "https://localhost:8080/"
        },
        "id": "dRyVdZha47kn",
        "outputId": "1729e2df-4983-48c2-8e6e-a87370ab17d3"
      },
      "execution_count": 78,
      "outputs": [
        {
          "output_type": "execute_result",
          "data": {
            "text/plain": [
              "[32.0, 16.0, 8.0]"
            ]
          },
          "metadata": {},
          "execution_count": 78
        }
      ]
    },
    {
      "cell_type": "code",
      "source": [
        "for i in range(3):\n",
        "    print(i+1)\n",
        "    g = createGraph(evenGraphs4[i])\n",
        "    g.engine = 'sfdp'\n",
        "    # g.render(f'even_graph_8_{i+1}')\n",
        "    display(g)"
      ],
      "metadata": {
        "colab": {
          "base_uri": "https://localhost:8080/",
          "height": 695
        },
        "id": "4hDe1U1R5Tc6",
        "outputId": "3fad4a63-1acd-40d2-949c-be2c587e5014"
      },
      "execution_count": 79,
      "outputs": [
        {
          "output_type": "stream",
          "name": "stdout",
          "text": [
            "1\n"
          ]
        },
        {
          "output_type": "display_data",
          "data": {
            "text/plain": [
              "<graphviz.dot.Graph at 0x7fda17e37a10>"
            ],
            "image/svg+xml": "<?xml version=\"1.0\" encoding=\"UTF-8\" standalone=\"no\"?>\n<!DOCTYPE svg PUBLIC \"-//W3C//DTD SVG 1.1//EN\"\n \"http://www.w3.org/Graphics/SVG/1.1/DTD/svg11.dtd\">\n<!-- Generated by graphviz version 2.40.1 (20161225.0304)\n -->\n<!-- Title: %3 Pages: 1 -->\n<svg width=\"385pt\" height=\"367pt\"\n viewBox=\"0.00 0.00 385.11 366.50\" xmlns=\"http://www.w3.org/2000/svg\" xmlns:xlink=\"http://www.w3.org/1999/xlink\">\n<g id=\"graph0\" class=\"graph\" transform=\"scale(1 1) rotate(0) translate(4 362.5038)\">\n<title>%3</title>\n<polygon fill=\"#ffffff\" stroke=\"transparent\" points=\"-4,4 -4,-362.5038 381.112,-362.5038 381.112,4 -4,4\"/>\n<!-- 4 -->\n<g id=\"node1\" class=\"node\">\n<title>4</title>\n<ellipse fill=\"none\" stroke=\"#000000\" cx=\"184.6426\" cy=\"-340.5038\" rx=\"27\" ry=\"18\"/>\n<text text-anchor=\"middle\" x=\"184.6426\" y=\"-336.8038\" font-family=\"Times,serif\" font-size=\"14.00\" fill=\"#000000\">4</text>\n</g>\n<!-- 3 -->\n<g id=\"node2\" class=\"node\">\n<title>3</title>\n<ellipse fill=\"none\" stroke=\"#000000\" cx=\"350.112\" cy=\"-183.0988\" rx=\"27\" ry=\"18\"/>\n<text text-anchor=\"middle\" x=\"350.112\" y=\"-179.3988\" font-family=\"Times,serif\" font-size=\"14.00\" fill=\"#000000\">3</text>\n</g>\n<!-- 4&#45;&#45;3 -->\n<g id=\"edge1\" class=\"edge\">\n<title>4&#45;&#45;3</title>\n<path fill=\"none\" stroke=\"#000000\" d=\"M200.2095,-325.6955C231.7466,-295.6954 302.8627,-228.0454 334.4659,-197.9824\"/>\n</g>\n<!-- 1 -->\n<g id=\"node3\" class=\"node\">\n<title>1</title>\n<ellipse fill=\"none\" stroke=\"#000000\" cx=\"27\" cy=\"-175.3179\" rx=\"27\" ry=\"18\"/>\n<text text-anchor=\"middle\" x=\"27\" y=\"-171.6179\" font-family=\"Times,serif\" font-size=\"14.00\" fill=\"#000000\">1</text>\n</g>\n<!-- 4&#45;&#45;1 -->\n<g id=\"edge2\" class=\"edge\">\n<title>4&#45;&#45;1</title>\n<path fill=\"none\" stroke=\"#000000\" d=\"M170.0945,-325.2596C140.0629,-293.791 71.5144,-221.9623 41.5129,-190.5253\"/>\n</g>\n<!-- 2 -->\n<g id=\"node4\" class=\"node\">\n<title>2</title>\n<ellipse fill=\"none\" stroke=\"#000000\" cx=\"192.4381\" cy=\"-18\" rx=\"27\" ry=\"18\"/>\n<text text-anchor=\"middle\" x=\"192.4381\" y=\"-14.3\" font-family=\"Times,serif\" font-size=\"14.00\" fill=\"#000000\">2</text>\n</g>\n<!-- 3&#45;&#45;2 -->\n<g id=\"edge3\" class=\"edge\">\n<title>3&#45;&#45;2</title>\n<path fill=\"none\" stroke=\"#000000\" d=\"M335.5611,-167.8626C305.5235,-136.4106 236.9613,-64.6198 206.9539,-33.1993\"/>\n</g>\n<!-- 2&#45;&#45;1 -->\n<g id=\"edge4\" class=\"edge\">\n<title>2&#45;&#45;1</title>\n<path fill=\"none\" stroke=\"#000000\" d=\"M176.874,-32.8001C145.3429,-62.7836 74.2404,-130.3962 42.6432,-160.4426\"/>\n</g>\n</g>\n</svg>\n"
          },
          "metadata": {}
        },
        {
          "output_type": "stream",
          "name": "stdout",
          "text": [
            "2\n"
          ]
        },
        {
          "output_type": "display_data",
          "data": {
            "text/plain": [
              "<graphviz.dot.Graph at 0x7fda17e3b850>"
            ],
            "image/svg+xml": "<?xml version=\"1.0\" encoding=\"UTF-8\" standalone=\"no\"?>\n<!DOCTYPE svg PUBLIC \"-//W3C//DTD SVG 1.1//EN\"\n \"http://www.w3.org/Graphics/SVG/1.1/DTD/svg11.dtd\">\n<!-- Generated by graphviz version 2.40.1 (20161225.0304)\n -->\n<!-- Title: %3 Pages: 1 -->\n<svg width=\"413pt\" height=\"44pt\"\n viewBox=\"0.00 0.00 413.16 44.00\" xmlns=\"http://www.w3.org/2000/svg\" xmlns:xlink=\"http://www.w3.org/1999/xlink\">\n<g id=\"graph0\" class=\"graph\" transform=\"scale(1 1) rotate(0) translate(4 40)\">\n<title>%3</title>\n<polygon fill=\"#ffffff\" stroke=\"transparent\" points=\"-4,4 -4,-40 409.1626,-40 409.1626,4 -4,4\"/>\n<!-- 3 -->\n<g id=\"node1\" class=\"node\">\n<title>3</title>\n<ellipse fill=\"none\" stroke=\"#000000\" cx=\"378.1626\" cy=\"-18\" rx=\"27\" ry=\"18\"/>\n<text text-anchor=\"middle\" x=\"378.1626\" y=\"-14.3\" font-family=\"Times,serif\" font-size=\"14.00\" fill=\"#000000\">3</text>\n</g>\n<!-- 2 -->\n<g id=\"node2\" class=\"node\">\n<title>2</title>\n<ellipse fill=\"none\" stroke=\"#000000\" cx=\"210.5615\" cy=\"-18\" rx=\"27\" ry=\"18\"/>\n<text text-anchor=\"middle\" x=\"210.5615\" y=\"-14.3\" font-family=\"Times,serif\" font-size=\"14.00\" fill=\"#000000\">2</text>\n</g>\n<!-- 3&#45;&#45;2 -->\n<g id=\"edge1\" class=\"edge\">\n<title>3&#45;&#45;2</title>\n<path fill=\"none\" stroke=\"#000000\" d=\"M351.9749,-12.9375C320.4883,-10.6831 267.9697,-10.6875 236.5653,-12.9507\"/>\n</g>\n<!-- 3&#45;&#45;2 -->\n<g id=\"edge2\" class=\"edge\">\n<title>3&#45;&#45;2</title>\n<path fill=\"none\" stroke=\"#000000\" d=\"M351.9749,-23.0625C320.4883,-25.3169 267.9697,-25.3125 236.5653,-23.0493\"/>\n</g>\n<!-- 1 -->\n<g id=\"node3\" class=\"node\">\n<title>1</title>\n<ellipse fill=\"none\" stroke=\"#000000\" cx=\"27\" cy=\"-18\" rx=\"27\" ry=\"18\"/>\n<text text-anchor=\"middle\" x=\"27\" y=\"-14.3\" font-family=\"Times,serif\" font-size=\"14.00\" fill=\"#000000\">1</text>\n</g>\n<!-- 2&#45;&#45;1 -->\n<g id=\"edge3\" class=\"edge\">\n<title>2&#45;&#45;1</title>\n<path fill=\"none\" stroke=\"#000000\" d=\"M184.2616,-13.0994C149.3666,-10.6324 88.1215,-10.6335 53.2511,-13.1029\"/>\n</g>\n<!-- 2&#45;&#45;1 -->\n<g id=\"edge4\" class=\"edge\">\n<title>2&#45;&#45;1</title>\n<path fill=\"none\" stroke=\"#000000\" d=\"M184.2616,-22.9006C149.3666,-25.3676 88.1215,-25.3665 53.2511,-22.8971\"/>\n</g>\n</g>\n</svg>\n"
          },
          "metadata": {}
        },
        {
          "output_type": "stream",
          "name": "stdout",
          "text": [
            "3\n"
          ]
        },
        {
          "output_type": "display_data",
          "data": {
            "text/plain": [
              "<graphviz.dot.Graph at 0x7fda17e3b7d0>"
            ],
            "image/svg+xml": "<?xml version=\"1.0\" encoding=\"UTF-8\" standalone=\"no\"?>\n<!DOCTYPE svg PUBLIC \"-//W3C//DTD SVG 1.1//EN\"\n \"http://www.w3.org/Graphics/SVG/1.1/DTD/svg11.dtd\">\n<!-- Generated by graphviz version 2.40.1 (20161225.0304)\n -->\n<!-- Title: %3 Pages: 1 -->\n<svg width=\"252pt\" height=\"49pt\"\n viewBox=\"0.00 0.00 251.62 48.50\" xmlns=\"http://www.w3.org/2000/svg\" xmlns:xlink=\"http://www.w3.org/1999/xlink\">\n<g id=\"graph0\" class=\"graph\" transform=\"scale(1 1) rotate(0) translate(4 44.5023)\">\n<title>%3</title>\n<polygon fill=\"#ffffff\" stroke=\"transparent\" points=\"-4,4 -4,-44.5023 247.6186,-44.5023 247.6186,4 -4,4\"/>\n<!-- 2 -->\n<g id=\"node1\" class=\"node\">\n<title>2</title>\n<ellipse fill=\"none\" stroke=\"#000000\" cx=\"216.6186\" cy=\"-20.2512\" rx=\"27\" ry=\"18\"/>\n<text text-anchor=\"middle\" x=\"216.6186\" y=\"-16.5512\" font-family=\"Times,serif\" font-size=\"14.00\" fill=\"#000000\">2</text>\n</g>\n<!-- 1 -->\n<g id=\"node2\" class=\"node\">\n<title>1</title>\n<ellipse fill=\"none\" stroke=\"#000000\" cx=\"27\" cy=\"-20.2512\" rx=\"27\" ry=\"18\"/>\n<text text-anchor=\"middle\" x=\"27\" y=\"-16.5512\" font-family=\"Times,serif\" font-size=\"14.00\" fill=\"#000000\">1</text>\n</g>\n<!-- 2&#45;&#45;1 -->\n<g id=\"edge1\" class=\"edge\">\n<title>2&#45;&#45;1</title>\n<path fill=\"none\" stroke=\"#000000\" d=\"M197.3934,-7.4246C161.0502,2.4687 82.6584,2.4733 46.276,-7.4108\"/>\n</g>\n<!-- 2&#45;&#45;1 -->\n<g id=\"edge2\" class=\"edge\">\n<title>2&#45;&#45;1</title>\n<path fill=\"none\" stroke=\"#000000\" d=\"M197.3934,-33.0777C161.0502,-42.971 82.6584,-42.9756 46.276,-33.0915\"/>\n</g>\n<!-- 2&#45;&#45;1 -->\n<g id=\"edge3\" class=\"edge\">\n<title>2&#45;&#45;1</title>\n<path fill=\"none\" stroke=\"#000000\" d=\"M190.2529,-25.0961C154.0257,-27.6414 89.2508,-27.6362 53.1417,-25.0803\"/>\n</g>\n<!-- 2&#45;&#45;1 -->\n<g id=\"edge4\" class=\"edge\">\n<title>2&#45;&#45;1</title>\n<path fill=\"none\" stroke=\"#000000\" d=\"M190.2529,-15.4062C154.0257,-12.8609 89.2508,-12.8662 53.1417,-15.422\"/>\n</g>\n</g>\n</svg>\n"
          },
          "metadata": {}
        }
      ]
    },
    {
      "cell_type": "code",
      "source": [
        "grid_8_8 = nx.to_numpy_array(nx.grid_2d_graph(8,8))\n",
        "results = [f(grid_8_8) for f in list(functions8.values()) + functions8_disconnected]\n",
        "for i,r in enumerate(results):\n",
        "    if r == 0:\n",
        "        print(i)"
      ],
      "metadata": {
        "colab": {
          "base_uri": "https://localhost:8080/"
        },
        "id": "g0L8ln3L5mKH",
        "outputId": "a210b4f3-1dd3-4273-9232-d6a9f02b71a2"
      },
      "execution_count": 80,
      "outputs": [
        {
          "output_type": "stream",
          "name": "stdout",
          "text": [
            "1\n",
            "2\n",
            "5\n",
            "8\n",
            "14\n",
            "15\n",
            "16\n",
            "19\n",
            "32\n",
            "33\n",
            "35\n",
            "38\n",
            "39\n",
            "40\n",
            "41\n",
            "42\n",
            "43\n",
            "45\n",
            "51\n",
            "53\n",
            "54\n",
            "55\n",
            "65\n"
          ]
        }
      ]
    },
    {
      "cell_type": "code",
      "source": [
        "graphs = [(evenGraphs8[:1] + evenGraphs8[2:] + evenGraphs8Disconnected)[i] for i in range(len(results)) if results[i] == 0]"
      ],
      "metadata": {
        "id": "ZsnPWWZcEwoi"
      },
      "execution_count": 81,
      "outputs": []
    },
    {
      "cell_type": "code",
      "source": [
        "for g_str in graphs: \n",
        "    print('graph')\n",
        "    g = createGraph(g_str)\n",
        "    g.engine = 'sfdp'\n",
        "    # g.render(f'even_graph_8_{i+1}')\n",
        "    display(g)"
      ],
      "metadata": {
        "colab": {
          "base_uri": "https://localhost:8080/",
          "height": 1000
        },
        "id": "YyKE9fr4Fgb2",
        "outputId": "8d0f80c9-a38b-46ca-8486-e8afb360dce2"
      },
      "execution_count": 82,
      "outputs": [
        {
          "output_type": "stream",
          "name": "stdout",
          "text": [
            "graph\n"
          ]
        },
        {
          "output_type": "display_data",
          "data": {
            "text/plain": [
              "<graphviz.dot.Graph at 0x7fda17e859d0>"
            ],
            "image/svg+xml": "<?xml version=\"1.0\" encoding=\"UTF-8\" standalone=\"no\"?>\n<!DOCTYPE svg PUBLIC \"-//W3C//DTD SVG 1.1//EN\"\n \"http://www.w3.org/Graphics/SVG/1.1/DTD/svg11.dtd\">\n<!-- Generated by graphviz version 2.40.1 (20161225.0304)\n -->\n<!-- Title: %3 Pages: 1 -->\n<svg width=\"506pt\" height=\"145pt\"\n viewBox=\"0.00 0.00 505.77 144.57\" xmlns=\"http://www.w3.org/2000/svg\" xmlns:xlink=\"http://www.w3.org/1999/xlink\">\n<g id=\"graph0\" class=\"graph\" transform=\"scale(1 1) rotate(0) translate(4 140.5672)\">\n<title>%3</title>\n<polygon fill=\"#ffffff\" stroke=\"transparent\" points=\"-4,4 -4,-140.5672 501.7734,-140.5672 501.7734,4 -4,4\"/>\n<!-- 6 -->\n<g id=\"node1\" class=\"node\">\n<title>6</title>\n<ellipse fill=\"none\" stroke=\"#000000\" cx=\"27\" cy=\"-117.8356\" rx=\"27\" ry=\"18\"/>\n<text text-anchor=\"middle\" x=\"27\" y=\"-114.1356\" font-family=\"Times,serif\" font-size=\"14.00\" fill=\"#000000\">6</text>\n</g>\n<!-- 4 -->\n<g id=\"node2\" class=\"node\">\n<title>4</title>\n<ellipse fill=\"none\" stroke=\"#000000\" cx=\"29.732\" cy=\"-18.6946\" rx=\"27\" ry=\"18\"/>\n<text text-anchor=\"middle\" x=\"29.732\" y=\"-14.9946\" font-family=\"Times,serif\" font-size=\"14.00\" fill=\"#000000\">4</text>\n</g>\n<!-- 6&#45;&#45;4 -->\n<g id=\"edge1\" class=\"edge\">\n<title>6&#45;&#45;4</title>\n<path fill=\"none\" stroke=\"#000000\" d=\"M27.5011,-99.6516C27.994,-81.7634 28.7422,-54.6116 29.2341,-36.7633\"/>\n</g>\n<!-- 2 -->\n<g id=\"node3\" class=\"node\">\n<title>2</title>\n<ellipse fill=\"none\" stroke=\"#000000\" cx=\"159.4124\" cy=\"-69.7589\" rx=\"27\" ry=\"18\"/>\n<text text-anchor=\"middle\" x=\"159.4124\" y=\"-66.0589\" font-family=\"Times,serif\" font-size=\"14.00\" fill=\"#000000\">2</text>\n</g>\n<!-- 6&#45;&#45;2 -->\n<g id=\"edge2\" class=\"edge\">\n<title>6&#45;&#45;2</title>\n<path fill=\"none\" stroke=\"#000000\" d=\"M50.9789,-109.1292C74.9764,-100.4161 111.6775,-87.0906 135.6119,-78.4004\"/>\n</g>\n<!-- 4&#45;&#45;2 -->\n<g id=\"edge5\" class=\"edge\">\n<title>4&#45;&#45;2</title>\n<path fill=\"none\" stroke=\"#000000\" d=\"M53.2161,-27.942C76.7186,-37.1965 112.6624,-51.3501 136.103,-60.5803\"/>\n</g>\n<!-- 1 -->\n<g id=\"node6\" class=\"node\">\n<title>1</title>\n<ellipse fill=\"none\" stroke=\"#000000\" cx=\"343.3579\" cy=\"-69.5461\" rx=\"27\" ry=\"18\"/>\n<text text-anchor=\"middle\" x=\"343.3579\" y=\"-65.8461\" font-family=\"Times,serif\" font-size=\"14.00\" fill=\"#000000\">1</text>\n</g>\n<!-- 2&#45;&#45;1 -->\n<g id=\"edge7\" class=\"edge\">\n<title>2&#45;&#45;1</title>\n<path fill=\"none\" stroke=\"#000000\" d=\"M185.773,-74.629C220.8432,-77.0625 282.4659,-76.983 317.3547,-74.4522\"/>\n</g>\n<!-- 2&#45;&#45;1 -->\n<g id=\"edge8\" class=\"edge\">\n<title>2&#45;&#45;1</title>\n<path fill=\"none\" stroke=\"#000000\" d=\"M185.7616,-64.8278C220.8261,-62.3132 282.4489,-62.2501 317.3434,-64.7002\"/>\n</g>\n<!-- 5 -->\n<g id=\"node4\" class=\"node\">\n<title>5</title>\n<ellipse fill=\"none\" stroke=\"#000000\" cx=\"467.9454\" cy=\"-18\" rx=\"27\" ry=\"18\"/>\n<text text-anchor=\"middle\" x=\"467.9454\" y=\"-14.3\" font-family=\"Times,serif\" font-size=\"14.00\" fill=\"#000000\">5</text>\n</g>\n<!-- 3 -->\n<g id=\"node5\" class=\"node\">\n<title>3</title>\n<ellipse fill=\"none\" stroke=\"#000000\" cx=\"470.7734\" cy=\"-118.5672\" rx=\"27\" ry=\"18\"/>\n<text text-anchor=\"middle\" x=\"470.7734\" y=\"-114.8672\" font-family=\"Times,serif\" font-size=\"14.00\" fill=\"#000000\">3</text>\n</g>\n<!-- 5&#45;&#45;3 -->\n<g id=\"edge3\" class=\"edge\">\n<title>5&#45;&#45;3</title>\n<path fill=\"none\" stroke=\"#000000\" d=\"M468.4641,-36.4456C468.9743,-54.5911 469.7488,-82.1335 470.258,-100.2386\"/>\n</g>\n<!-- 5&#45;&#45;1 -->\n<g id=\"edge4\" class=\"edge\">\n<title>5&#45;&#45;1</title>\n<path fill=\"none\" stroke=\"#000000\" d=\"M444.8034,-27.5746C422.4256,-36.8331 388.7118,-50.7816 366.3759,-60.0227\"/>\n</g>\n<!-- 3&#45;&#45;1 -->\n<g id=\"edge6\" class=\"edge\">\n<title>3&#45;&#45;1</title>\n<path fill=\"none\" stroke=\"#000000\" d=\"M447.1061,-109.4616C424.2203,-100.6566 389.7413,-87.3914 366.8984,-78.6029\"/>\n</g>\n</g>\n</svg>\n"
          },
          "metadata": {}
        },
        {
          "output_type": "stream",
          "name": "stdout",
          "text": [
            "graph\n"
          ]
        },
        {
          "output_type": "display_data",
          "data": {
            "text/plain": [
              "<graphviz.dot.Graph at 0x7fda17ffc590>"
            ],
            "image/svg+xml": "<?xml version=\"1.0\" encoding=\"UTF-8\" standalone=\"no\"?>\n<!DOCTYPE svg PUBLIC \"-//W3C//DTD SVG 1.1//EN\"\n \"http://www.w3.org/Graphics/SVG/1.1/DTD/svg11.dtd\">\n<!-- Generated by graphviz version 2.40.1 (20161225.0304)\n -->\n<!-- Title: %3 Pages: 1 -->\n<svg width=\"447pt\" height=\"259pt\"\n viewBox=\"0.00 0.00 447.08 259.28\" xmlns=\"http://www.w3.org/2000/svg\" xmlns:xlink=\"http://www.w3.org/1999/xlink\">\n<g id=\"graph0\" class=\"graph\" transform=\"scale(1 1) rotate(0) translate(4 255.2815)\">\n<title>%3</title>\n<polygon fill=\"#ffffff\" stroke=\"transparent\" points=\"-4,4 -4,-255.2815 443.0807,-255.2815 443.0807,4 -4,4\"/>\n<!-- 6 -->\n<g id=\"node1\" class=\"node\">\n<title>6</title>\n<ellipse fill=\"none\" stroke=\"#000000\" cx=\"411.956\" cy=\"-32.5813\" rx=\"27\" ry=\"18\"/>\n<text text-anchor=\"middle\" x=\"411.956\" y=\"-28.8813\" font-family=\"Times,serif\" font-size=\"14.00\" fill=\"#000000\">6</text>\n</g>\n<!-- 3 -->\n<g id=\"node2\" class=\"node\">\n<title>3</title>\n<ellipse fill=\"none\" stroke=\"#000000\" cx=\"412.0807\" cy=\"-218.8199\" rx=\"27\" ry=\"18\"/>\n<text text-anchor=\"middle\" x=\"412.0807\" y=\"-215.1199\" font-family=\"Times,serif\" font-size=\"14.00\" fill=\"#000000\">3</text>\n</g>\n<!-- 6&#45;&#45;3 -->\n<g id=\"edge1\" class=\"edge\">\n<title>6&#45;&#45;3</title>\n<path fill=\"none\" stroke=\"#000000\" d=\"M411.9682,-50.7777C411.992,-86.3822 412.0446,-164.8859 412.0685,-200.5496\"/>\n</g>\n<!-- 1 -->\n<g id=\"node3\" class=\"node\">\n<title>1</title>\n<ellipse fill=\"none\" stroke=\"#000000\" cx=\"181.2909\" cy=\"-57.0679\" rx=\"27\" ry=\"18\"/>\n<text text-anchor=\"middle\" x=\"181.2909\" y=\"-53.3679\" font-family=\"Times,serif\" font-size=\"14.00\" fill=\"#000000\">1</text>\n</g>\n<!-- 6&#45;&#45;1 -->\n<g id=\"edge2\" class=\"edge\">\n<title>6&#45;&#45;1</title>\n<path fill=\"none\" stroke=\"#000000\" d=\"M385.0444,-35.4381C340.5976,-40.1564 252.365,-49.5229 208.0311,-54.2292\"/>\n</g>\n<!-- 2 -->\n<g id=\"node5\" class=\"node\">\n<title>2</title>\n<ellipse fill=\"none\" stroke=\"#000000\" cx=\"183.0177\" cy=\"-194.2827\" rx=\"27\" ry=\"18\"/>\n<text text-anchor=\"middle\" x=\"183.0177\" y=\"-190.5827\" font-family=\"Times,serif\" font-size=\"14.00\" fill=\"#000000\">2</text>\n</g>\n<!-- 3&#45;&#45;2 -->\n<g id=\"edge7\" class=\"edge\">\n<title>3&#45;&#45;2</title>\n<path fill=\"none\" stroke=\"#000000\" d=\"M385.3559,-215.9572C341.3359,-211.2418 254.0664,-201.8935 209.9263,-197.1652\"/>\n</g>\n<!-- 5 -->\n<g id=\"node4\" class=\"node\">\n<title>5</title>\n<ellipse fill=\"none\" stroke=\"#000000\" cx=\"27\" cy=\"-233.2815\" rx=\"27\" ry=\"18\"/>\n<text text-anchor=\"middle\" x=\"27\" y=\"-229.5815\" font-family=\"Times,serif\" font-size=\"14.00\" fill=\"#000000\">5</text>\n</g>\n<!-- 5&#45;&#45;1 -->\n<g id=\"edge4\" class=\"edge\">\n<title>5&#45;&#45;1</title>\n<path fill=\"none\" stroke=\"#000000\" d=\"M40.6923,-217.6437C69.9716,-184.2041 138.3773,-106.0789 167.6293,-72.6706\"/>\n</g>\n<!-- 5&#45;&#45;2 -->\n<g id=\"edge3\" class=\"edge\">\n<title>5&#45;&#45;2</title>\n<path fill=\"none\" stroke=\"#000000\" d=\"M52.4142,-226.9289C81.4266,-219.6768 128.6065,-207.8836 157.6144,-200.6326\"/>\n</g>\n<!-- 2&#45;&#45;1 -->\n<g id=\"edge8\" class=\"edge\">\n<title>2&#45;&#45;1</title>\n<path fill=\"none\" stroke=\"#000000\" d=\"M182.7884,-176.0617C182.4581,-149.8174 181.8519,-101.6505 181.5211,-75.3643\"/>\n</g>\n<!-- 4 -->\n<g id=\"node6\" class=\"node\">\n<title>4</title>\n<ellipse fill=\"none\" stroke=\"#000000\" cx=\"28.42\" cy=\"-18\" rx=\"27\" ry=\"18\"/>\n<text text-anchor=\"middle\" x=\"28.42\" y=\"-14.3\" font-family=\"Times,serif\" font-size=\"14.00\" fill=\"#000000\">4</text>\n</g>\n<!-- 4&#45;&#45;1 -->\n<g id=\"edge6\" class=\"edge\">\n<title>4&#45;&#45;1</title>\n<path fill=\"none\" stroke=\"#000000\" d=\"M53.6636,-24.4513C81.9881,-31.6899 127.67,-43.3645 156.0099,-50.607\"/>\n</g>\n<!-- 4&#45;&#45;2 -->\n<g id=\"edge5\" class=\"edge\">\n<title>4&#45;&#45;2</title>\n<path fill=\"none\" stroke=\"#000000\" d=\"M42.1396,-33.6439C71.4771,-67.0966 140.0188,-145.2525 169.3289,-178.6739\"/>\n</g>\n</g>\n</svg>\n"
          },
          "metadata": {}
        },
        {
          "output_type": "stream",
          "name": "stdout",
          "text": [
            "graph\n"
          ]
        },
        {
          "output_type": "display_data",
          "data": {
            "text/plain": [
              "<graphviz.dot.Graph at 0x7fda17e3b5d0>"
            ],
            "image/svg+xml": "<?xml version=\"1.0\" encoding=\"UTF-8\" standalone=\"no\"?>\n<!DOCTYPE svg PUBLIC \"-//W3C//DTD SVG 1.1//EN\"\n \"http://www.w3.org/Graphics/SVG/1.1/DTD/svg11.dtd\">\n<!-- Generated by graphviz version 2.40.1 (20161225.0304)\n -->\n<!-- Title: %3 Pages: 1 -->\n<svg width=\"510pt\" height=\"233pt\"\n viewBox=\"0.00 0.00 509.78 232.63\" xmlns=\"http://www.w3.org/2000/svg\" xmlns:xlink=\"http://www.w3.org/1999/xlink\">\n<g id=\"graph0\" class=\"graph\" transform=\"scale(1 1) rotate(0) translate(4 228.6343)\">\n<title>%3</title>\n<polygon fill=\"#ffffff\" stroke=\"transparent\" points=\"-4,4 -4,-228.6343 505.7764,-228.6343 505.7764,4 -4,4\"/>\n<!-- 7 -->\n<g id=\"node1\" class=\"node\">\n<title>7</title>\n<ellipse fill=\"none\" stroke=\"#000000\" cx=\"474.7764\" cy=\"-43.4906\" rx=\"27\" ry=\"18\"/>\n<text text-anchor=\"middle\" x=\"474.7764\" y=\"-39.7906\" font-family=\"Times,serif\" font-size=\"14.00\" fill=\"#000000\">7</text>\n</g>\n<!-- 5 -->\n<g id=\"node2\" class=\"node\">\n<title>5</title>\n<ellipse fill=\"none\" stroke=\"#000000\" cx=\"474.6458\" cy=\"-181.6353\" rx=\"27\" ry=\"18\"/>\n<text text-anchor=\"middle\" x=\"474.6458\" y=\"-177.9353\" font-family=\"Times,serif\" font-size=\"14.00\" fill=\"#000000\">5</text>\n</g>\n<!-- 7&#45;&#45;5 -->\n<g id=\"edge1\" class=\"edge\">\n<title>7&#45;&#45;5</title>\n<path fill=\"none\" stroke=\"#000000\" d=\"M474.7593,-61.5506C474.7343,-88.0259 474.6879,-137.093 474.6629,-163.5708\"/>\n</g>\n<!-- 2 -->\n<g id=\"node3\" class=\"node\">\n<title>2</title>\n<ellipse fill=\"none\" stroke=\"#000000\" cx=\"321.9949\" cy=\"-18\" rx=\"27\" ry=\"18\"/>\n<text text-anchor=\"middle\" x=\"321.9949\" y=\"-14.3\" font-family=\"Times,serif\" font-size=\"14.00\" fill=\"#000000\">2</text>\n</g>\n<!-- 7&#45;&#45;2 -->\n<g id=\"edge2\" class=\"edge\">\n<title>7&#45;&#45;2</title>\n<path fill=\"none\" stroke=\"#000000\" d=\"M448.5123,-39.1086C420.5282,-34.4397 376.476,-27.0898 348.4276,-22.4101\"/>\n</g>\n<!-- 3 -->\n<g id=\"node7\" class=\"node\">\n<title>3</title>\n<ellipse fill=\"none\" stroke=\"#000000\" cx=\"321.5609\" cy=\"-206.6343\" rx=\"27\" ry=\"18\"/>\n<text text-anchor=\"middle\" x=\"321.5609\" y=\"-202.9343\" font-family=\"Times,serif\" font-size=\"14.00\" fill=\"#000000\">3</text>\n</g>\n<!-- 5&#45;&#45;3 -->\n<g id=\"edge5\" class=\"edge\">\n<title>5&#45;&#45;3</title>\n<path fill=\"none\" stroke=\"#000000\" d=\"M448.3296,-185.9327C420.2044,-190.5256 375.8809,-197.7638 347.7895,-202.3512\"/>\n</g>\n<!-- 1 -->\n<g id=\"node6\" class=\"node\">\n<title>1</title>\n<ellipse fill=\"none\" stroke=\"#000000\" cx=\"174.5472\" cy=\"-112.1371\" rx=\"27\" ry=\"18\"/>\n<text text-anchor=\"middle\" x=\"174.5472\" y=\"-108.4371\" font-family=\"Times,serif\" font-size=\"14.00\" fill=\"#000000\">1</text>\n</g>\n<!-- 2&#45;&#45;1 -->\n<g id=\"edge8\" class=\"edge\">\n<title>2&#45;&#45;1</title>\n<path fill=\"none\" stroke=\"#000000\" d=\"M302.415,-30.5007C274.2136,-48.5057 222.4545,-81.551 194.2081,-99.5847\"/>\n</g>\n<!-- 6 -->\n<g id=\"node4\" class=\"node\">\n<title>6</title>\n<ellipse fill=\"none\" stroke=\"#000000\" cx=\"27\" cy=\"-61.2676\" rx=\"27\" ry=\"18\"/>\n<text text-anchor=\"middle\" x=\"27\" y=\"-57.5676\" font-family=\"Times,serif\" font-size=\"14.00\" fill=\"#000000\">6</text>\n</g>\n<!-- 4 -->\n<g id=\"node5\" class=\"node\">\n<title>4</title>\n<ellipse fill=\"none\" stroke=\"#000000\" cx=\"27.23\" cy=\"-163.7214\" rx=\"27\" ry=\"18\"/>\n<text text-anchor=\"middle\" x=\"27.23\" y=\"-160.0214\" font-family=\"Times,serif\" font-size=\"14.00\" fill=\"#000000\">4</text>\n</g>\n<!-- 6&#45;&#45;4 -->\n<g id=\"edge3\" class=\"edge\">\n<title>6&#45;&#45;4</title>\n<path fill=\"none\" stroke=\"#000000\" d=\"M27.0411,-79.5843C27.083,-98.2328 27.1475,-126.9722 27.1893,-145.5633\"/>\n</g>\n<!-- 6&#45;&#45;1 -->\n<g id=\"edge4\" class=\"edge\">\n<title>6&#45;&#45;1</title>\n<path fill=\"none\" stroke=\"#000000\" d=\"M51.0344,-69.5538C78.4717,-79.0134 123.0901,-94.3963 150.5231,-103.8544\"/>\n</g>\n<!-- 4&#45;&#45;1 -->\n<g id=\"edge6\" class=\"edge\">\n<title>4&#45;&#45;1</title>\n<path fill=\"none\" stroke=\"#000000\" d=\"M51.227,-155.3187C78.6215,-145.7263 123.1703,-130.1271 150.5606,-120.5362\"/>\n</g>\n<!-- 3&#45;&#45;1 -->\n<g id=\"edge7\" class=\"edge\">\n<title>3&#45;&#45;1</title>\n<path fill=\"none\" stroke=\"#000000\" d=\"M302.0386,-194.0858C273.9202,-176.0119 222.3135,-142.8402 194.1503,-124.7375\"/>\n</g>\n</g>\n</svg>\n"
          },
          "metadata": {}
        },
        {
          "output_type": "stream",
          "name": "stdout",
          "text": [
            "graph\n"
          ]
        },
        {
          "output_type": "display_data",
          "data": {
            "text/plain": [
              "<graphviz.dot.Graph at 0x7fda17ed4c10>"
            ],
            "image/svg+xml": "<?xml version=\"1.0\" encoding=\"UTF-8\" standalone=\"no\"?>\n<!DOCTYPE svg PUBLIC \"-//W3C//DTD SVG 1.1//EN\"\n \"http://www.w3.org/Graphics/SVG/1.1/DTD/svg11.dtd\">\n<!-- Generated by graphviz version 2.40.1 (20161225.0304)\n -->\n<!-- Title: %3 Pages: 1 -->\n<svg width=\"460pt\" height=\"240pt\"\n viewBox=\"0.00 0.00 459.85 239.83\" xmlns=\"http://www.w3.org/2000/svg\" xmlns:xlink=\"http://www.w3.org/1999/xlink\">\n<g id=\"graph0\" class=\"graph\" transform=\"scale(1 1) rotate(0) translate(4 235.83)\">\n<title>%3</title>\n<polygon fill=\"#ffffff\" stroke=\"transparent\" points=\"-4,4 -4,-235.83 455.8541,-235.83 455.8541,4 -4,4\"/>\n<!-- 5 -->\n<g id=\"node1\" class=\"node\">\n<title>5</title>\n<ellipse fill=\"none\" stroke=\"#000000\" cx=\"27\" cy=\"-213.83\" rx=\"27\" ry=\"18\"/>\n<text text-anchor=\"middle\" x=\"27\" y=\"-210.13\" font-family=\"Times,serif\" font-size=\"14.00\" fill=\"#000000\">5</text>\n</g>\n<!-- 4 -->\n<g id=\"node2\" class=\"node\">\n<title>4</title>\n<ellipse fill=\"none\" stroke=\"#000000\" cx=\"27.2568\" cy=\"-18\" rx=\"27\" ry=\"18\"/>\n<text text-anchor=\"middle\" x=\"27.2568\" y=\"-14.3\" font-family=\"Times,serif\" font-size=\"14.00\" fill=\"#000000\">4</text>\n</g>\n<!-- 5&#45;&#45;4 -->\n<g id=\"edge1\" class=\"edge\">\n<title>5&#45;&#45;4</title>\n<path fill=\"none\" stroke=\"#000000\" d=\"M27.0237,-195.7578C27.0726,-158.4514 27.1843,-73.2976 27.2332,-36.0285\"/>\n</g>\n<!-- 2 -->\n<g id=\"node3\" class=\"node\">\n<title>2</title>\n<ellipse fill=\"none\" stroke=\"#000000\" cx=\"248.1018\" cy=\"-206.4906\" rx=\"27\" ry=\"18\"/>\n<text text-anchor=\"middle\" x=\"248.1018\" y=\"-202.7906\" font-family=\"Times,serif\" font-size=\"14.00\" fill=\"#000000\">2</text>\n</g>\n<!-- 5&#45;&#45;2 -->\n<g id=\"edge2\" class=\"edge\">\n<title>5&#45;&#45;2</title>\n<path fill=\"none\" stroke=\"#000000\" d=\"M54.1114,-212.9301C96.6621,-211.5176 178.6411,-208.7963 221.1148,-207.3864\"/>\n</g>\n<!-- 3 -->\n<g id=\"node4\" class=\"node\">\n<title>3</title>\n<ellipse fill=\"none\" stroke=\"#000000\" cx=\"248.8495\" cy=\"-25.5259\" rx=\"27\" ry=\"18\"/>\n<text text-anchor=\"middle\" x=\"248.8495\" y=\"-21.8259\" font-family=\"Times,serif\" font-size=\"14.00\" fill=\"#000000\">3</text>\n</g>\n<!-- 4&#45;&#45;3 -->\n<g id=\"edge3\" class=\"edge\">\n<title>4&#45;&#45;3</title>\n<path fill=\"none\" stroke=\"#000000\" d=\"M54.4284,-18.9228C97.0736,-20.3712 179.2346,-23.1616 221.8025,-24.6073\"/>\n</g>\n<!-- 1 -->\n<g id=\"node5\" class=\"node\">\n<title>1</title>\n<ellipse fill=\"none\" stroke=\"#000000\" cx=\"424.8541\" cy=\"-116.2759\" rx=\"27\" ry=\"18\"/>\n<text text-anchor=\"middle\" x=\"424.8541\" y=\"-112.5759\" font-family=\"Times,serif\" font-size=\"14.00\" fill=\"#000000\">1</text>\n</g>\n<!-- 2&#45;&#45;1 -->\n<g id=\"edge7\" class=\"edge\">\n<title>2&#45;&#45;1</title>\n<path fill=\"none\" stroke=\"#000000\" d=\"M272.9849,-199.0696C309.3257,-183.6902 375.906,-149.6003 407.4562,-130.1133\"/>\n</g>\n<!-- 2&#45;&#45;1 -->\n<g id=\"edge8\" class=\"edge\">\n<title>2&#45;&#45;1</title>\n<path fill=\"none\" stroke=\"#000000\" d=\"M265.6776,-192.5433C297.3017,-173.037 363.7072,-139.0428 399.9783,-123.6938\"/>\n</g>\n<!-- 3&#45;&#45;2 -->\n<g id=\"edge4\" class=\"edge\">\n<title>3&#45;&#45;2</title>\n<path fill=\"none\" stroke=\"#000000\" d=\"M248.775,-43.5391C248.6321,-78.137 248.3206,-153.5306 248.177,-188.2817\"/>\n</g>\n<!-- 3&#45;&#45;1 -->\n<g id=\"edge5\" class=\"edge\">\n<title>3&#45;&#45;1</title>\n<path fill=\"none\" stroke=\"#000000\" d=\"M266.3262,-39.5242C297.7997,-59.1247 363.9238,-93.32 400.0572,-108.7802\"/>\n</g>\n<!-- 3&#45;&#45;1 -->\n<g id=\"edge6\" class=\"edge\">\n<title>3&#45;&#45;1</title>\n<path fill=\"none\" stroke=\"#000000\" d=\"M273.6536,-33.0246C309.8565,-48.5154 376.1546,-82.807 407.5545,-102.3879\"/>\n</g>\n</g>\n</svg>\n"
          },
          "metadata": {}
        },
        {
          "output_type": "stream",
          "name": "stdout",
          "text": [
            "graph\n"
          ]
        },
        {
          "output_type": "display_data",
          "data": {
            "text/plain": [
              "<graphviz.dot.Graph at 0x7fda1803ff10>"
            ],
            "image/svg+xml": "<?xml version=\"1.0\" encoding=\"UTF-8\" standalone=\"no\"?>\n<!DOCTYPE svg PUBLIC \"-//W3C//DTD SVG 1.1//EN\"\n \"http://www.w3.org/Graphics/SVG/1.1/DTD/svg11.dtd\">\n<!-- Generated by graphviz version 2.40.1 (20161225.0304)\n -->\n<!-- Title: %3 Pages: 1 -->\n<svg width=\"456pt\" height=\"228pt\"\n viewBox=\"0.00 0.00 456.36 227.88\" xmlns=\"http://www.w3.org/2000/svg\" xmlns:xlink=\"http://www.w3.org/1999/xlink\">\n<g id=\"graph0\" class=\"graph\" transform=\"scale(1 1) rotate(0) translate(4 223.8837)\">\n<title>%3</title>\n<polygon fill=\"#ffffff\" stroke=\"transparent\" points=\"-4,4 -4,-223.8837 452.3583,-223.8837 452.3583,4 -4,4\"/>\n<!-- 4 -->\n<g id=\"node1\" class=\"node\">\n<title>4</title>\n<ellipse fill=\"none\" stroke=\"#000000\" cx=\"421.3583\" cy=\"-111.9638\" rx=\"27\" ry=\"18\"/>\n<text text-anchor=\"middle\" x=\"421.3583\" y=\"-108.2638\" font-family=\"Times,serif\" font-size=\"14.00\" fill=\"#000000\">4</text>\n</g>\n<!-- 2 -->\n<g id=\"node2\" class=\"node\">\n<title>2</title>\n<ellipse fill=\"none\" stroke=\"#000000\" cx=\"225.6885\" cy=\"-18\" rx=\"27\" ry=\"18\"/>\n<text text-anchor=\"middle\" x=\"225.6885\" y=\"-14.3\" font-family=\"Times,serif\" font-size=\"14.00\" fill=\"#000000\">2</text>\n</g>\n<!-- 4&#45;&#45;2 -->\n<g id=\"edge1\" class=\"edge\">\n<title>4&#45;&#45;2</title>\n<path fill=\"none\" stroke=\"#000000\" d=\"M399.2929,-101.3676C361.613,-83.2731 285.298,-46.6254 247.6733,-28.5575\"/>\n</g>\n<!-- 1 -->\n<g id=\"node3\" class=\"node\">\n<title>1</title>\n<ellipse fill=\"none\" stroke=\"#000000\" cx=\"226.356\" cy=\"-201.8837\" rx=\"27\" ry=\"18\"/>\n<text text-anchor=\"middle\" x=\"226.356\" y=\"-198.1837\" font-family=\"Times,serif\" font-size=\"14.00\" fill=\"#000000\">1</text>\n</g>\n<!-- 4&#45;&#45;1 -->\n<g id=\"edge2\" class=\"edge\">\n<title>4&#45;&#45;1</title>\n<path fill=\"none\" stroke=\"#000000\" d=\"M398.9891,-122.2787C361.4738,-139.5778 286.3049,-174.2399 248.7639,-191.5509\"/>\n</g>\n<!-- 2&#45;&#45;1 -->\n<g id=\"edge5\" class=\"edge\">\n<title>2&#45;&#45;1</title>\n<path fill=\"none\" stroke=\"#000000\" d=\"M213.6069,-34.3625C202.9177,-69.2969 203.2174,-150.8226 214.1674,-185.6458\"/>\n</g>\n<!-- 2&#45;&#45;1 -->\n<g id=\"edge6\" class=\"edge\">\n<title>2&#45;&#45;1</title>\n<path fill=\"none\" stroke=\"#000000\" d=\"M237.8885,-34.2744C248.8311,-69.1302 249.1232,-150.656 238.4263,-185.5578\"/>\n</g>\n<!-- 2&#45;&#45;1 -->\n<g id=\"edge7\" class=\"edge\">\n<title>2&#45;&#45;1</title>\n<path fill=\"none\" stroke=\"#000000\" d=\"M229.9649,-35.9511C233.4752,-71.0931 233.7589,-148.6041 230.5087,-183.8291\"/>\n</g>\n<!-- 2&#45;&#45;1 -->\n<g id=\"edge8\" class=\"edge\">\n<title>2&#45;&#45;1</title>\n<path fill=\"none\" stroke=\"#000000\" d=\"M221.5425,-35.9816C218.2874,-71.1482 218.5665,-148.6592 222.0723,-183.8597\"/>\n</g>\n<!-- 3 -->\n<g id=\"node4\" class=\"node\">\n<title>3</title>\n<ellipse fill=\"none\" stroke=\"#000000\" cx=\"27\" cy=\"-112.2548\" rx=\"27\" ry=\"18\"/>\n<text text-anchor=\"middle\" x=\"27\" y=\"-108.5548\" font-family=\"Times,serif\" font-size=\"14.00\" fill=\"#000000\">3</text>\n</g>\n<!-- 3&#45;&#45;2 -->\n<g id=\"edge3\" class=\"edge\">\n<title>3&#45;&#45;2</title>\n<path fill=\"none\" stroke=\"#000000\" d=\"M49.0223,-101.8077C87.2143,-83.69 165.307,-46.6441 203.5676,-28.4938\"/>\n</g>\n<!-- 3&#45;&#45;1 -->\n<g id=\"edge4\" class=\"edge\">\n<title>3&#45;&#45;1</title>\n<path fill=\"none\" stroke=\"#000000\" d=\"M49.4811,-122.3621C87.8708,-139.6218 165.6235,-174.5788 203.957,-191.8133\"/>\n</g>\n</g>\n</svg>\n"
          },
          "metadata": {}
        },
        {
          "output_type": "stream",
          "name": "stdout",
          "text": [
            "graph\n"
          ]
        },
        {
          "output_type": "display_data",
          "data": {
            "text/plain": [
              "<graphviz.dot.Graph at 0x7fda17e859d0>"
            ],
            "image/svg+xml": "<?xml version=\"1.0\" encoding=\"UTF-8\" standalone=\"no\"?>\n<!DOCTYPE svg PUBLIC \"-//W3C//DTD SVG 1.1//EN\"\n \"http://www.w3.org/Graphics/SVG/1.1/DTD/svg11.dtd\">\n<!-- Generated by graphviz version 2.40.1 (20161225.0304)\n -->\n<!-- Title: %3 Pages: 1 -->\n<svg width=\"613pt\" height=\"183pt\"\n viewBox=\"0.00 0.00 612.64 182.64\" xmlns=\"http://www.w3.org/2000/svg\" xmlns:xlink=\"http://www.w3.org/1999/xlink\">\n<g id=\"graph0\" class=\"graph\" transform=\"scale(1 1) rotate(0) translate(4 178.642)\">\n<title>%3</title>\n<polygon fill=\"#ffffff\" stroke=\"transparent\" points=\"-4,4 -4,-178.642 608.6379,-178.642 608.6379,4 -4,4\"/>\n<!-- 5 -->\n<g id=\"node1\" class=\"node\">\n<title>5</title>\n<ellipse fill=\"none\" stroke=\"#000000\" cx=\"577.6379\" cy=\"-87.2022\" rx=\"27\" ry=\"18\"/>\n<text text-anchor=\"middle\" x=\"577.6379\" y=\"-83.5022\" font-family=\"Times,serif\" font-size=\"14.00\" fill=\"#000000\">5</text>\n</g>\n<!-- 2 -->\n<g id=\"node2\" class=\"node\">\n<title>2</title>\n<ellipse fill=\"none\" stroke=\"#000000\" cx=\"418.5497\" cy=\"-156.642\" rx=\"27\" ry=\"18\"/>\n<text text-anchor=\"middle\" x=\"418.5497\" y=\"-152.942\" font-family=\"Times,serif\" font-size=\"14.00\" fill=\"#000000\">2</text>\n</g>\n<!-- 5&#45;&#45;2 -->\n<g id=\"edge1\" class=\"edge\">\n<title>5&#45;&#45;2</title>\n<path fill=\"none\" stroke=\"#000000\" d=\"M554.8444,-97.1513C524.6018,-110.3518 471.5222,-133.5202 441.3008,-146.7114\"/>\n</g>\n<!-- 1 -->\n<g id=\"node3\" class=\"node\">\n<title>1</title>\n<ellipse fill=\"none\" stroke=\"#000000\" cx=\"418.7194\" cy=\"-18\" rx=\"27\" ry=\"18\"/>\n<text text-anchor=\"middle\" x=\"418.7194\" y=\"-14.3\" font-family=\"Times,serif\" font-size=\"14.00\" fill=\"#000000\">1</text>\n</g>\n<!-- 5&#45;&#45;1 -->\n<g id=\"edge2\" class=\"edge\">\n<title>5&#45;&#45;1</title>\n<path fill=\"none\" stroke=\"#000000\" d=\"M554.8687,-77.2872C524.6583,-64.1319 471.6354,-41.0427 441.4463,-27.8966\"/>\n</g>\n<!-- 2&#45;&#45;1 -->\n<g id=\"edge7\" class=\"edge\">\n<title>2&#45;&#45;1</title>\n<path fill=\"none\" stroke=\"#000000\" d=\"M423.2738,-138.8066C426.039,-112.1889 426.0977,-62.363 423.3929,-35.7785\"/>\n</g>\n<!-- 2&#45;&#45;1 -->\n<g id=\"edge8\" class=\"edge\">\n<title>2&#45;&#45;1</title>\n<path fill=\"none\" stroke=\"#000000\" d=\"M413.8692,-138.7951C411.1692,-112.1707 411.2326,-62.3448 414.0024,-35.767\"/>\n</g>\n<!-- 4 -->\n<g id=\"node4\" class=\"node\">\n<title>4</title>\n<ellipse fill=\"none\" stroke=\"#000000\" cx=\"27\" cy=\"-87.138\" rx=\"27\" ry=\"18\"/>\n<text text-anchor=\"middle\" x=\"27\" y=\"-83.438\" font-family=\"Times,serif\" font-size=\"14.00\" fill=\"#000000\">4</text>\n</g>\n<!-- 3 -->\n<g id=\"node5\" class=\"node\">\n<title>3</title>\n<ellipse fill=\"none\" stroke=\"#000000\" cx=\"237.1562\" cy=\"-87.4835\" rx=\"27\" ry=\"18\"/>\n<text text-anchor=\"middle\" x=\"237.1562\" y=\"-83.7835\" font-family=\"Times,serif\" font-size=\"14.00\" fill=\"#000000\">3</text>\n</g>\n<!-- 4&#45;&#45;3 -->\n<g id=\"edge3\" class=\"edge\">\n<title>4&#45;&#45;3</title>\n<path fill=\"none\" stroke=\"#000000\" d=\"M53.1839,-91.8249C93.5608,-94.6995 170.5722,-94.8261 210.9579,-92.0842\"/>\n</g>\n<!-- 4&#45;&#45;3 -->\n<g id=\"edge4\" class=\"edge\">\n<title>4&#45;&#45;3</title>\n<path fill=\"none\" stroke=\"#000000\" d=\"M53.1991,-82.5372C93.5853,-79.7954 170.5967,-79.922 210.9731,-82.7966\"/>\n</g>\n<!-- 3&#45;&#45;2 -->\n<g id=\"edge5\" class=\"edge\">\n<title>3&#45;&#45;2</title>\n<path fill=\"none\" stroke=\"#000000\" d=\"M260.8702,-96.5247C295.6341,-109.7789 360.0626,-134.3431 394.8298,-147.5985\"/>\n</g>\n<!-- 3&#45;&#45;1 -->\n<g id=\"edge6\" class=\"edge\">\n<title>3&#45;&#45;1</title>\n<path fill=\"none\" stroke=\"#000000\" d=\"M260.8924,-78.3997C295.785,-65.0465 360.5341,-40.2673 395.2651,-26.9759\"/>\n</g>\n</g>\n</svg>\n"
          },
          "metadata": {}
        },
        {
          "output_type": "stream",
          "name": "stdout",
          "text": [
            "graph\n"
          ]
        },
        {
          "output_type": "display_data",
          "data": {
            "text/plain": [
              "<graphviz.dot.Graph at 0x7fda1803f710>"
            ],
            "image/svg+xml": "<?xml version=\"1.0\" encoding=\"UTF-8\" standalone=\"no\"?>\n<!DOCTYPE svg PUBLIC \"-//W3C//DTD SVG 1.1//EN\"\n \"http://www.w3.org/Graphics/SVG/1.1/DTD/svg11.dtd\">\n<!-- Generated by graphviz version 2.40.1 (20161225.0304)\n -->\n<!-- Title: %3 Pages: 1 -->\n<svg width=\"519pt\" height=\"406pt\"\n viewBox=\"0.00 0.00 518.52 405.90\" xmlns=\"http://www.w3.org/2000/svg\" xmlns:xlink=\"http://www.w3.org/1999/xlink\">\n<g id=\"graph0\" class=\"graph\" transform=\"scale(1 1) rotate(0) translate(4 401.8972)\">\n<title>%3</title>\n<polygon fill=\"#ffffff\" stroke=\"transparent\" points=\"-4,4 -4,-401.8972 514.518,-401.8972 514.518,4 -4,4\"/>\n<!-- 5 -->\n<g id=\"node1\" class=\"node\">\n<title>5</title>\n<ellipse fill=\"none\" stroke=\"#000000\" cx=\"93.2284\" cy=\"-379.8972\" rx=\"27\" ry=\"18\"/>\n<text text-anchor=\"middle\" x=\"93.2284\" y=\"-376.1972\" font-family=\"Times,serif\" font-size=\"14.00\" fill=\"#000000\">5</text>\n</g>\n<!-- 2 -->\n<g id=\"node2\" class=\"node\">\n<title>2</title>\n<ellipse fill=\"none\" stroke=\"#000000\" cx=\"27\" cy=\"-199.1298\" rx=\"27\" ry=\"18\"/>\n<text text-anchor=\"middle\" x=\"27\" y=\"-195.4298\" font-family=\"Times,serif\" font-size=\"14.00\" fill=\"#000000\">2</text>\n</g>\n<!-- 5&#45;&#45;2 -->\n<g id=\"edge1\" class=\"edge\">\n<title>5&#45;&#45;2</title>\n<path fill=\"none\" stroke=\"#000000\" d=\"M86.7576,-362.2354C74.0962,-327.6768 46.1795,-251.4794 33.4971,-216.8634\"/>\n</g>\n<!-- 1 -->\n<g id=\"node3\" class=\"node\">\n<title>1</title>\n<ellipse fill=\"none\" stroke=\"#000000\" cx=\"229.8731\" cy=\"-198.8687\" rx=\"27\" ry=\"18\"/>\n<text text-anchor=\"middle\" x=\"229.8731\" y=\"-195.1687\" font-family=\"Times,serif\" font-size=\"14.00\" fill=\"#000000\">1</text>\n</g>\n<!-- 5&#45;&#45;1 -->\n<g id=\"edge2\" class=\"edge\">\n<title>5&#45;&#45;1</title>\n<path fill=\"none\" stroke=\"#000000\" d=\"M105.5957,-363.5129C131.6113,-329.0471 191.7275,-249.4045 217.6322,-215.0856\"/>\n</g>\n<!-- 2&#45;&#45;1 -->\n<g id=\"edge7\" class=\"edge\">\n<title>2&#45;&#45;1</title>\n<path fill=\"none\" stroke=\"#000000\" d=\"M53.1128,-203.7985C91.9636,-206.4736 164.5798,-206.3853 203.5512,-203.6203\"/>\n</g>\n<!-- 2&#45;&#45;1 -->\n<g id=\"edge8\" class=\"edge\">\n<title>2&#45;&#45;1</title>\n<path fill=\"none\" stroke=\"#000000\" d=\"M53.1007,-194.3939C91.9445,-191.6188 164.5607,-191.5202 203.5391,-194.1848\"/>\n</g>\n<!-- 4 -->\n<g id=\"node4\" class=\"node\">\n<title>4</title>\n<ellipse fill=\"none\" stroke=\"#000000\" cx=\"92.3685\" cy=\"-18\" rx=\"27\" ry=\"18\"/>\n<text text-anchor=\"middle\" x=\"92.3685\" y=\"-14.3\" font-family=\"Times,serif\" font-size=\"14.00\" fill=\"#000000\">4</text>\n</g>\n<!-- 4&#45;&#45;2 -->\n<g id=\"edge3\" class=\"edge\">\n<title>4&#45;&#45;2</title>\n<path fill=\"none\" stroke=\"#000000\" d=\"M85.9816,-35.6973C73.4526,-70.4141 45.7887,-147.0681 33.3165,-181.6274\"/>\n</g>\n<!-- 4&#45;&#45;1 -->\n<g id=\"edge4\" class=\"edge\">\n<title>4&#45;&#45;1</title>\n<path fill=\"none\" stroke=\"#000000\" d=\"M104.8136,-34.3699C130.9929,-68.8052 191.4874,-148.3775 217.5551,-182.6661\"/>\n</g>\n<!-- 3 -->\n<g id=\"node5\" class=\"node\">\n<title>3</title>\n<ellipse fill=\"none\" stroke=\"#000000\" cx=\"483.518\" cy=\"-198.5351\" rx=\"27\" ry=\"18\"/>\n<text text-anchor=\"middle\" x=\"483.518\" y=\"-194.8351\" font-family=\"Times,serif\" font-size=\"14.00\" fill=\"#000000\">3</text>\n</g>\n<!-- 3&#45;&#45;1 -->\n<g id=\"edge5\" class=\"edge\">\n<title>3&#45;&#45;1</title>\n<path fill=\"none\" stroke=\"#000000\" d=\"M456.8472,-194.2312C408.0012,-191.0728 304.746,-191.2165 256.1752,-194.5188\"/>\n</g>\n<!-- 3&#45;&#45;1 -->\n<g id=\"edge6\" class=\"edge\">\n<title>3&#45;&#45;1</title>\n<path fill=\"none\" stroke=\"#000000\" d=\"M456.8586,-202.9091C408.0211,-206.1959 304.7658,-206.3239 256.1865,-203.1493\"/>\n</g>\n</g>\n</svg>\n"
          },
          "metadata": {}
        },
        {
          "output_type": "stream",
          "name": "stdout",
          "text": [
            "graph\n"
          ]
        },
        {
          "output_type": "display_data",
          "data": {
            "text/plain": [
              "<graphviz.dot.Graph at 0x7fda17ed4150>"
            ],
            "image/svg+xml": "<?xml version=\"1.0\" encoding=\"UTF-8\" standalone=\"no\"?>\n<!DOCTYPE svg PUBLIC \"-//W3C//DTD SVG 1.1//EN\"\n \"http://www.w3.org/Graphics/SVG/1.1/DTD/svg11.dtd\">\n<!-- Generated by graphviz version 2.40.1 (20161225.0304)\n -->\n<!-- Title: %3 Pages: 1 -->\n<svg width=\"456pt\" height=\"228pt\"\n viewBox=\"0.00 0.00 456.36 227.88\" xmlns=\"http://www.w3.org/2000/svg\" xmlns:xlink=\"http://www.w3.org/1999/xlink\">\n<g id=\"graph0\" class=\"graph\" transform=\"scale(1 1) rotate(0) translate(4 223.8837)\">\n<title>%3</title>\n<polygon fill=\"#ffffff\" stroke=\"transparent\" points=\"-4,4 -4,-223.8837 452.3583,-223.8837 452.3583,4 -4,4\"/>\n<!-- 4 -->\n<g id=\"node1\" class=\"node\">\n<title>4</title>\n<ellipse fill=\"none\" stroke=\"#000000\" cx=\"421.3583\" cy=\"-111.9638\" rx=\"27\" ry=\"18\"/>\n<text text-anchor=\"middle\" x=\"421.3583\" y=\"-108.2638\" font-family=\"Times,serif\" font-size=\"14.00\" fill=\"#000000\">4</text>\n</g>\n<!-- 3 -->\n<g id=\"node2\" class=\"node\">\n<title>3</title>\n<ellipse fill=\"none\" stroke=\"#000000\" cx=\"225.6885\" cy=\"-18\" rx=\"27\" ry=\"18\"/>\n<text text-anchor=\"middle\" x=\"225.6885\" y=\"-14.3\" font-family=\"Times,serif\" font-size=\"14.00\" fill=\"#000000\">3</text>\n</g>\n<!-- 4&#45;&#45;3 -->\n<g id=\"edge1\" class=\"edge\">\n<title>4&#45;&#45;3</title>\n<path fill=\"none\" stroke=\"#000000\" d=\"M399.2929,-101.3676C361.613,-83.2731 285.298,-46.6254 247.6733,-28.5575\"/>\n</g>\n<!-- 1 -->\n<g id=\"node3\" class=\"node\">\n<title>1</title>\n<ellipse fill=\"none\" stroke=\"#000000\" cx=\"226.356\" cy=\"-201.8837\" rx=\"27\" ry=\"18\"/>\n<text text-anchor=\"middle\" x=\"226.356\" y=\"-198.1837\" font-family=\"Times,serif\" font-size=\"14.00\" fill=\"#000000\">1</text>\n</g>\n<!-- 4&#45;&#45;1 -->\n<g id=\"edge2\" class=\"edge\">\n<title>4&#45;&#45;1</title>\n<path fill=\"none\" stroke=\"#000000\" d=\"M398.9891,-122.2787C361.4738,-139.5778 286.3049,-174.2399 248.7639,-191.5509\"/>\n</g>\n<!-- 3&#45;&#45;1 -->\n<g id=\"edge4\" class=\"edge\">\n<title>3&#45;&#45;1</title>\n<path fill=\"none\" stroke=\"#000000\" d=\"M221.5425,-35.9816C218.2874,-71.1482 218.5665,-148.6592 222.0723,-183.8597\"/>\n</g>\n<!-- 3&#45;&#45;1 -->\n<g id=\"edge5\" class=\"edge\">\n<title>3&#45;&#45;1</title>\n<path fill=\"none\" stroke=\"#000000\" d=\"M229.9649,-35.9511C233.4752,-71.0931 233.7589,-148.6041 230.5087,-183.8291\"/>\n</g>\n<!-- 2 -->\n<g id=\"node4\" class=\"node\">\n<title>2</title>\n<ellipse fill=\"none\" stroke=\"#000000\" cx=\"27\" cy=\"-112.2548\" rx=\"27\" ry=\"18\"/>\n<text text-anchor=\"middle\" x=\"27\" y=\"-108.5548\" font-family=\"Times,serif\" font-size=\"14.00\" fill=\"#000000\">2</text>\n</g>\n<!-- 3&#45;&#45;2 -->\n<g id=\"edge3\" class=\"edge\">\n<title>3&#45;&#45;2</title>\n<path fill=\"none\" stroke=\"#000000\" d=\"M203.6662,-28.447C165.4742,-46.5647 87.3815,-83.6107 49.1209,-101.7609\"/>\n</g>\n<!-- 2&#45;&#45;1 -->\n<g id=\"edge6\" class=\"edge\">\n<title>2&#45;&#45;1</title>\n<path fill=\"none\" stroke=\"#000000\" d=\"M41.3726,-127.5909C74.578,-150.0473 156.2959,-187.1448 199.2206,-199.6314\"/>\n</g>\n<!-- 2&#45;&#45;1 -->\n<g id=\"edge7\" class=\"edge\">\n<title>2&#45;&#45;1</title>\n<path fill=\"none\" stroke=\"#000000\" d=\"M53.9693,-114.4588C96.786,-126.8796 178.4951,-163.9532 211.8368,-186.4486\"/>\n</g>\n<!-- 2&#45;&#45;1 -->\n<g id=\"edge8\" class=\"edge\">\n<title>2&#45;&#45;1</title>\n<path fill=\"none\" stroke=\"#000000\" d=\"M49.4811,-122.3621C87.8708,-139.6218 165.6235,-174.5788 203.957,-191.8133\"/>\n</g>\n</g>\n</svg>\n"
          },
          "metadata": {}
        },
        {
          "output_type": "stream",
          "name": "stdout",
          "text": [
            "graph\n"
          ]
        },
        {
          "output_type": "display_data",
          "data": {
            "text/plain": [
              "<graphviz.dot.Graph at 0x7fda17e3b7d0>"
            ],
            "image/svg+xml": "<?xml version=\"1.0\" encoding=\"UTF-8\" standalone=\"no\"?>\n<!DOCTYPE svg PUBLIC \"-//W3C//DTD SVG 1.1//EN\"\n \"http://www.w3.org/Graphics/SVG/1.1/DTD/svg11.dtd\">\n<!-- Generated by graphviz version 2.40.1 (20161225.0304)\n -->\n<!-- Title: %3 Pages: 1 -->\n<svg width=\"307pt\" height=\"270pt\"\n viewBox=\"0.00 0.00 307.32 269.60\" xmlns=\"http://www.w3.org/2000/svg\" xmlns:xlink=\"http://www.w3.org/1999/xlink\">\n<g id=\"graph0\" class=\"graph\" transform=\"scale(1 1) rotate(0) translate(4 265.5952)\">\n<title>%3</title>\n<polygon fill=\"#ffffff\" stroke=\"transparent\" points=\"-4,4 -4,-265.5952 303.3207,-265.5952 303.3207,4 -4,4\"/>\n<!-- 3 -->\n<g id=\"node1\" class=\"node\">\n<title>3</title>\n<ellipse fill=\"none\" stroke=\"#000000\" cx=\"272.3207\" cy=\"-243.5952\" rx=\"27\" ry=\"18\"/>\n<text text-anchor=\"middle\" x=\"272.3207\" y=\"-239.8952\" font-family=\"Times,serif\" font-size=\"14.00\" fill=\"#000000\">3</text>\n</g>\n<!-- 2 -->\n<g id=\"node2\" class=\"node\">\n<title>2</title>\n<ellipse fill=\"none\" stroke=\"#000000\" cx=\"27\" cy=\"-214.2036\" rx=\"27\" ry=\"18\"/>\n<text text-anchor=\"middle\" x=\"27\" y=\"-210.5036\" font-family=\"Times,serif\" font-size=\"14.00\" fill=\"#000000\">2</text>\n</g>\n<!-- 3&#45;&#45;2 -->\n<g id=\"edge1\" class=\"edge\">\n<title>3&#45;&#45;2</title>\n<path fill=\"none\" stroke=\"#000000\" d=\"M247.5034,-236.2837C201.2452,-227.4923 102.2043,-215.5957 54.1981,-213.0321\"/>\n</g>\n<!-- 3&#45;&#45;2 -->\n<g id=\"edge2\" class=\"edge\">\n<title>3&#45;&#45;2</title>\n<path fill=\"none\" stroke=\"#000000\" d=\"M245.0765,-244.7641C197.0137,-242.1933 97.8983,-230.2841 51.7036,-221.4934\"/>\n</g>\n<!-- 1 -->\n<g id=\"node3\" class=\"node\">\n<title>1</title>\n<ellipse fill=\"none\" stroke=\"#000000\" cx=\"175.3019\" cy=\"-18\" rx=\"27\" ry=\"18\"/>\n<text text-anchor=\"middle\" x=\"175.3019\" y=\"-14.3\" font-family=\"Times,serif\" font-size=\"14.00\" fill=\"#000000\">1</text>\n</g>\n<!-- 3&#45;&#45;1 -->\n<g id=\"edge3\" class=\"edge\">\n<title>3&#45;&#45;1</title>\n<path fill=\"none\" stroke=\"#000000\" d=\"M268.6208,-225.5297C254.5412,-182.7523 208.6602,-75.9421 186.6855,-34.6348\"/>\n</g>\n<!-- 3&#45;&#45;1 -->\n<g id=\"edge4\" class=\"edge\">\n<title>3&#45;&#45;1</title>\n<path fill=\"none\" stroke=\"#000000\" d=\"M260.9831,-227.047C239.0328,-185.8143 193.1173,-78.9334 179.0137,-36.1018\"/>\n</g>\n<!-- 2&#45;&#45;1 -->\n<g id=\"edge5\" class=\"edge\">\n<title>2&#45;&#45;1</title>\n<path fill=\"none\" stroke=\"#000000\" d=\"M49.8462,-204.1126C88.5626,-171.7769 159.4016,-77.0508 174.539,-36.1259\"/>\n</g>\n<!-- 2&#45;&#45;1 -->\n<g id=\"edge6\" class=\"edge\">\n<title>2&#45;&#45;1</title>\n<path fill=\"none\" stroke=\"#000000\" d=\"M27.7973,-195.9848C43.0315,-154.9444 113.994,-60.1008 152.6402,-27.9371\"/>\n</g>\n<!-- 2&#45;&#45;1 -->\n<g id=\"edge7\" class=\"edge\">\n<title>2&#45;&#45;1</title>\n<path fill=\"none\" stroke=\"#000000\" d=\"M35.3527,-196.8372C59.4092,-158.6206 127.6581,-68.2144 159.2076,-32.6384\"/>\n</g>\n<!-- 2&#45;&#45;1 -->\n<g id=\"edge8\" class=\"edge\">\n<title>2&#45;&#45;1</title>\n<path fill=\"none\" stroke=\"#000000\" d=\"M43.1031,-199.5551C74.6808,-163.9449 142.9993,-73.4411 167.0043,-35.2788\"/>\n</g>\n</g>\n</svg>\n"
          },
          "metadata": {}
        },
        {
          "output_type": "stream",
          "name": "stdout",
          "text": [
            "graph\n"
          ]
        },
        {
          "output_type": "display_data",
          "data": {
            "text/plain": [
              "<graphviz.dot.Graph at 0x7fda17e85250>"
            ],
            "image/svg+xml": "<?xml version=\"1.0\" encoding=\"UTF-8\" standalone=\"no\"?>\n<!DOCTYPE svg PUBLIC \"-//W3C//DTD SVG 1.1//EN\"\n \"http://www.w3.org/Graphics/SVG/1.1/DTD/svg11.dtd\">\n<!-- Generated by graphviz version 2.40.1 (20161225.0304)\n -->\n<!-- Title: %3 Pages: 1 -->\n<svg width=\"458pt\" height=\"208pt\"\n viewBox=\"0.00 0.00 458.37 208.47\" xmlns=\"http://www.w3.org/2000/svg\" xmlns:xlink=\"http://www.w3.org/1999/xlink\">\n<g id=\"graph0\" class=\"graph\" transform=\"scale(1 1) rotate(0) translate(4 204.4724)\">\n<title>%3</title>\n<polygon fill=\"#ffffff\" stroke=\"transparent\" points=\"-4,4 -4,-204.4724 454.3664,-204.4724 454.3664,4 -4,4\"/>\n<!-- 4 -->\n<g id=\"node1\" class=\"node\">\n<title>4</title>\n<ellipse fill=\"none\" stroke=\"#000000\" cx=\"423.3664\" cy=\"-100.1954\" rx=\"27\" ry=\"18\"/>\n<text text-anchor=\"middle\" x=\"423.3664\" y=\"-96.4954\" font-family=\"Times,serif\" font-size=\"14.00\" fill=\"#000000\">4</text>\n</g>\n<!-- 1 -->\n<g id=\"node2\" class=\"node\">\n<title>1</title>\n<ellipse fill=\"none\" stroke=\"#000000\" cx=\"204.9939\" cy=\"-99.8498\" rx=\"27\" ry=\"18\"/>\n<text text-anchor=\"middle\" x=\"204.9939\" y=\"-96.1498\" font-family=\"Times,serif\" font-size=\"14.00\" fill=\"#000000\">1</text>\n</g>\n<!-- 4&#45;&#45;1 -->\n<g id=\"edge1\" class=\"edge\">\n<title>4&#45;&#45;1</title>\n<path fill=\"none\" stroke=\"#000000\" d=\"M397.0328,-95.5692C355.0652,-92.6176 273.4708,-92.4863 231.4354,-95.3007\"/>\n</g>\n<!-- 4&#45;&#45;1 -->\n<g id=\"edge2\" class=\"edge\">\n<title>4&#45;&#45;1</title>\n<path fill=\"none\" stroke=\"#000000\" d=\"M397.0183,-104.7382C355.0416,-107.557 273.4472,-107.43 231.4209,-104.4825\"/>\n</g>\n<!-- 3 -->\n<g id=\"node3\" class=\"node\">\n<title>3</title>\n<ellipse fill=\"none\" stroke=\"#000000\" cx=\"27.2866\" cy=\"-182.4724\" rx=\"27\" ry=\"18\"/>\n<text text-anchor=\"middle\" x=\"27.2866\" y=\"-178.7724\" font-family=\"Times,serif\" font-size=\"14.00\" fill=\"#000000\">3</text>\n</g>\n<!-- 3&#45;&#45;1 -->\n<g id=\"edge5\" class=\"edge\">\n<title>3&#45;&#45;1</title>\n<path fill=\"none\" stroke=\"#000000\" d=\"M52.5134,-175.9611C88.775,-162.1602 154.6866,-131.4227 186.6672,-113.3099\"/>\n</g>\n<!-- 3&#45;&#45;1 -->\n<g id=\"edge6\" class=\"edge\">\n<title>3&#45;&#45;1</title>\n<path fill=\"none\" stroke=\"#000000\" d=\"M45.4447,-169.1078C77.3309,-151.0252 143.314,-120.2458 179.6617,-106.4011\"/>\n</g>\n<!-- 2 -->\n<g id=\"node4\" class=\"node\">\n<title>2</title>\n<ellipse fill=\"none\" stroke=\"#000000\" cx=\"27\" cy=\"-18\" rx=\"27\" ry=\"18\"/>\n<text text-anchor=\"middle\" x=\"27\" y=\"-14.3\" font-family=\"Times,serif\" font-size=\"14.00\" fill=\"#000000\">2</text>\n</g>\n<!-- 3&#45;&#45;2 -->\n<g id=\"edge3\" class=\"edge\">\n<title>3&#45;&#45;2</title>\n<path fill=\"none\" stroke=\"#000000\" d=\"M31.6569,-164.5502C34.7338,-132.907 34.6191,-67.5013 31.4306,-35.8848\"/>\n</g>\n<!-- 3&#45;&#45;2 -->\n<g id=\"edge4\" class=\"edge\">\n<title>3&#45;&#45;2</title>\n<path fill=\"none\" stroke=\"#000000\" d=\"M22.8538,-164.5655C19.6667,-132.9333 19.5535,-67.5275 22.6318,-35.9001\"/>\n</g>\n<!-- 2&#45;&#45;1 -->\n<g id=\"edge7\" class=\"edge\">\n<title>2&#45;&#45;1</title>\n<path fill=\"none\" stroke=\"#000000\" d=\"M45.5406,-31.4722C77.6478,-49.458 143.5055,-79.8294 179.7506,-93.449\"/>\n</g>\n<!-- 2&#45;&#45;1 -->\n<g id=\"edge8\" class=\"edge\">\n<title>2&#45;&#45;1</title>\n<path fill=\"none\" stroke=\"#000000\" d=\"M52.2463,-24.4019C88.5539,-38.0453 154.5722,-68.4962 186.6176,-86.4697\"/>\n</g>\n</g>\n</svg>\n"
          },
          "metadata": {}
        },
        {
          "output_type": "stream",
          "name": "stdout",
          "text": [
            "graph\n"
          ]
        },
        {
          "output_type": "display_data",
          "data": {
            "text/plain": [
              "<graphviz.dot.Graph at 0x7fda17e3b710>"
            ],
            "image/svg+xml": "<?xml version=\"1.0\" encoding=\"UTF-8\" standalone=\"no\"?>\n<!DOCTYPE svg PUBLIC \"-//W3C//DTD SVG 1.1//EN\"\n \"http://www.w3.org/Graphics/SVG/1.1/DTD/svg11.dtd\">\n<!-- Generated by graphviz version 2.40.1 (20161225.0304)\n -->\n<!-- Title: %3 Pages: 1 -->\n<svg width=\"533pt\" height=\"328pt\"\n viewBox=\"0.00 0.00 532.85 327.74\" xmlns=\"http://www.w3.org/2000/svg\" xmlns:xlink=\"http://www.w3.org/1999/xlink\">\n<g id=\"graph0\" class=\"graph\" transform=\"scale(1 1) rotate(0) translate(4 323.7362)\">\n<title>%3</title>\n<polygon fill=\"#ffffff\" stroke=\"transparent\" points=\"-4,4 -4,-323.7362 528.8523,-323.7362 528.8523,4 -4,4\"/>\n<!-- 6 -->\n<g id=\"node1\" class=\"node\">\n<title>6</title>\n<ellipse fill=\"none\" stroke=\"#000000\" cx=\"372.6421\" cy=\"-301.7362\" rx=\"27\" ry=\"18\"/>\n<text text-anchor=\"middle\" x=\"372.6421\" y=\"-298.0362\" font-family=\"Times,serif\" font-size=\"14.00\" fill=\"#000000\">6</text>\n</g>\n<!-- 4 -->\n<g id=\"node2\" class=\"node\">\n<title>4</title>\n<ellipse fill=\"none\" stroke=\"#000000\" cx=\"497.8523\" cy=\"-161.0048\" rx=\"27\" ry=\"18\"/>\n<text text-anchor=\"middle\" x=\"497.8523\" y=\"-157.3048\" font-family=\"Times,serif\" font-size=\"14.00\" fill=\"#000000\">4</text>\n</g>\n<!-- 6&#45;&#45;4 -->\n<g id=\"edge1\" class=\"edge\">\n<title>6&#45;&#45;4</title>\n<path fill=\"none\" stroke=\"#000000\" d=\"M386.5202,-286.1378C410.5881,-259.0863 459.8008,-203.7731 483.912,-176.6731\"/>\n</g>\n<!-- 1 -->\n<g id=\"node3\" class=\"node\">\n<title>1</title>\n<ellipse fill=\"none\" stroke=\"#000000\" cx=\"176.5439\" cy=\"-244.079\" rx=\"27\" ry=\"18\"/>\n<text text-anchor=\"middle\" x=\"176.5439\" y=\"-240.379\" font-family=\"Times,serif\" font-size=\"14.00\" fill=\"#000000\">1</text>\n</g>\n<!-- 6&#45;&#45;1 -->\n<g id=\"edge2\" class=\"edge\">\n<title>6&#45;&#45;1</title>\n<path fill=\"none\" stroke=\"#000000\" d=\"M347.8061,-294.4339C310.1888,-283.3736 239.1679,-262.4918 201.4872,-251.4129\"/>\n</g>\n<!-- 3 -->\n<g id=\"node6\" class=\"node\">\n<title>3</title>\n<ellipse fill=\"none\" stroke=\"#000000\" cx=\"379.1868\" cy=\"-18\" rx=\"27\" ry=\"18\"/>\n<text text-anchor=\"middle\" x=\"379.1868\" y=\"-14.3\" font-family=\"Times,serif\" font-size=\"14.00\" fill=\"#000000\">3</text>\n</g>\n<!-- 4&#45;&#45;3 -->\n<g id=\"edge5\" class=\"edge\">\n<title>4&#45;&#45;3</title>\n<path fill=\"none\" stroke=\"#000000\" d=\"M484.6996,-145.1544C461.8896,-117.6659 415.2493,-61.4592 392.3984,-33.9214\"/>\n</g>\n<!-- 5 -->\n<g id=\"node4\" class=\"node\">\n<title>5</title>\n<ellipse fill=\"none\" stroke=\"#000000\" cx=\"27\" cy=\"-158.3175\" rx=\"27\" ry=\"18\"/>\n<text text-anchor=\"middle\" x=\"27\" y=\"-154.6175\" font-family=\"Times,serif\" font-size=\"14.00\" fill=\"#000000\">5</text>\n</g>\n<!-- 5&#45;&#45;1 -->\n<g id=\"edge4\" class=\"edge\">\n<title>5&#45;&#45;1</title>\n<path fill=\"none\" stroke=\"#000000\" d=\"M47.4799,-170.0625C75.9573,-186.3939 127.2305,-215.7984 155.8315,-232.2007\"/>\n</g>\n<!-- 2 -->\n<g id=\"node5\" class=\"node\">\n<title>2</title>\n<ellipse fill=\"none\" stroke=\"#000000\" cx=\"177.6111\" cy=\"-71.6037\" rx=\"27\" ry=\"18\"/>\n<text text-anchor=\"middle\" x=\"177.6111\" y=\"-67.9037\" font-family=\"Times,serif\" font-size=\"14.00\" fill=\"#000000\">2</text>\n</g>\n<!-- 5&#45;&#45;2 -->\n<g id=\"edge3\" class=\"edge\">\n<title>5&#45;&#45;2</title>\n<path fill=\"none\" stroke=\"#000000\" d=\"M47.626,-146.4421C76.3067,-129.9293 127.9458,-100.1983 156.7509,-83.6139\"/>\n</g>\n<!-- 2&#45;&#45;1 -->\n<g id=\"edge7\" class=\"edge\">\n<title>2&#45;&#45;1</title>\n<path fill=\"none\" stroke=\"#000000\" d=\"M173.1937,-89.3853C169.7376,-122.4156 169.2963,-192.8906 172.332,-226.0825\"/>\n</g>\n<!-- 2&#45;&#45;1 -->\n<g id=\"edge8\" class=\"edge\">\n<title>2&#45;&#45;1</title>\n<path fill=\"none\" stroke=\"#000000\" d=\"M181.8081,-89.4386C184.8552,-122.5091 184.4244,-192.9842 180.9782,-226.136\"/>\n</g>\n<!-- 3&#45;&#45;2 -->\n<g id=\"edge6\" class=\"edge\">\n<title>3&#45;&#45;2</title>\n<path fill=\"none\" stroke=\"#000000\" d=\"M354.0646,-24.6806C315.3319,-34.9805 241.4647,-54.6235 202.7324,-64.9233\"/>\n</g>\n</g>\n</svg>\n"
          },
          "metadata": {}
        },
        {
          "output_type": "stream",
          "name": "stdout",
          "text": [
            "graph\n"
          ]
        },
        {
          "output_type": "display_data",
          "data": {
            "text/plain": [
              "<graphviz.dot.Graph at 0x7fda17ed4150>"
            ],
            "image/svg+xml": "<?xml version=\"1.0\" encoding=\"UTF-8\" standalone=\"no\"?>\n<!DOCTYPE svg PUBLIC \"-//W3C//DTD SVG 1.1//EN\"\n \"http://www.w3.org/Graphics/SVG/1.1/DTD/svg11.dtd\">\n<!-- Generated by graphviz version 2.40.1 (20161225.0304)\n -->\n<!-- Title: %3 Pages: 1 -->\n<svg width=\"428pt\" height=\"190pt\"\n viewBox=\"0.00 0.00 428.47 190.35\" xmlns=\"http://www.w3.org/2000/svg\" xmlns:xlink=\"http://www.w3.org/1999/xlink\">\n<g id=\"graph0\" class=\"graph\" transform=\"scale(1 1) rotate(0) translate(4 186.3476)\">\n<title>%3</title>\n<polygon fill=\"#ffffff\" stroke=\"transparent\" points=\"-4,4 -4,-186.3476 424.4707,-186.3476 424.4707,4 -4,4\"/>\n<!-- 5 -->\n<g id=\"node1\" class=\"node\">\n<title>5</title>\n<ellipse fill=\"none\" stroke=\"#000000\" cx=\"29.191\" cy=\"-164.3476\" rx=\"27\" ry=\"18\"/>\n<text text-anchor=\"middle\" x=\"29.191\" y=\"-160.6476\" font-family=\"Times,serif\" font-size=\"14.00\" fill=\"#000000\">5</text>\n</g>\n<!-- 4 -->\n<g id=\"node2\" class=\"node\">\n<title>4</title>\n<ellipse fill=\"none\" stroke=\"#000000\" cx=\"27\" cy=\"-18\" rx=\"27\" ry=\"18\"/>\n<text text-anchor=\"middle\" x=\"27\" y=\"-14.3\" font-family=\"Times,serif\" font-size=\"14.00\" fill=\"#000000\">4</text>\n</g>\n<!-- 5&#45;&#45;4 -->\n<g id=\"edge1\" class=\"edge\">\n<title>5&#45;&#45;4</title>\n<path fill=\"none\" stroke=\"#000000\" d=\"M28.9179,-146.1085C28.4958,-117.9112 27.6897,-64.0664 27.2696,-36.0092\"/>\n</g>\n<!-- 3 -->\n<g id=\"node3\" class=\"node\">\n<title>3</title>\n<ellipse fill=\"none\" stroke=\"#000000\" cx=\"209.2686\" cy=\"-90.0529\" rx=\"27\" ry=\"18\"/>\n<text text-anchor=\"middle\" x=\"209.2686\" y=\"-86.3529\" font-family=\"Times,serif\" font-size=\"14.00\" fill=\"#000000\">3</text>\n</g>\n<!-- 5&#45;&#45;3 -->\n<g id=\"edge2\" class=\"edge\">\n<title>5&#45;&#45;3</title>\n<path fill=\"none\" stroke=\"#000000\" d=\"M52.3643,-154.787C86.9415,-140.5214 151.6587,-113.821 186.1842,-99.5768\"/>\n</g>\n<!-- 4&#45;&#45;3 -->\n<g id=\"edge3\" class=\"edge\">\n<title>4&#45;&#45;3</title>\n<path fill=\"none\" stroke=\"#000000\" d=\"M50.4553,-27.2721C85.4532,-41.1072 150.9578,-67.002 185.9033,-80.8163\"/>\n</g>\n<!-- 2 -->\n<g id=\"node4\" class=\"node\">\n<title>2</title>\n<ellipse fill=\"none\" stroke=\"#000000\" cx=\"393.4707\" cy=\"-18.5923\" rx=\"27\" ry=\"18\"/>\n<text text-anchor=\"middle\" x=\"393.4707\" y=\"-14.8923\" font-family=\"Times,serif\" font-size=\"14.00\" fill=\"#000000\">2</text>\n</g>\n<!-- 3&#45;&#45;2 -->\n<g id=\"edge4\" class=\"edge\">\n<title>3&#45;&#45;2</title>\n<path fill=\"none\" stroke=\"#000000\" d=\"M232.9727,-80.857C268.3419,-67.1356 334.5413,-41.4537 369.8576,-27.7529\"/>\n</g>\n<!-- 1 -->\n<g id=\"node5\" class=\"node\">\n<title>1</title>\n<ellipse fill=\"none\" stroke=\"#000000\" cx=\"391.3622\" cy=\"-163.7102\" rx=\"27\" ry=\"18\"/>\n<text text-anchor=\"middle\" x=\"391.3622\" y=\"-160.0102\" font-family=\"Times,serif\" font-size=\"14.00\" fill=\"#000000\">1</text>\n</g>\n<!-- 3&#45;&#45;1 -->\n<g id=\"edge5\" class=\"edge\">\n<title>3&#45;&#45;1</title>\n<path fill=\"none\" stroke=\"#000000\" d=\"M232.7014,-99.5315C267.6657,-113.6747 333.1074,-140.146 368.0194,-154.268\"/>\n</g>\n<!-- 2&#45;&#45;1 -->\n<g id=\"edge6\" class=\"edge\">\n<title>2&#45;&#45;1</title>\n<path fill=\"none\" stroke=\"#000000\" d=\"M384.1125,-35.6768C377.8511,-63.5209 377.0555,-118.3836 382.5086,-146.3836\"/>\n</g>\n<!-- 2&#45;&#45;1 -->\n<g id=\"edge7\" class=\"edge\">\n<title>2&#45;&#45;1</title>\n<path fill=\"none\" stroke=\"#000000\" d=\"M402.2724,-35.6547C407.7786,-63.5537 407.0026,-118.6203 400.733,-146.5699\"/>\n</g>\n<!-- 2&#45;&#45;1 -->\n<g id=\"edge8\" class=\"edge\">\n<title>2&#45;&#45;1</title>\n<path fill=\"none\" stroke=\"#000000\" d=\"M393.2079,-36.6782C392.8039,-64.4866 392.0343,-117.4513 391.6283,-145.3965\"/>\n</g>\n</g>\n</svg>\n"
          },
          "metadata": {}
        },
        {
          "output_type": "stream",
          "name": "stdout",
          "text": [
            "graph\n"
          ]
        },
        {
          "output_type": "display_data",
          "data": {
            "text/plain": [
              "<graphviz.dot.Graph at 0x7fda17e3b6d0>"
            ],
            "image/svg+xml": "<?xml version=\"1.0\" encoding=\"UTF-8\" standalone=\"no\"?>\n<!DOCTYPE svg PUBLIC \"-//W3C//DTD SVG 1.1//EN\"\n \"http://www.w3.org/Graphics/SVG/1.1/DTD/svg11.dtd\">\n<!-- Generated by graphviz version 2.40.1 (20161225.0304)\n -->\n<!-- Title: %3 Pages: 1 -->\n<svg width=\"496pt\" height=\"195pt\"\n viewBox=\"0.00 0.00 496.46 194.81\" xmlns=\"http://www.w3.org/2000/svg\" xmlns:xlink=\"http://www.w3.org/1999/xlink\">\n<g id=\"graph0\" class=\"graph\" transform=\"scale(1 1) rotate(0) translate(4 190.8081)\">\n<title>%3</title>\n<polygon fill=\"#ffffff\" stroke=\"transparent\" points=\"-4,4 -4,-190.8081 492.4579,-190.8081 492.4579,4 -4,4\"/>\n<!-- 5 -->\n<g id=\"node1\" class=\"node\">\n<title>5</title>\n<ellipse fill=\"none\" stroke=\"#000000\" cx=\"27\" cy=\"-168.5734\" rx=\"27\" ry=\"18\"/>\n<text text-anchor=\"middle\" x=\"27\" y=\"-164.8734\" font-family=\"Times,serif\" font-size=\"14.00\" fill=\"#000000\">5</text>\n</g>\n<!-- 3 -->\n<g id=\"node2\" class=\"node\">\n<title>3</title>\n<ellipse fill=\"none\" stroke=\"#000000\" cx=\"244.7281\" cy=\"-159.8951\" rx=\"27\" ry=\"18\"/>\n<text text-anchor=\"middle\" x=\"244.7281\" y=\"-156.1951\" font-family=\"Times,serif\" font-size=\"14.00\" fill=\"#000000\">3</text>\n</g>\n<!-- 5&#45;&#45;3 -->\n<g id=\"edge1\" class=\"edge\">\n<title>5&#45;&#45;3</title>\n<path fill=\"none\" stroke=\"#000000\" d=\"M54.1352,-167.4918C95.9716,-165.8243 175.7578,-162.6442 217.5938,-160.9767\"/>\n</g>\n<!-- 2 -->\n<g id=\"node3\" class=\"node\">\n<title>2</title>\n<ellipse fill=\"none\" stroke=\"#000000\" cx=\"139.129\" cy=\"-18.567\" rx=\"27\" ry=\"18\"/>\n<text text-anchor=\"middle\" x=\"139.129\" y=\"-14.867\" font-family=\"Times,serif\" font-size=\"14.00\" fill=\"#000000\">2</text>\n</g>\n<!-- 5&#45;&#45;2 -->\n<g id=\"edge2\" class=\"edge\">\n<title>5&#45;&#45;2</title>\n<path fill=\"none\" stroke=\"#000000\" d=\"M39.2132,-152.2345C60.7822,-123.3795 105.3726,-63.7264 126.9308,-34.8857\"/>\n</g>\n<!-- 3&#45;&#45;2 -->\n<g id=\"edge5\" class=\"edge\">\n<title>3&#45;&#45;2</title>\n<path fill=\"none\" stroke=\"#000000\" d=\"M232.6145,-143.683C212.3532,-116.5663 171.81,-62.3054 151.4265,-35.0254\"/>\n</g>\n<!-- 1 -->\n<g id=\"node5\" class=\"node\">\n<title>1</title>\n<ellipse fill=\"none\" stroke=\"#000000\" cx=\"349.5307\" cy=\"-18\" rx=\"27\" ry=\"18\"/>\n<text text-anchor=\"middle\" x=\"349.5307\" y=\"-14.3\" font-family=\"Times,serif\" font-size=\"14.00\" fill=\"#000000\">1</text>\n</g>\n<!-- 3&#45;&#45;1 -->\n<g id=\"edge6\" class=\"edge\">\n<title>3&#45;&#45;1</title>\n<path fill=\"none\" stroke=\"#000000\" d=\"M256.7503,-143.618C276.8588,-116.3925 317.0962,-61.9139 337.3259,-34.5244\"/>\n</g>\n<!-- 2&#45;&#45;1 -->\n<g id=\"edge7\" class=\"edge\">\n<title>2&#45;&#45;1</title>\n<path fill=\"none\" stroke=\"#000000\" d=\"M165.3636,-23.1401C205.7999,-25.8394 282.9013,-25.6316 323.3219,-22.7144\"/>\n</g>\n<!-- 2&#45;&#45;1 -->\n<g id=\"edge8\" class=\"edge\">\n<title>2&#45;&#45;1</title>\n<path fill=\"none\" stroke=\"#000000\" d=\"M165.3386,-13.8525C205.7597,-10.9353 282.8612,-10.7276 323.2969,-13.4269\"/>\n</g>\n<!-- 4 -->\n<g id=\"node4\" class=\"node\">\n<title>4</title>\n<ellipse fill=\"none\" stroke=\"#000000\" cx=\"461.4579\" cy=\"-168.8081\" rx=\"27\" ry=\"18\"/>\n<text text-anchor=\"middle\" x=\"461.4579\" y=\"-165.1081\" font-family=\"Times,serif\" font-size=\"14.00\" fill=\"#000000\">4</text>\n</g>\n<!-- 4&#45;&#45;3 -->\n<g id=\"edge3\" class=\"edge\">\n<title>4&#45;&#45;3</title>\n<path fill=\"none\" stroke=\"#000000\" d=\"M434.4471,-167.6973C392.8025,-165.9847 313.3821,-162.7185 271.738,-161.0059\"/>\n</g>\n<!-- 4&#45;&#45;1 -->\n<g id=\"edge4\" class=\"edge\">\n<title>4&#45;&#45;1</title>\n<path fill=\"none\" stroke=\"#000000\" d=\"M449.4797,-152.669C428.0497,-123.7947 383.3737,-63.5993 361.7621,-34.4803\"/>\n</g>\n</g>\n</svg>\n"
          },
          "metadata": {}
        },
        {
          "output_type": "stream",
          "name": "stdout",
          "text": [
            "graph\n"
          ]
        },
        {
          "output_type": "display_data",
          "data": {
            "text/plain": [
              "<graphviz.dot.Graph at 0x7fda1803fbd0>"
            ],
            "image/svg+xml": "<?xml version=\"1.0\" encoding=\"UTF-8\" standalone=\"no\"?>\n<!DOCTYPE svg PUBLIC \"-//W3C//DTD SVG 1.1//EN\"\n \"http://www.w3.org/Graphics/SVG/1.1/DTD/svg11.dtd\">\n<!-- Generated by graphviz version 2.40.1 (20161225.0304)\n -->\n<!-- Title: %3 Pages: 1 -->\n<svg width=\"428pt\" height=\"190pt\"\n viewBox=\"0.00 0.00 428.47 190.35\" xmlns=\"http://www.w3.org/2000/svg\" xmlns:xlink=\"http://www.w3.org/1999/xlink\">\n<g id=\"graph0\" class=\"graph\" transform=\"scale(1 1) rotate(0) translate(4 186.3476)\">\n<title>%3</title>\n<polygon fill=\"#ffffff\" stroke=\"transparent\" points=\"-4,4 -4,-186.3476 424.4707,-186.3476 424.4707,4 -4,4\"/>\n<!-- 5 -->\n<g id=\"node1\" class=\"node\">\n<title>5</title>\n<ellipse fill=\"none\" stroke=\"#000000\" cx=\"29.191\" cy=\"-164.3476\" rx=\"27\" ry=\"18\"/>\n<text text-anchor=\"middle\" x=\"29.191\" y=\"-160.6476\" font-family=\"Times,serif\" font-size=\"14.00\" fill=\"#000000\">5</text>\n</g>\n<!-- 3 -->\n<g id=\"node2\" class=\"node\">\n<title>3</title>\n<ellipse fill=\"none\" stroke=\"#000000\" cx=\"27\" cy=\"-18\" rx=\"27\" ry=\"18\"/>\n<text text-anchor=\"middle\" x=\"27\" y=\"-14.3\" font-family=\"Times,serif\" font-size=\"14.00\" fill=\"#000000\">3</text>\n</g>\n<!-- 5&#45;&#45;3 -->\n<g id=\"edge1\" class=\"edge\">\n<title>5&#45;&#45;3</title>\n<path fill=\"none\" stroke=\"#000000\" d=\"M28.9179,-146.1085C28.4958,-117.9112 27.6897,-64.0664 27.2696,-36.0092\"/>\n</g>\n<!-- 1 -->\n<g id=\"node3\" class=\"node\">\n<title>1</title>\n<ellipse fill=\"none\" stroke=\"#000000\" cx=\"209.2686\" cy=\"-90.0529\" rx=\"27\" ry=\"18\"/>\n<text text-anchor=\"middle\" x=\"209.2686\" y=\"-86.3529\" font-family=\"Times,serif\" font-size=\"14.00\" fill=\"#000000\">1</text>\n</g>\n<!-- 5&#45;&#45;1 -->\n<g id=\"edge2\" class=\"edge\">\n<title>5&#45;&#45;1</title>\n<path fill=\"none\" stroke=\"#000000\" d=\"M52.3643,-154.787C86.9415,-140.5214 151.6587,-113.821 186.1842,-99.5768\"/>\n</g>\n<!-- 3&#45;&#45;1 -->\n<g id=\"edge5\" class=\"edge\">\n<title>3&#45;&#45;1</title>\n<path fill=\"none\" stroke=\"#000000\" d=\"M50.4553,-27.2721C85.4532,-41.1072 150.9578,-67.002 185.9033,-80.8163\"/>\n</g>\n<!-- 4 -->\n<g id=\"node4\" class=\"node\">\n<title>4</title>\n<ellipse fill=\"none\" stroke=\"#000000\" cx=\"393.4707\" cy=\"-18.5923\" rx=\"27\" ry=\"18\"/>\n<text text-anchor=\"middle\" x=\"393.4707\" y=\"-14.8923\" font-family=\"Times,serif\" font-size=\"14.00\" fill=\"#000000\">4</text>\n</g>\n<!-- 4&#45;&#45;1 -->\n<g id=\"edge4\" class=\"edge\">\n<title>4&#45;&#45;1</title>\n<path fill=\"none\" stroke=\"#000000\" d=\"M369.7666,-27.7882C334.3974,-41.5096 268.1979,-67.1914 232.8817,-80.8923\"/>\n</g>\n<!-- 2 -->\n<g id=\"node5\" class=\"node\">\n<title>2</title>\n<ellipse fill=\"none\" stroke=\"#000000\" cx=\"391.3622\" cy=\"-163.7102\" rx=\"27\" ry=\"18\"/>\n<text text-anchor=\"middle\" x=\"391.3622\" y=\"-160.0102\" font-family=\"Times,serif\" font-size=\"14.00\" fill=\"#000000\">2</text>\n</g>\n<!-- 4&#45;&#45;2 -->\n<g id=\"edge3\" class=\"edge\">\n<title>4&#45;&#45;2</title>\n<path fill=\"none\" stroke=\"#000000\" d=\"M393.2079,-36.6782C392.8039,-64.4866 392.0343,-117.4513 391.6283,-145.3965\"/>\n</g>\n<!-- 2&#45;&#45;1 -->\n<g id=\"edge6\" class=\"edge\">\n<title>2&#45;&#45;1</title>\n<path fill=\"none\" stroke=\"#000000\" d=\"M376.4191,-148.5108C345.61,-129.1865 275.2104,-100.3781 236.2556,-90.8199\"/>\n</g>\n<!-- 2&#45;&#45;1 -->\n<g id=\"edge7\" class=\"edge\">\n<title>2&#45;&#45;1</title>\n<path fill=\"none\" stroke=\"#000000\" d=\"M364.0083,-162.8529C325.0521,-153.2225 255.183,-124.6221 224.3823,-105.3592\"/>\n</g>\n<!-- 2&#45;&#45;1 -->\n<g id=\"edge8\" class=\"edge\">\n<title>2&#45;&#45;1</title>\n<path fill=\"none\" stroke=\"#000000\" d=\"M367.9294,-154.2316C332.9651,-140.0885 267.5234,-113.6171 232.6114,-99.4951\"/>\n</g>\n</g>\n</svg>\n"
          },
          "metadata": {}
        },
        {
          "output_type": "stream",
          "name": "stdout",
          "text": [
            "graph\n"
          ]
        },
        {
          "output_type": "display_data",
          "data": {
            "text/plain": [
              "<graphviz.dot.Graph at 0x7fda17eda910>"
            ],
            "image/svg+xml": "<?xml version=\"1.0\" encoding=\"UTF-8\" standalone=\"no\"?>\n<!DOCTYPE svg PUBLIC \"-//W3C//DTD SVG 1.1//EN\"\n \"http://www.w3.org/Graphics/SVG/1.1/DTD/svg11.dtd\">\n<!-- Generated by graphviz version 2.40.1 (20161225.0304)\n -->\n<!-- Title: %3 Pages: 1 -->\n<svg width=\"595pt\" height=\"229pt\"\n viewBox=\"0.00 0.00 595.36 228.93\" xmlns=\"http://www.w3.org/2000/svg\" xmlns:xlink=\"http://www.w3.org/1999/xlink\">\n<g id=\"graph0\" class=\"graph\" transform=\"scale(1 1) rotate(0) translate(4 224.9336)\">\n<title>%3</title>\n<polygon fill=\"#ffffff\" stroke=\"transparent\" points=\"-4,4 -4,-224.9336 591.3625,-224.9336 591.3625,4 -4,4\"/>\n<!-- 6 -->\n<g id=\"node1\" class=\"node\">\n<title>6</title>\n<ellipse fill=\"none\" stroke=\"#000000\" cx=\"560.3625\" cy=\"-133.2201\" rx=\"27\" ry=\"18\"/>\n<text text-anchor=\"middle\" x=\"560.3625\" y=\"-129.5201\" font-family=\"Times,serif\" font-size=\"14.00\" fill=\"#000000\">6</text>\n</g>\n<!-- 5 -->\n<g id=\"node2\" class=\"node\">\n<title>5</title>\n<ellipse fill=\"none\" stroke=\"#000000\" cx=\"537.6455\" cy=\"-18\" rx=\"27\" ry=\"18\"/>\n<text text-anchor=\"middle\" x=\"537.6455\" y=\"-14.3\" font-family=\"Times,serif\" font-size=\"14.00\" fill=\"#000000\">5</text>\n</g>\n<!-- 6&#45;&#45;5 -->\n<g id=\"edge1\" class=\"edge\">\n<title>6&#45;&#45;5</title>\n<path fill=\"none\" stroke=\"#000000\" d=\"M556.8129,-115.2169C552.5452,-93.571 545.4267,-57.4662 541.1701,-35.8767\"/>\n</g>\n<!-- 2 -->\n<g id=\"node3\" class=\"node\">\n<title>2</title>\n<ellipse fill=\"none\" stroke=\"#000000\" cx=\"393.2385\" cy=\"-105.082\" rx=\"27\" ry=\"18\"/>\n<text text-anchor=\"middle\" x=\"393.2385\" y=\"-101.382\" font-family=\"Times,serif\" font-size=\"14.00\" fill=\"#000000\">2</text>\n</g>\n<!-- 6&#45;&#45;2 -->\n<g id=\"edge2\" class=\"edge\">\n<title>6&#45;&#45;2</title>\n<path fill=\"none\" stroke=\"#000000\" d=\"M533.8812,-128.7615C502.5876,-123.4927 450.8353,-114.7794 419.5959,-109.5197\"/>\n</g>\n<!-- 5&#45;&#45;2 -->\n<g id=\"edge3\" class=\"edge\">\n<title>5&#45;&#45;2</title>\n<path fill=\"none\" stroke=\"#000000\" d=\"M517.5663,-30.1084C490.1319,-46.6522 441.2002,-76.1596 413.6127,-92.7958\"/>\n</g>\n<!-- 1 -->\n<g id=\"node5\" class=\"node\">\n<title>1</title>\n<ellipse fill=\"none\" stroke=\"#000000\" cx=\"197.5906\" cy=\"-95.1187\" rx=\"27\" ry=\"18\"/>\n<text text-anchor=\"middle\" x=\"197.5906\" y=\"-91.4187\" font-family=\"Times,serif\" font-size=\"14.00\" fill=\"#000000\">1</text>\n</g>\n<!-- 2&#45;&#45;1 -->\n<g id=\"edge8\" class=\"edge\">\n<title>2&#45;&#45;1</title>\n<path fill=\"none\" stroke=\"#000000\" d=\"M366.0345,-103.6967C328.6554,-101.7932 261.8208,-98.3896 224.5635,-96.4923\"/>\n</g>\n<!-- 4 -->\n<g id=\"node4\" class=\"node\">\n<title>4</title>\n<ellipse fill=\"none\" stroke=\"#000000\" cx=\"276.7253\" cy=\"-202.9336\" rx=\"27\" ry=\"18\"/>\n<text text-anchor=\"middle\" x=\"276.7253\" y=\"-199.2336\" font-family=\"Times,serif\" font-size=\"14.00\" fill=\"#000000\">4</text>\n</g>\n<!-- 4&#45;&#45;2 -->\n<g id=\"edge4\" class=\"edge\">\n<title>4&#45;&#45;2</title>\n<path fill=\"none\" stroke=\"#000000\" d=\"M293.9172,-188.4953C316.0725,-169.8885 354.3503,-137.7416 376.3548,-119.2615\"/>\n</g>\n<!-- 4&#45;&#45;1 -->\n<g id=\"edge5\" class=\"edge\">\n<title>4&#45;&#45;1</title>\n<path fill=\"none\" stroke=\"#000000\" d=\"M264.7064,-186.5589C249.7462,-166.1767 224.3552,-131.5834 209.4633,-111.2943\"/>\n</g>\n<!-- 3 -->\n<g id=\"node6\" class=\"node\">\n<title>3</title>\n<ellipse fill=\"none\" stroke=\"#000000\" cx=\"27\" cy=\"-54.0989\" rx=\"27\" ry=\"18\"/>\n<text text-anchor=\"middle\" x=\"27\" y=\"-50.3989\" font-family=\"Times,serif\" font-size=\"14.00\" fill=\"#000000\">3</text>\n</g>\n<!-- 3&#45;&#45;1 -->\n<g id=\"edge6\" class=\"edge\">\n<title>3&#45;&#45;1</title>\n<path fill=\"none\" stroke=\"#000000\" d=\"M49.2361,-64.3999C80.4039,-74.4788 136.9929,-88.151 170.5546,-93.7666\"/>\n</g>\n<!-- 3&#45;&#45;1 -->\n<g id=\"edge7\" class=\"edge\">\n<title>3&#45;&#45;1</title>\n<path fill=\"none\" stroke=\"#000000\" d=\"M54.0802,-55.4584C87.6326,-61.0761 144.1507,-74.7312 175.3135,-84.8045\"/>\n</g>\n</g>\n</svg>\n"
          },
          "metadata": {}
        },
        {
          "output_type": "stream",
          "name": "stdout",
          "text": [
            "graph\n"
          ]
        },
        {
          "output_type": "display_data",
          "data": {
            "text/plain": [
              "<graphviz.dot.Graph at 0x7fda1803fa10>"
            ],
            "image/svg+xml": "<?xml version=\"1.0\" encoding=\"UTF-8\" standalone=\"no\"?>\n<!DOCTYPE svg PUBLIC \"-//W3C//DTD SVG 1.1//EN\"\n \"http://www.w3.org/Graphics/SVG/1.1/DTD/svg11.dtd\">\n<!-- Generated by graphviz version 2.40.1 (20161225.0304)\n -->\n<!-- Title: %3 Pages: 1 -->\n<svg width=\"491pt\" height=\"406pt\"\n viewBox=\"0.00 0.00 491.15 406.39\" xmlns=\"http://www.w3.org/2000/svg\" xmlns:xlink=\"http://www.w3.org/1999/xlink\">\n<g id=\"graph0\" class=\"graph\" transform=\"scale(1 1) rotate(0) translate(4 402.3919)\">\n<title>%3</title>\n<polygon fill=\"#ffffff\" stroke=\"transparent\" points=\"-4,4 -4,-402.3919 487.1479,-402.3919 487.1479,4 -4,4\"/>\n<!-- 6 -->\n<g id=\"node1\" class=\"node\">\n<title>6</title>\n<ellipse fill=\"none\" stroke=\"#000000\" cx=\"409.6638\" cy=\"-380.3919\" rx=\"27\" ry=\"18\"/>\n<text text-anchor=\"middle\" x=\"409.6638\" y=\"-376.6919\" font-family=\"Times,serif\" font-size=\"14.00\" fill=\"#000000\">6</text>\n</g>\n<!-- 4 -->\n<g id=\"node2\" class=\"node\">\n<title>4</title>\n<ellipse fill=\"none\" stroke=\"#000000\" cx=\"456.1479\" cy=\"-244.914\" rx=\"27\" ry=\"18\"/>\n<text text-anchor=\"middle\" x=\"456.1479\" y=\"-241.214\" font-family=\"Times,serif\" font-size=\"14.00\" fill=\"#000000\">4</text>\n</g>\n<!-- 6&#45;&#45;4 -->\n<g id=\"edge1\" class=\"edge\">\n<title>6&#45;&#45;4</title>\n<path fill=\"none\" stroke=\"#000000\" d=\"M415.7408,-362.6805C424.6495,-336.7163 441.16,-288.5964 450.0694,-262.6297\"/>\n</g>\n<!-- 1 -->\n<g id=\"node3\" class=\"node\">\n<title>1</title>\n<ellipse fill=\"none\" stroke=\"#000000\" cx=\"241.6439\" cy=\"-246.1872\" rx=\"27\" ry=\"18\"/>\n<text text-anchor=\"middle\" x=\"241.6439\" y=\"-242.4872\" font-family=\"Times,serif\" font-size=\"14.00\" fill=\"#000000\">1</text>\n</g>\n<!-- 6&#45;&#45;1 -->\n<g id=\"edge2\" class=\"edge\">\n<title>6&#45;&#45;1</title>\n<path fill=\"none\" stroke=\"#000000\" d=\"M392.3156,-366.5351C360.119,-340.8183 291.4645,-285.981 259.1495,-260.1697\"/>\n</g>\n<!-- 4&#45;&#45;1 -->\n<g id=\"edge5\" class=\"edge\">\n<title>4&#45;&#45;1</title>\n<path fill=\"none\" stroke=\"#000000\" d=\"M428.9808,-245.0753C387.8328,-245.3195 310.1458,-245.7806 268.9284,-246.0253\"/>\n</g>\n<!-- 5 -->\n<g id=\"node4\" class=\"node\">\n<title>5</title>\n<ellipse fill=\"none\" stroke=\"#000000\" cx=\"27\" cy=\"-244.4352\" rx=\"27\" ry=\"18\"/>\n<text text-anchor=\"middle\" x=\"27\" y=\"-240.7352\" font-family=\"Times,serif\" font-size=\"14.00\" fill=\"#000000\">5</text>\n</g>\n<!-- 5&#45;&#45;1 -->\n<g id=\"edge4\" class=\"edge\">\n<title>5&#45;&#45;1</title>\n<path fill=\"none\" stroke=\"#000000\" d=\"M54.1848,-244.6571C95.3597,-244.9932 173.0974,-245.6277 214.3417,-245.9644\"/>\n</g>\n<!-- 3 -->\n<g id=\"node5\" class=\"node\">\n<title>3</title>\n<ellipse fill=\"none\" stroke=\"#000000\" cx=\"73.254\" cy=\"-380.0963\" rx=\"27\" ry=\"18\"/>\n<text text-anchor=\"middle\" x=\"73.254\" y=\"-376.3963\" font-family=\"Times,serif\" font-size=\"14.00\" fill=\"#000000\">3</text>\n</g>\n<!-- 5&#45;&#45;3 -->\n<g id=\"edge3\" class=\"edge\">\n<title>5&#45;&#45;3</title>\n<path fill=\"none\" stroke=\"#000000\" d=\"M33.0469,-262.1705C41.9114,-288.1699 58.3402,-336.3548 67.2056,-362.3566\"/>\n</g>\n<!-- 3&#45;&#45;1 -->\n<g id=\"edge6\" class=\"edge\">\n<title>3&#45;&#45;1</title>\n<path fill=\"none\" stroke=\"#000000\" d=\"M90.6404,-366.27C122.9079,-340.6099 191.7136,-285.8934 224.0998,-260.1389\"/>\n</g>\n<!-- 2 -->\n<g id=\"node6\" class=\"node\">\n<title>2</title>\n<ellipse fill=\"none\" stroke=\"#000000\" cx=\"242.0971\" cy=\"-18\" rx=\"27\" ry=\"18\"/>\n<text text-anchor=\"middle\" x=\"242.0971\" y=\"-14.3\" font-family=\"Times,serif\" font-size=\"14.00\" fill=\"#000000\">2</text>\n</g>\n<!-- 2&#45;&#45;1 -->\n<g id=\"edge7\" class=\"edge\">\n<title>2&#45;&#45;1</title>\n<path fill=\"none\" stroke=\"#000000\" d=\"M238.2185,-35.8978C234.2553,-78.5463 234.0449,-185.7775 237.8439,-228.3573\"/>\n</g>\n<!-- 2&#45;&#45;1 -->\n<g id=\"edge8\" class=\"edge\">\n<title>2&#45;&#45;1</title>\n<path fill=\"none\" stroke=\"#000000\" d=\"M245.9046,-35.9131C249.6983,-78.577 249.4828,-185.8082 245.5148,-228.3725\"/>\n</g>\n</g>\n</svg>\n"
          },
          "metadata": {}
        },
        {
          "output_type": "stream",
          "name": "stdout",
          "text": [
            "graph\n"
          ]
        },
        {
          "output_type": "display_data",
          "data": {
            "text/plain": [
              "<graphviz.dot.Graph at 0x7fda17e37a50>"
            ],
            "image/svg+xml": "<?xml version=\"1.0\" encoding=\"UTF-8\" standalone=\"no\"?>\n<!DOCTYPE svg PUBLIC \"-//W3C//DTD SVG 1.1//EN\"\n \"http://www.w3.org/Graphics/SVG/1.1/DTD/svg11.dtd\">\n<!-- Generated by graphviz version 2.40.1 (20161225.0304)\n -->\n<!-- Title: %3 Pages: 1 -->\n<svg width=\"516pt\" height=\"236pt\"\n viewBox=\"0.00 0.00 515.62 236.00\" xmlns=\"http://www.w3.org/2000/svg\" xmlns:xlink=\"http://www.w3.org/1999/xlink\">\n<g id=\"graph0\" class=\"graph\" transform=\"scale(1 1) rotate(0) translate(4 232)\">\n<title>%3</title>\n<polygon fill=\"#ffffff\" stroke=\"transparent\" points=\"-4,4 -4,-232 511.6186,-232 511.6186,4 -4,4\"/>\n<!-- 7 -->\n<g id=\"node1\" class=\"node\">\n<title>7</title>\n<ellipse fill=\"none\" stroke=\"#000000\" cx=\"29.191\" cy=\"-164.3476\" rx=\"27\" ry=\"18\"/>\n<text text-anchor=\"middle\" x=\"29.191\" y=\"-160.6476\" font-family=\"Times,serif\" font-size=\"14.00\" fill=\"#000000\">7</text>\n</g>\n<!-- 5 -->\n<g id=\"node2\" class=\"node\">\n<title>5</title>\n<ellipse fill=\"none\" stroke=\"#000000\" cx=\"27\" cy=\"-18\" rx=\"27\" ry=\"18\"/>\n<text text-anchor=\"middle\" x=\"27\" y=\"-14.3\" font-family=\"Times,serif\" font-size=\"14.00\" fill=\"#000000\">5</text>\n</g>\n<!-- 7&#45;&#45;5 -->\n<g id=\"edge1\" class=\"edge\">\n<title>7&#45;&#45;5</title>\n<path fill=\"none\" stroke=\"#000000\" d=\"M28.9179,-146.1085C28.4958,-117.9112 27.6897,-64.0664 27.2696,-36.0092\"/>\n</g>\n<!-- 3 -->\n<g id=\"node3\" class=\"node\">\n<title>3</title>\n<ellipse fill=\"none\" stroke=\"#000000\" cx=\"209.2686\" cy=\"-90.0529\" rx=\"27\" ry=\"18\"/>\n<text text-anchor=\"middle\" x=\"209.2686\" y=\"-86.3529\" font-family=\"Times,serif\" font-size=\"14.00\" fill=\"#000000\">3</text>\n</g>\n<!-- 7&#45;&#45;3 -->\n<g id=\"edge2\" class=\"edge\">\n<title>7&#45;&#45;3</title>\n<path fill=\"none\" stroke=\"#000000\" d=\"M52.3643,-154.787C86.9415,-140.5214 151.6587,-113.821 186.1842,-99.5768\"/>\n</g>\n<!-- 5&#45;&#45;3 -->\n<g id=\"edge5\" class=\"edge\">\n<title>5&#45;&#45;3</title>\n<path fill=\"none\" stroke=\"#000000\" d=\"M50.4553,-27.2721C85.4532,-41.1072 150.9578,-67.002 185.9033,-80.8163\"/>\n</g>\n<!-- 6 -->\n<g id=\"node4\" class=\"node\">\n<title>6</title>\n<ellipse fill=\"none\" stroke=\"#000000\" cx=\"393.4707\" cy=\"-18.5923\" rx=\"27\" ry=\"18\"/>\n<text text-anchor=\"middle\" x=\"393.4707\" y=\"-14.8923\" font-family=\"Times,serif\" font-size=\"14.00\" fill=\"#000000\">6</text>\n</g>\n<!-- 6&#45;&#45;3 -->\n<g id=\"edge4\" class=\"edge\">\n<title>6&#45;&#45;3</title>\n<path fill=\"none\" stroke=\"#000000\" d=\"M369.7666,-27.7882C334.3974,-41.5096 268.1979,-67.1914 232.8817,-80.8923\"/>\n</g>\n<!-- 4 -->\n<g id=\"node5\" class=\"node\">\n<title>4</title>\n<ellipse fill=\"none\" stroke=\"#000000\" cx=\"391.3622\" cy=\"-163.7102\" rx=\"27\" ry=\"18\"/>\n<text text-anchor=\"middle\" x=\"391.3622\" y=\"-160.0102\" font-family=\"Times,serif\" font-size=\"14.00\" fill=\"#000000\">4</text>\n</g>\n<!-- 6&#45;&#45;4 -->\n<g id=\"edge3\" class=\"edge\">\n<title>6&#45;&#45;4</title>\n<path fill=\"none\" stroke=\"#000000\" d=\"M393.2079,-36.6782C392.8039,-64.4866 392.0343,-117.4513 391.6283,-145.3965\"/>\n</g>\n<!-- 4&#45;&#45;3 -->\n<g id=\"edge6\" class=\"edge\">\n<title>4&#45;&#45;3</title>\n<path fill=\"none\" stroke=\"#000000\" d=\"M367.9294,-154.2316C332.9651,-140.0885 267.5234,-113.6171 232.6114,-99.4951\"/>\n</g>\n<!-- 2 -->\n<g id=\"node6\" class=\"node\">\n<title>2</title>\n<ellipse fill=\"none\" stroke=\"#000000\" cx=\"480.6186\" cy=\"-210\" rx=\"27\" ry=\"18\"/>\n<text text-anchor=\"middle\" x=\"480.6186\" y=\"-206.3\" font-family=\"Times,serif\" font-size=\"14.00\" fill=\"#000000\">2</text>\n</g>\n<!-- 1 -->\n<g id=\"node7\" class=\"node\">\n<title>1</title>\n<ellipse fill=\"none\" stroke=\"#000000\" cx=\"291\" cy=\"-210\" rx=\"27\" ry=\"18\"/>\n<text text-anchor=\"middle\" x=\"291\" y=\"-206.3\" font-family=\"Times,serif\" font-size=\"14.00\" fill=\"#000000\">1</text>\n</g>\n<!-- 2&#45;&#45;1 -->\n<g id=\"edge7\" class=\"edge\">\n<title>2&#45;&#45;1</title>\n<path fill=\"none\" stroke=\"#000000\" d=\"M454.2529,-205.155C418.0257,-202.6097 353.2508,-202.615 317.1417,-205.1708\"/>\n</g>\n<!-- 2&#45;&#45;1 -->\n<g id=\"edge8\" class=\"edge\">\n<title>2&#45;&#45;1</title>\n<path fill=\"none\" stroke=\"#000000\" d=\"M454.2529,-214.845C418.0257,-217.3903 353.2508,-217.385 317.1417,-214.8292\"/>\n</g>\n</g>\n</svg>\n"
          },
          "metadata": {}
        },
        {
          "output_type": "stream",
          "name": "stdout",
          "text": [
            "graph\n"
          ]
        },
        {
          "output_type": "display_data",
          "data": {
            "text/plain": [
              "<graphviz.dot.Graph at 0x7fda17ffc590>"
            ],
            "image/svg+xml": "<?xml version=\"1.0\" encoding=\"UTF-8\" standalone=\"no\"?>\n<!DOCTYPE svg PUBLIC \"-//W3C//DTD SVG 1.1//EN\"\n \"http://www.w3.org/Graphics/SVG/1.1/DTD/svg11.dtd\">\n<!-- Generated by graphviz version 2.40.1 (20161225.0304)\n -->\n<!-- Title: %3 Pages: 1 -->\n<svg width=\"516pt\" height=\"270pt\"\n viewBox=\"0.00 0.00 515.62 269.60\" xmlns=\"http://www.w3.org/2000/svg\" xmlns:xlink=\"http://www.w3.org/1999/xlink\">\n<g id=\"graph0\" class=\"graph\" transform=\"scale(1 1) rotate(0) translate(4 265.5952)\">\n<title>%3</title>\n<polygon fill=\"#ffffff\" stroke=\"transparent\" points=\"-4,4 -4,-265.5952 511.6186,-265.5952 511.6186,4 -4,4\"/>\n<!-- 5 -->\n<g id=\"node1\" class=\"node\">\n<title>5</title>\n<ellipse fill=\"none\" stroke=\"#000000\" cx=\"272.3207\" cy=\"-243.5952\" rx=\"27\" ry=\"18\"/>\n<text text-anchor=\"middle\" x=\"272.3207\" y=\"-239.8952\" font-family=\"Times,serif\" font-size=\"14.00\" fill=\"#000000\">5</text>\n</g>\n<!-- 4 -->\n<g id=\"node2\" class=\"node\">\n<title>4</title>\n<ellipse fill=\"none\" stroke=\"#000000\" cx=\"27\" cy=\"-214.2036\" rx=\"27\" ry=\"18\"/>\n<text text-anchor=\"middle\" x=\"27\" y=\"-210.5036\" font-family=\"Times,serif\" font-size=\"14.00\" fill=\"#000000\">4</text>\n</g>\n<!-- 5&#45;&#45;4 -->\n<g id=\"edge1\" class=\"edge\">\n<title>5&#45;&#45;4</title>\n<path fill=\"none\" stroke=\"#000000\" d=\"M247.5034,-236.2837C201.2452,-227.4923 102.2043,-215.5957 54.1981,-213.0321\"/>\n</g>\n<!-- 5&#45;&#45;4 -->\n<g id=\"edge2\" class=\"edge\">\n<title>5&#45;&#45;4</title>\n<path fill=\"none\" stroke=\"#000000\" d=\"M245.0765,-244.7641C197.0137,-242.1933 97.8983,-230.2841 51.7036,-221.4934\"/>\n</g>\n<!-- 3 -->\n<g id=\"node3\" class=\"node\">\n<title>3</title>\n<ellipse fill=\"none\" stroke=\"#000000\" cx=\"175.3019\" cy=\"-18\" rx=\"27\" ry=\"18\"/>\n<text text-anchor=\"middle\" x=\"175.3019\" y=\"-14.3\" font-family=\"Times,serif\" font-size=\"14.00\" fill=\"#000000\">3</text>\n</g>\n<!-- 5&#45;&#45;3 -->\n<g id=\"edge3\" class=\"edge\">\n<title>5&#45;&#45;3</title>\n<path fill=\"none\" stroke=\"#000000\" d=\"M268.6208,-225.5297C254.5412,-182.7523 208.6602,-75.9421 186.6855,-34.6348\"/>\n</g>\n<!-- 5&#45;&#45;3 -->\n<g id=\"edge4\" class=\"edge\">\n<title>5&#45;&#45;3</title>\n<path fill=\"none\" stroke=\"#000000\" d=\"M260.9831,-227.047C239.0328,-185.8143 193.1173,-78.9334 179.0137,-36.1018\"/>\n</g>\n<!-- 4&#45;&#45;3 -->\n<g id=\"edge5\" class=\"edge\">\n<title>4&#45;&#45;3</title>\n<path fill=\"none\" stroke=\"#000000\" d=\"M43.1031,-199.5551C74.6808,-163.9449 142.9993,-73.4411 167.0043,-35.2788\"/>\n</g>\n<!-- 4&#45;&#45;3 -->\n<g id=\"edge6\" class=\"edge\">\n<title>4&#45;&#45;3</title>\n<path fill=\"none\" stroke=\"#000000\" d=\"M35.3527,-196.8372C59.4092,-158.6206 127.6581,-68.2144 159.2076,-32.6384\"/>\n</g>\n<!-- 2 -->\n<g id=\"node4\" class=\"node\">\n<title>2</title>\n<ellipse fill=\"none\" stroke=\"#000000\" cx=\"480.6186\" cy=\"-66\" rx=\"27\" ry=\"18\"/>\n<text text-anchor=\"middle\" x=\"480.6186\" y=\"-62.3\" font-family=\"Times,serif\" font-size=\"14.00\" fill=\"#000000\">2</text>\n</g>\n<!-- 1 -->\n<g id=\"node5\" class=\"node\">\n<title>1</title>\n<ellipse fill=\"none\" stroke=\"#000000\" cx=\"291\" cy=\"-66\" rx=\"27\" ry=\"18\"/>\n<text text-anchor=\"middle\" x=\"291\" y=\"-62.3\" font-family=\"Times,serif\" font-size=\"14.00\" fill=\"#000000\">1</text>\n</g>\n<!-- 2&#45;&#45;1 -->\n<g id=\"edge7\" class=\"edge\">\n<title>2&#45;&#45;1</title>\n<path fill=\"none\" stroke=\"#000000\" d=\"M454.2529,-61.155C418.0257,-58.6097 353.2508,-58.615 317.1417,-61.1708\"/>\n</g>\n<!-- 2&#45;&#45;1 -->\n<g id=\"edge8\" class=\"edge\">\n<title>2&#45;&#45;1</title>\n<path fill=\"none\" stroke=\"#000000\" d=\"M454.2529,-70.845C418.0257,-73.3903 353.2508,-73.385 317.1417,-70.8292\"/>\n</g>\n</g>\n</svg>\n"
          },
          "metadata": {}
        },
        {
          "output_type": "stream",
          "name": "stdout",
          "text": [
            "graph\n"
          ]
        },
        {
          "output_type": "display_data",
          "data": {
            "text/plain": [
              "<graphviz.dot.Graph at 0x7fda1803fe10>"
            ],
            "image/svg+xml": "<?xml version=\"1.0\" encoding=\"UTF-8\" standalone=\"no\"?>\n<!DOCTYPE svg PUBLIC \"-//W3C//DTD SVG 1.1//EN\"\n \"http://www.w3.org/Graphics/SVG/1.1/DTD/svg11.dtd\">\n<!-- Generated by graphviz version 2.40.1 (20161225.0304)\n -->\n<!-- Title: %3 Pages: 1 -->\n<svg width=\"576pt\" height=\"228pt\"\n viewBox=\"0.00 0.00 575.62 227.88\" xmlns=\"http://www.w3.org/2000/svg\" xmlns:xlink=\"http://www.w3.org/1999/xlink\">\n<g id=\"graph0\" class=\"graph\" transform=\"scale(1 1) rotate(0) translate(4 223.8837)\">\n<title>%3</title>\n<polygon fill=\"#ffffff\" stroke=\"transparent\" points=\"-4,4 -4,-223.8837 571.6186,-223.8837 571.6186,4 -4,4\"/>\n<!-- 6 -->\n<g id=\"node1\" class=\"node\">\n<title>6</title>\n<ellipse fill=\"none\" stroke=\"#000000\" cx=\"421.3583\" cy=\"-111.9638\" rx=\"27\" ry=\"18\"/>\n<text text-anchor=\"middle\" x=\"421.3583\" y=\"-108.2638\" font-family=\"Times,serif\" font-size=\"14.00\" fill=\"#000000\">6</text>\n</g>\n<!-- 4 -->\n<g id=\"node2\" class=\"node\">\n<title>4</title>\n<ellipse fill=\"none\" stroke=\"#000000\" cx=\"225.6885\" cy=\"-18\" rx=\"27\" ry=\"18\"/>\n<text text-anchor=\"middle\" x=\"225.6885\" y=\"-14.3\" font-family=\"Times,serif\" font-size=\"14.00\" fill=\"#000000\">4</text>\n</g>\n<!-- 6&#45;&#45;4 -->\n<g id=\"edge1\" class=\"edge\">\n<title>6&#45;&#45;4</title>\n<path fill=\"none\" stroke=\"#000000\" d=\"M399.2929,-101.3676C361.613,-83.2731 285.298,-46.6254 247.6733,-28.5575\"/>\n</g>\n<!-- 3 -->\n<g id=\"node3\" class=\"node\">\n<title>3</title>\n<ellipse fill=\"none\" stroke=\"#000000\" cx=\"226.356\" cy=\"-201.8837\" rx=\"27\" ry=\"18\"/>\n<text text-anchor=\"middle\" x=\"226.356\" y=\"-198.1837\" font-family=\"Times,serif\" font-size=\"14.00\" fill=\"#000000\">3</text>\n</g>\n<!-- 6&#45;&#45;3 -->\n<g id=\"edge2\" class=\"edge\">\n<title>6&#45;&#45;3</title>\n<path fill=\"none\" stroke=\"#000000\" d=\"M398.9891,-122.2787C361.4738,-139.5778 286.3049,-174.2399 248.7639,-191.5509\"/>\n</g>\n<!-- 4&#45;&#45;3 -->\n<g id=\"edge5\" class=\"edge\">\n<title>4&#45;&#45;3</title>\n<path fill=\"none\" stroke=\"#000000\" d=\"M221.5425,-35.9816C218.2874,-71.1482 218.5665,-148.6592 222.0723,-183.8597\"/>\n</g>\n<!-- 4&#45;&#45;3 -->\n<g id=\"edge6\" class=\"edge\">\n<title>4&#45;&#45;3</title>\n<path fill=\"none\" stroke=\"#000000\" d=\"M229.9649,-35.9511C233.4752,-71.0931 233.7589,-148.6041 230.5087,-183.8291\"/>\n</g>\n<!-- 5 -->\n<g id=\"node4\" class=\"node\">\n<title>5</title>\n<ellipse fill=\"none\" stroke=\"#000000\" cx=\"27\" cy=\"-112.2548\" rx=\"27\" ry=\"18\"/>\n<text text-anchor=\"middle\" x=\"27\" y=\"-108.5548\" font-family=\"Times,serif\" font-size=\"14.00\" fill=\"#000000\">5</text>\n</g>\n<!-- 5&#45;&#45;4 -->\n<g id=\"edge3\" class=\"edge\">\n<title>5&#45;&#45;4</title>\n<path fill=\"none\" stroke=\"#000000\" d=\"M49.0223,-101.8077C87.2143,-83.69 165.307,-46.6441 203.5676,-28.4938\"/>\n</g>\n<!-- 5&#45;&#45;3 -->\n<g id=\"edge4\" class=\"edge\">\n<title>5&#45;&#45;3</title>\n<path fill=\"none\" stroke=\"#000000\" d=\"M49.4811,-122.3621C87.8708,-139.6218 165.6235,-174.5788 203.957,-191.8133\"/>\n</g>\n<!-- 2 -->\n<g id=\"node5\" class=\"node\">\n<title>2</title>\n<ellipse fill=\"none\" stroke=\"#000000\" cx=\"540.6186\" cy=\"-18\" rx=\"27\" ry=\"18\"/>\n<text text-anchor=\"middle\" x=\"540.6186\" y=\"-14.3\" font-family=\"Times,serif\" font-size=\"14.00\" fill=\"#000000\">2</text>\n</g>\n<!-- 1 -->\n<g id=\"node6\" class=\"node\">\n<title>1</title>\n<ellipse fill=\"none\" stroke=\"#000000\" cx=\"351\" cy=\"-18\" rx=\"27\" ry=\"18\"/>\n<text text-anchor=\"middle\" x=\"351\" y=\"-14.3\" font-family=\"Times,serif\" font-size=\"14.00\" fill=\"#000000\">1</text>\n</g>\n<!-- 2&#45;&#45;1 -->\n<g id=\"edge7\" class=\"edge\">\n<title>2&#45;&#45;1</title>\n<path fill=\"none\" stroke=\"#000000\" d=\"M514.2529,-13.155C478.0257,-10.6097 413.2508,-10.615 377.1417,-13.1708\"/>\n</g>\n<!-- 2&#45;&#45;1 -->\n<g id=\"edge8\" class=\"edge\">\n<title>2&#45;&#45;1</title>\n<path fill=\"none\" stroke=\"#000000\" d=\"M514.2529,-22.845C478.0257,-25.3903 413.2508,-25.385 377.1417,-22.8292\"/>\n</g>\n</g>\n</svg>\n"
          },
          "metadata": {}
        },
        {
          "output_type": "stream",
          "name": "stdout",
          "text": [
            "graph\n"
          ]
        },
        {
          "output_type": "display_data",
          "data": {
            "text/plain": [
              "<graphviz.dot.Graph at 0x7fda1803f610>"
            ],
            "image/svg+xml": "<?xml version=\"1.0\" encoding=\"UTF-8\" standalone=\"no\"?>\n<!DOCTYPE svg PUBLIC \"-//W3C//DTD SVG 1.1//EN\"\n \"http://www.w3.org/Graphics/SVG/1.1/DTD/svg11.dtd\">\n<!-- Generated by graphviz version 2.40.1 (20161225.0304)\n -->\n<!-- Title: %3 Pages: 1 -->\n<svg width=\"573pt\" height=\"536pt\"\n viewBox=\"0.00 0.00 573.32 535.60\" xmlns=\"http://www.w3.org/2000/svg\" xmlns:xlink=\"http://www.w3.org/1999/xlink\">\n<g id=\"graph0\" class=\"graph\" transform=\"scale(1 1) rotate(0) translate(4 531.5952)\">\n<title>%3</title>\n<polygon fill=\"#ffffff\" stroke=\"transparent\" points=\"-4,4 -4,-531.5952 569.3207,-531.5952 569.3207,4 -4,4\"/>\n<!-- 8 -->\n<g id=\"node1\" class=\"node\">\n<title>8</title>\n<ellipse fill=\"none\" stroke=\"#000000\" cx=\"369.436\" cy=\"-167.6819\" rx=\"27\" ry=\"18\"/>\n<text text-anchor=\"middle\" x=\"369.436\" y=\"-163.9819\" font-family=\"Times,serif\" font-size=\"14.00\" fill=\"#000000\">8</text>\n</g>\n<!-- 7 -->\n<g id=\"node2\" class=\"node\">\n<title>7</title>\n<ellipse fill=\"none\" stroke=\"#000000\" cx=\"275.8647\" cy=\"-354.2685\" rx=\"27\" ry=\"18\"/>\n<text text-anchor=\"middle\" x=\"275.8647\" y=\"-350.5685\" font-family=\"Times,serif\" font-size=\"14.00\" fill=\"#000000\">7</text>\n</g>\n<!-- 8&#45;&#45;7 -->\n<g id=\"edge1\" class=\"edge\">\n<title>8&#45;&#45;7</title>\n<path fill=\"none\" stroke=\"#000000\" d=\"M360.8007,-184.901C342.975,-220.4466 302.2869,-301.5811 284.4791,-337.091\"/>\n</g>\n<!-- 4 -->\n<g id=\"node3\" class=\"node\">\n<title>4</title>\n<ellipse fill=\"none\" stroke=\"#000000\" cx=\"215.2793\" cy=\"-18\" rx=\"27\" ry=\"18\"/>\n<text text-anchor=\"middle\" x=\"215.2793\" y=\"-14.3\" font-family=\"Times,serif\" font-size=\"14.00\" fill=\"#000000\">4</text>\n</g>\n<!-- 8&#45;&#45;4 -->\n<g id=\"edge2\" class=\"edge\">\n<title>8&#45;&#45;4</title>\n<path fill=\"none\" stroke=\"#000000\" d=\"M354.0913,-152.7826C324.5425,-124.0916 260.0617,-61.4825 230.562,-32.839\"/>\n</g>\n<!-- 6 -->\n<g id=\"node4\" class=\"node\">\n<title>6</title>\n<ellipse fill=\"none\" stroke=\"#000000\" cx=\"67.8202\" cy=\"-327.0774\" rx=\"27\" ry=\"18\"/>\n<text text-anchor=\"middle\" x=\"67.8202\" y=\"-323.3774\" font-family=\"Times,serif\" font-size=\"14.00\" fill=\"#000000\">6</text>\n</g>\n<!-- 7&#45;&#45;6 -->\n<g id=\"edge3\" class=\"edge\">\n<title>7&#45;&#45;6</title>\n<path fill=\"none\" stroke=\"#000000\" d=\"M249.0924,-350.7694C209.1452,-345.5484 134.3772,-335.7763 94.4898,-330.563\"/>\n</g>\n<!-- 5 -->\n<g id=\"node5\" class=\"node\">\n<title>5</title>\n<ellipse fill=\"none\" stroke=\"#000000\" cx=\"27\" cy=\"-122.2798\" rx=\"27\" ry=\"18\"/>\n<text text-anchor=\"middle\" x=\"27\" y=\"-118.5798\" font-family=\"Times,serif\" font-size=\"14.00\" fill=\"#000000\">5</text>\n</g>\n<!-- 6&#45;&#45;5 -->\n<g id=\"edge4\" class=\"edge\">\n<title>6&#45;&#45;5</title>\n<path fill=\"none\" stroke=\"#000000\" d=\"M64.1977,-308.903C56.4514,-270.0391 38.3535,-179.2411 30.6144,-140.4135\"/>\n</g>\n<!-- 5&#45;&#45;4 -->\n<g id=\"edge5\" class=\"edge\">\n<title>5&#45;&#45;4</title>\n<path fill=\"none\" stroke=\"#000000\" d=\"M47.8686,-110.7216C84.0597,-90.6769 158.0612,-49.6907 194.3173,-29.61\"/>\n</g>\n<!-- 3 -->\n<g id=\"node6\" class=\"node\">\n<title>3</title>\n<ellipse fill=\"none\" stroke=\"#000000\" cx=\"538.3207\" cy=\"-509.5952\" rx=\"27\" ry=\"18\"/>\n<text text-anchor=\"middle\" x=\"538.3207\" y=\"-505.8952\" font-family=\"Times,serif\" font-size=\"14.00\" fill=\"#000000\">3</text>\n</g>\n<!-- 2 -->\n<g id=\"node7\" class=\"node\">\n<title>2</title>\n<ellipse fill=\"none\" stroke=\"#000000\" cx=\"293\" cy=\"-480.2036\" rx=\"27\" ry=\"18\"/>\n<text text-anchor=\"middle\" x=\"293\" y=\"-476.5036\" font-family=\"Times,serif\" font-size=\"14.00\" fill=\"#000000\">2</text>\n</g>\n<!-- 3&#45;&#45;2 -->\n<g id=\"edge6\" class=\"edge\">\n<title>3&#45;&#45;2</title>\n<path fill=\"none\" stroke=\"#000000\" d=\"M511.6001,-506.3938C464.4105,-500.7401 366.8538,-489.0519 319.6877,-483.401\"/>\n</g>\n<!-- 1 -->\n<g id=\"node8\" class=\"node\">\n<title>1</title>\n<ellipse fill=\"none\" stroke=\"#000000\" cx=\"441.3019\" cy=\"-284\" rx=\"27\" ry=\"18\"/>\n<text text-anchor=\"middle\" x=\"441.3019\" y=\"-280.3\" font-family=\"Times,serif\" font-size=\"14.00\" fill=\"#000000\">1</text>\n</g>\n<!-- 3&#45;&#45;1 -->\n<g id=\"edge7\" class=\"edge\">\n<title>3&#45;&#45;1</title>\n<path fill=\"none\" stroke=\"#000000\" d=\"M530.8689,-492.2677C512.8097,-450.2752 466.8643,-343.4397 448.7791,-301.3865\"/>\n</g>\n<!-- 2&#45;&#45;1 -->\n<g id=\"edge8\" class=\"edge\">\n<title>2&#45;&#45;1</title>\n<path fill=\"none\" stroke=\"#000000\" d=\"M305.3891,-463.8128C333.3743,-426.7884 401.2002,-337.0546 429.0524,-300.2061\"/>\n</g>\n</g>\n</svg>\n"
          },
          "metadata": {}
        },
        {
          "output_type": "stream",
          "name": "stdout",
          "text": [
            "graph\n"
          ]
        },
        {
          "output_type": "display_data",
          "data": {
            "text/plain": [
              "<graphviz.dot.Graph at 0x7fda1803fc10>"
            ],
            "image/svg+xml": "<?xml version=\"1.0\" encoding=\"UTF-8\" standalone=\"no\"?>\n<!DOCTYPE svg PUBLIC \"-//W3C//DTD SVG 1.1//EN\"\n \"http://www.w3.org/Graphics/SVG/1.1/DTD/svg11.dtd\">\n<!-- Generated by graphviz version 2.40.1 (20161225.0304)\n -->\n<!-- Title: %3 Pages: 1 -->\n<svg width=\"637pt\" height=\"402pt\"\n viewBox=\"0.00 0.00 637.32 401.60\" xmlns=\"http://www.w3.org/2000/svg\" xmlns:xlink=\"http://www.w3.org/1999/xlink\">\n<g id=\"graph0\" class=\"graph\" transform=\"scale(1 1) rotate(0) translate(4 397.5952)\">\n<title>%3</title>\n<polygon fill=\"#ffffff\" stroke=\"transparent\" points=\"-4,4 -4,-397.5952 633.3207,-397.5952 633.3207,4 -4,4\"/>\n<!-- 7 -->\n<g id=\"node1\" class=\"node\">\n<title>7</title>\n<ellipse fill=\"none\" stroke=\"#000000\" cx=\"422.0401\" cy=\"-18\" rx=\"27\" ry=\"18\"/>\n<text text-anchor=\"middle\" x=\"422.0401\" y=\"-14.3\" font-family=\"Times,serif\" font-size=\"14.00\" fill=\"#000000\">7</text>\n</g>\n<!-- 6 -->\n<g id=\"node2\" class=\"node\">\n<title>6</title>\n<ellipse fill=\"none\" stroke=\"#000000\" cx=\"421.7905\" cy=\"-178.8556\" rx=\"27\" ry=\"18\"/>\n<text text-anchor=\"middle\" x=\"421.7905\" y=\"-175.1556\" font-family=\"Times,serif\" font-size=\"14.00\" fill=\"#000000\">6</text>\n</g>\n<!-- 7&#45;&#45;6 -->\n<g id=\"edge1\" class=\"edge\">\n<title>7&#45;&#45;6</title>\n<path fill=\"none\" stroke=\"#000000\" d=\"M422.012,-36.1395C421.964,-67.0331 421.8671,-129.5194 421.8189,-160.5356\"/>\n</g>\n<!-- 5 -->\n<g id=\"node3\" class=\"node\">\n<title>5</title>\n<ellipse fill=\"none\" stroke=\"#000000\" cx=\"242.1\" cy=\"-98.4035\" rx=\"27\" ry=\"18\"/>\n<text text-anchor=\"middle\" x=\"242.1\" y=\"-94.7035\" font-family=\"Times,serif\" font-size=\"14.00\" fill=\"#000000\">5</text>\n</g>\n<!-- 7&#45;&#45;5 -->\n<g id=\"edge2\" class=\"edge\">\n<title>7&#45;&#45;5</title>\n<path fill=\"none\" stroke=\"#000000\" d=\"M399.2506,-28.1832C364.6383,-43.6491 299.2066,-72.8863 264.7045,-88.303\"/>\n</g>\n<!-- 6&#45;&#45;5 -->\n<g id=\"edge3\" class=\"edge\">\n<title>6&#45;&#45;5</title>\n<path fill=\"none\" stroke=\"#000000\" d=\"M399.0326,-168.6663C364.4683,-153.191 299.1273,-123.9361 264.6731,-108.5101\"/>\n</g>\n<!-- 4 -->\n<g id=\"node4\" class=\"node\">\n<title>4</title>\n<ellipse fill=\"none\" stroke=\"#000000\" cx=\"27\" cy=\"-98.3514\" rx=\"27\" ry=\"18\"/>\n<text text-anchor=\"middle\" x=\"27\" y=\"-94.6514\" font-family=\"Times,serif\" font-size=\"14.00\" fill=\"#000000\">4</text>\n</g>\n<!-- 5&#45;&#45;4 -->\n<g id=\"edge4\" class=\"edge\">\n<title>5&#45;&#45;4</title>\n<path fill=\"none\" stroke=\"#000000\" d=\"M215.7256,-93.7829C174.3306,-90.9224 94.577,-90.9058 53.2555,-93.7518\"/>\n</g>\n<!-- 5&#45;&#45;4 -->\n<g id=\"edge5\" class=\"edge\">\n<title>5&#45;&#45;4</title>\n<path fill=\"none\" stroke=\"#000000\" d=\"M215.7234,-103.0114C174.327,-105.8518 94.5734,-105.8297 53.2533,-102.9636\"/>\n</g>\n<!-- 3 -->\n<g id=\"node5\" class=\"node\">\n<title>3</title>\n<ellipse fill=\"none\" stroke=\"#000000\" cx=\"602.3207\" cy=\"-375.5952\" rx=\"27\" ry=\"18\"/>\n<text text-anchor=\"middle\" x=\"602.3207\" y=\"-371.8952\" font-family=\"Times,serif\" font-size=\"14.00\" fill=\"#000000\">3</text>\n</g>\n<!-- 2 -->\n<g id=\"node6\" class=\"node\">\n<title>2</title>\n<ellipse fill=\"none\" stroke=\"#000000\" cx=\"357\" cy=\"-346.2036\" rx=\"27\" ry=\"18\"/>\n<text text-anchor=\"middle\" x=\"357\" y=\"-342.5036\" font-family=\"Times,serif\" font-size=\"14.00\" fill=\"#000000\">2</text>\n</g>\n<!-- 3&#45;&#45;2 -->\n<g id=\"edge6\" class=\"edge\">\n<title>3&#45;&#45;2</title>\n<path fill=\"none\" stroke=\"#000000\" d=\"M575.6001,-372.3938C528.4105,-366.7401 430.8538,-355.0519 383.6877,-349.401\"/>\n</g>\n<!-- 1 -->\n<g id=\"node7\" class=\"node\">\n<title>1</title>\n<ellipse fill=\"none\" stroke=\"#000000\" cx=\"505.3019\" cy=\"-150\" rx=\"27\" ry=\"18\"/>\n<text text-anchor=\"middle\" x=\"505.3019\" y=\"-146.3\" font-family=\"Times,serif\" font-size=\"14.00\" fill=\"#000000\">1</text>\n</g>\n<!-- 3&#45;&#45;1 -->\n<g id=\"edge7\" class=\"edge\">\n<title>3&#45;&#45;1</title>\n<path fill=\"none\" stroke=\"#000000\" d=\"M594.8689,-358.2677C576.8097,-316.2752 530.8643,-209.4397 512.7791,-167.3865\"/>\n</g>\n<!-- 2&#45;&#45;1 -->\n<g id=\"edge8\" class=\"edge\">\n<title>2&#45;&#45;1</title>\n<path fill=\"none\" stroke=\"#000000\" d=\"M369.3891,-329.8128C397.3743,-292.7884 465.2002,-203.0546 493.0524,-166.2061\"/>\n</g>\n</g>\n</svg>\n"
          },
          "metadata": {}
        },
        {
          "output_type": "stream",
          "name": "stdout",
          "text": [
            "graph\n"
          ]
        },
        {
          "output_type": "display_data",
          "data": {
            "text/plain": [
              "<graphviz.dot.Graph at 0x7fda17ed4150>"
            ],
            "image/svg+xml": "<?xml version=\"1.0\" encoding=\"UTF-8\" standalone=\"no\"?>\n<!DOCTYPE svg PUBLIC \"-//W3C//DTD SVG 1.1//EN\"\n \"http://www.w3.org/Graphics/SVG/1.1/DTD/svg11.dtd\">\n<!-- Generated by graphviz version 2.40.1 (20161225.0304)\n -->\n<!-- Title: %3 Pages: 1 -->\n<svg width=\"531pt\" height=\"398pt\"\n viewBox=\"0.00 0.00 531.32 397.60\" xmlns=\"http://www.w3.org/2000/svg\" xmlns:xlink=\"http://www.w3.org/1999/xlink\">\n<g id=\"graph0\" class=\"graph\" transform=\"scale(1 1) rotate(0) translate(4 393.5952)\">\n<title>%3</title>\n<polygon fill=\"#ffffff\" stroke=\"transparent\" points=\"-4,4 -4,-393.5952 527.3207,-393.5952 527.3207,4 -4,4\"/>\n<!-- 6 -->\n<g id=\"node1\" class=\"node\">\n<title>6</title>\n<ellipse fill=\"none\" stroke=\"#000000\" cx=\"272.3207\" cy=\"-243.5952\" rx=\"27\" ry=\"18\"/>\n<text text-anchor=\"middle\" x=\"272.3207\" y=\"-239.8952\" font-family=\"Times,serif\" font-size=\"14.00\" fill=\"#000000\">6</text>\n</g>\n<!-- 5 -->\n<g id=\"node2\" class=\"node\">\n<title>5</title>\n<ellipse fill=\"none\" stroke=\"#000000\" cx=\"27\" cy=\"-214.2036\" rx=\"27\" ry=\"18\"/>\n<text text-anchor=\"middle\" x=\"27\" y=\"-210.5036\" font-family=\"Times,serif\" font-size=\"14.00\" fill=\"#000000\">5</text>\n</g>\n<!-- 6&#45;&#45;5 -->\n<g id=\"edge1\" class=\"edge\">\n<title>6&#45;&#45;5</title>\n<path fill=\"none\" stroke=\"#000000\" d=\"M245.6001,-240.3938C198.4105,-234.7401 100.8538,-223.0519 53.6877,-217.401\"/>\n</g>\n<!-- 4 -->\n<g id=\"node3\" class=\"node\">\n<title>4</title>\n<ellipse fill=\"none\" stroke=\"#000000\" cx=\"175.3019\" cy=\"-18\" rx=\"27\" ry=\"18\"/>\n<text text-anchor=\"middle\" x=\"175.3019\" y=\"-14.3\" font-family=\"Times,serif\" font-size=\"14.00\" fill=\"#000000\">4</text>\n</g>\n<!-- 6&#45;&#45;4 -->\n<g id=\"edge2\" class=\"edge\">\n<title>6&#45;&#45;4</title>\n<path fill=\"none\" stroke=\"#000000\" d=\"M264.8689,-226.2677C246.8097,-184.2752 200.8643,-77.4397 182.7791,-35.3865\"/>\n</g>\n<!-- 5&#45;&#45;4 -->\n<g id=\"edge3\" class=\"edge\">\n<title>5&#45;&#45;4</title>\n<path fill=\"none\" stroke=\"#000000\" d=\"M46.6177,-201.6723C81.7082,-167.6276 150.938,-75.5953 170.8218,-36.0269\"/>\n</g>\n<!-- 5&#45;&#45;4 -->\n<g id=\"edge4\" class=\"edge\">\n<title>5&#45;&#45;4</title>\n<path fill=\"none\" stroke=\"#000000\" d=\"M31.399,-196.338C51.1715,-156.8664 120.5201,-64.6567 155.6645,-30.5503\"/>\n</g>\n<!-- 5&#45;&#45;4 -->\n<g id=\"edge5\" class=\"edge\">\n<title>5&#45;&#45;4</title>\n<path fill=\"none\" stroke=\"#000000\" d=\"M39.3891,-197.8128C67.3743,-160.7884 135.2002,-71.0546 163.0524,-34.2061\"/>\n</g>\n<!-- 3 -->\n<g id=\"node4\" class=\"node\">\n<title>3</title>\n<ellipse fill=\"none\" stroke=\"#000000\" cx=\"496.3207\" cy=\"-371.5952\" rx=\"27\" ry=\"18\"/>\n<text text-anchor=\"middle\" x=\"496.3207\" y=\"-367.8952\" font-family=\"Times,serif\" font-size=\"14.00\" fill=\"#000000\">3</text>\n</g>\n<!-- 2 -->\n<g id=\"node5\" class=\"node\">\n<title>2</title>\n<ellipse fill=\"none\" stroke=\"#000000\" cx=\"251\" cy=\"-342.2036\" rx=\"27\" ry=\"18\"/>\n<text text-anchor=\"middle\" x=\"251\" y=\"-338.5036\" font-family=\"Times,serif\" font-size=\"14.00\" fill=\"#000000\">2</text>\n</g>\n<!-- 3&#45;&#45;2 -->\n<g id=\"edge6\" class=\"edge\">\n<title>3&#45;&#45;2</title>\n<path fill=\"none\" stroke=\"#000000\" d=\"M469.6001,-368.3938C422.4105,-362.7401 324.8538,-351.0519 277.6877,-345.401\"/>\n</g>\n<!-- 1 -->\n<g id=\"node6\" class=\"node\">\n<title>1</title>\n<ellipse fill=\"none\" stroke=\"#000000\" cx=\"399.3019\" cy=\"-146\" rx=\"27\" ry=\"18\"/>\n<text text-anchor=\"middle\" x=\"399.3019\" y=\"-142.3\" font-family=\"Times,serif\" font-size=\"14.00\" fill=\"#000000\">1</text>\n</g>\n<!-- 3&#45;&#45;1 -->\n<g id=\"edge7\" class=\"edge\">\n<title>3&#45;&#45;1</title>\n<path fill=\"none\" stroke=\"#000000\" d=\"M488.8689,-354.2677C470.8097,-312.2752 424.8643,-205.4397 406.7791,-163.3865\"/>\n</g>\n<!-- 2&#45;&#45;1 -->\n<g id=\"edge8\" class=\"edge\">\n<title>2&#45;&#45;1</title>\n<path fill=\"none\" stroke=\"#000000\" d=\"M263.3891,-325.8128C291.3743,-288.7884 359.2002,-199.0546 387.0524,-162.2061\"/>\n</g>\n</g>\n</svg>\n"
          },
          "metadata": {}
        },
        {
          "output_type": "stream",
          "name": "stdout",
          "text": [
            "graph\n"
          ]
        },
        {
          "output_type": "display_data",
          "data": {
            "text/plain": [
              "<graphviz.dot.Graph at 0x7fda1a167150>"
            ],
            "image/svg+xml": "<?xml version=\"1.0\" encoding=\"UTF-8\" standalone=\"no\"?>\n<!DOCTYPE svg PUBLIC \"-//W3C//DTD SVG 1.1//EN\"\n \"http://www.w3.org/Graphics/SVG/1.1/DTD/svg11.dtd\">\n<!-- Generated by graphviz version 2.40.1 (20161225.0304)\n -->\n<!-- Title: %3 Pages: 1 -->\n<svg width=\"523pt\" height=\"432pt\"\n viewBox=\"0.00 0.00 523.32 431.60\" xmlns=\"http://www.w3.org/2000/svg\" xmlns:xlink=\"http://www.w3.org/1999/xlink\">\n<g id=\"graph0\" class=\"graph\" transform=\"scale(1 1) rotate(0) translate(4 427.5952)\">\n<title>%3</title>\n<polygon fill=\"#ffffff\" stroke=\"transparent\" points=\"-4,4 -4,-427.5952 519.3207,-427.5952 519.3207,4 -4,4\"/>\n<!-- 8 -->\n<g id=\"node1\" class=\"node\">\n<title>8</title>\n<ellipse fill=\"none\" stroke=\"#000000\" cx=\"272.3207\" cy=\"-243.5952\" rx=\"27\" ry=\"18\"/>\n<text text-anchor=\"middle\" x=\"272.3207\" y=\"-239.8952\" font-family=\"Times,serif\" font-size=\"14.00\" fill=\"#000000\">8</text>\n</g>\n<!-- 7 -->\n<g id=\"node2\" class=\"node\">\n<title>7</title>\n<ellipse fill=\"none\" stroke=\"#000000\" cx=\"27\" cy=\"-214.2036\" rx=\"27\" ry=\"18\"/>\n<text text-anchor=\"middle\" x=\"27\" y=\"-210.5036\" font-family=\"Times,serif\" font-size=\"14.00\" fill=\"#000000\">7</text>\n</g>\n<!-- 8&#45;&#45;7 -->\n<g id=\"edge1\" class=\"edge\">\n<title>8&#45;&#45;7</title>\n<path fill=\"none\" stroke=\"#000000\" d=\"M245.6001,-240.3938C198.4105,-234.7401 100.8538,-223.0519 53.6877,-217.401\"/>\n</g>\n<!-- 6 -->\n<g id=\"node3\" class=\"node\">\n<title>6</title>\n<ellipse fill=\"none\" stroke=\"#000000\" cx=\"175.3019\" cy=\"-18\" rx=\"27\" ry=\"18\"/>\n<text text-anchor=\"middle\" x=\"175.3019\" y=\"-14.3\" font-family=\"Times,serif\" font-size=\"14.00\" fill=\"#000000\">6</text>\n</g>\n<!-- 8&#45;&#45;6 -->\n<g id=\"edge2\" class=\"edge\">\n<title>8&#45;&#45;6</title>\n<path fill=\"none\" stroke=\"#000000\" d=\"M264.8689,-226.2677C246.8097,-184.2752 200.8643,-77.4397 182.7791,-35.3865\"/>\n</g>\n<!-- 7&#45;&#45;6 -->\n<g id=\"edge3\" class=\"edge\">\n<title>7&#45;&#45;6</title>\n<path fill=\"none\" stroke=\"#000000\" d=\"M39.3891,-197.8128C67.3743,-160.7884 135.2002,-71.0546 163.0524,-34.2061\"/>\n</g>\n<!-- 5 -->\n<g id=\"node4\" class=\"node\">\n<title>5</title>\n<ellipse fill=\"none\" stroke=\"#000000\" cx=\"488.3207\" cy=\"-405.5952\" rx=\"27\" ry=\"18\"/>\n<text text-anchor=\"middle\" x=\"488.3207\" y=\"-401.8952\" font-family=\"Times,serif\" font-size=\"14.00\" fill=\"#000000\">5</text>\n</g>\n<!-- 4 -->\n<g id=\"node5\" class=\"node\">\n<title>4</title>\n<ellipse fill=\"none\" stroke=\"#000000\" cx=\"243\" cy=\"-376.2036\" rx=\"27\" ry=\"18\"/>\n<text text-anchor=\"middle\" x=\"243\" y=\"-372.5036\" font-family=\"Times,serif\" font-size=\"14.00\" fill=\"#000000\">4</text>\n</g>\n<!-- 5&#45;&#45;4 -->\n<g id=\"edge4\" class=\"edge\">\n<title>5&#45;&#45;4</title>\n<path fill=\"none\" stroke=\"#000000\" d=\"M461.6001,-402.3938C414.4105,-396.7401 316.8538,-385.0519 269.6877,-379.401\"/>\n</g>\n<!-- 3 -->\n<g id=\"node6\" class=\"node\">\n<title>3</title>\n<ellipse fill=\"none\" stroke=\"#000000\" cx=\"391.3019\" cy=\"-180\" rx=\"27\" ry=\"18\"/>\n<text text-anchor=\"middle\" x=\"391.3019\" y=\"-176.3\" font-family=\"Times,serif\" font-size=\"14.00\" fill=\"#000000\">3</text>\n</g>\n<!-- 5&#45;&#45;3 -->\n<g id=\"edge5\" class=\"edge\">\n<title>5&#45;&#45;3</title>\n<path fill=\"none\" stroke=\"#000000\" d=\"M480.8689,-388.2677C462.8097,-346.2752 416.8643,-239.4397 398.7791,-197.3865\"/>\n</g>\n<!-- 4&#45;&#45;3 -->\n<g id=\"edge6\" class=\"edge\">\n<title>4&#45;&#45;3</title>\n<path fill=\"none\" stroke=\"#000000\" d=\"M255.3891,-359.8128C283.3743,-322.7884 351.2002,-233.0546 379.0524,-196.2061\"/>\n</g>\n<!-- 2 -->\n<g id=\"node7\" class=\"node\">\n<title>2</title>\n<ellipse fill=\"none\" stroke=\"#000000\" cx=\"459.6186\" cy=\"-72\" rx=\"27\" ry=\"18\"/>\n<text text-anchor=\"middle\" x=\"459.6186\" y=\"-68.3\" font-family=\"Times,serif\" font-size=\"14.00\" fill=\"#000000\">2</text>\n</g>\n<!-- 1 -->\n<g id=\"node8\" class=\"node\">\n<title>1</title>\n<ellipse fill=\"none\" stroke=\"#000000\" cx=\"270\" cy=\"-72\" rx=\"27\" ry=\"18\"/>\n<text text-anchor=\"middle\" x=\"270\" y=\"-68.3\" font-family=\"Times,serif\" font-size=\"14.00\" fill=\"#000000\">1</text>\n</g>\n<!-- 2&#45;&#45;1 -->\n<g id=\"edge7\" class=\"edge\">\n<title>2&#45;&#45;1</title>\n<path fill=\"none\" stroke=\"#000000\" d=\"M433.2529,-67.155C397.0257,-64.6097 332.2508,-64.615 296.1417,-67.1708\"/>\n</g>\n<!-- 2&#45;&#45;1 -->\n<g id=\"edge8\" class=\"edge\">\n<title>2&#45;&#45;1</title>\n<path fill=\"none\" stroke=\"#000000\" d=\"M433.2529,-76.845C397.0257,-79.3903 332.2508,-79.385 296.1417,-76.8292\"/>\n</g>\n</g>\n</svg>\n"
          },
          "metadata": {}
        }
      ]
    },
    {
      "cell_type": "code",
      "source": [
        "(grid_8_8@grid_8_8).trace()"
      ],
      "metadata": {
        "colab": {
          "base_uri": "https://localhost:8080/"
        },
        "id": "98cFeP8-FxvR",
        "outputId": "9802b0fd-68bc-4213-b810-9a6dc8009f38"
      },
      "execution_count": 83,
      "outputs": [
        {
          "output_type": "execute_result",
          "data": {
            "text/plain": [
              "224.0"
            ]
          },
          "metadata": {},
          "execution_count": 83
        }
      ]
    },
    {
      "cell_type": "code",
      "source": [
        "(grid_8_8@(grid_8_8**5)).trace()"
      ],
      "metadata": {
        "colab": {
          "base_uri": "https://localhost:8080/"
        },
        "id": "8THAWKZAIDTe",
        "outputId": "e7c44b96-2029-4b6e-b5f5-40e7f214badb"
      },
      "execution_count": 84,
      "outputs": [
        {
          "output_type": "execute_result",
          "data": {
            "text/plain": [
              "224.0"
            ]
          },
          "metadata": {},
          "execution_count": 84
        }
      ]
    },
    {
      "cell_type": "code",
      "source": [
        "functions8_disconnected_str[5:8]"
      ],
      "metadata": {
        "colab": {
          "base_uri": "https://localhost:8080/"
        },
        "id": "iNrfCFhlIu0-",
        "outputId": "13f43fd5-f216-4348-d2b6-08b57a25987a"
      },
      "execution_count": 85,
      "outputs": [
        {
          "output_type": "execute_result",
          "data": {
            "text/plain": [
              "['((A*A*A)@(A*A*A)).trace() * (A@A).trace()',\n",
              " '(d(A@A)*d((A*A)@(A*A))).trace() * (A@A).trace()',\n",
              " '((A*A*A)@(A@A@A)).trace() * (A@A).trace()']"
            ]
          },
          "metadata": {},
          "execution_count": 85
        }
      ]
    },
    {
      "cell_type": "code",
      "source": [
        "'''was thinking of an algorithm for finding even graphs with a certain number of edges \n",
        "When thinking about the adjacency matrix, you know that there are at most |E| rows, \n",
        "and each column sums to an even number. You can enumerate the possible entries for a column\n",
        "e.g. for |E| = 4 you have for the first column 000, 110x3, 200x3, 220x3 (first entry is always 0)\n",
        "Whatever choice of first column, take the second entry and subtract it from |E|.\n",
        "If the result is even, perform the enumeration process except with only two entries: 11 00 20 02.\n",
        "If it's odd, do the same except enforce the sum of entries to be odd: 10 01 30 03.\n",
        "Repeat until you run out of columns. \n",
        "Graphs generated by this method are not guaranteed to be connected.\n",
        "Should the column sum be subtracted from |E| to determine the max sum of the next column?\n",
        "'''\n",
        "\n"
      ],
      "metadata": {
        "id": "udyGlO19JUPS",
        "colab": {
          "base_uri": "https://localhost:8080/",
          "height": 105
        },
        "outputId": "e27d399e-9c3d-4cdd-a04d-9400e102ae63"
      },
      "execution_count": 86,
      "outputs": [
        {
          "output_type": "execute_result",
          "data": {
            "text/plain": [
              "\"was thinking of an algorithm for finding even graphs with a certain number of edges \\nWhen thinking about the adjacency matrix, you know that there are at most |E| rows, \\nand each column sums to an even number. You can enumerate the possible entries for a column\\ne.g. for |E| = 4 you have for the first column 000, 110x3, 200x3, 220x3 (first entry is always 0)\\nWhatever choice of first column, take the second entry and subtract it from |E|.\\nIf the result is even, perform the enumeration process except with only two entries: 11 00 20 02.\\nIf it's odd, do the same except enforce the sum of entries to be odd: 10 01 30 03.\\nRepeat until you run out of columns. \\nGraphs generated by this method are not guaranteed to be connected.\\nShould the column sum be subtracted from |E| to determine the max sum of the next column?\\n\""
            ],
            "application/vnd.google.colaboratory.intrinsic+json": {
              "type": "string"
            }
          },
          "metadata": {},
          "execution_count": 86
        }
      ]
    },
    {
      "cell_type": "code",
      "source": [
        "[f(K(7)) for f in functions4 + [lambda A: (A@A).trace()**2]]"
      ],
      "metadata": {
        "colab": {
          "base_uri": "https://localhost:8080/"
        },
        "id": "bvs0QJSHB9GW",
        "outputId": "e0276787-c406-4d19-875a-3680a056d8ab"
      },
      "execution_count": 87,
      "outputs": [
        {
          "output_type": "execute_result",
          "data": {
            "text/plain": [
              "[1302.0, 252.0, 42.0, 1764.0]"
            ]
          },
          "metadata": {},
          "execution_count": 87
        }
      ]
    },
    {
      "cell_type": "code",
      "source": [
        "doubled_triangle = string_to_np_array('2 2 2')"
      ],
      "metadata": {
        "id": "85FiPaneCLhM"
      },
      "execution_count": 88,
      "outputs": []
    },
    {
      "cell_type": "code",
      "source": [
        "g = getGraphFromNumpy(doubled_triangle)\n",
        "g.engine = 'fdp'"
      ],
      "metadata": {
        "id": "kj1Ie1LJkVtc"
      },
      "execution_count": 89,
      "outputs": []
    },
    {
      "cell_type": "code",
      "source": [
        "g"
      ],
      "metadata": {
        "colab": {
          "base_uri": "https://localhost:8080/",
          "height": 156
        },
        "id": "hvVWULtrkX2Y",
        "outputId": "4d3e7d0f-980f-429d-f468-bf3ac8aa97b0"
      },
      "execution_count": 90,
      "outputs": [
        {
          "output_type": "execute_result",
          "data": {
            "text/plain": [
              "<graphviz.dot.Graph at 0x7fda17e488d0>"
            ],
            "image/svg+xml": "<?xml version=\"1.0\" encoding=\"UTF-8\" standalone=\"no\"?>\n<!DOCTYPE svg PUBLIC \"-//W3C//DTD SVG 1.1//EN\"\n \"http://www.w3.org/Graphics/SVG/1.1/DTD/svg11.dtd\">\n<!-- Generated by graphviz version 2.40.1 (20161225.0304)\n -->\n<!-- Title: %3 Pages: 1 -->\n<svg width=\"129pt\" height=\"101pt\"\n viewBox=\"0.00 0.00 129.00 101.00\" xmlns=\"http://www.w3.org/2000/svg\" xmlns:xlink=\"http://www.w3.org/1999/xlink\">\n<g id=\"graph0\" class=\"graph\" transform=\"scale(1 1) rotate(0) translate(4 97)\">\n<title>%3</title>\n<polygon fill=\"#ffffff\" stroke=\"transparent\" points=\"-4,4 -4,-97 125,-97 125,4 -4,4\"/>\n<!-- 3 -->\n<g id=\"node1\" class=\"node\">\n<title>3</title>\n<ellipse fill=\"none\" stroke=\"#000000\" cx=\"27.4377\" cy=\"-74.5133\" rx=\"27\" ry=\"18\"/>\n<text text-anchor=\"middle\" x=\"27.4377\" y=\"-70.8133\" font-family=\"Times,serif\" font-size=\"14.00\" fill=\"#000000\">3</text>\n</g>\n<!-- 2 -->\n<g id=\"node2\" class=\"node\">\n<title>2</title>\n<ellipse fill=\"none\" stroke=\"#000000\" cx=\"94.0988\" cy=\"-73.6462\" rx=\"27\" ry=\"18\"/>\n<text text-anchor=\"middle\" x=\"94.0988\" y=\"-69.9462\" font-family=\"Times,serif\" font-size=\"14.00\" fill=\"#000000\">2</text>\n</g>\n<!-- 3&#45;&#45;2 -->\n<g id=\"edge1\" class=\"edge\">\n<title>3&#45;&#45;2</title>\n<path fill=\"none\" stroke=\"#000000\" d=\"M53.1057,-80.7652C58.2488,-80.9206 63.6494,-80.8478 68.7806,-80.5535\"/>\n</g>\n<!-- 3&#45;&#45;2 -->\n<g id=\"edge2\" class=\"edge\">\n<title>3&#45;&#45;2</title>\n<path fill=\"none\" stroke=\"#000000\" d=\"M52.554,-67.6177C57.7127,-67.3156 63.1514,-67.2379 68.3326,-67.3914\"/>\n</g>\n<!-- 1 -->\n<g id=\"node3\" class=\"node\">\n<title>1</title>\n<ellipse fill=\"none\" stroke=\"#000000\" cx=\"60.036\" cy=\"-17.7766\" rx=\"27\" ry=\"18\"/>\n<text text-anchor=\"middle\" x=\"60.036\" y=\"-14.0766\" font-family=\"Times,serif\" font-size=\"14.00\" fill=\"#000000\">1</text>\n</g>\n<!-- 3&#45;&#45;1 -->\n<g id=\"edge3\" class=\"edge\">\n<title>3&#45;&#45;1</title>\n<path fill=\"none\" stroke=\"#000000\" d=\"M43.239,-59.714C48.2031,-52.3752 53.1959,-43.487 56.6586,-35.7627\"/>\n</g>\n<!-- 3&#45;&#45;1 -->\n<g id=\"edge4\" class=\"edge\">\n<title>3&#45;&#45;1</title>\n<path fill=\"none\" stroke=\"#000000\" d=\"M30.7799,-56.6057C34.2615,-48.8239 39.3046,-39.8491 44.3104,-32.4641\"/>\n</g>\n<!-- 2&#45;&#45;1 -->\n<g id=\"edge5\" class=\"edge\">\n<title>2&#45;&#45;1</title>\n<path fill=\"none\" stroke=\"#000000\" d=\"M90.1426,-55.5209C86.5053,-47.9842 81.3718,-39.3845 76.297,-32.2723\"/>\n</g>\n<!-- 2&#45;&#45;1 -->\n<g id=\"edge6\" class=\"edge\">\n<title>2&#45;&#45;1</title>\n<path fill=\"none\" stroke=\"#000000\" d=\"M77.7084,-58.9689C72.6725,-51.8876 67.5919,-43.3635 63.9852,-35.8873\"/>\n</g>\n</g>\n</svg>\n"
          },
          "metadata": {},
          "execution_count": 90
        }
      ]
    },
    {
      "cell_type": "code",
      "source": [
        "split = string_to_np_array('2 0 2 0 0 2')\n",
        "g = getGraphFromNumpy(split)\n",
        "g.engine = 'sfdp'\n",
        "g"
      ],
      "metadata": {
        "colab": {
          "base_uri": "https://localhost:8080/",
          "height": 80
        },
        "id": "BaQjtpN1kc-Y",
        "outputId": "e4cc84fb-37f8-4593-e1a9-12404b230cd3"
      },
      "execution_count": 91,
      "outputs": [
        {
          "output_type": "execute_result",
          "data": {
            "text/plain": [
              "<graphviz.dot.Graph at 0x7fda17e3c8d0>"
            ],
            "image/svg+xml": "<?xml version=\"1.0\" encoding=\"UTF-8\" standalone=\"no\"?>\n<!DOCTYPE svg PUBLIC \"-//W3C//DTD SVG 1.1//EN\"\n \"http://www.w3.org/Graphics/SVG/1.1/DTD/svg11.dtd\">\n<!-- Generated by graphviz version 2.40.1 (20161225.0304)\n -->\n<!-- Title: %3 Pages: 1 -->\n<svg width=\"530pt\" height=\"44pt\"\n viewBox=\"0.00 0.00 530.30 44.00\" xmlns=\"http://www.w3.org/2000/svg\" xmlns:xlink=\"http://www.w3.org/1999/xlink\">\n<g id=\"graph0\" class=\"graph\" transform=\"scale(1 1) rotate(0) translate(4 40)\">\n<title>%3</title>\n<polygon fill=\"#ffffff\" stroke=\"transparent\" points=\"-4,4 -4,-40 526.302,-40 526.302,4 -4,4\"/>\n<!-- 4 -->\n<g id=\"node1\" class=\"node\">\n<title>4</title>\n<ellipse fill=\"none\" stroke=\"#000000\" cx=\"495.302\" cy=\"-18\" rx=\"27\" ry=\"18\"/>\n<text text-anchor=\"middle\" x=\"495.302\" y=\"-14.3\" font-family=\"Times,serif\" font-size=\"14.00\" fill=\"#000000\">4</text>\n</g>\n<!-- 3 -->\n<g id=\"node2\" class=\"node\">\n<title>3</title>\n<ellipse fill=\"none\" stroke=\"#000000\" cx=\"339.9173\" cy=\"-18\" rx=\"27\" ry=\"18\"/>\n<text text-anchor=\"middle\" x=\"339.9173\" y=\"-14.3\" font-family=\"Times,serif\" font-size=\"14.00\" fill=\"#000000\">3</text>\n</g>\n<!-- 4&#45;&#45;3 -->\n<g id=\"edge1\" class=\"edge\">\n<title>4&#45;&#45;3</title>\n<path fill=\"none\" stroke=\"#000000\" d=\"M469.2941,-12.8082C440.611,-10.7326 394.7271,-10.7306 366.0101,-12.8021\"/>\n</g>\n<!-- 4&#45;&#45;3 -->\n<g id=\"edge2\" class=\"edge\">\n<title>4&#45;&#45;3</title>\n<path fill=\"none\" stroke=\"#000000\" d=\"M469.2941,-23.1918C440.611,-25.2674 394.7271,-25.2694 366.0101,-23.1979\"/>\n</g>\n<!-- 2 -->\n<g id=\"node3\" class=\"node\">\n<title>2</title>\n<ellipse fill=\"none\" stroke=\"#000000\" cx=\"175.1225\" cy=\"-18\" rx=\"27\" ry=\"18\"/>\n<text text-anchor=\"middle\" x=\"175.1225\" y=\"-14.3\" font-family=\"Times,serif\" font-size=\"14.00\" fill=\"#000000\">2</text>\n</g>\n<!-- 3&#45;&#45;2 -->\n<g id=\"edge3\" class=\"edge\">\n<title>3&#45;&#45;2</title>\n<path fill=\"none\" stroke=\"#000000\" d=\"M313.8051,-12.9112C282.9476,-10.6933 231.9166,-10.6963 201.1125,-12.92\"/>\n</g>\n<!-- 3&#45;&#45;2 -->\n<g id=\"edge4\" class=\"edge\">\n<title>3&#45;&#45;2</title>\n<path fill=\"none\" stroke=\"#000000\" d=\"M313.8051,-23.0888C282.9476,-25.3067 231.9166,-25.3037 201.1125,-23.08\"/>\n</g>\n<!-- 1 -->\n<g id=\"node4\" class=\"node\">\n<title>1</title>\n<ellipse fill=\"none\" stroke=\"#000000\" cx=\"27\" cy=\"-18\" rx=\"27\" ry=\"18\"/>\n<text text-anchor=\"middle\" x=\"27\" y=\"-14.3\" font-family=\"Times,serif\" font-size=\"14.00\" fill=\"#000000\">1</text>\n</g>\n<!-- 2&#45;&#45;1 -->\n<g id=\"edge5\" class=\"edge\">\n<title>2&#45;&#45;1</title>\n<path fill=\"none\" stroke=\"#000000\" d=\"M148.9821,-12.7085C121.9069,-10.7575 79.8574,-10.7638 52.879,-12.7275\"/>\n</g>\n<!-- 2&#45;&#45;1 -->\n<g id=\"edge6\" class=\"edge\">\n<title>2&#45;&#45;1</title>\n<path fill=\"none\" stroke=\"#000000\" d=\"M148.9821,-23.2915C121.9069,-25.2425 79.8574,-25.2362 52.879,-23.2725\"/>\n</g>\n</g>\n</svg>\n"
          },
          "metadata": {},
          "execution_count": 91
        }
      ]
    },
    {
      "cell_type": "code",
      "source": [
        "# g.get_node(3).attr['label'] = \"0'\"\n",
        "g"
      ],
      "metadata": {
        "colab": {
          "base_uri": "https://localhost:8080/",
          "height": 80
        },
        "id": "w1ojWFUQk4UF",
        "outputId": "ec79d6ea-4286-40c3-8db7-e216e50948c0"
      },
      "execution_count": 92,
      "outputs": [
        {
          "output_type": "execute_result",
          "data": {
            "text/plain": [
              "<graphviz.dot.Graph at 0x7fda17e3c8d0>"
            ],
            "image/svg+xml": "<?xml version=\"1.0\" encoding=\"UTF-8\" standalone=\"no\"?>\n<!DOCTYPE svg PUBLIC \"-//W3C//DTD SVG 1.1//EN\"\n \"http://www.w3.org/Graphics/SVG/1.1/DTD/svg11.dtd\">\n<!-- Generated by graphviz version 2.40.1 (20161225.0304)\n -->\n<!-- Title: %3 Pages: 1 -->\n<svg width=\"530pt\" height=\"44pt\"\n viewBox=\"0.00 0.00 530.30 44.00\" xmlns=\"http://www.w3.org/2000/svg\" xmlns:xlink=\"http://www.w3.org/1999/xlink\">\n<g id=\"graph0\" class=\"graph\" transform=\"scale(1 1) rotate(0) translate(4 40)\">\n<title>%3</title>\n<polygon fill=\"#ffffff\" stroke=\"transparent\" points=\"-4,4 -4,-40 526.302,-40 526.302,4 -4,4\"/>\n<!-- 4 -->\n<g id=\"node1\" class=\"node\">\n<title>4</title>\n<ellipse fill=\"none\" stroke=\"#000000\" cx=\"495.302\" cy=\"-18\" rx=\"27\" ry=\"18\"/>\n<text text-anchor=\"middle\" x=\"495.302\" y=\"-14.3\" font-family=\"Times,serif\" font-size=\"14.00\" fill=\"#000000\">4</text>\n</g>\n<!-- 3 -->\n<g id=\"node2\" class=\"node\">\n<title>3</title>\n<ellipse fill=\"none\" stroke=\"#000000\" cx=\"339.9173\" cy=\"-18\" rx=\"27\" ry=\"18\"/>\n<text text-anchor=\"middle\" x=\"339.9173\" y=\"-14.3\" font-family=\"Times,serif\" font-size=\"14.00\" fill=\"#000000\">3</text>\n</g>\n<!-- 4&#45;&#45;3 -->\n<g id=\"edge1\" class=\"edge\">\n<title>4&#45;&#45;3</title>\n<path fill=\"none\" stroke=\"#000000\" d=\"M469.2941,-12.8082C440.611,-10.7326 394.7271,-10.7306 366.0101,-12.8021\"/>\n</g>\n<!-- 4&#45;&#45;3 -->\n<g id=\"edge2\" class=\"edge\">\n<title>4&#45;&#45;3</title>\n<path fill=\"none\" stroke=\"#000000\" d=\"M469.2941,-23.1918C440.611,-25.2674 394.7271,-25.2694 366.0101,-23.1979\"/>\n</g>\n<!-- 2 -->\n<g id=\"node3\" class=\"node\">\n<title>2</title>\n<ellipse fill=\"none\" stroke=\"#000000\" cx=\"175.1225\" cy=\"-18\" rx=\"27\" ry=\"18\"/>\n<text text-anchor=\"middle\" x=\"175.1225\" y=\"-14.3\" font-family=\"Times,serif\" font-size=\"14.00\" fill=\"#000000\">2</text>\n</g>\n<!-- 3&#45;&#45;2 -->\n<g id=\"edge3\" class=\"edge\">\n<title>3&#45;&#45;2</title>\n<path fill=\"none\" stroke=\"#000000\" d=\"M313.8051,-12.9112C282.9476,-10.6933 231.9166,-10.6963 201.1125,-12.92\"/>\n</g>\n<!-- 3&#45;&#45;2 -->\n<g id=\"edge4\" class=\"edge\">\n<title>3&#45;&#45;2</title>\n<path fill=\"none\" stroke=\"#000000\" d=\"M313.8051,-23.0888C282.9476,-25.3067 231.9166,-25.3037 201.1125,-23.08\"/>\n</g>\n<!-- 1 -->\n<g id=\"node4\" class=\"node\">\n<title>1</title>\n<ellipse fill=\"none\" stroke=\"#000000\" cx=\"27\" cy=\"-18\" rx=\"27\" ry=\"18\"/>\n<text text-anchor=\"middle\" x=\"27\" y=\"-14.3\" font-family=\"Times,serif\" font-size=\"14.00\" fill=\"#000000\">1</text>\n</g>\n<!-- 2&#45;&#45;1 -->\n<g id=\"edge5\" class=\"edge\">\n<title>2&#45;&#45;1</title>\n<path fill=\"none\" stroke=\"#000000\" d=\"M148.9821,-12.7085C121.9069,-10.7575 79.8574,-10.7638 52.879,-12.7275\"/>\n</g>\n<!-- 2&#45;&#45;1 -->\n<g id=\"edge6\" class=\"edge\">\n<title>2&#45;&#45;1</title>\n<path fill=\"none\" stroke=\"#000000\" d=\"M148.9821,-23.2915C121.9069,-25.2425 79.8574,-25.2362 52.879,-23.2725\"/>\n</g>\n</g>\n</svg>\n"
          },
          "metadata": {},
          "execution_count": 92
        }
      ]
    },
    {
      "cell_type": "code",
      "source": [
        "g1 = gv.Graph(format='png')\n",
        "g1.attr('node', fontsize='20')\n",
        "g1.node('3')\n",
        "g1.node('2')\n",
        "g1.node('1')\n",
        "g1.edges([\"12\", \"12\",\"23\", '23', '13', '13'])\n",
        "g1.engine = 'sfdp'\n",
        "g1.render('double_tri')"
      ],
      "metadata": {
        "id": "LLejvnWnnF22",
        "colab": {
          "base_uri": "https://localhost:8080/",
          "height": 35
        },
        "outputId": "5f94e9a7-2e88-4dda-9dfc-4a997c99fda2"
      },
      "execution_count": 93,
      "outputs": [
        {
          "output_type": "execute_result",
          "data": {
            "text/plain": [
              "'double_tri.png'"
            ],
            "application/vnd.google.colaboratory.intrinsic+json": {
              "type": "string"
            }
          },
          "metadata": {},
          "execution_count": 93
        }
      ]
    },
    {
      "cell_type": "code",
      "source": [
        "g2 = gv.Graph(format='png')\n",
        "g2.attr('node', fontsize='20')\n",
        "g2.node('4', \"1'\")\n",
        "g2.node('5', '3')\n",
        "g2.node('6', '2')\n",
        "g2.node('7', '1')\n",
        "g2.edges(['76', '76', \"65\", '65', '54', '54'])\n",
        "g2.engine = 'sfdp'\n",
        "g2.render('split_double_tri')\n",
        "g2"
      ],
      "metadata": {
        "id": "iLIkkOxllgA4",
        "colab": {
          "base_uri": "https://localhost:8080/",
          "height": 88
        },
        "outputId": "fa61d7ed-39b3-4eae-f667-5531696bb60e"
      },
      "execution_count": 94,
      "outputs": [
        {
          "output_type": "execute_result",
          "data": {
            "text/plain": [
              "<graphviz.dot.Graph at 0x7fda17e85950>"
            ],
            "image/svg+xml": "<?xml version=\"1.0\" encoding=\"UTF-8\" standalone=\"no\"?>\n<!DOCTYPE svg PUBLIC \"-//W3C//DTD SVG 1.1//EN\"\n \"http://www.w3.org/Graphics/SVG/1.1/DTD/svg11.dtd\">\n<!-- Generated by graphviz version 2.40.1 (20161225.0304)\n -->\n<!-- Title: %3 Pages: 1 -->\n<svg width=\"559pt\" height=\"50pt\"\n viewBox=\"0.00 0.00 558.69 50.43\" xmlns=\"http://www.w3.org/2000/svg\" xmlns:xlink=\"http://www.w3.org/1999/xlink\">\n<g id=\"graph0\" class=\"graph\" transform=\"scale(1 1) rotate(0) translate(4 46.4264)\">\n<title>%3</title>\n<polygon fill=\"#ffffff\" stroke=\"transparent\" points=\"-4,4 -4,-46.4264 554.6935,-46.4264 554.6935,4 -4,4\"/>\n<!-- 4 -->\n<g id=\"node1\" class=\"node\">\n<title>4</title>\n<ellipse fill=\"none\" stroke=\"#000000\" cx=\"523.6935\" cy=\"-21.2132\" rx=\"27\" ry=\"21.4286\"/>\n<text text-anchor=\"middle\" x=\"523.6935\" y=\"-16.2132\" font-family=\"Times,serif\" font-size=\"20.00\" fill=\"#000000\">1&#39;</text>\n</g>\n<!-- 5 -->\n<g id=\"node2\" class=\"node\">\n<title>5</title>\n<ellipse fill=\"none\" stroke=\"#000000\" cx=\"358.8884\" cy=\"-21.2132\" rx=\"27\" ry=\"21.4286\"/>\n<text text-anchor=\"middle\" x=\"358.8884\" y=\"-16.2132\" font-family=\"Times,serif\" font-size=\"20.00\" fill=\"#000000\">3</text>\n</g>\n<!-- 5&#45;&#45;4 -->\n<g id=\"edge5\" class=\"edge\">\n<title>5&#45;&#45;4</title>\n<path fill=\"none\" stroke=\"#000000\" d=\"M385.3672,-26.328C416.1216,-28.5098 466.5541,-28.5083 497.2805,-26.3234\"/>\n</g>\n<!-- 5&#45;&#45;4 -->\n<g id=\"edge6\" class=\"edge\">\n<title>5&#45;&#45;4</title>\n<path fill=\"none\" stroke=\"#000000\" d=\"M385.3672,-16.0984C416.1216,-13.9166 466.5541,-13.9181 497.2805,-16.103\"/>\n</g>\n<!-- 6 -->\n<g id=\"node3\" class=\"node\">\n<title>6</title>\n<ellipse fill=\"none\" stroke=\"#000000\" cx=\"184.1026\" cy=\"-21.2132\" rx=\"27\" ry=\"21.4286\"/>\n<text text-anchor=\"middle\" x=\"184.1026\" y=\"-16.2132\" font-family=\"Times,serif\" font-size=\"20.00\" fill=\"#000000\">2</text>\n</g>\n<!-- 6&#45;&#45;5 -->\n<g id=\"edge3\" class=\"edge\">\n<title>6&#45;&#45;5</title>\n<path fill=\"none\" stroke=\"#000000\" d=\"M210.6488,-26.2226C243.5962,-28.5443 299.4491,-28.5434 332.3793,-26.2199\"/>\n</g>\n<!-- 6&#45;&#45;5 -->\n<g id=\"edge4\" class=\"edge\">\n<title>6&#45;&#45;5</title>\n<path fill=\"none\" stroke=\"#000000\" d=\"M210.6488,-16.2038C243.5962,-13.8821 299.4491,-13.883 332.3793,-16.2065\"/>\n</g>\n<!-- 7 -->\n<g id=\"node4\" class=\"node\">\n<title>7</title>\n<ellipse fill=\"none\" stroke=\"#000000\" cx=\"27\" cy=\"-21.2132\" rx=\"27\" ry=\"21.4286\"/>\n<text text-anchor=\"middle\" x=\"27\" y=\"-16.2132\" font-family=\"Times,serif\" font-size=\"20.00\" fill=\"#000000\">1</text>\n</g>\n<!-- 7&#45;&#45;6 -->\n<g id=\"edge1\" class=\"edge\">\n<title>7&#45;&#45;6</title>\n<path fill=\"none\" stroke=\"#000000\" d=\"M53.2954,-26.405C82.2957,-28.4806 128.6869,-28.4826 157.7214,-26.4111\"/>\n</g>\n<!-- 7&#45;&#45;6 -->\n<g id=\"edge2\" class=\"edge\">\n<title>7&#45;&#45;6</title>\n<path fill=\"none\" stroke=\"#000000\" d=\"M53.2954,-16.0214C82.2957,-13.9458 128.6869,-13.9438 157.7214,-16.0153\"/>\n</g>\n</g>\n</svg>\n"
          },
          "metadata": {},
          "execution_count": 94
        }
      ]
    },
    {
      "cell_type": "code",
      "source": [
        "g3 = gv.Graph(format='png')\n",
        "g3.attr('node', fontsize='20')\n",
        "g3.node('8', \"1'\")\n",
        "g3.node('9', '3')\n",
        "g3.node('A', '2')\n",
        "g3.node('B', '1')\n",
        "g3.edges(['BA', 'B9', \"A9\", 'A9', 'A8', '98'])\n",
        "g3.engine = 'sfdp'\n",
        "g3.render('split_double_tri_crossbar')\n",
        "g3"
      ],
      "metadata": {
        "id": "ch5I_UqEoX8G",
        "colab": {
          "base_uri": "https://localhost:8080/",
          "height": 348
        },
        "outputId": "5193c08c-b07b-4def-d82b-36bc7bb98470"
      },
      "execution_count": 95,
      "outputs": [
        {
          "output_type": "execute_result",
          "data": {
            "text/plain": [
              "<graphviz.dot.Graph at 0x7fda17edaa10>"
            ],
            "image/svg+xml": "<?xml version=\"1.0\" encoding=\"UTF-8\" standalone=\"no\"?>\n<!DOCTYPE svg PUBLIC \"-//W3C//DTD SVG 1.1//EN\"\n \"http://www.w3.org/Graphics/SVG/1.1/DTD/svg11.dtd\">\n<!-- Generated by graphviz version 2.40.1 (20161225.0304)\n -->\n<!-- Title: %3 Pages: 1 -->\n<svg width=\"480pt\" height=\"245pt\"\n viewBox=\"0.00 0.00 480.27 245.46\" xmlns=\"http://www.w3.org/2000/svg\" xmlns:xlink=\"http://www.w3.org/1999/xlink\">\n<g id=\"graph0\" class=\"graph\" transform=\"scale(1 1) rotate(0) translate(4 241.4583)\">\n<title>%3</title>\n<polygon fill=\"#ffffff\" stroke=\"transparent\" points=\"-4,4 -4,-241.4583 476.2669,-241.4583 476.2669,4 -4,4\"/>\n<!-- 8 -->\n<g id=\"node1\" class=\"node\">\n<title>8</title>\n<ellipse fill=\"none\" stroke=\"#000000\" cx=\"445.2669\" cy=\"-120.8737\" rx=\"27\" ry=\"21.4286\"/>\n<text text-anchor=\"middle\" x=\"445.2669\" y=\"-115.8737\" font-family=\"Times,serif\" font-size=\"20.00\" fill=\"#000000\">1&#39;</text>\n</g>\n<!-- 9 -->\n<g id=\"node2\" class=\"node\">\n<title>9</title>\n<ellipse fill=\"none\" stroke=\"#000000\" cx=\"237.7343\" cy=\"-21.2132\" rx=\"27\" ry=\"21.4286\"/>\n<text text-anchor=\"middle\" x=\"237.7343\" y=\"-16.2132\" font-family=\"Times,serif\" font-size=\"20.00\" fill=\"#000000\">3</text>\n</g>\n<!-- 9&#45;&#45;8 -->\n<g id=\"edge6\" class=\"edge\">\n<title>9&#45;&#45;8</title>\n<path fill=\"none\" stroke=\"#000000\" d=\"M261.1375,-32.4518C301.1017,-51.6433 382.0435,-90.5128 421.9492,-109.6762\"/>\n</g>\n<!-- A -->\n<g id=\"node3\" class=\"node\">\n<title>A</title>\n<ellipse fill=\"none\" stroke=\"#000000\" cx=\"238.4422\" cy=\"-216.2451\" rx=\"27\" ry=\"21.4286\"/>\n<text text-anchor=\"middle\" x=\"238.4422\" y=\"-211.2451\" font-family=\"Times,serif\" font-size=\"20.00\" fill=\"#000000\">2</text>\n</g>\n<!-- A&#45;&#45;8 -->\n<g id=\"edge5\" class=\"edge\">\n<title>A&#45;&#45;8</title>\n<path fill=\"none\" stroke=\"#000000\" d=\"M261.7656,-205.4902C301.4879,-187.1734 381.8315,-150.1251 421.7114,-131.7356\"/>\n</g>\n<!-- A&#45;&#45;9 -->\n<g id=\"edge3\" class=\"edge\">\n<title>A&#45;&#45;9</title>\n<path fill=\"none\" stroke=\"#000000\" d=\"M242.7666,-194.986C245.7624,-157.4586 245.4801,-79.9002 242.2106,-42.4141\"/>\n</g>\n<!-- A&#45;&#45;9 -->\n<g id=\"edge4\" class=\"edge\">\n<title>A&#45;&#45;9</title>\n<path fill=\"none\" stroke=\"#000000\" d=\"M233.9636,-195.018C230.6954,-157.5133 230.4146,-79.9549 233.4119,-42.4461\"/>\n</g>\n<!-- B -->\n<g id=\"node4\" class=\"node\">\n<title>B</title>\n<ellipse fill=\"none\" stroke=\"#000000\" cx=\"27\" cy=\"-121.1823\" rx=\"27\" ry=\"21.4286\"/>\n<text text-anchor=\"middle\" x=\"27\" y=\"-116.1823\" font-family=\"Times,serif\" font-size=\"20.00\" fill=\"#000000\">1</text>\n</g>\n<!-- B&#45;&#45;9 -->\n<g id=\"edge2\" class=\"edge\">\n<title>B&#45;&#45;9</title>\n<path fill=\"none\" stroke=\"#000000\" d=\"M50.3574,-110.1019C90.9721,-90.8349 174.1306,-51.3858 214.5934,-32.1909\"/>\n</g>\n<!-- B&#45;&#45;A -->\n<g id=\"edge1\" class=\"edge\">\n<title>B&#45;&#45;A</title>\n<path fill=\"none\" stroke=\"#000000\" d=\"M50.4359,-131.7189C91.0794,-149.9919 174.1848,-187.3555 214.9013,-205.6613\"/>\n</g>\n</g>\n</svg>\n"
          },
          "metadata": {},
          "execution_count": 95
        }
      ]
    },
    {
      "cell_type": "code",
      "source": [
        "p = gv.Graph(format='png')\n",
        "p.engine ='sfdp' \n",
        "p.subgraph(g1)\n",
        "p.subgraph(g2)\n",
        "p.subgraph(g3)\n",
        "\n",
        "p"
      ],
      "metadata": {
        "id": "OsKGQODhqiQ2",
        "colab": {
          "base_uri": "https://localhost:8080/",
          "height": 664
        },
        "outputId": "824ea071-257b-4a86-9f31-ab6a2fcad4f7"
      },
      "execution_count": 96,
      "outputs": [
        {
          "output_type": "execute_result",
          "data": {
            "text/plain": [
              "<graphviz.dot.Graph at 0x7fda17e37650>"
            ],
            "image/svg+xml": "<?xml version=\"1.0\" encoding=\"UTF-8\" standalone=\"no\"?>\n<!DOCTYPE svg PUBLIC \"-//W3C//DTD SVG 1.1//EN\"\n \"http://www.w3.org/Graphics/SVG/1.1/DTD/svg11.dtd\">\n<!-- Generated by graphviz version 2.40.1 (20161225.0304)\n -->\n<!-- Title: %3 Pages: 1 -->\n<svg width=\"879pt\" height=\"482pt\"\n viewBox=\"0.00 0.00 878.69 481.70\" xmlns=\"http://www.w3.org/2000/svg\" xmlns:xlink=\"http://www.w3.org/1999/xlink\">\n<g id=\"graph0\" class=\"graph\" transform=\"scale(1 1) rotate(0) translate(4 477.6986)\">\n<title>%3</title>\n<polygon fill=\"#ffffff\" stroke=\"transparent\" points=\"-4,4 -4,-477.6986 874.6935,-477.6986 874.6935,4 -4,4\"/>\n<!-- 3 -->\n<g id=\"node1\" class=\"node\">\n<title>3</title>\n<ellipse fill=\"none\" stroke=\"#000000\" cx=\"607.1936\" cy=\"-452.4854\" rx=\"27\" ry=\"21.4286\"/>\n<text text-anchor=\"middle\" x=\"607.1936\" y=\"-447.4854\" font-family=\"Times,serif\" font-size=\"20.00\" fill=\"#000000\">3</text>\n</g>\n<!-- 2 -->\n<g id=\"node2\" class=\"node\">\n<title>2</title>\n<ellipse fill=\"none\" stroke=\"#000000\" cx=\"347\" cy=\"-421.3119\" rx=\"27\" ry=\"21.4286\"/>\n<text text-anchor=\"middle\" x=\"347\" y=\"-416.3119\" font-family=\"Times,serif\" font-size=\"20.00\" fill=\"#000000\">2</text>\n</g>\n<!-- 2&#45;&#45;3 -->\n<g id=\"edge3\" class=\"edge\">\n<title>2&#45;&#45;3</title>\n<path fill=\"none\" stroke=\"#000000\" d=\"M372.3948,-428.6282C421.6158,-437.8763 529.5848,-450.8269 580.114,-453.5597\"/>\n</g>\n<!-- 2&#45;&#45;3 -->\n<g id=\"edge4\" class=\"edge\">\n<title>2&#45;&#45;3</title>\n<path fill=\"none\" stroke=\"#000000\" d=\"M374.3777,-420.2539C425.0163,-423.0204 532.6066,-435.931 581.7524,-445.1604\"/>\n</g>\n<!-- 1 -->\n<g id=\"node3\" class=\"node\">\n<title>1</title>\n<ellipse fill=\"none\" stroke=\"#000000\" cx=\"504.2929\" cy=\"-213.2132\" rx=\"27\" ry=\"21.4286\"/>\n<text text-anchor=\"middle\" x=\"504.2929\" y=\"-208.2132\" font-family=\"Times,serif\" font-size=\"20.00\" fill=\"#000000\">1</text>\n</g>\n<!-- 1&#45;&#45;3 -->\n<g id=\"edge5\" class=\"edge\">\n<title>1&#45;&#45;3</title>\n<path fill=\"none\" stroke=\"#000000\" d=\"M509.1201,-234.3393C524.8677,-280.4686 571.7097,-389.4554 594.699,-433.5324\"/>\n</g>\n<!-- 1&#45;&#45;3 -->\n<g id=\"edge6\" class=\"edge\">\n<title>1&#45;&#45;3</title>\n<path fill=\"none\" stroke=\"#000000\" d=\"M516.9316,-232.4429C539.9706,-276.6948 586.6461,-385.3133 602.3636,-431.3511\"/>\n</g>\n<!-- 1&#45;&#45;2 -->\n<g id=\"edge1\" class=\"edge\">\n<title>1&#45;&#45;2</title>\n<path fill=\"none\" stroke=\"#000000\" d=\"M486.8018,-229.5873C453.6794,-267.4355 383.4134,-360.4676 357.0454,-401.4656\"/>\n</g>\n<!-- 1&#45;&#45;2 -->\n<g id=\"edge2\" class=\"edge\">\n<title>1&#45;&#45;2</title>\n<path fill=\"none\" stroke=\"#000000\" d=\"M494.3006,-232.977C468.0048,-273.8845 397.8009,-366.8456 364.608,-404.8042\"/>\n</g>\n<!-- 4 -->\n<g id=\"node4\" class=\"node\">\n<title>4</title>\n<ellipse fill=\"none\" stroke=\"#000000\" cx=\"843.6935\" cy=\"-21.2132\" rx=\"27\" ry=\"21.4286\"/>\n<text text-anchor=\"middle\" x=\"843.6935\" y=\"-16.2132\" font-family=\"Times,serif\" font-size=\"20.00\" fill=\"#000000\">1&#39;</text>\n</g>\n<!-- 5 -->\n<g id=\"node5\" class=\"node\">\n<title>5</title>\n<ellipse fill=\"none\" stroke=\"#000000\" cx=\"678.8884\" cy=\"-21.2132\" rx=\"27\" ry=\"21.4286\"/>\n<text text-anchor=\"middle\" x=\"678.8884\" y=\"-16.2132\" font-family=\"Times,serif\" font-size=\"20.00\" fill=\"#000000\">3</text>\n</g>\n<!-- 5&#45;&#45;4 -->\n<g id=\"edge11\" class=\"edge\">\n<title>5&#45;&#45;4</title>\n<path fill=\"none\" stroke=\"#000000\" d=\"M705.3672,-26.328C736.1216,-28.5098 786.5541,-28.5083 817.2805,-26.3234\"/>\n</g>\n<!-- 5&#45;&#45;4 -->\n<g id=\"edge12\" class=\"edge\">\n<title>5&#45;&#45;4</title>\n<path fill=\"none\" stroke=\"#000000\" d=\"M705.3672,-16.0984C736.1216,-13.9166 786.5541,-13.9181 817.2805,-16.103\"/>\n</g>\n<!-- 6 -->\n<g id=\"node6\" class=\"node\">\n<title>6</title>\n<ellipse fill=\"none\" stroke=\"#000000\" cx=\"504.1026\" cy=\"-21.2132\" rx=\"27\" ry=\"21.4286\"/>\n<text text-anchor=\"middle\" x=\"504.1026\" y=\"-16.2132\" font-family=\"Times,serif\" font-size=\"20.00\" fill=\"#000000\">2</text>\n</g>\n<!-- 6&#45;&#45;5 -->\n<g id=\"edge9\" class=\"edge\">\n<title>6&#45;&#45;5</title>\n<path fill=\"none\" stroke=\"#000000\" d=\"M530.6488,-26.2226C563.5962,-28.5443 619.4491,-28.5434 652.3793,-26.2199\"/>\n</g>\n<!-- 6&#45;&#45;5 -->\n<g id=\"edge10\" class=\"edge\">\n<title>6&#45;&#45;5</title>\n<path fill=\"none\" stroke=\"#000000\" d=\"M530.6488,-16.2038C563.5962,-13.8821 619.4491,-13.883 652.3793,-16.2065\"/>\n</g>\n<!-- 7 -->\n<g id=\"node7\" class=\"node\">\n<title>7</title>\n<ellipse fill=\"none\" stroke=\"#000000\" cx=\"347\" cy=\"-21.2132\" rx=\"27\" ry=\"21.4286\"/>\n<text text-anchor=\"middle\" x=\"347\" y=\"-16.2132\" font-family=\"Times,serif\" font-size=\"20.00\" fill=\"#000000\">1</text>\n</g>\n<!-- 7&#45;&#45;6 -->\n<g id=\"edge7\" class=\"edge\">\n<title>7&#45;&#45;6</title>\n<path fill=\"none\" stroke=\"#000000\" d=\"M373.2954,-26.405C402.2957,-28.4806 448.6869,-28.4826 477.7214,-26.4111\"/>\n</g>\n<!-- 7&#45;&#45;6 -->\n<g id=\"edge8\" class=\"edge\">\n<title>7&#45;&#45;6</title>\n<path fill=\"none\" stroke=\"#000000\" d=\"M373.2954,-16.0214C402.2957,-13.9458 448.6869,-13.9438 477.7214,-16.0153\"/>\n</g>\n<!-- 8 -->\n<g id=\"node8\" class=\"node\">\n<title>8</title>\n<ellipse fill=\"none\" stroke=\"#000000\" cx=\"445.2669\" cy=\"-120.8737\" rx=\"27\" ry=\"21.4286\"/>\n<text text-anchor=\"middle\" x=\"445.2669\" y=\"-115.8737\" font-family=\"Times,serif\" font-size=\"20.00\" fill=\"#000000\">1&#39;</text>\n</g>\n<!-- 9 -->\n<g id=\"node9\" class=\"node\">\n<title>9</title>\n<ellipse fill=\"none\" stroke=\"#000000\" cx=\"237.7343\" cy=\"-21.2132\" rx=\"27\" ry=\"21.4286\"/>\n<text text-anchor=\"middle\" x=\"237.7343\" y=\"-16.2132\" font-family=\"Times,serif\" font-size=\"20.00\" fill=\"#000000\">3</text>\n</g>\n<!-- 9&#45;&#45;8 -->\n<g id=\"edge18\" class=\"edge\">\n<title>9&#45;&#45;8</title>\n<path fill=\"none\" stroke=\"#000000\" d=\"M261.1375,-32.4518C301.1017,-51.6433 382.0435,-90.5128 421.9492,-109.6762\"/>\n</g>\n<!-- A -->\n<g id=\"node10\" class=\"node\">\n<title>A</title>\n<ellipse fill=\"none\" stroke=\"#000000\" cx=\"238.4422\" cy=\"-216.2451\" rx=\"27\" ry=\"21.4286\"/>\n<text text-anchor=\"middle\" x=\"238.4422\" y=\"-211.2451\" font-family=\"Times,serif\" font-size=\"20.00\" fill=\"#000000\">2</text>\n</g>\n<!-- A&#45;&#45;8 -->\n<g id=\"edge17\" class=\"edge\">\n<title>A&#45;&#45;8</title>\n<path fill=\"none\" stroke=\"#000000\" d=\"M261.7656,-205.4902C301.4879,-187.1734 381.8315,-150.1251 421.7114,-131.7356\"/>\n</g>\n<!-- A&#45;&#45;9 -->\n<g id=\"edge15\" class=\"edge\">\n<title>A&#45;&#45;9</title>\n<path fill=\"none\" stroke=\"#000000\" d=\"M242.7666,-194.986C245.7624,-157.4586 245.4801,-79.9002 242.2106,-42.4141\"/>\n</g>\n<!-- A&#45;&#45;9 -->\n<g id=\"edge16\" class=\"edge\">\n<title>A&#45;&#45;9</title>\n<path fill=\"none\" stroke=\"#000000\" d=\"M233.9636,-195.018C230.6954,-157.5133 230.4146,-79.9549 233.4119,-42.4461\"/>\n</g>\n<!-- B -->\n<g id=\"node11\" class=\"node\">\n<title>B</title>\n<ellipse fill=\"none\" stroke=\"#000000\" cx=\"27\" cy=\"-121.1823\" rx=\"27\" ry=\"21.4286\"/>\n<text text-anchor=\"middle\" x=\"27\" y=\"-116.1823\" font-family=\"Times,serif\" font-size=\"20.00\" fill=\"#000000\">1</text>\n</g>\n<!-- B&#45;&#45;9 -->\n<g id=\"edge14\" class=\"edge\">\n<title>B&#45;&#45;9</title>\n<path fill=\"none\" stroke=\"#000000\" d=\"M50.3574,-110.1019C90.9721,-90.8349 174.1306,-51.3858 214.5934,-32.1909\"/>\n</g>\n<!-- B&#45;&#45;A -->\n<g id=\"edge13\" class=\"edge\">\n<title>B&#45;&#45;A</title>\n<path fill=\"none\" stroke=\"#000000\" d=\"M50.4359,-131.7189C91.0794,-149.9919 174.1848,-187.3555 214.9013,-205.6613\"/>\n</g>\n</g>\n</svg>\n"
          },
          "metadata": {},
          "execution_count": 96
        }
      ]
    },
    {
      "cell_type": "code",
      "source": [
        "g = gv.Graph(format='png')\n",
        "g.attr('node', fontsize='20')\n",
        "g.node('4')\n",
        "g.node('3')\n",
        "g.node('2')\n",
        "g.node('1')\n",
        "g.edges([\"12\", \"23\",\"34\", '41'])\n",
        "g.engine = 'sfdp'\n",
        "g.render('evenGraph4_1')\n",
        "g"
      ],
      "metadata": {
        "id": "i3R9stovxI5Y",
        "colab": {
          "base_uri": "https://localhost:8080/",
          "height": 513
        },
        "outputId": "c2944e4c-0d82-44af-b681-461f830e6069"
      },
      "execution_count": 97,
      "outputs": [
        {
          "output_type": "execute_result",
          "data": {
            "text/plain": [
              "<graphviz.dot.Graph at 0x7fda17e4d650>"
            ],
            "image/svg+xml": "<?xml version=\"1.0\" encoding=\"UTF-8\" standalone=\"no\"?>\n<!DOCTYPE svg PUBLIC \"-//W3C//DTD SVG 1.1//EN\"\n \"http://www.w3.org/Graphics/SVG/1.1/DTD/svg11.dtd\">\n<!-- Generated by graphviz version 2.40.1 (20161225.0304)\n -->\n<!-- Title: %3 Pages: 1 -->\n<svg width=\"383pt\" height=\"369pt\"\n viewBox=\"0.00 0.00 382.74 368.59\" xmlns=\"http://www.w3.org/2000/svg\" xmlns:xlink=\"http://www.w3.org/1999/xlink\">\n<g id=\"graph0\" class=\"graph\" transform=\"scale(1 1) rotate(0) translate(4 364.5908)\">\n<title>%3</title>\n<polygon fill=\"#ffffff\" stroke=\"transparent\" points=\"-4,4 -4,-364.5908 378.7428,-364.5908 378.7428,4 -4,4\"/>\n<!-- 4 -->\n<g id=\"node1\" class=\"node\">\n<title>4</title>\n<ellipse fill=\"none\" stroke=\"#000000\" cx=\"347.7428\" cy=\"-235.3858\" rx=\"27\" ry=\"21.4286\"/>\n<text text-anchor=\"middle\" x=\"347.7428\" y=\"-230.3858\" font-family=\"Times,serif\" font-size=\"20.00\" fill=\"#000000\">4</text>\n</g>\n<!-- 1 -->\n<g id=\"node4\" class=\"node\">\n<title>1</title>\n<ellipse fill=\"none\" stroke=\"#000000\" cx=\"242.6146\" cy=\"-21.2132\" rx=\"27\" ry=\"21.4286\"/>\n<text text-anchor=\"middle\" x=\"242.6146\" y=\"-16.2132\" font-family=\"Times,serif\" font-size=\"20.00\" fill=\"#000000\">1</text>\n</g>\n<!-- 4&#45;&#45;1 -->\n<g id=\"edge4\" class=\"edge\">\n<title>4&#45;&#45;1</title>\n<path fill=\"none\" stroke=\"#000000\" d=\"M337.8526,-215.2369C317.7649,-174.3133 272.403,-81.8997 252.402,-41.1525\"/>\n</g>\n<!-- 3 -->\n<g id=\"node2\" class=\"node\">\n<title>3</title>\n<ellipse fill=\"none\" stroke=\"#000000\" cx=\"131.7455\" cy=\"-339.3776\" rx=\"27\" ry=\"21.4286\"/>\n<text text-anchor=\"middle\" x=\"131.7455\" y=\"-334.3776\" font-family=\"Times,serif\" font-size=\"20.00\" fill=\"#000000\">3</text>\n</g>\n<!-- 3&#45;&#45;4 -->\n<g id=\"edge3\" class=\"edge\">\n<title>3&#45;&#45;4</title>\n<path fill=\"none\" stroke=\"#000000\" d=\"M154.861,-328.2486C196.3255,-308.2855 282.8866,-266.6108 324.467,-246.5919\"/>\n</g>\n<!-- 2 -->\n<g id=\"node3\" class=\"node\">\n<title>2</title>\n<ellipse fill=\"none\" stroke=\"#000000\" cx=\"27\" cy=\"-125.408\" rx=\"27\" ry=\"21.4286\"/>\n<text text-anchor=\"middle\" x=\"27\" y=\"-120.408\" font-family=\"Times,serif\" font-size=\"20.00\" fill=\"#000000\">2</text>\n</g>\n<!-- 2&#45;&#45;3 -->\n<g id=\"edge2\" class=\"edge\">\n<title>2&#45;&#45;3</title>\n<path fill=\"none\" stroke=\"#000000\" d=\"M36.8542,-145.5377C56.8688,-186.4226 102.0655,-278.7486 121.9938,-319.4572\"/>\n</g>\n<!-- 1&#45;&#45;2 -->\n<g id=\"edge1\" class=\"edge\">\n<title>1&#45;&#45;2</title>\n<path fill=\"none\" stroke=\"#000000\" d=\"M219.5401,-32.3639C178.149,-52.3659 91.7413,-94.122 50.2345,-114.18\"/>\n</g>\n</g>\n</svg>\n"
          },
          "metadata": {},
          "execution_count": 97
        }
      ]
    },
    {
      "cell_type": "code",
      "source": [
        "g = gv.Graph(format='png')\n",
        "g.attr('node', fontsize='20')\n",
        "g.node('3')\n",
        "g.node('2')\n",
        "g.node('1')\n",
        "g.edges([\"12\", \"12\",\"23\", '23'])\n",
        "g.engine = 'sfdp'\n",
        "g.render('evenGraph4_2')\n",
        "g"
      ],
      "metadata": {
        "id": "k4EPWf2RITlQ",
        "colab": {
          "base_uri": "https://localhost:8080/",
          "height": 88
        },
        "outputId": "1c4f350f-9fb8-465f-dddc-f2e1c644d722"
      },
      "execution_count": 98,
      "outputs": [
        {
          "output_type": "execute_result",
          "data": {
            "text/plain": [
              "<graphviz.dot.Graph at 0x7fda17e4de50>"
            ],
            "image/svg+xml": "<?xml version=\"1.0\" encoding=\"UTF-8\" standalone=\"no\"?>\n<!DOCTYPE svg PUBLIC \"-//W3C//DTD SVG 1.1//EN\"\n \"http://www.w3.org/Graphics/SVG/1.1/DTD/svg11.dtd\">\n<!-- Generated by graphviz version 2.40.1 (20161225.0304)\n -->\n<!-- Title: %3 Pages: 1 -->\n<svg width=\"434pt\" height=\"50pt\"\n viewBox=\"0.00 0.00 434.45 50.43\" xmlns=\"http://www.w3.org/2000/svg\" xmlns:xlink=\"http://www.w3.org/1999/xlink\">\n<g id=\"graph0\" class=\"graph\" transform=\"scale(1 1) rotate(0) translate(4 46.4264)\">\n<title>%3</title>\n<polygon fill=\"#ffffff\" stroke=\"transparent\" points=\"-4,4 -4,-46.4264 430.4523,-46.4264 430.4523,4 -4,4\"/>\n<!-- 3 -->\n<g id=\"node1\" class=\"node\">\n<title>3</title>\n<ellipse fill=\"none\" stroke=\"#000000\" cx=\"399.4523\" cy=\"-21.2132\" rx=\"27\" ry=\"21.4286\"/>\n<text text-anchor=\"middle\" x=\"399.4523\" y=\"-16.2132\" font-family=\"Times,serif\" font-size=\"20.00\" fill=\"#000000\">3</text>\n</g>\n<!-- 2 -->\n<g id=\"node2\" class=\"node\">\n<title>2</title>\n<ellipse fill=\"none\" stroke=\"#000000\" cx=\"221.6902\" cy=\"-21.2132\" rx=\"27\" ry=\"21.4286\"/>\n<text text-anchor=\"middle\" x=\"221.6902\" y=\"-16.2132\" font-family=\"Times,serif\" font-size=\"20.00\" fill=\"#000000\">2</text>\n</g>\n<!-- 2&#45;&#45;3 -->\n<g id=\"edge3\" class=\"edge\">\n<title>2&#45;&#45;3</title>\n<path fill=\"none\" stroke=\"#000000\" d=\"M248.303,-26.1957C281.9116,-28.5549 339.3913,-28.5524 372.9483,-26.188\"/>\n</g>\n<!-- 2&#45;&#45;3 -->\n<g id=\"edge4\" class=\"edge\">\n<title>2&#45;&#45;3</title>\n<path fill=\"none\" stroke=\"#000000\" d=\"M248.303,-16.2307C281.9116,-13.8715 339.3913,-13.874 372.9483,-16.2384\"/>\n</g>\n<!-- 1 -->\n<g id=\"node3\" class=\"node\">\n<title>1</title>\n<ellipse fill=\"none\" stroke=\"#000000\" cx=\"27\" cy=\"-21.2132\" rx=\"27\" ry=\"21.4286\"/>\n<text text-anchor=\"middle\" x=\"27\" y=\"-16.2132\" font-family=\"Times,serif\" font-size=\"20.00\" fill=\"#000000\">1</text>\n</g>\n<!-- 1&#45;&#45;2 -->\n<g id=\"edge1\" class=\"edge\">\n<title>1&#45;&#45;2</title>\n<path fill=\"none\" stroke=\"#000000\" d=\"M53.6626,-26.0301C90.9455,-28.615 158.2404,-28.6076 195.3496,-26.0076\"/>\n</g>\n<!-- 1&#45;&#45;2 -->\n<g id=\"edge2\" class=\"edge\">\n<title>1&#45;&#45;2</title>\n<path fill=\"none\" stroke=\"#000000\" d=\"M53.6626,-16.3964C90.9455,-13.8114 158.2404,-13.8188 195.3496,-16.4188\"/>\n</g>\n</g>\n</svg>\n"
          },
          "metadata": {},
          "execution_count": 98
        }
      ]
    },
    {
      "cell_type": "code",
      "source": [
        "g = gv.Graph(format='png')\n",
        "g.attr('node', fontsize='20')\n",
        "g.node('2')\n",
        "g.node('1')\n",
        "g.edges([\"12\", \"12\", '12', '12'])\n",
        "g.engine = 'sfdp'\n",
        "g.render('evenGraph4_3')\n",
        "g"
      ],
      "metadata": {
        "id": "DWHN9sz6Ii34",
        "colab": {
          "base_uri": "https://localhost:8080/",
          "height": 88
        },
        "outputId": "366d0510-2ed4-4e91-ef00-9a4c866316bf"
      },
      "execution_count": 99,
      "outputs": [
        {
          "output_type": "execute_result",
          "data": {
            "text/plain": [
              "<graphviz.dot.Graph at 0x7fda17e47810>"
            ],
            "image/svg+xml": "<?xml version=\"1.0\" encoding=\"UTF-8\" standalone=\"no\"?>\n<!DOCTYPE svg PUBLIC \"-//W3C//DTD SVG 1.1//EN\"\n \"http://www.w3.org/Graphics/SVG/1.1/DTD/svg11.dtd\">\n<!-- Generated by graphviz version 2.40.1 (20161225.0304)\n -->\n<!-- Title: %3 Pages: 1 -->\n<svg width=\"263pt\" height=\"50pt\"\n viewBox=\"0.00 0.00 263.11 50.43\" xmlns=\"http://www.w3.org/2000/svg\" xmlns:xlink=\"http://www.w3.org/1999/xlink\">\n<g id=\"graph0\" class=\"graph\" transform=\"scale(1 1) rotate(0) translate(4 46.4264)\">\n<title>%3</title>\n<polygon fill=\"#ffffff\" stroke=\"transparent\" points=\"-4,4 -4,-46.4264 259.1145,-46.4264 259.1145,4 -4,4\"/>\n<!-- 2 -->\n<g id=\"node1\" class=\"node\">\n<title>2</title>\n<ellipse fill=\"none\" stroke=\"#000000\" cx=\"228.1145\" cy=\"-21.2132\" rx=\"27\" ry=\"21.4286\"/>\n<text text-anchor=\"middle\" x=\"228.1145\" y=\"-16.2132\" font-family=\"Times,serif\" font-size=\"20.00\" fill=\"#000000\">2</text>\n</g>\n<!-- 1 -->\n<g id=\"node2\" class=\"node\">\n<title>1</title>\n<ellipse fill=\"none\" stroke=\"#000000\" cx=\"27\" cy=\"-21.2132\" rx=\"27\" ry=\"21.4286\"/>\n<text text-anchor=\"middle\" x=\"27\" y=\"-16.2132\" font-family=\"Times,serif\" font-size=\"20.00\" fill=\"#000000\">1</text>\n</g>\n<!-- 1&#45;&#45;2 -->\n<g id=\"edge1\" class=\"edge\">\n<title>1&#45;&#45;2</title>\n<path fill=\"none\" stroke=\"#000000\" d=\"M48.5228,-34.3243C87.2316,-43.8556 168.1504,-43.8428 206.7465,-34.2861\"/>\n</g>\n<!-- 1&#45;&#45;2 -->\n<g id=\"edge2\" class=\"edge\">\n<title>1&#45;&#45;2</title>\n<path fill=\"none\" stroke=\"#000000\" d=\"M48.5228,-8.1021C87.2316,1.4292 168.1504,1.4164 206.7465,-8.1403\"/>\n</g>\n<!-- 1&#45;&#45;2 -->\n<g id=\"edge3\" class=\"edge\">\n<title>1&#45;&#45;2</title>\n<path fill=\"none\" stroke=\"#000000\" d=\"M53.7064,-16.4532C92.2792,-13.795 163.1627,-13.7999 201.6179,-16.4677\"/>\n</g>\n<!-- 1&#45;&#45;2 -->\n<g id=\"edge4\" class=\"edge\">\n<title>1&#45;&#45;2</title>\n<path fill=\"none\" stroke=\"#000000\" d=\"M53.7064,-25.9732C92.2792,-28.6314 163.1627,-28.6265 201.6179,-25.9587\"/>\n</g>\n</g>\n</svg>\n"
          },
          "metadata": {},
          "execution_count": 99
        }
      ]
    },
    {
      "cell_type": "code",
      "source": [
        "g = gv.Graph(format='png')\n",
        "g.attr('node', fontsize='20')\n",
        "g.node('7')\n",
        "g.node('6')\n",
        "g.node('5')\n",
        "g.node('4')\n",
        "g.node('3')\n",
        "g.node('2')\n",
        "g.node('1')\n",
        "g.attr('edge', label='2', fontsize='16')\n",
        "g.edges([\"12\", \"23\",\"34\", '41', '45', '56', '67', '74'])\n",
        "g.engine = 'sfdp'\n",
        "g.render('twin_4cycle')\n",
        "g"
      ],
      "metadata": {
        "id": "i2IV5fcJIsqk",
        "colab": {
          "base_uri": "https://localhost:8080/",
          "height": 276
        },
        "outputId": "3e57dfc2-4041-4e94-aa1e-c2c8b77e233f"
      },
      "execution_count": 100,
      "outputs": [
        {
          "output_type": "execute_result",
          "data": {
            "text/plain": [
              "<graphviz.dot.Graph at 0x7fda17e57f10>"
            ],
            "image/svg+xml": "<?xml version=\"1.0\" encoding=\"UTF-8\" standalone=\"no\"?>\n<!DOCTYPE svg PUBLIC \"-//W3C//DTD SVG 1.1//EN\"\n \"http://www.w3.org/Graphics/SVG/1.1/DTD/svg11.dtd\">\n<!-- Generated by graphviz version 2.40.1 (20161225.0304)\n -->\n<!-- Title: %3 Pages: 1 -->\n<svg width=\"618pt\" height=\"191pt\"\n viewBox=\"0.00 0.00 618.36 191.35\" xmlns=\"http://www.w3.org/2000/svg\" xmlns:xlink=\"http://www.w3.org/1999/xlink\">\n<g id=\"graph0\" class=\"graph\" transform=\"scale(1 1) rotate(0) translate(4 187.3548)\">\n<title>%3</title>\n<polygon fill=\"#ffffff\" stroke=\"transparent\" points=\"-4,4 -4,-187.3548 614.3641,-187.3548 614.3641,4 -4,4\"/>\n<!-- 7 -->\n<g id=\"node1\" class=\"node\">\n<title>7</title>\n<ellipse fill=\"none\" stroke=\"#000000\" cx=\"147.2554\" cy=\"-162.1416\" rx=\"27\" ry=\"21.4286\"/>\n<text text-anchor=\"middle\" x=\"147.2554\" y=\"-157.1416\" font-family=\"Times,serif\" font-size=\"20.00\" fill=\"#000000\">7</text>\n</g>\n<!-- 4 -->\n<g id=\"node4\" class=\"node\">\n<title>4</title>\n<ellipse fill=\"none\" stroke=\"#000000\" cx=\"305.113\" cy=\"-91.6537\" rx=\"27\" ry=\"21.4286\"/>\n<text text-anchor=\"middle\" x=\"305.113\" y=\"-86.6537\" font-family=\"Times,serif\" font-size=\"20.00\" fill=\"#000000\">4</text>\n</g>\n<!-- 7&#45;&#45;4 -->\n<g id=\"edge8\" class=\"edge\">\n<title>7&#45;&#45;4</title>\n<path fill=\"none\" stroke=\"#000000\" d=\"M170.8883,-151.5888C200.7337,-138.262 251.7772,-115.4697 281.5767,-102.1633\"/>\n<text text-anchor=\"middle\" x=\"221.7325\" y=\"-132.0761\" font-family=\"Times,serif\" font-size=\"16.00\" fill=\"#000000\">2</text>\n</g>\n<!-- 6 -->\n<g id=\"node2\" class=\"node\">\n<title>6</title>\n<ellipse fill=\"none\" stroke=\"#000000\" cx=\"27\" cy=\"-91.6966\" rx=\"27\" ry=\"21.4286\"/>\n<text text-anchor=\"middle\" x=\"27\" y=\"-86.6966\" font-family=\"Times,serif\" font-size=\"20.00\" fill=\"#000000\">6</text>\n</g>\n<!-- 6&#45;&#45;7 -->\n<g id=\"edge7\" class=\"edge\">\n<title>6&#45;&#45;7</title>\n<path fill=\"none\" stroke=\"#000000\" d=\"M48.7774,-104.4537C70.4363,-117.1414 103.4896,-136.5038 125.2337,-149.2414\"/>\n<text text-anchor=\"middle\" x=\"82.5055\" y=\"-132.0475\" font-family=\"Times,serif\" font-size=\"16.00\" fill=\"#000000\">2</text>\n</g>\n<!-- 5 -->\n<g id=\"node3\" class=\"node\">\n<title>5</title>\n<ellipse fill=\"none\" stroke=\"#000000\" cx=\"147.0556\" cy=\"-21.3078\" rx=\"27\" ry=\"21.4286\"/>\n<text text-anchor=\"middle\" x=\"147.0556\" y=\"-16.3078\" font-family=\"Times,serif\" font-size=\"20.00\" fill=\"#000000\">5</text>\n</g>\n<!-- 5&#45;&#45;6 -->\n<g id=\"edge6\" class=\"edge\">\n<title>5&#45;&#45;6</title>\n<path fill=\"none\" stroke=\"#000000\" d=\"M125.3144,-34.0547C103.6915,-46.7323 70.6931,-66.0793 48.9851,-78.8067\"/>\n<text text-anchor=\"middle\" x=\"82.6498\" y=\"-61.6307\" font-family=\"Times,serif\" font-size=\"16.00\" fill=\"#000000\">2</text>\n</g>\n<!-- 4&#45;&#45;5 -->\n<g id=\"edge5\" class=\"edge\">\n<title>4&#45;&#45;5</title>\n<path fill=\"none\" stroke=\"#000000\" d=\"M281.4502,-81.1222C251.567,-67.8223 200.4589,-45.0758 170.6216,-31.7963\"/>\n<text text-anchor=\"middle\" x=\"221.5359\" y=\"-61.6592\" font-family=\"Times,serif\" font-size=\"16.00\" fill=\"#000000\">2</text>\n</g>\n<!-- 1 -->\n<g id=\"node7\" class=\"node\">\n<title>1</title>\n<ellipse fill=\"none\" stroke=\"#000000\" cx=\"463.2034\" cy=\"-21.2132\" rx=\"27\" ry=\"21.4286\"/>\n<text text-anchor=\"middle\" x=\"463.2034\" y=\"-16.2132\" font-family=\"Times,serif\" font-size=\"20.00\" fill=\"#000000\">1</text>\n</g>\n<!-- 4&#45;&#45;1 -->\n<g id=\"edge4\" class=\"edge\">\n<title>4&#45;&#45;1</title>\n<path fill=\"none\" stroke=\"#000000\" d=\"M328.7807,-81.1081C358.6701,-67.7902 409.7889,-45.0132 439.6324,-31.7158\"/>\n<text text-anchor=\"middle\" x=\"379.7066\" y=\"-61.6119\" font-family=\"Times,serif\" font-size=\"16.00\" fill=\"#000000\">2</text>\n</g>\n<!-- 3 -->\n<g id=\"node5\" class=\"node\">\n<title>3</title>\n<ellipse fill=\"none\" stroke=\"#000000\" cx=\"463.2478\" cy=\"-162.0433\" rx=\"27\" ry=\"21.4286\"/>\n<text text-anchor=\"middle\" x=\"463.2478\" y=\"-157.0433\" font-family=\"Times,serif\" font-size=\"20.00\" fill=\"#000000\">3</text>\n</g>\n<!-- 3&#45;&#45;4 -->\n<g id=\"edge3\" class=\"edge\">\n<title>3&#45;&#45;4</title>\n<path fill=\"none\" stroke=\"#000000\" d=\"M439.5735,-151.5053C409.6757,-138.197 358.5425,-115.4365 328.6906,-102.1487\"/>\n<text text-anchor=\"middle\" x=\"379.632\" y=\"-132.027\" font-family=\"Times,serif\" font-size=\"16.00\" fill=\"#000000\">2</text>\n</g>\n<!-- 2 -->\n<g id=\"node6\" class=\"node\">\n<title>2</title>\n<ellipse fill=\"none\" stroke=\"#000000\" cx=\"583.3641\" cy=\"-91.7444\" rx=\"27\" ry=\"21.4286\"/>\n<text text-anchor=\"middle\" x=\"583.3641\" y=\"-86.7444\" font-family=\"Times,serif\" font-size=\"20.00\" fill=\"#000000\">2</text>\n</g>\n<!-- 2&#45;&#45;3 -->\n<g id=\"edge2\" class=\"edge\">\n<title>2&#45;&#45;3</title>\n<path fill=\"none\" stroke=\"#000000\" d=\"M561.6119,-104.475C539.9781,-117.1364 506.9631,-136.4586 485.2441,-149.1698\"/>\n<text text-anchor=\"middle\" x=\"518.928\" y=\"-132.0224\" font-family=\"Times,serif\" font-size=\"16.00\" fill=\"#000000\">2</text>\n</g>\n<!-- 1&#45;&#45;2 -->\n<g id=\"edge1\" class=\"edge\">\n<title>1&#45;&#45;2</title>\n<path fill=\"none\" stroke=\"#000000\" d=\"M484.9636,-33.9859C506.6055,-46.6891 539.6327,-66.0752 561.3597,-78.8284\"/>\n<text text-anchor=\"middle\" x=\"518.6617\" y=\"-61.6071\" font-family=\"Times,serif\" font-size=\"16.00\" fill=\"#000000\">2</text>\n</g>\n</g>\n</svg>\n"
          },
          "metadata": {},
          "execution_count": 100
        }
      ]
    },
    {
      "cell_type": "code",
      "source": [
        "A = string_to_np_array('2 0 2 2 0 2 0 0 0 2 0 0 0 0 2 0 0 0 2 0 2')\n",
        "getGraphFromNumpy(A)"
      ],
      "metadata": {
        "id": "vFCe4nMLI83J",
        "colab": {
          "base_uri": "https://localhost:8080/",
          "height": 656
        },
        "outputId": "84a4f082-55fe-449e-f7d5-130cfb57e270"
      },
      "execution_count": 101,
      "outputs": [
        {
          "output_type": "execute_result",
          "data": {
            "text/plain": [
              "<graphviz.dot.Graph at 0x7fda17e57e90>"
            ],
            "image/svg+xml": "<?xml version=\"1.0\" encoding=\"UTF-8\" standalone=\"no\"?>\n<!DOCTYPE svg PUBLIC \"-//W3C//DTD SVG 1.1//EN\"\n \"http://www.w3.org/Graphics/SVG/1.1/DTD/svg11.dtd\">\n<!-- Generated by graphviz version 2.40.1 (20161225.0304)\n -->\n<!-- Title: %3 Pages: 1 -->\n<svg width=\"94pt\" height=\"476pt\"\n viewBox=\"0.00 0.00 94.00 476.00\" xmlns=\"http://www.w3.org/2000/svg\" xmlns:xlink=\"http://www.w3.org/1999/xlink\">\n<g id=\"graph0\" class=\"graph\" transform=\"scale(1 1) rotate(0) translate(4 472)\">\n<title>%3</title>\n<polygon fill=\"#ffffff\" stroke=\"transparent\" points=\"-4,4 -4,-472 90,-472 90,4 -4,4\"/>\n<!-- 7 -->\n<g id=\"node1\" class=\"node\">\n<title>7</title>\n<ellipse fill=\"none\" stroke=\"#000000\" cx=\"59\" cy=\"-450\" rx=\"27\" ry=\"18\"/>\n<text text-anchor=\"middle\" x=\"59\" y=\"-446.3\" font-family=\"Times,serif\" font-size=\"14.00\" fill=\"#000000\">7</text>\n</g>\n<!-- 6 -->\n<g id=\"node2\" class=\"node\">\n<title>6</title>\n<ellipse fill=\"none\" stroke=\"#000000\" cx=\"27\" cy=\"-378\" rx=\"27\" ry=\"18\"/>\n<text text-anchor=\"middle\" x=\"27\" y=\"-374.3\" font-family=\"Times,serif\" font-size=\"14.00\" fill=\"#000000\">6</text>\n</g>\n<!-- 7&#45;&#45;6 -->\n<g id=\"edge1\" class=\"edge\">\n<title>7&#45;&#45;6</title>\n<path fill=\"none\" stroke=\"#000000\" d=\"M46.1781,-434.0209C39.8712,-422.7521 33.0867,-407.6458 29.0502,-395.9597\"/>\n</g>\n<!-- 7&#45;&#45;6 -->\n<g id=\"edge2\" class=\"edge\">\n<title>7&#45;&#45;6</title>\n<path fill=\"none\" stroke=\"#000000\" d=\"M56.8774,-431.8314C52.83,-420.1668 46.0823,-405.1609 39.8094,-393.9568\"/>\n</g>\n<!-- 4 -->\n<g id=\"node3\" class=\"node\">\n<title>4</title>\n<ellipse fill=\"none\" stroke=\"#000000\" cx=\"59\" cy=\"-234\" rx=\"27\" ry=\"18\"/>\n<text text-anchor=\"middle\" x=\"59\" y=\"-230.3\" font-family=\"Times,serif\" font-size=\"14.00\" fill=\"#000000\">4</text>\n</g>\n<!-- 7&#45;&#45;4 -->\n<g id=\"edge3\" class=\"edge\">\n<title>7&#45;&#45;4</title>\n<path fill=\"none\" stroke=\"#000000\" d=\"M52.7914,-432.0185C52.5553,-421.5247 53.5553,-408.0247 54,-396 55.7741,-348.0328 55.7741,-335.9672 54,-288 53.5553,-275.9753 52.5553,-262.4753 52.7914,-251.9815\"/>\n</g>\n<!-- 7&#45;&#45;4 -->\n<g id=\"edge4\" class=\"edge\">\n<title>7&#45;&#45;4</title>\n<path fill=\"none\" stroke=\"#000000\" d=\"M68.3497,-432.9933C70.4922,-422.3698 71.5414,-408.4004 72,-396 73.7741,-348.0328 73.7741,-335.9672 72,-288 71.5414,-275.5996 70.4922,-261.6302 68.3497,-251.0067\"/>\n</g>\n<!-- 5 -->\n<g id=\"node4\" class=\"node\">\n<title>5</title>\n<ellipse fill=\"none\" stroke=\"#000000\" cx=\"27\" cy=\"-306\" rx=\"27\" ry=\"18\"/>\n<text text-anchor=\"middle\" x=\"27\" y=\"-302.3\" font-family=\"Times,serif\" font-size=\"14.00\" fill=\"#000000\">5</text>\n</g>\n<!-- 6&#45;&#45;5 -->\n<g id=\"edge5\" class=\"edge\">\n<title>6&#45;&#45;5</title>\n<path fill=\"none\" stroke=\"#000000\" d=\"M21.0843,-360.2022C19.9651,-349.0419 19.972,-334.7143 21.105,-323.593\"/>\n</g>\n<!-- 6&#45;&#45;5 -->\n<g id=\"edge6\" class=\"edge\">\n<title>6&#45;&#45;5</title>\n<path fill=\"none\" stroke=\"#000000\" d=\"M32.9157,-360.2022C34.0349,-349.0419 34.028,-334.7143 32.895,-323.593\"/>\n</g>\n<!-- 3 -->\n<g id=\"node5\" class=\"node\">\n<title>3</title>\n<ellipse fill=\"none\" stroke=\"#000000\" cx=\"27\" cy=\"-162\" rx=\"27\" ry=\"18\"/>\n<text text-anchor=\"middle\" x=\"27\" y=\"-158.3\" font-family=\"Times,serif\" font-size=\"14.00\" fill=\"#000000\">3</text>\n</g>\n<!-- 4&#45;&#45;3 -->\n<g id=\"edge9\" class=\"edge\">\n<title>4&#45;&#45;3</title>\n<path fill=\"none\" stroke=\"#000000\" d=\"M46.1781,-218.0209C39.8712,-206.7521 33.0867,-191.6458 29.0502,-179.9597\"/>\n</g>\n<!-- 4&#45;&#45;3 -->\n<g id=\"edge10\" class=\"edge\">\n<title>4&#45;&#45;3</title>\n<path fill=\"none\" stroke=\"#000000\" d=\"M56.8774,-215.8314C52.83,-204.1668 46.0823,-189.1609 39.8094,-177.9568\"/>\n</g>\n<!-- 1 -->\n<g id=\"node6\" class=\"node\">\n<title>1</title>\n<ellipse fill=\"none\" stroke=\"#000000\" cx=\"59\" cy=\"-18\" rx=\"27\" ry=\"18\"/>\n<text text-anchor=\"middle\" x=\"59\" y=\"-14.3\" font-family=\"Times,serif\" font-size=\"14.00\" fill=\"#000000\">1</text>\n</g>\n<!-- 4&#45;&#45;1 -->\n<g id=\"edge11\" class=\"edge\">\n<title>4&#45;&#45;1</title>\n<path fill=\"none\" stroke=\"#000000\" d=\"M52.7914,-216.0185C52.5553,-205.5247 53.5553,-192.0247 54,-180 55.7741,-132.0328 55.7741,-119.9672 54,-72 53.5553,-59.9753 52.5553,-46.4753 52.7914,-35.9815\"/>\n</g>\n<!-- 4&#45;&#45;1 -->\n<g id=\"edge12\" class=\"edge\">\n<title>4&#45;&#45;1</title>\n<path fill=\"none\" stroke=\"#000000\" d=\"M68.3497,-216.9933C70.4922,-206.3698 71.5414,-192.4004 72,-180 73.7741,-132.0328 73.7741,-119.9672 72,-72 71.5414,-59.5996 70.4922,-45.6302 68.3497,-35.0067\"/>\n</g>\n<!-- 5&#45;&#45;4 -->\n<g id=\"edge7\" class=\"edge\">\n<title>5&#45;&#45;4</title>\n<path fill=\"none\" stroke=\"#000000\" d=\"M29.1226,-287.8314C33.17,-276.1668 39.9177,-261.1609 46.1906,-249.9568\"/>\n</g>\n<!-- 5&#45;&#45;4 -->\n<g id=\"edge8\" class=\"edge\">\n<title>5&#45;&#45;4</title>\n<path fill=\"none\" stroke=\"#000000\" d=\"M39.8219,-290.0209C46.1288,-278.7521 52.9133,-263.6458 56.9498,-251.9597\"/>\n</g>\n<!-- 2 -->\n<g id=\"node7\" class=\"node\">\n<title>2</title>\n<ellipse fill=\"none\" stroke=\"#000000\" cx=\"27\" cy=\"-90\" rx=\"27\" ry=\"18\"/>\n<text text-anchor=\"middle\" x=\"27\" y=\"-86.3\" font-family=\"Times,serif\" font-size=\"14.00\" fill=\"#000000\">2</text>\n</g>\n<!-- 3&#45;&#45;2 -->\n<g id=\"edge13\" class=\"edge\">\n<title>3&#45;&#45;2</title>\n<path fill=\"none\" stroke=\"#000000\" d=\"M21.0843,-144.2022C19.9651,-133.0419 19.972,-118.7143 21.105,-107.593\"/>\n</g>\n<!-- 3&#45;&#45;2 -->\n<g id=\"edge14\" class=\"edge\">\n<title>3&#45;&#45;2</title>\n<path fill=\"none\" stroke=\"#000000\" d=\"M32.9157,-144.2022C34.0349,-133.0419 34.028,-118.7143 32.895,-107.593\"/>\n</g>\n<!-- 2&#45;&#45;1 -->\n<g id=\"edge15\" class=\"edge\">\n<title>2&#45;&#45;1</title>\n<path fill=\"none\" stroke=\"#000000\" d=\"M29.1226,-71.8314C33.17,-60.1668 39.9177,-45.1609 46.1906,-33.9568\"/>\n</g>\n<!-- 2&#45;&#45;1 -->\n<g id=\"edge16\" class=\"edge\">\n<title>2&#45;&#45;1</title>\n<path fill=\"none\" stroke=\"#000000\" d=\"M39.8219,-74.0209C46.1288,-62.7521 52.9133,-47.6458 56.9498,-35.9597\"/>\n</g>\n</g>\n</svg>\n"
          },
          "metadata": {},
          "execution_count": 101
        }
      ]
    },
    {
      "cell_type": "code",
      "source": [
        "[f(A) for f in functions4]"
      ],
      "metadata": {
        "colab": {
          "base_uri": "https://localhost:8080/"
        },
        "id": "vr5WYvIqP30v",
        "outputId": "1f1b04ce-4b99-4389-d279-6c59a5fa9a6f"
      },
      "execution_count": 102,
      "outputs": [
        {
          "output_type": "execute_result",
          "data": {
            "text/plain": [
              "[1280.0, 640.0, 256.0]"
            ]
          },
          "metadata": {},
          "execution_count": 102
        }
      ]
    },
    {
      "cell_type": "code",
      "source": [
        "1280/8 - 640/4 + 256/8"
      ],
      "metadata": {
        "colab": {
          "base_uri": "https://localhost:8080/"
        },
        "id": "JygQ1PnIQBPN",
        "outputId": "803c86d7-f5a3-409b-aa54-0ce5f6499389"
      },
      "execution_count": 103,
      "outputs": [
        {
          "output_type": "execute_result",
          "data": {
            "text/plain": [
              "32.0"
            ]
          },
          "metadata": {},
          "execution_count": 103
        }
      ]
    },
    {
      "cell_type": "code",
      "source": [
        "k4 = K(4)\n",
        "k4"
      ],
      "metadata": {
        "id": "hxEQKuMwQQwx",
        "colab": {
          "base_uri": "https://localhost:8080/"
        },
        "outputId": "0f68a9f3-9359-4840-d5e8-ff263544f96d"
      },
      "execution_count": 104,
      "outputs": [
        {
          "output_type": "execute_result",
          "data": {
            "text/plain": [
              "array([[0., 1., 1., 1.],\n",
              "       [1., 0., 1., 1.],\n",
              "       [1., 1., 0., 1.],\n",
              "       [1., 1., 1., 0.]])"
            ]
          },
          "metadata": {},
          "execution_count": 104
        }
      ]
    },
    {
      "cell_type": "code",
      "source": [
        "g = gv.Graph(format='png')\n",
        "g.attr('node', fontsize='20')\n",
        "g = getGraphFromNumpy(string_to_np_array('1 0 1'), g)\n",
        "g.engine = 'sfdp'\n",
        "g.render('series_example')\n",
        "g"
      ],
      "metadata": {
        "colab": {
          "base_uri": "https://localhost:8080/",
          "height": 88
        },
        "id": "GBfyhxr93lJH",
        "outputId": "962284d2-c7bd-4069-ecd1-bc761b5e92b5"
      },
      "execution_count": 105,
      "outputs": [
        {
          "output_type": "execute_result",
          "data": {
            "text/plain": [
              "<graphviz.dot.Graph at 0x7fda17ea6c90>"
            ],
            "image/svg+xml": "<?xml version=\"1.0\" encoding=\"UTF-8\" standalone=\"no\"?>\n<!DOCTYPE svg PUBLIC \"-//W3C//DTD SVG 1.1//EN\"\n \"http://www.w3.org/Graphics/SVG/1.1/DTD/svg11.dtd\">\n<!-- Generated by graphviz version 2.40.1 (20161225.0304)\n -->\n<!-- Title: %3 Pages: 1 -->\n<svg width=\"434pt\" height=\"50pt\"\n viewBox=\"0.00 0.00 434.45 50.43\" xmlns=\"http://www.w3.org/2000/svg\" xmlns:xlink=\"http://www.w3.org/1999/xlink\">\n<g id=\"graph0\" class=\"graph\" transform=\"scale(1 1) rotate(0) translate(4 46.4264)\">\n<title>%3</title>\n<polygon fill=\"#ffffff\" stroke=\"transparent\" points=\"-4,4 -4,-46.4264 430.4523,-46.4264 430.4523,4 -4,4\"/>\n<!-- 3 -->\n<g id=\"node1\" class=\"node\">\n<title>3</title>\n<ellipse fill=\"none\" stroke=\"#000000\" cx=\"399.4523\" cy=\"-21.2132\" rx=\"27\" ry=\"21.4286\"/>\n<text text-anchor=\"middle\" x=\"399.4523\" y=\"-16.2132\" font-family=\"Times,serif\" font-size=\"20.00\" fill=\"#000000\">3</text>\n</g>\n<!-- 2 -->\n<g id=\"node2\" class=\"node\">\n<title>2</title>\n<ellipse fill=\"none\" stroke=\"#000000\" cx=\"221.6902\" cy=\"-21.2132\" rx=\"27\" ry=\"21.4286\"/>\n<text text-anchor=\"middle\" x=\"221.6902\" y=\"-16.2132\" font-family=\"Times,serif\" font-size=\"20.00\" fill=\"#000000\">2</text>\n</g>\n<!-- 3&#45;&#45;2 -->\n<g id=\"edge1\" class=\"edge\">\n<title>3&#45;&#45;2</title>\n<path fill=\"none\" stroke=\"#000000\" d=\"M372.0666,-21.2132C338.5644,-21.2132 282.1985,-21.2132 248.8154,-21.2132\"/>\n</g>\n<!-- 1 -->\n<g id=\"node3\" class=\"node\">\n<title>1</title>\n<ellipse fill=\"none\" stroke=\"#000000\" cx=\"27\" cy=\"-21.2132\" rx=\"27\" ry=\"21.4286\"/>\n<text text-anchor=\"middle\" x=\"27\" y=\"-16.2132\" font-family=\"Times,serif\" font-size=\"20.00\" fill=\"#000000\">1</text>\n</g>\n<!-- 2&#45;&#45;1 -->\n<g id=\"edge2\" class=\"edge\">\n<title>2&#45;&#45;1</title>\n<path fill=\"none\" stroke=\"#000000\" d=\"M194.6194,-21.2132C157.5277,-21.2132 91.2892,-21.2132 54.154,-21.2132\"/>\n</g>\n</g>\n</svg>\n"
          },
          "metadata": {},
          "execution_count": 105
        }
      ]
    },
    {
      "cell_type": "code",
      "source": [
        "g = gv.Graph(format='png')\n",
        "g.attr('node', fontsize='20')\n",
        "g.node('1')\n",
        "g.node('2')\n",
        "g.node('3')\n",
        "g.node('4', \"1'\")\n",
        "g.node('6', \"4'\")\n",
        "g.node('5', '4')\n",
        "g.engine = 'sfdp'\n",
        "g.edges(['12', '12', '13', '34', '34', '56', '56'])\n",
        "g.render('disconnected_example')\n",
        "g"
      ],
      "metadata": {
        "colab": {
          "base_uri": "https://localhost:8080/",
          "height": 184
        },
        "id": "FQH_jfQZ32Ha",
        "outputId": "27054b26-0913-4671-db96-6c05f22bb597"
      },
      "execution_count": 106,
      "outputs": [
        {
          "output_type": "execute_result",
          "data": {
            "text/plain": [
              "<graphviz.dot.Graph at 0x7fda17e54990>"
            ],
            "image/svg+xml": "<?xml version=\"1.0\" encoding=\"UTF-8\" standalone=\"no\"?>\n<!DOCTYPE svg PUBLIC \"-//W3C//DTD SVG 1.1//EN\"\n \"http://www.w3.org/Graphics/SVG/1.1/DTD/svg11.dtd\">\n<!-- Generated by graphviz version 2.40.1 (20161225.0304)\n -->\n<!-- Title: %3 Pages: 1 -->\n<svg width=\"587pt\" height=\"122pt\"\n viewBox=\"0.00 0.00 587.11 122.43\" xmlns=\"http://www.w3.org/2000/svg\" xmlns:xlink=\"http://www.w3.org/1999/xlink\">\n<g id=\"graph0\" class=\"graph\" transform=\"scale(1 1) rotate(0) translate(4 118.4264)\">\n<title>%3</title>\n<polygon fill=\"#ffffff\" stroke=\"transparent\" points=\"-4,4 -4,-118.4264 583.1145,-118.4264 583.1145,4 -4,4\"/>\n<!-- 1 -->\n<g id=\"node1\" class=\"node\">\n<title>1</title>\n<ellipse fill=\"none\" stroke=\"#000000\" cx=\"190.9034\" cy=\"-21.2132\" rx=\"27\" ry=\"21.4286\"/>\n<text text-anchor=\"middle\" x=\"190.9034\" y=\"-16.2132\" font-family=\"Times,serif\" font-size=\"20.00\" fill=\"#000000\">1</text>\n</g>\n<!-- 2 -->\n<g id=\"node2\" class=\"node\">\n<title>2</title>\n<ellipse fill=\"none\" stroke=\"#000000\" cx=\"27\" cy=\"-21.2139\" rx=\"27\" ry=\"21.4286\"/>\n<text text-anchor=\"middle\" x=\"27\" y=\"-16.2139\" font-family=\"Times,serif\" font-size=\"20.00\" fill=\"#000000\">2</text>\n</g>\n<!-- 1&#45;&#45;2 -->\n<g id=\"edge1\" class=\"edge\">\n<title>1&#45;&#45;2</title>\n<path fill=\"none\" stroke=\"#000000\" d=\"M164.5694,-16.0985C133.9833,-13.9168 83.8268,-13.9186 53.2685,-16.1036\"/>\n</g>\n<!-- 1&#45;&#45;2 -->\n<g id=\"edge2\" class=\"edge\">\n<title>1&#45;&#45;2</title>\n<path fill=\"none\" stroke=\"#000000\" d=\"M164.5695,-26.3281C133.9833,-28.5101 83.8268,-28.5087 53.2686,-26.324\"/>\n</g>\n<!-- 3 -->\n<g id=\"node3\" class=\"node\">\n<title>3</title>\n<ellipse fill=\"none\" stroke=\"#000000\" cx=\"361.8426\" cy=\"-21.2136\" rx=\"27\" ry=\"21.4286\"/>\n<text text-anchor=\"middle\" x=\"361.8426\" y=\"-16.2136\" font-family=\"Times,serif\" font-size=\"20.00\" fill=\"#000000\">3</text>\n</g>\n<!-- 1&#45;&#45;3 -->\n<g id=\"edge3\" class=\"edge\">\n<title>1&#45;&#45;3</title>\n<path fill=\"none\" stroke=\"#000000\" d=\"M217.9892,-21.2133C249.903,-21.2133 302.6197,-21.2134 334.601,-21.2135\"/>\n</g>\n<!-- 4 -->\n<g id=\"node4\" class=\"node\">\n<title>4</title>\n<ellipse fill=\"none\" stroke=\"#000000\" cx=\"525.9032\" cy=\"-21.2138\" rx=\"27\" ry=\"21.4286\"/>\n<text text-anchor=\"middle\" x=\"525.9032\" y=\"-16.2138\" font-family=\"Times,serif\" font-size=\"20.00\" fill=\"#000000\">1&#39;</text>\n</g>\n<!-- 3&#45;&#45;4 -->\n<g id=\"edge4\" class=\"edge\">\n<title>3&#45;&#45;4</title>\n<path fill=\"none\" stroke=\"#000000\" d=\"M388.2017,-26.3284C418.8172,-28.5102 469.0218,-28.5088 499.6094,-26.3239\"/>\n</g>\n<!-- 3&#45;&#45;4 -->\n<g id=\"edge5\" class=\"edge\">\n<title>3&#45;&#45;4</title>\n<path fill=\"none\" stroke=\"#000000\" d=\"M388.2017,-16.0988C418.8172,-13.917 469.0219,-13.9186 499.6094,-16.1036\"/>\n</g>\n<!-- 6 -->\n<g id=\"node5\" class=\"node\">\n<title>6</title>\n<ellipse fill=\"none\" stroke=\"#000000\" cx=\"552.1145\" cy=\"-93.2132\" rx=\"27\" ry=\"21.4286\"/>\n<text text-anchor=\"middle\" x=\"552.1145\" y=\"-88.2132\" font-family=\"Times,serif\" font-size=\"20.00\" fill=\"#000000\">4&#39;</text>\n</g>\n<!-- 5 -->\n<g id=\"node6\" class=\"node\">\n<title>5</title>\n<ellipse fill=\"none\" stroke=\"#000000\" cx=\"351\" cy=\"-93.2132\" rx=\"27\" ry=\"21.4286\"/>\n<text text-anchor=\"middle\" x=\"351\" y=\"-88.2132\" font-family=\"Times,serif\" font-size=\"20.00\" fill=\"#000000\">4</text>\n</g>\n<!-- 5&#45;&#45;6 -->\n<g id=\"edge6\" class=\"edge\">\n<title>5&#45;&#45;6</title>\n<path fill=\"none\" stroke=\"#000000\" d=\"M377.7064,-97.9732C416.2792,-100.6314 487.1627,-100.6265 525.6179,-97.9587\"/>\n</g>\n<!-- 5&#45;&#45;6 -->\n<g id=\"edge7\" class=\"edge\">\n<title>5&#45;&#45;6</title>\n<path fill=\"none\" stroke=\"#000000\" d=\"M377.7064,-88.4532C416.2792,-85.795 487.1627,-85.7999 525.6179,-88.4677\"/>\n</g>\n</g>\n</svg>\n"
          },
          "metadata": {},
          "execution_count": 106
        }
      ]
    },
    {
      "cell_type": "code",
      "source": [
        "g = gv.Graph(format='png')\n",
        "g.attr('node', shape='point')\n",
        "g = getGraphFromNumpy(combine(cycle(6), string_to_np_array(evenGraphs6[0])), g)\n",
        "g.engine = 'sfdp'\n",
        "g.render('combined_6_example')\n",
        "g"
      ],
      "metadata": {
        "colab": {
          "base_uri": "https://localhost:8080/",
          "height": 112
        },
        "id": "7aCfV0TbAXHj",
        "outputId": "305e58bc-9a91-42b8-f0d2-319b68014cd0"
      },
      "execution_count": 107,
      "outputs": [
        {
          "output_type": "execute_result",
          "data": {
            "text/plain": [
              "<graphviz.dot.Graph at 0x7fda17e54510>"
            ],
            "image/svg+xml": "<?xml version=\"1.0\" encoding=\"UTF-8\" standalone=\"no\"?>\n<!DOCTYPE svg PUBLIC \"-//W3C//DTD SVG 1.1//EN\"\n \"http://www.w3.org/Graphics/SVG/1.1/DTD/svg11.dtd\">\n<!-- Generated by graphviz version 2.40.1 (20161225.0304)\n -->\n<!-- Title: %3 Pages: 1 -->\n<svg width=\"127pt\" height=\"68pt\"\n viewBox=\"0.00 0.00 127.16 67.54\" xmlns=\"http://www.w3.org/2000/svg\" xmlns:xlink=\"http://www.w3.org/1999/xlink\">\n<g id=\"graph0\" class=\"graph\" transform=\"scale(1 1) rotate(0) translate(4 63.5353)\">\n<title>%3</title>\n<polygon fill=\"#ffffff\" stroke=\"transparent\" points=\"-4,4 -4,-63.5353 123.1571,-63.5353 123.1571,4 -4,4\"/>\n<!-- 10 -->\n<g id=\"node1\" class=\"node\">\n<title>10</title>\n<ellipse fill=\"#000000\" stroke=\"#000000\" cx=\"103.7418\" cy=\"-1.8\" rx=\"1.8\" ry=\"1.8\"/>\n</g>\n<!-- 8 -->\n<g id=\"node2\" class=\"node\">\n<title>8</title>\n<ellipse fill=\"#000000\" stroke=\"#000000\" cx=\"117.2777\" cy=\"-12.9789\" rx=\"1.8\" ry=\"1.8\"/>\n</g>\n<!-- 10&#45;&#45;8 -->\n<g id=\"edge1\" class=\"edge\">\n<title>10&#45;&#45;8</title>\n<path fill=\"none\" stroke=\"#000000\" d=\"M105.4016,-3.1708C107.9995,-5.3163 112.9981,-9.4445 115.6043,-11.597\"/>\n</g>\n<!-- 6 -->\n<g id=\"node3\" class=\"node\">\n<title>6</title>\n<ellipse fill=\"#000000\" stroke=\"#000000\" cx=\"89.6786\" cy=\"-29.7933\" rx=\"1.8\" ry=\"1.8\"/>\n</g>\n<!-- 10&#45;&#45;6 -->\n<g id=\"edge2\" class=\"edge\">\n<title>10&#45;&#45;6</title>\n<path fill=\"none\" stroke=\"#000000\" d=\"M102.8191,-3.6367C100.277,-8.6968 93.191,-22.8017 90.6231,-27.9131\"/>\n</g>\n<!-- 8&#45;&#45;6 -->\n<g id=\"edge5\" class=\"edge\">\n<title>8&#45;&#45;6</title>\n<path fill=\"none\" stroke=\"#000000\" d=\"M115.4668,-14.0822C110.3821,-17.18 96.0336,-25.9216 91.2515,-28.835\"/>\n</g>\n<!-- 5 -->\n<g id=\"node6\" class=\"node\">\n<title>5</title>\n<ellipse fill=\"#000000\" stroke=\"#000000\" cx=\"55.0645\" cy=\"-47.6649\" rx=\"1.8\" ry=\"1.8\"/>\n</g>\n<!-- 6&#45;&#45;5 -->\n<g id=\"edge7\" class=\"edge\">\n<title>6&#45;&#45;5</title>\n<path fill=\"none\" stroke=\"#000000\" d=\"M87.8176,-30.7542C81.7513,-33.8863 62.6045,-43.7719 56.7692,-46.7847\"/>\n</g>\n<!-- 1 -->\n<g id=\"node7\" class=\"node\">\n<title>1</title>\n<ellipse fill=\"#000000\" stroke=\"#000000\" cx=\"55.0997\" cy=\"-11.9094\" rx=\"1.8\" ry=\"1.8\"/>\n</g>\n<!-- 6&#45;&#45;1 -->\n<g id=\"edge8\" class=\"edge\">\n<title>6&#45;&#45;1</title>\n<path fill=\"none\" stroke=\"#000000\" d=\"M87.8195,-28.8318C81.7593,-25.6976 62.632,-15.8051 56.8026,-12.7902\"/>\n</g>\n<!-- 9 -->\n<g id=\"node4\" class=\"node\">\n<title>9</title>\n<ellipse fill=\"#000000\" stroke=\"#000000\" cx=\"117.3571\" cy=\"-46.5384\" rx=\"1.8\" ry=\"1.8\"/>\n</g>\n<!-- 9&#45;&#45;6 -->\n<g id=\"edge4\" class=\"edge\">\n<title>9&#45;&#45;6</title>\n<path fill=\"none\" stroke=\"#000000\" d=\"M115.5411,-45.4397C110.4417,-42.3547 96.0519,-33.6491 91.256,-30.7477\"/>\n</g>\n<!-- 7 -->\n<g id=\"node5\" class=\"node\">\n<title>7</title>\n<ellipse fill=\"#000000\" stroke=\"#000000\" cx=\"103.9308\" cy=\"-57.7353\" rx=\"1.8\" ry=\"1.8\"/>\n</g>\n<!-- 9&#45;&#45;7 -->\n<g id=\"edge3\" class=\"edge\">\n<title>9&#45;&#45;7</title>\n<path fill=\"none\" stroke=\"#000000\" d=\"M115.7108,-47.9113C113.1339,-50.0603 108.1757,-54.1952 105.5906,-56.3511\"/>\n</g>\n<!-- 7&#45;&#45;6 -->\n<g id=\"edge6\" class=\"edge\">\n<title>7&#45;&#45;6</title>\n<path fill=\"none\" stroke=\"#000000\" d=\"M102.9956,-55.9019C100.4194,-50.8511 93.2382,-36.7721 90.6358,-31.6701\"/>\n</g>\n<!-- 4 -->\n<g id=\"node8\" class=\"node\">\n<title>4</title>\n<ellipse fill=\"#000000\" stroke=\"#000000\" cx=\"21.1392\" cy=\"-50.3844\" rx=\"1.8\" ry=\"1.8\"/>\n</g>\n<!-- 5&#45;&#45;4 -->\n<g id=\"edge9\" class=\"edge\">\n<title>5&#45;&#45;4</title>\n<path fill=\"none\" stroke=\"#000000\" d=\"M53.2405,-47.8111C47.405,-48.2789 29.2198,-49.7366 23.141,-50.2239\"/>\n</g>\n<!-- 3 -->\n<g id=\"node9\" class=\"node\">\n<title>3</title>\n<ellipse fill=\"#000000\" stroke=\"#000000\" cx=\"1.8\" cy=\"-29.7862\" rx=\"1.8\" ry=\"1.8\"/>\n</g>\n<!-- 4&#45;&#45;3 -->\n<g id=\"edge10\" class=\"edge\">\n<title>4&#45;&#45;3</title>\n<path fill=\"none\" stroke=\"#000000\" d=\"M19.8703,-49.0329C16.3746,-45.3096 6.6302,-34.9308 3.0989,-31.1697\"/>\n</g>\n<!-- 2 -->\n<g id=\"node10\" class=\"node\">\n<title>2</title>\n<ellipse fill=\"#000000\" stroke=\"#000000\" cx=\"21.1354\" cy=\"-9.2344\" rx=\"1.8\" ry=\"1.8\"/>\n</g>\n<!-- 3&#45;&#45;2 -->\n<g id=\"edge11\" class=\"edge\">\n<title>3&#45;&#45;2</title>\n<path fill=\"none\" stroke=\"#000000\" d=\"M3.0687,-28.4377C6.5637,-24.7228 16.3062,-14.3674 19.8368,-10.6148\"/>\n</g>\n<!-- 2&#45;&#45;1 -->\n<g id=\"edge12\" class=\"edge\">\n<title>2&#45;&#45;1</title>\n<path fill=\"none\" stroke=\"#000000\" d=\"M22.9615,-9.3782C28.8037,-9.8383 47.0098,-11.2723 53.0956,-11.7516\"/>\n</g>\n</g>\n</svg>\n"
          },
          "metadata": {},
          "execution_count": 107
        }
      ]
    },
    {
      "cell_type": "code",
      "source": [
        "cyclesInKn(8,8)"
      ],
      "metadata": {
        "colab": {
          "base_uri": "https://localhost:8080/"
        },
        "id": "Hlh_SAbWA1bQ",
        "outputId": "57cebc35-6656-4b57-894a-f161d1824402"
      },
      "execution_count": 108,
      "outputs": [
        {
          "output_type": "execute_result",
          "data": {
            "text/plain": [
              "2520.0"
            ]
          },
          "metadata": {},
          "execution_count": 108
        }
      ]
    },
    {
      "cell_type": "code",
      "source": [
        ""
      ],
      "metadata": {
        "id": "iCgs5KOxG4RN"
      },
      "execution_count": null,
      "outputs": []
    }
  ]
}